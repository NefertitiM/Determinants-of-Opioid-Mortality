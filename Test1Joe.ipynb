{
 "cells": [
  {
   "cell_type": "code",
   "execution_count": null,
   "id": "d89894de-463e-4a3d-8718-904cabe5d91a",
   "metadata": {},
   "outputs": [],
   "source": [
    "import pandas as pd\n",
    "import matplotlib.pyplot as plt\n",
    "import plotly.express as px"
   ]
  },
  {
   "cell_type": "code",
   "execution_count": null,
   "id": "a29f239b-4ceb-4ebd-8371-d48976924d99",
   "metadata": {},
   "outputs": [],
   "source": [
    "df = pd.read_csv('PovertyReport.csv')"
   ]
  },
  {
   "cell_type": "code",
   "execution_count": null,
   "id": "ba179b20-3b7e-4ff8-a6de-1141d10da858",
   "metadata": {},
   "outputs": [],
   "source": [
    "df['total_est_pct2'] = df['total_est_pct2'].astype(float)"
   ]
  },
  {
   "cell_type": "code",
   "execution_count": null,
   "id": "d4b33951-9317-4eb1-a336-359144c5e0e0",
   "metadata": {},
   "outputs": [],
   "source": []
  },
  {
   "cell_type": "code",
   "execution_count": null,
   "id": "9a124e72-84f0-41e1-9b65-7fac84339d18",
   "metadata": {},
   "outputs": [],
   "source": []
  },
  {
   "cell_type": "code",
   "execution_count": null,
   "id": "f3cf326a-2a19-4325-b4ac-42a5b101a75f",
   "metadata": {},
   "outputs": [],
   "source": []
  }
 ],
 "metadata": {
  "kernelspec": {
   "display_name": "Python 3 (ipykernel)",
   "language": "python",
   "name": "python3"
  },
  "language_info": {
   "codemirror_mode": {
    "name": "ipython",
    "version": 3
   },
   "file_extension": ".py",
   "mimetype": "text/x-python",
   "name": "python",
   "nbconvert_exporter": "python",
   "pygments_lexer": "ipython3",
   "version": "3.11.7"
  }
 },
 "nbformat": 4,
 "nbformat_minor": 5
}
