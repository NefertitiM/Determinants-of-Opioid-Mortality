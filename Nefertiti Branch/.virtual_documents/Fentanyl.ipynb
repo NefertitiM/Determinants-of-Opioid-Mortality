





import pandas as pd
from pathlib import Path
import numpy as np
from functools import reduce
import matplotlib.pyplot as plt
import seaborn as sns





#Load Population Files
pop_path = Path("Pop_df/pop_by_state_df.csv")

#Load Files 2023
oxy_2023_path = Path("2023/Oxycodone_2023.csv")
hydro_2023_path = Path("2023/Hydrocod_2023.csv")
morph_2023_path = Path("2023/Morphine_2023.csv")
fenta_2023_path = Path("2023/Fentanyl_2023.csv")

#Load Files 2016
oxy_2016_path = Path("2016/Oxycodone_2016.csv")
hydro_2016_path = Path("2016/Hydrocod_2016.csv")
morph_2016_path = Path("2016/Morphine_2016.csv")
fenta_2016_path = Path("2016/Fentanyl_2016.csv")

#Load Files 2009
oxy_2009_path = Path("2009/Oxycodone_2009.csv")
hydro_2009_path = Path("2009/Hydrocod_2009.csv")
morph_2009_path = Path("2009/Morphine_2009.csv")
fenta_2009_path = Path("2009/Fentanyl_2009.csv")

#Load Files 2002
oxy_2002_path = Path("2002/Oxycodone_2002.csv")
hydro_2002_path = Path("2002/Hydrocod_2002.csv")
morph_2002_path = Path("2002/Morphine_2002.csv")
fenta_2002_path = Path("2002/Fentanyl_2002.csv")

#Load Files 1995
oxy_1995_path = Path("1995/Oxycodone_1995.csv")
hydro_1995_path = Path("1995/Hydrocod_1995.csv")
morph_1995_path = Path("1995/Morphine_1995.csv")
fenta_1995_path = Path("1995/Fentanyl_1995.csv")

#Load Files 1991
oxy_1991_path = Path("1991/Oxycodone_1991.csv")
hydro_1991_path = Path("1991/Hydrocod_1991.csv")
morph_1991_path = Path("1991/Morphine_1991.csv")
fenta_1991_path = Path("1991/Fentanyl_1991.csv")


#Read Population Files
pop = pd.read_csv(pop_path)

#Read Files 2023
oxy_2023 = pd.read_csv(oxy_2023_path)
hydro_2023 = pd.read_csv(hydro_2023_path)
morph_2023 = pd.read_csv(morph_2023_path)
fenta_2023 = pd.read_csv(fenta_2023_path)

#Read Files 2016
oxy_2016 = pd.read_csv(fenta_2016_path)
hydro_2016 = pd.read_csv(hydro_2016_path)
morph_2016 = pd.read_csv(morph_2016_path)
fenta_2016 = pd.read_csv(fenta_2016_path)

#Read Files 2009
oxy_2009 = pd.read_csv(fenta_2009_path)
hydro_2009 = pd.read_csv(hydro_2009_path)
morph_2009 = pd.read_csv(morph_2009_path)
fenta_2009 = pd.read_csv(fenta_2009_path)

#Read Files 2002
oxy_2002 = pd.read_csv(fenta_2002_path)
hydro_2002 = pd.read_csv(hydro_2002_path)
morph_2002 = pd.read_csv(morph_2002_path)
fenta_2002 = pd.read_csv(fenta_2002_path)

#Read Files 1995
oxy_1995 = pd.read_csv(fenta_1995_path)
hydro_1995 = pd.read_csv(hydro_1995_path)
morph_1995 = pd.read_csv(morph_1995_path)
fenta_1995 = pd.read_csv(fenta_1995_path)

#Read Files 1991
oxy_1991 = pd.read_csv(fenta_1991_path)
hydro_1991 = pd.read_csv(hydro_1991_path)
morph_1991 = pd.read_csv(morph_1991_path)
fenta_1991 = pd.read_csv(fenta_1991_path)






#Make Pop DataFrame
pop_df = pd.DataFrame(pop)

#Make DataFrame 2023
oxy_2023_df = pd.DataFrame(oxy_2023)
hydro_2023_df = pd.DataFrame(hydro_2023)
morph_2023_df = pd.DataFrame(morph_2023)
fenta_2023_df = pd.DataFrame(fenta_2023)

#Make DataFrame 2016
oxy_2016_df = pd.DataFrame(oxy_2016)
hydro_2016_df = pd.DataFrame(hydro_2016)
morph_2016_df = pd.DataFrame(morph_2016)
fenta_2016_df = pd.DataFrame(fenta_2016)

#Make DataFrame 2009
oxy_2009_df = pd.DataFrame(oxy_2009)
hydro_2009_df = pd.DataFrame(hydro_2009)
morph_2009_df = pd.DataFrame(morph_2009)
fenta_2009_df = pd.DataFrame(fenta_2009)

#Make DataFrame 2002
oxy_2002_df = pd.DataFrame(oxy_2002)
hydro_2002_df = pd.DataFrame(hydro_2002)
morph_2002_df = pd.DataFrame(morph_2002)
fenta_2002_df = pd.DataFrame(fenta_2002)

#Make DataFrame 1995
oxy_1995_df = pd.DataFrame(oxy_1995)
hydro_1995_df = pd.DataFrame(hydro_1995)
morph_1995_df = pd.DataFrame(morph_1995)
fenta_1995_df = pd.DataFrame(fenta_1995)

#Make DataFrame 1991
oxy_1991_df = pd.DataFrame(oxy_1991)
hydro_1991_df = pd.DataFrame(hydro_1991)
morph_1991_df = pd.DataFrame(morph_1991)
fenta_1991_df = pd.DataFrame(fenta_1991)










#For each year, the average amount of "x" opioids prescribed per state is made into a series

#Mean 2023
oxy_2023_pmean = oxy_2023_df.groupby('State')['Number of Prescriptions'].mean()
hydro_2023_pmean = hydro_2023_df.groupby('State')['Number of Prescriptions'].mean()
morph_2023_pmean = morph_2023_df.groupby('State')['Number of Prescriptions'].mean()
fenta_2023_pmean = fenta_2023_df.groupby('State')['Number of Prescriptions'].mean()

#Mean 2016
oxy_2016_pmean = oxy_2016_df.groupby('State')['Number of Prescriptions'].mean()
hydro_2016_pmean = hydro_2016_df.groupby('State')['Number of Prescriptions'].mean()
morph_2016_pmean = morph_2016_df.groupby('State')['Number of Prescriptions'].mean()
fenta_2016_pmean = fenta_2016_df.groupby('State')['Number of Prescriptions'].mean()

#Mean 2009
oxy_2009_pmean = oxy_2009_df.groupby('State')['Number of Prescriptions'].mean()
hydro_2009_pmean = hydro_2009_df.groupby('State')['Number of Prescriptions'].mean()
morph_2009_pmean = morph_2009_df.groupby('State')['Number of Prescriptions'].mean()
fenta_2009_pmean = fenta_2009_df.groupby('State')['Number of Prescriptions'].mean()

#Mean 2002
oxy_2002_pmean = oxy_2002_df.groupby('State')['Number of Prescriptions'].mean()
hydro_2002_pmean = hydro_2002_df.groupby('State')['Number of Prescriptions'].mean()
morph_2002_pmean = morph_2002_df.groupby('State')['Number of Prescriptions'].mean()
fenta_2002_pmean = fenta_2002_df.groupby('State')['Number of Prescriptions'].mean()

#Mean 1995
oxy_1995_pmean = oxy_1995_df.groupby('State')['Number of Prescriptions'].mean()
hydro_1995_pmean = hydro_1995_df.groupby('State')['Number of Prescriptions'].mean()
morph_1995_pmean = morph_1995_df.groupby('State')['Number of Prescriptions'].mean()
fenta_1995_pmean = fenta_1995_df.groupby('State')['Number of Prescriptions'].mean()

#Mean 1991
oxy_1991_pmean = oxy_1991_df.groupby('State')['Number of Prescriptions'].mean()
hydro_1991_pmean = hydro_1991_df.groupby('State')['Number of Prescriptions'].mean()
morph_1991_pmean = morph_1991_df.groupby('State')['Number of Prescriptions'].mean()
fenta_1991_pmean = fenta_1991_df.groupby('State')['Number of Prescriptions'].mean()









#All Oxy
all_oxy_pmean = oxy_2023_pmean.to_frame().rename(columns={'Number of Prescriptions': '2023'})
all_oxy_pmean['2016'] = oxy_2016_pmean
all_oxy_pmean['2009'] = oxy_2009_pmean
all_oxy_pmean['2002'] = oxy_2002_pmean
all_oxy_pmean['1995'] = oxy_1995_pmean
all_oxy_pmean['1991'] = oxy_1991_pmean

all_oxy_pmean = all_oxy_pmean.rename(index={'XX': 'USA'})

#All hydro
all_hydro_pmean = hydro_2023_pmean.to_frame().rename(columns={'Number of Prescriptions': '2023'})
all_hydro_pmean['2016'] = hydro_2016_pmean
all_hydro_pmean['2009'] = hydro_2009_pmean
all_hydro_pmean['2002'] = hydro_2002_pmean
all_hydro_pmean['1995'] = hydro_1995_pmean
all_hydro_pmean['1991'] = hydro_1991_pmean

all_hydro_pmean = all_hydro_pmean.rename(index={'XX': 'USA'})


#All Morph
all_morph_pmean = morph_2023_pmean.to_frame().rename(columns={'Number of Prescriptions': '2023'})
all_morph_pmean['2016'] = morph_2016_pmean
all_morph_pmean['2009'] = morph_2009_pmean
all_morph_pmean['2002'] = morph_2002_pmean
all_morph_pmean['1995'] = morph_1995_pmean
all_morph_pmean['1991'] = morph_1991_pmean

all_morph_pmean = all_morph_pmean.rename(index={'XX': 'USA'})


#All Fenta
all_fenta_pmean = fenta_2023_pmean.to_frame().rename(columns={'Number of Prescriptions': '2023'})
all_fenta_pmean['2016'] = fenta_2016_pmean
all_fenta_pmean['2009'] = fenta_2009_pmean
all_fenta_pmean['2002'] = fenta_2002_pmean
all_fenta_pmean['1995'] = fenta_1995_pmean
all_fenta_pmean['1991'] = fenta_1991_pmean

all_fenta_pmean = all_fenta_pmean.rename(index={'XX': 'USA'})



#Pop
cl_pop = pop.set_index('ST')
cln_pop = cl_pop[['2023', '2016', '2009', '2002', '1995', '1991']]

cln_pop





#Normalization
oxy_norm = all_oxy_pmean/cln_pop*100000

fenta_norm = all_fenta_pmean/cln_pop*100000

morph_norm = all_morph_pmean/cln_pop*100000

hydro_norm = all_hydro_pmean/cln_pop*100000
oxy_norm





#Apply logarithmic scale to the data

oxy_norm = oxy_norm.fillna(0)

oxy_norm_log = np.log10(oxy_norm + 1)

mask = oxy_norm == 0

# Set custom color palette
cmap = sns.diverging_palette(220, 20, as_cmap=True)
cmap.set_bad('grey', 1.0) 

plt.figure(figsize=(10, 15))
sns.heatmap(oxy_norm_log, cmap=cmap, mask=mask, fmt=".1f", linewidths=.5, vmax=1)

plt.title('Total Drugs by State Aggregation (2009-2023)')
plt.xlabel('Year')
plt.ylabel('State')
plt.yticks(rotation=45)
plt.xticks(rotation=45)
plt.show()


hydro_norm = hydro_norm.fillna(0)

hydro_norm_log = np.log10(hydro_norm + 1)

mask = hydro_norm == 0

# Set custom color palette
cmap = sns.diverging_palette(220, 20, as_cmap=True)
cmap.set_bad('grey', 1.0) 

plt.figure(figsize=(10, 15))
sns.heatmap(hydro_norm_log, cmap=cmap, mask=mask, fmt=".1f", linewidths=.5, vmax=1)

plt.title('Total Drugs by State Aggregation (2009-2023)')
plt.xlabel('Year')
plt.ylabel('State')
plt.yticks(rotation=45)
plt.xticks(rotation=45)
plt.show()


fenta_norm = fenta_norm.fillna(0)

fenta_norm_log = np.log10(fenta_norm + 1)

mask = fenta_norm == 0

# Set custom color palette
cmap = sns.diverging_palette(220, 20, as_cmap=True)
cmap.set_bad('grey', 1.0) 

plt.figure(figsize=(10, 15))
sns.heatmap(fenta_norm_log, cmap=cmap, mask=mask, fmt=".1f", linewidths=.5, vmax=1)

plt.title('Total Drugs by State Aggregation (2009-2023)')
plt.xlabel('Year')
plt.ylabel('State')
plt.yticks(rotation=45)
plt.xticks(rotation=45)
plt.show()


#Apply logarithmic scale to the data

morph_norm = morph_norm.fillna(0)

morph_norm_log = np.log10(morph_norm + 1)

mask = morph_norm == 0

# Set custom color palette
cmap = sns.diverging_palette(220, 20, as_cmap=True)
cmap.set_bad('grey', 1.0) 

plt.figure(figsize=(10, 15))
sns.heatmap(morph_norm_log, cmap=cmap, mask=mask, fmt=".1f", linewidths=.5,vmin=0, vmax=1)

plt.title('Total Drugs by State Aggregation (2009-2023)')
plt.xlabel('Year')
plt.ylabel('State')
plt.yticks(rotation=45)
plt.xticks(rotation=45)
plt.show()


oxy_norm


cl_oxy_norm = oxy_norm.drop('USA', axis=0)
cln_oxy_norm = cl_oxy_norm.sum()

cl_hydro_norm = hydro_norm.drop('USA', axis=0)
cln_hydro_norm = cl_hydro_norm.sum()

cl_morph_norm = morph_norm.drop('USA', axis=0)
cln_morph_norm = cl_morph_norm.sum()

cl_fenta_norm = fenta_norm.drop('USA', axis=0)
cln_fenta_norm = cl_fenta_norm.sum()


USA_sum_norm = cln_oxy_norm.to_frame().rename(columns={0: 'Oxycodone'})
USA_sum_norm['Hydrocodone'] = cln_hydro_norm
USA_sum_norm['Morphine'] = cln_morph_norm
USA_sum_norm['Fentanyl'] = cln_fenta_norm
USA_sum_norm


#The average amount of "x" opioids prescribed for the U.S. (all states availible), for each year, is combined into one dataframe.

#50 States Algamation 2009-2023

USA_sum_norm = cln_oxy_norm.to_frame().rename(columns={0: 'Oxycodone'})
USA_sum_norm['Hydrocodone'] = cln_hydro_norm
USA_sum_norm['Morphine'] = cln_morph_norm
USA_sum_norm['Fentanyl'] = cln_fenta_norm


USA_sum_norm = USA_sum_norm.sort_index()

plt.figure(figsize=(6, 6))
plt.plot(USA_sum_norm.index, USA_sum_norm['Oxycodone'], color='black', label='Oxycodone', linewidth=2.5, marker='o')
plt.plot(USA_sum_norm.index, USA_sum_norm['Hydrocodone'], color='grey', label='Hydrocodone', linewidth=2.5, marker='o')
plt.plot(USA_sum_norm.index, USA_sum_norm['Morphine'], color='pink', label='Morphine', linewidth=2.5, marker='o')
plt.plot(USA_sum_norm.index, USA_sum_norm['Fentanyl'], color='brown', label='Fentanyl', linewidth=2.5, marker='o')
plt.title('Opioid Prescription in the USA')
plt.xlabel('Year', fontsize=12, labelpad=20)
plt.ylabel('Average Number of Presecribed Opioids in the USA', fontsize=12, labelpad=20)
plt.yscale('log')
plt.legend(USA_allyrs_pmean_transposed.columns)  # Add legend for drugs
plt.grid(True, linestyle='--', alpha=0)
plt.xticks(USA_allyrs_pmean_transposed.index, rotation=45, ha='right')
plt.yticks([10**i for i in range(3,5)]) 
plt.tight_layout()
plt.show()




















#For each year, the average amount of "x" opioids prescribed per state is merged into one dataframe
#For each year, the average amount of "x" opioids prescribed for the U.S. (all states availible) is identified
#For each year, the total amount of opioids (all four in the dataset) are listed per state.

#Mean Algamation 2023
all_2023_pmean = oxy_2023_pmean.to_frame().rename(columns={'Number of Prescriptions': 'Oxy'})
all_2023_pmean['Hydro'] = hydro_2023_pmean
all_2023_pmean['Morph'] = morph_2023_pmean
all_2023_pmean['Fenta'] = fenta_2023_pmean

#50 States 2023
USA_2023_pmean = all_2023_pmean.loc['XX']

#Sum of Drugs per State 2023
all_drugs_2023_pmean = all_2023_pmean.sum(axis=1)

#.........................................................................

#Mean Algamation 2016
all_2016_pmean = oxy_2016_pmean.to_frame().rename(columns={'Number of Prescriptions': 'Oxy'})
all_2016_pmean['Hydro'] = hydro_2016_pmean
all_2016_pmean['Morph'] = morph_2016_pmean
all_2016_pmean['Fenta'] = fenta_2016_pmean

#50 States 2016
USA_2016_pmean = all_2016_pmean.loc['XX']

#Sum of Drugs per State 2016
all_drugs_2016_pmean = all_2016_pmean.sum(axis=1)

#.........................................................................

#Mean Algamation 2009
all_2009_pmean = oxy_2009_pmean.to_frame().rename(columns={'Number of Prescriptions': 'Oxy'})
all_2009_pmean['Hydro'] = hydro_2009_pmean
all_2009_pmean['Morph'] = morph_2009_pmean
all_2009_pmean['Fenta'] = fenta_2009_pmean

#50 States 2009
USA_2009_pmean = all_2009_pmean.loc['XX']

#Sum of Drugs per State 2009
all_drugs_2009_pmean = all_2009_pmean.sum(axis=1)

#.........................................................................

#Mean Algamation 2002
all_2002_pmean = oxy_2002_pmean.to_frame().rename(columns={'Number of Prescriptions': 'Oxy'})
all_2002_pmean['Hydro'] = hydro_2002_pmean
all_2002_pmean['Morph'] = morph_2002_pmean
all_2002_pmean['Fenta'] = fenta_2002_pmean

#50 States 2002
USA_2002_pmean = all_2002_pmean.loc['XX']

#Sum of Drugs per State 2002
all_drugs_2002_pmean = all_2002_pmean.sum(axis=1)

#.........................................................................

#Mean Algamation 1995
all_1995_pmean = oxy_2016_pmean.to_frame().rename(columns={'Number of Prescriptions': 'Oxy'})
all_1995_pmean['Hydro'] = hydro_1995_pmean
all_1995_pmean['Morph'] = morph_1995_pmean
all_1995_pmean['Fenta'] = fenta_1995_pmean

#50 States 1995
USA_1995_pmean = all_1995_pmean.loc['XX']

#Sum of Drugs per State 1995
all_drugs_1995_pmean = all_1995_pmean.sum(axis=1)

#.........................................................................

#Mean Algamation 1991
all_1991_pmean = oxy_1991_pmean.to_frame().rename(columns={'Number of Prescriptions': 'Oxy'})
all_1991_pmean['Hydro'] = hydro_1991_pmean
all_1991_pmean['Morph'] = morph_1991_pmean
all_1991_pmean['Fenta'] = fenta_1991_pmean

#50 States 1991
USA_1991_pmean = all_1991_pmean.loc['XX']

#Sum of Drugs per State 1991
all_drugs_1991_pmean = all_1991_pmean.sum(axis=1)


all_2023_pmean






#The average amount of "x" opioids prescribed for the U.S. (all states availible), for each year, is combined into one dataframe.

#50 States Algamation 2009-2023

USA_allyrs_pmean = USA_1991_pmean.to_frame().rename(columns={'XX': '1991'})
USA_allyrs_pmean['1995'] = USA_1995_pmean
USA_allyrs_pmean['2002'] = USA_2002_pmean
USA_allyrs_pmean['2009'] = USA_2009_pmean
USA_allyrs_pmean['2016'] = USA_2016_pmean
USA_allyrs_pmean['2023'] = USA_2023_pmean

# Line Graph: Avg Presecribed Opioids in the USA
USA_allyrs_pmean_transposed = USA_allyrs_pmean.transpose()

plt.figure(figsize=(6, 6))
plt.plot(USA_allyrs_pmean_transposed.index, USA_allyrs_pmean_transposed['Oxy'], color='black', label='Oxycodone', linewidth=2.5, marker='o')
plt.plot(USA_allyrs_pmean_transposed.index, USA_allyrs_pmean_transposed['Hydro'], color='grey', label='Hydrocodone', linewidth=2.5, marker='o')
plt.plot(USA_allyrs_pmean_transposed.index, USA_allyrs_pmean_transposed['Morph'], color='pink', label='Morphine', linewidth=2.5, marker='o')
plt.plot(USA_allyrs_pmean_transposed.index, USA_allyrs_pmean_transposed['Fenta'], color='brown', label='Fentanyl', linewidth=2.5, marker='o')
plt.title('Opioid Prescription in the USA')
plt.xlabel('Year', fontsize=12, labelpad=20)
plt.ylabel('Average Number of Presecribed Opioids in the USA', fontsize=12, labelpad=20)
plt.yscale('log')
plt.legend(USA_allyrs_pmean_transposed.columns)  # Add legend for drugs
plt.grid(True, linestyle='--', alpha=0)
plt.xticks(USA_allyrs_pmean_transposed.index, rotation=45, ha='right')
plt.yticks([10**i for i in range(3,5)]) 
plt.tight_layout()
plt.show()


#Total Drugs by State Algamation 2009-2023
alldrugs_allyrs_pmean = all_drugs_2023_pmean.to_frame().rename(columns={0:'2023'})
alldrugs_allyrs_pmean['2016'] = all_drugs_2016_pmean
alldrugs_allyrs_pmean['2009'] = all_drugs_2009_pmean
alldrugs_allyrs_pmean['2002'] = all_drugs_2002_pmean
alldrugs_allyrs_pmean['1995'] = all_drugs_1995_pmean
alldrugs_allyrs_pmean['1991'] = all_drugs_1991_pmean







# Apply logarithmic scale to the data

alldrugs_allyrs_pmean = alldrugs_allyrs_pmean.fillna(0)

mask = alldrugs_allyrs_pmean == 0

# Set custom color palette
cmap = sns.diverging_palette(220, 20, as_cmap=True)
cmap.set_bad('grey', 1.0) 

plt.figure(figsize=(10, 15))
sns.heatmap(alldrugs_allyrs_pmean, cmap=cmap, mask=mask, fmt=".1f", linewidths=.5, vmax=5000)

plt.title('Total Drugs by State Aggregation (2009-2023)')
plt.xlabel('Year')
plt.ylabel('State')
plt.yticks(rotation=45)
plt.xticks(rotation=45)
plt.show()


all_1995_pmean





#Total Drugs by State Algamation 2009-2023
alldrugs_allyrs_pmean = all_drugs_2023_pmean.to_frame().rename(columns={0:'2023'})
alldrugs_allyrs_pmean['2016'] = all_drugs_2016_pmean
alldrugs_allyrs_pmean['2009'] = all_drugs_2009_pmean
alldrugs_allyrs_pmean['2002'] = all_drugs_2002_pmean
alldrugs_allyrs_pmean['1995'] = all_drugs_1995_pmean
alldrugs_allyrs_pmean['1991'] = all_drugs_1991_pmean





# Total Amount Reimbursed and Medicaid Amount Reimbursed Stats by State 2023



# Total Amount Reimbursed Mean 2023
oxy_2023_tmean = oxy_2023_df.groupby('State')['Total Amount Reimbursed'].mean()
hydro_2023_tmean = hydro_2023_df.groupby('State')['Total Amount Reimbursed'].mean()
morph_2023_tmean = morph_2023_df.groupby('State')['Total Amount Reimbursed'].mean()
fenta_2023_tmean = fenta_2023_df.groupby('State')['Total Amount Reimbursed'].mean()

# Medicaid Amount Reimbursed Mean 2023
oxy_2023_mmean = oxy_2023_df.groupby('State')['Medicaid Amount Reimbursed'].mean()
hydro_2023_mmean = hydro_2023_df.groupby('State')['Medicaid Amount Reimbursed'].mean()
morph_2023_mmean = morph_2023_df.groupby('State')['Medicaid Amount Reimbursed'].mean()
fenta_2023_mmean = fenta_2023_df.groupby('State')['Medicaid Amount Reimbursed'].mean()



# Total Amount Reimbursed Mean 2023
oxy_1991_tmean = oxy_1991_df.groupby('State')['Total Amount Reimbursed'].mean()
hydro_1991_tmean = hydro_1991_df.groupby('State')['Total Amount Reimbursed'].mean()
morph_1991_tmean = morph_1991_df.groupby('State')['Total Amount Reimbursed'].mean()
fenta_1991_tmean = fenta_1991_df.groupby('State')['Total Amount Reimbursed'].mean()

# Medicaid Amount Reimbursed Mean 2023
oxy_1991_mmean = oxy_1991_df.groupby('State')['Medicaid Amount Reimbursed'].mean()
hydro_1991_mmean = hydro_1991_df.groupby('State')['Medicaid Amount Reimbursed'].mean()
morph_1991_mmean = morph_1991_df.groupby('State')['Medicaid Amount Reimbursed'].mean()
fenta_1991_mmean = fenta_1991_df.groupby('State')['Medicaid Amount Reimbursed'].mean()





























