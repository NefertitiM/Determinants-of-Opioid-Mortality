


import pandas as pd
from pathlib import Path
import numpy as np
import numpy as py
from functools import reduce
import matplotlib.pyplot as plt
#%matplotlib inline
%matplotlib widget
import seaborn as sns
from scipy.stats import linregress
import plotly.express as px
import hvplot.pandas
import requests
import time
import re
from IPython.core.interactiveshell import InteractiveShell
InteractiveShell.ast_node_interactivity = "all"








###Build out of population by state DF
#Pull of data from multiple csv files
nineties_pop_df = pd.read_csv("Resources/USPopByState1990-1999.csv")
aughts_pop_df   = pd.read_csv("Resources/USPopByState2000-2009(mod).csv",
                              usecols=[3,9,10,11,12,13,14,15,16,17,18,19],
                              names=  ["State",
                                       "2000",
                                       "2001",
                                       "2002",
                                       "2003",
                                       "2004",
                                       "2005",
                                       "2006",
                                       "2007",
                                       "2008",
                                       "2009",
                                       "2010"])
                                                                                  
tens_pop_df     = pd.read_csv("Resources/USPopByState2010-2020.csv",
                              usecols=[4,7,8,9,10,11,12,13,14,15],
                              names=  ["State",
                                       "2011",
                                       "2012",
                                       "2013",
                                       "2014",
                                       "2015",
                                       "2016",
                                       "2017",
                                       "2018",
                                       "2019"])

twenties_pop_df = pd.read_csv("Resources/USPopByState2020-2023.csv",
                              usecols=[4,6,7,8,9],
                              names=  ["State",
                                       "2020",
                                       "2021",
                                       "2022",
                                       "2023"])

#Clean up of DFs to facilitate merge
aughts_pop_df=aughts_pop_df.drop(0)

tens_pop_df=tens_pop_df.drop(0)

twenties_pop_df=twenties_pop_df.drop(0)

# Combine the data into a single DataFrame
all_pop_dfs = [nineties_pop_df,
               aughts_pop_df,
               tens_pop_df,
               twenties_pop_df]

pop_by_state_df = reduce(lambda  left,right: pd.merge(left,right,on=["State"],
                                                            how="inner"), all_pop_dfs)

pop_by_state_df.replace(",","", regex=True, inplace=True)
pop_cols = pop_by_state_df.iloc[:,2:35].select_dtypes(object).columns
pop_by_state_df[pop_cols] = pop_by_state_df[pop_cols].apply(pd.to_numeric,errors='coerce')

# Display the data table for preview
pop_by_state_df.head()

# Output to csv
pop_by_state_df.to_csv("output/pop_by_state_df.csv")








csv_file_path = Path('resources/CDC_deaths_data.csv')





#Load Population Files
pop_path = Path("output/pop_by_state_df.csv")

#Load Files 2023
oxy_2023_path = Path("resources/2023/Oxycodone_2023.csv")
hydro_2023_path = Path("resources/2023/Hydrocod_2023.csv")
morph_2023_path = Path("resources/2023/Morphine_2023.csv")
fenta_2023_path = Path("resources/2023/Fentanyl_2023.csv")

#Load Files 2016
oxy_2016_path = Path("resources/2016/Oxycodone_2016.csv")
hydro_2016_path = Path("resources/2016/Hydrocod_2016.csv")
morph_2016_path = Path("resources/2016/Morphine_2016.csv")
fenta_2016_path = Path("resources/2016/Fentanyl_2016.csv")

#Load Files 2009
oxy_2009_path = Path("resources/2009/Oxycodone_2009.csv")
hydro_2009_path = Path("resources/2009/Hydrocod_2009.csv")
morph_2009_path = Path("resources/2009/Morphine_2009.csv")
fenta_2009_path = Path("resources/2009/Fentanyl_2009.csv")

#Load Files 2002
oxy_2002_path = Path("resources/2002/Oxycodone_2002.csv")
hydro_2002_path = Path("resources/2002/Hydrocod_2002.csv")
morph_2002_path = Path("resources/2002/Morphine_2002.csv")
fenta_2002_path = Path("resources/2002/Fentanyl_2002.csv")

#Load Files 1995
oxy_1995_path = Path("resources/1995/Oxycodone_1995.csv")
hydro_1995_path = Path("resources/1995/Hydrocod_1995.csv")
morph_1995_path = Path("resources/1995/Morphine_1995.csv")
fenta_1995_path = Path("resources/1995/Fentanyl_1995.csv")

#Load Files 1991
oxy_1991_path = Path("resources/1991/Oxycodone_1991.csv")
hydro_1991_path = Path("resources/1991/Hydrocod_1991.csv")
morph_1991_path = Path("resources/1991/Morphine_1991.csv")
fenta_1991_path = Path("resources/1991/Fentanyl_1991.csv")








drug_overdose_data = pd.read_csv(csv_file_path, encoding = "ISO-8859-1")





# Load the CSV file into a Pandas DataFrame and apply any filters
data_df = pd.read_csv("resources/DrugODs_Demographic.csv")





# read into first data set, Poverty Report
df = pd.read_csv('resources/PovertyReport.csv')
#read into death_data to look at opiode related deaths per state
df2 = pd.read_csv('resources/death_data.csv')

# read into only neccesary colummns
df = df[['state_National', 'total_est_pct2']]
df = df.dropna(inplace=False)


# read into pop_by_state_df.csv
pop_by_state_df = pd.read_csv('output/pop_by_state_df.csv')





#Read Files 2023
oxy_2023 = pd.read_csv(oxy_2023_path)
hydro_2023 = pd.read_csv(hydro_2023_path)
morph_2023 = pd.read_csv(morph_2023_path)
fenta_2023 = pd.read_csv(fenta_2023_path)

#Read Files 2016
oxy_2016 = pd.read_csv(fenta_2016_path)
hydro_2016 = pd.read_csv(hydro_2016_path)
morph_2016 = pd.read_csv(morph_2016_path)
fenta_2016 = pd.read_csv(fenta_2016_path)

#Read Files 2009
oxy_2009 = pd.read_csv(fenta_2009_path)
hydro_2009 = pd.read_csv(hydro_2009_path)
morph_2009 = pd.read_csv(morph_2009_path)
fenta_2009 = pd.read_csv(fenta_2009_path)

#Read Files 2002
oxy_2002 = pd.read_csv(oxy_2002_path)
hydro_2002 = pd.read_csv(hydro_2002_path)
morph_2002 = pd.read_csv(morph_2002_path)
fenta_2002 = pd.read_csv(fenta_2002_path)

#Read Files 1995
oxy_1995 = pd.read_csv(oxy_1995_path)
hydro_1995 = pd.read_csv(hydro_1995_path)
morph_1995 = pd.read_csv(morph_1995_path)
fenta_1995 = pd.read_csv(fenta_1995_path)

#Read Files 1991
oxy_1991 = pd.read_csv(oxy_1991_path)
hydro_1991 = pd.read_csv(hydro_1991_path)
morph_1991 = pd.read_csv(morph_1991_path)
fenta_1991 = pd.read_csv(fenta_1991_path)








#Make Pop DataFrame
pop_df = pd.DataFrame(pop)

#Make DataFrame 2023
oxy_2023_df = pd.DataFrame(oxy_2023)
hydro_2023_df = pd.DataFrame(hydro_2023)
morph_2023_df = pd.DataFrame(morph_2023)
fenta_2023_df = pd.DataFrame(fenta_2023)

#Make DataFrame 2016
oxy_2016_df = pd.DataFrame(oxy_2016)
hydro_2016_df = pd.DataFrame(hydro_2016)
morph_2016_df = pd.DataFrame(morph_2016)
fenta_2016_df = pd.DataFrame(fenta_2016)

#Make DataFrame 2009
oxy_2009_df = pd.DataFrame(oxy_2009)
hydro_2009_df = pd.DataFrame(hydro_2009)
morph_2009_df = pd.DataFrame(morph_2009)
fenta_2009_df = pd.DataFrame(fenta_2009)

#Make DataFrame 2002
oxy_2002_df = pd.DataFrame(oxy_2002)
hydro_2002_df = pd.DataFrame(hydro_2002)
morph_2002_df = pd.DataFrame(morph_2002)
fenta_2002_df = pd.DataFrame(fenta_2002)

#Make DataFrame 1995
oxy_1995_df = pd.DataFrame(oxy_1995)
hydro_1995_df = pd.DataFrame(hydro_1995)
morph_1995_df = pd.DataFrame(morph_1995)
fenta_1995_df = pd.DataFrame(fenta_1995)

#Make DataFrame 1991
oxy_1991_df = pd.DataFrame(oxy_1991)
hydro_1991_df = pd.DataFrame(hydro_1991)
morph_1991_df = pd.DataFrame(morph_1991)
fenta_1991_df = pd.DataFrame(fenta_1991)








#For each year, the average amount of "x" opioids prescribed per state is made into a series

#Mean 2023
oxy_2023_pmean = oxy_2023_df.groupby('State')['Number of Prescriptions'].mean()
hydro_2023_pmean = hydro_2023_df.groupby('State')['Number of Prescriptions'].mean()
morph_2023_pmean = morph_2023_df.groupby('State')['Number of Prescriptions'].mean()
fenta_2023_pmean = fenta_2023_df.groupby('State')['Number of Prescriptions'].mean()

#Mean 2016
oxy_2016_pmean = oxy_2016_df.groupby('State')['Number of Prescriptions'].mean()
hydro_2016_pmean = hydro_2016_df.groupby('State')['Number of Prescriptions'].mean()
morph_2016_pmean = morph_2016_df.groupby('State')['Number of Prescriptions'].mean()
fenta_2016_pmean = fenta_2016_df.groupby('State')['Number of Prescriptions'].mean()

#Mean 2009
oxy_2009_pmean = oxy_2009_df.groupby('State')['Number of Prescriptions'].mean()
hydro_2009_pmean = hydro_2009_df.groupby('State')['Number of Prescriptions'].mean()
morph_2009_pmean = morph_2009_df.groupby('State')['Number of Prescriptions'].mean()
fenta_2009_pmean = fenta_2009_df.groupby('State')['Number of Prescriptions'].mean()

#Mean 2002
oxy_2002_pmean = oxy_2002_df.groupby('State')['Number of Prescriptions'].mean()
hydro_2002_pmean = hydro_2002_df.groupby('State')['Number of Prescriptions'].mean()
morph_2002_pmean = morph_2002_df.groupby('State')['Number of Prescriptions'].mean()
fenta_2002_pmean = fenta_2002_df.groupby('State')['Number of Prescriptions'].mean()

#Mean 1995
oxy_1995_pmean = oxy_1995_df.groupby('State')['Number of Prescriptions'].mean()
hydro_1995_pmean = hydro_1995_df.groupby('State')['Number of Prescriptions'].mean()
morph_1995_pmean = morph_1995_df.groupby('State')['Number of Prescriptions'].mean()
fenta_1995_pmean = fenta_1995_df.groupby('State')['Number of Prescriptions'].mean()

#Mean 1991
oxy_1991_pmean = oxy_1991_df.groupby('State')['Number of Prescriptions'].mean()
hydro_1991_pmean = hydro_1991_df.groupby('State')['Number of Prescriptions'].mean()
morph_1991_pmean = morph_1991_df.groupby('State')['Number of Prescriptions'].mean()
fenta_1991_pmean = fenta_1991_df.groupby('State')['Number of Prescriptions'].mean()









#All Oxy
all_oxy_pmean = oxy_2023_pmean.to_frame().rename(columns={'Number of Prescriptions': '2023'})
all_oxy_pmean['2016'] = oxy_2016_pmean
all_oxy_pmean['2009'] = oxy_2009_pmean
all_oxy_pmean['2002'] = oxy_2002_pmean
all_oxy_pmean['1995'] = oxy_1995_pmean
all_oxy_pmean['1991'] = oxy_1991_pmean

all_oxy_pmean = all_oxy_pmean.rename(index={'XX': 'USA'})

#All hydro
all_hydro_pmean = hydro_2023_pmean.to_frame().rename(columns={'Number of Prescriptions': '2023'})
all_hydro_pmean['2016'] = hydro_2016_pmean
all_hydro_pmean['2009'] = hydro_2009_pmean
all_hydro_pmean['2002'] = hydro_2002_pmean
all_hydro_pmean['1995'] = hydro_1995_pmean
all_hydro_pmean['1991'] = hydro_1991_pmean

all_hydro_pmean = all_hydro_pmean.rename(index={'XX': 'USA'})


#All Morph
all_morph_pmean = morph_2023_pmean.to_frame().rename(columns={'Number of Prescriptions': '2023'})
all_morph_pmean['2016'] = morph_2016_pmean
all_morph_pmean['2009'] = morph_2009_pmean
all_morph_pmean['2002'] = morph_2002_pmean
all_morph_pmean['1995'] = morph_1995_pmean
all_morph_pmean['1991'] = morph_1991_pmean

all_morph_pmean = all_morph_pmean.rename(index={'XX': 'USA'})


#All Fenta
all_fenta_pmean = fenta_2023_pmean.to_frame().rename(columns={'Number of Prescriptions': '2023'})
all_fenta_pmean['2016'] = fenta_2016_pmean
all_fenta_pmean['2009'] = fenta_2009_pmean
all_fenta_pmean['2002'] = fenta_2002_pmean
all_fenta_pmean['1995'] = fenta_1995_pmean
all_fenta_pmean['1991'] = fenta_1991_pmean

all_fenta_pmean = all_fenta_pmean.rename(index={'XX': 'USA'})


#Pop
cl_pop = pop.set_index('ST')
cln_pop = cl_pop[['2023', '2016', '2009', '2002', '1995', '1991']]





#Normalization
oxy_norm = all_oxy_pmean/cln_pop*100000

fenta_norm = all_fenta_pmean/cln_pop*100000

morph_norm = all_morph_pmean/cln_pop*100000

hydro_norm = all_hydro_pmean/cln_pop*100000








oxy_norm = oxy_norm.fillna(0)

oxy_norm_log = np.log10(oxy_norm + 1)

mask = oxy_norm == 0

# Set custom color palette
cmap = sns.diverging_palette(220, 20, as_cmap=True)
cmap.set_bad('grey', 1.0) 

plt.figure(figsize=(10, 15))
sns.heatmap(oxy_norm_log, cmap=cmap, mask=mask, fmt=".1f", linewidths=.5, vmax=1)

plt.title('State Level Trends in Oxycodone Prescriptions',fontsize=20, pad=25)
plt.xlabel('Year',fontsize=16, labelpad=25)
plt.ylabel('State',fontsize=16, labelpad=25)
plt.yticks(rotation=0)
plt.xticks(rotation=0)
plt.show();





hydro_norm = hydro_norm.fillna(0)

hydro_norm_log = np.log10(hydro_norm + 1)

mask = hydro_norm == 0

# Set custom color palette
cmap = sns.diverging_palette(220, 20, as_cmap=True)
cmap.set_bad('grey', 1.0) 

plt.figure(figsize=(10, 15))
sns.heatmap(hydro_norm_log, cmap=cmap, mask=mask, fmt=".1f", linewidths=.5, vmax=1)

plt.title('State Level Trends in Hydrocodone Prescriptions',fontsize=20, pad=25)
plt.xlabel('Year',fontsize=16, labelpad=25)
plt.ylabel('State',fontsize=16, labelpad=25)
plt.yticks(rotation=0)
plt.xticks(rotation=0)
plt.savefig('images/State Hydro Pres.png')
plt.show();





fenta_norm = fenta_norm.fillna(0)

fenta_norm_log = np.log10(fenta_norm + 1)

mask = fenta_norm == 0

# Set custom color palette
cmap = sns.diverging_palette(220, 20, as_cmap=True)
cmap.set_bad('grey', 1.0) 

plt.figure(figsize=(10, 15))
sns.heatmap(fenta_norm_log, cmap=cmap, mask=mask, fmt=".1f", linewidths=.5, vmax=1)

plt.title('State Level Trends in Fentanyl Prescriptions',fontsize=20, pad=25)
plt.xlabel('Year',fontsize=16, labelpad=25)
plt.ylabel('State',fontsize=16, labelpad=25)
plt.yticks(rotation=0)
plt.xticks(rotation=0)
plt.show();





morph_norm = morph_norm.fillna(0)

morph_norm_log = np.log10(morph_norm + 1)

mask = morph_norm == 0

# Set custom color palette
cmap = sns.diverging_palette(220, 20, as_cmap=True)
cmap.set_bad('grey', 1.0) 

plt.figure(figsize=(10, 15))
sns.heatmap(morph_norm_log, cmap=cmap, mask=mask, fmt=".1f", linewidths=.5,vmin=0, vmax=1)

plt.title('State Level Trends in Morphine Prescriptions',fontsize=20, pad=25)
plt.xlabel('Year',fontsize=16, labelpad=25)
plt.ylabel('State',fontsize=16, labelpad=25)
plt.yticks(rotation=0)
plt.xticks(rotation=0)
plt.show();








cl_oxy_norm = oxy_norm.drop('USA', axis=0)
cln_oxy_norm = cl_oxy_norm.sum()

cl_hydro_norm = hydro_norm.drop('USA', axis=0)
cln_hydro_norm = cl_hydro_norm.sum()

cl_morph_norm = morph_norm.drop('USA', axis=0)
cln_morph_norm = cl_morph_norm.sum()

cl_fenta_norm = fenta_norm.drop('USA', axis=0)
cln_fenta_norm = cl_fenta_norm.sum()


USA_sum_norm = cln_oxy_norm.to_frame().rename(columns={0: 'Oxycodone'})
USA_sum_norm['Hydrocodone'] = cln_hydro_norm
USA_sum_norm['Morphine'] = cln_morph_norm
USA_sum_norm['Fentanyl'] = cln_fenta_norm
USA_sum_norm





years_numpy = pd.to_datetime(USA_sum_norm.index).year.astype(int)


USA_sum_norm_numpy = USA_sum_norm.values


##### Oxycodone

x_axis = years_numpy
oxy_axis = USA_sum_norm_numpy[:,0]


(slope, intercept, rvalue, pvalue, stderr) = linregress(x_axis, oxy_axis)
regress_values = x_axis * slope + intercept
line_eq = "y = " + str(round(slope,2)) + "x + " + str(round(intercept,2))

r_oxy = rvalue**2

print(f"R-squared value: {rvalue**2:.4f}")



##### Hydrocodone

x_axis = years_numpy
hydro_axis = USA_sum_norm_numpy[:,1]


(slope, intercept, rvalue, pvalue, stderr) = linregress(x_axis, hydro_axis)
regress_values = x_axis * slope + intercept
line_eq = "y = " + str(round(slope,2)) + "x + " + str(round(intercept,2))


r_hydro = rvalue**2

print(f"R-squared value: {rvalue**2:.4f}")


##### Morphine

x_axis = years_numpy
morph_axis = USA_sum_norm_numpy[:,2]


(slope, intercept, rvalue, pvalue, stderr) = linregress(x_axis, morph_axis)
regress_values = x_axis * slope + intercept
line_eq = "y = " + str(round(slope,2)) + "x + " + str(round(intercept,2))


r_morph = rvalue**2

print(f"R-squared value: {rvalue**2:.4f}")


##### Fentanyl

x_axis = years_numpy
fenta_axis = USA_sum_norm_numpy[:,3]


(slope, intercept, rvalue, pvalue, stderr) = linregress(x_axis, fenta_axis)
regress_values = x_axis * slope + intercept
line_eq = "y = " + str(round(slope,2)) + "x + " + str(round(intercept,2))


r_fenta = rvalue**2

print(f"R-squared value: {rvalue**2:.4f}")





USA_sum_norm = cln_oxy_norm.to_frame().rename(columns={0: 'Oxycodone'})
USA_sum_norm['Hydrocodone'] = cln_hydro_norm
USA_sum_norm['Morphine'] = cln_morph_norm
USA_sum_norm['Fentanyl'] = cln_fenta_norm


USA_sum_norm = USA_sum_norm.sort_index()
years = USA_sum_norm.index


plt.figure(figsize=(6, 6))
plt.plot(USA_sum_norm.index, USA_sum_norm['Oxycodone'], color='black', label='Oxycodone', linewidth=2.5, marker='o')
plt.plot(USA_sum_norm.index, USA_sum_norm['Hydrocodone'], color='grey', label='Hydrocodone', linewidth=2.5, marker='o')
plt.plot(USA_sum_norm.index, USA_sum_norm['Morphine'], color='pink', label='Morphine', linewidth=2.5, marker='o')
plt.plot(USA_sum_norm.index, USA_sum_norm['Fentanyl'], color='brown', label='Fentanyl', linewidth=2.5, marker='o')
plt.title('Country Level Trends in Morphine Prescriptions', fontsize=17, pad=35)
plt.xlabel('Time \n(Years)', fontsize=12, labelpad=20)
plt.ylabel('Morphine Prescriptions per 100,000 people', fontsize=12, labelpad=15)
plt.yscale('log')
plt.legend(USA_sum_norm.columns) 
plt.grid(True, linestyle='--', alpha=0)
plt.xticks(years, rotation=45, ha='right')
plt.yticks([10**i for i in range(3,5)]) 

plt.text(0.95, 0.05, f'Oxycodone: R² = {r_oxy:.4f}\nHydrocodonee: R² = {r_hydro:.4f}\nMorphine: R² = {r_morph:.4f}\nFentanyl: R² = {r_fenta:.4f}', transform=plt.gca().transAxes, fontsize=12, ha='right')
plt.tight_layout()

plt.savefig('Output/Country_Level_Trends_in_Morphine_Prescriptions.png')
plt.show();








# Total Amount Reimbursed Mean 2023
oxy_2023_tmean = oxy_2023_df.groupby('State')['Total Amount Reimbursed'].mean()
hydro_2023_tmean = hydro_2023_df.groupby('State')['Total Amount Reimbursed'].mean()
morph_2023_tmean = morph_2023_df.groupby('State')['Total Amount Reimbursed'].mean()
fenta_2023_tmean = fenta_2023_df.groupby('State')['Total Amount Reimbursed'].mean()

# Medicaid Amount Reimbursed Mean 2023
oxy_2023_mmean = oxy_2023_df.groupby('State')['Medicaid Amount Reimbursed'].mean()
hydro_2023_mmean = hydro_2023_df.groupby('State')['Medicaid Amount Reimbursed'].mean()
morph_2023_mmean = morph_2023_df.groupby('State')['Medicaid Amount Reimbursed'].mean()
fenta_2023_mmean = fenta_2023_df.groupby('State')['Medicaid Amount Reimbursed'].mean()

#--------------------------------------------------------------------------------------------

# Total Amount Reimbursed Mean 2016
oxy_2016_tmean = oxy_2016_df.groupby('State')['Total Amount Reimbursed'].mean()
hydro_2016_tmean = hydro_2016_df.groupby('State')['Total Amount Reimbursed'].mean()
morph_2016_tmean = morph_2016_df.groupby('State')['Total Amount Reimbursed'].mean()
fenta_2016_tmean = fenta_2016_df.groupby('State')['Total Amount Reimbursed'].mean()

# Medicaid Amount Reimbursed Mean 2016
oxy_2016_mmean = oxy_2016_df.groupby('State')['Medicaid Amount Reimbursed'].mean()
hydro_2016_mmean = hydro_2016_df.groupby('State')['Medicaid Amount Reimbursed'].mean()
morph_2016_mmean = morph_2016_df.groupby('State')['Medicaid Amount Reimbursed'].mean()
fenta_2016_mmean = fenta_2016_df.groupby('State')['Medicaid Amount Reimbursed'].mean()

#--------------------------------------------------------------------------------------------

# Total Amount Reimbursed Mean 2009
oxy_2009_tmean = oxy_2009_df.groupby('State')['Total Amount Reimbursed'].mean()
hydro_2009_tmean = hydro_2009_df.groupby('State')['Total Amount Reimbursed'].mean()
morph_2009_tmean = morph_2009_df.groupby('State')['Total Amount Reimbursed'].mean()
fenta_2009_tmean = fenta_2009_df.groupby('State')['Total Amount Reimbursed'].mean()

# Medicaid Amount Reimbursed Mean 2009
oxy_2009_mmean = oxy_2009_df.groupby('State')['Medicaid Amount Reimbursed'].mean()
hydro_2009_mmean = hydro_2009_df.groupby('State')['Medicaid Amount Reimbursed'].mean()
morph_2009_mmean = morph_2009_df.groupby('State')['Medicaid Amount Reimbursed'].mean()
fenta_2009_mmean = fenta_2009_df.groupby('State')['Medicaid Amount Reimbursed'].mean()

#--------------------------------------------------------------------------------------------

# Total Amount Reimbursed Mean 2002
oxy_2002_tmean = oxy_2002_df.groupby('State')['Total Amount Reimbursed'].mean()
hydro_2002_tmean = hydro_2002_df.groupby('State')['Total Amount Reimbursed'].mean()
morph_2002_tmean = morph_2002_df.groupby('State')['Total Amount Reimbursed'].mean()
fenta_2002_tmean = fenta_2002_df.groupby('State')['Total Amount Reimbursed'].mean()

# Medicaid Amount Reimbursed Mean 2002
oxy_2002_mmean = oxy_2002_df.groupby('State')['Medicaid Amount Reimbursed'].mean()
hydro_2002_mmean = hydro_2002_df.groupby('State')['Medicaid Amount Reimbursed'].mean()
morph_2002_mmean = morph_2002_df.groupby('State')['Medicaid Amount Reimbursed'].mean()
fenta_2002_mmean = fenta_2002_df.groupby('State')['Medicaid Amount Reimbursed'].mean()

#--------------------------------------------------------------------------------------------

# Total Amount Reimbursed Mean 1995
oxy_1995_tmean = oxy_1995_df.groupby('State')['Total Amount Reimbursed'].mean()
hydro_1995_tmean = hydro_1995_df.groupby('State')['Total Amount Reimbursed'].mean()
morph_1995_tmean = morph_1995_df.groupby('State')['Total Amount Reimbursed'].mean()
fenta_1995_tmean = fenta_1995_df.groupby('State')['Total Amount Reimbursed'].mean()

# Medicaid Amount Reimbursed Mean 2002
oxy_1995_mmean = oxy_1995_df.groupby('State')['Medicaid Amount Reimbursed'].mean()
hydro_1995_mmean = hydro_1995_df.groupby('State')['Medicaid Amount Reimbursed'].mean()
morph_1995_mmean = morph_1995_df.groupby('State')['Medicaid Amount Reimbursed'].mean()
fenta_1995_mmean = fenta_1995_df.groupby('State')['Medicaid Amount Reimbursed'].mean()

#--------------------------------------------------------------------------------------------

# Total Amount Reimbursed Mean 1991
oxy_1991_tmean = oxy_1991_df.groupby('State')['Total Amount Reimbursed'].mean()
hydro_1991_tmean = hydro_1991_df.groupby('State')['Total Amount Reimbursed'].mean()
morph_1991_tmean = morph_1991_df.groupby('State')['Total Amount Reimbursed'].mean()
fenta_1991_tmean = fenta_1991_df.groupby('State')['Total Amount Reimbursed'].mean()

# Medicaid Amount Reimbursed Mean 1991
oxy_1991_mmean = oxy_1991_df.groupby('State')['Medicaid Amount Reimbursed'].mean()
hydro_1991_mmean = hydro_1991_df.groupby('State')['Medicaid Amount Reimbursed'].mean()
morph_1991_mmean = morph_1991_df.groupby('State')['Medicaid Amount Reimbursed'].mean()
fenta_1991_mmean = fenta_1991_df.groupby('State')['Medicaid Amount Reimbursed'].mean()








#All# Total Amount Reimbursed Mean OXYCODONE
all_oxy_tmean = oxy_2023_tmean.to_frame().rename(columns={'Total Amount Reimbursed': '2023'})
all_oxy_tmean['2016'] = oxy_2016_tmean
all_oxy_tmean['2009'] = oxy_2009_tmean
all_oxy_tmean['2002'] = oxy_2002_tmean
all_oxy_tmean['1995'] = oxy_1995_tmean
all_oxy_tmean['1991'] = oxy_1991_tmean

all_oxy_tmean = all_oxy_tmean.rename(index={'XX': 'USA'})

#Medicaid Amount Reimbursed Mean OXYCODONE
all_oxy_mmean = oxy_2023_mmean.to_frame().rename(columns={'Medicaid Amount Reimbursed': '2023'})
all_oxy_mmean['2016'] = oxy_2016_mmean
all_oxy_mmean['2009'] = oxy_2009_mmean
all_oxy_mmean['2002'] = oxy_2002_mmean
all_oxy_mmean['1995'] = oxy_1995_mmean
all_oxy_mmean['1991'] = oxy_1991_mmean

all_oxy_mmean = all_oxy_mmean.rename(index={'XX': 'USA'})
#-----------------------------------------------------------------------------------

#All# Total Amount Reimbursed Mean Hydrocodone
all_hydro_tmean = hydro_2023_tmean.to_frame().rename(columns={'Total Amount Reimbursed': '2023'})
all_hydro_tmean['2016'] = hydro_2016_tmean
all_hydro_tmean['2009'] = hydro_2009_tmean
all_hydro_tmean['2002'] = hydro_2002_tmean
all_hydro_tmean['1995'] = hydro_1995_tmean
all_hydro_tmean['1991'] = hydro_1991_tmean

all_hydro_tmean = all_hydro_tmean.rename(index={'XX': 'USA'})

#Medicaid Amount Reimbursed Mean Hydrocodone
all_hydro_mmean = hydro_2023_mmean.to_frame().rename(columns={'Medicaid Amount Reimbursed': '2023'})
all_hydro_mmean['2016'] = hydro_2016_mmean
all_hydro_mmean['2009'] = hydro_2009_mmean
all_hydro_mmean['2002'] = hydro_2002_mmean
all_hydro_mmean['1995'] = hydro_1995_mmean
all_hydro_mmean['1991'] = hydro_1991_mmean

all_hydro_mmean = all_hydro_mmean.rename(index={'XX': 'USA'})

#----------------------------------------------------------------------------------------------------
#All# Total Amount Reimbursed Mean Morphine
all_morph_tmean = morph_2023_tmean.to_frame().rename(columns={'Total Amount Reimbursed': '2023'})
all_morph_tmean['2016'] = morph_2016_tmean
all_morph_tmean['2009'] = morph_2009_tmean
all_morph_tmean['2002'] = morph_2002_tmean
all_morph_tmean['1995'] = morph_1995_tmean
all_morph_tmean['1991'] = morph_1991_tmean

all_morph_tmean = all_morph_tmean.rename(index={'XX': 'USA'})

#Medicaid Amount Reimbursed Mean Morphine
all_morph_mmean = morph_2023_mmean.to_frame().rename(columns={'Medicaid Amount Reimbursed': '2023'})
all_morph_mmean['2016'] = morph_2016_mmean
all_morph_mmean['2009'] = morph_2009_mmean
all_morph_mmean['2002'] = morph_2002_mmean
all_morph_mmean['1995'] = morph_1995_mmean
all_morph_mmean['1991'] = morph_1991_mmean

all_morph_mmean = all_morph_mmean.rename(index={'XX': 'USA'})

#----------------------------------------------------------------------------------------------------
#All# Total Amount Reimbursed Mean Fentanyl
all_fenta_tmean = fenta_2023_tmean.to_frame().rename(columns={'Total Amount Reimbursed': '2023'})
all_fenta_tmean['2016'] = fenta_2016_tmean
all_fenta_tmean['2009'] = fenta_2009_tmean
all_fenta_tmean['2002'] = fenta_2002_tmean
all_fenta_tmean['1995'] = fenta_1995_tmean
all_fenta_tmean['1991'] = fenta_1991_tmean

all_fenta_tmean = all_fenta_tmean.rename(index={'XX': 'USA'})

#Medicaid Amount Reimbursed Mean Fentanyl
all_fenta_mmean = fenta_2023_mmean.to_frame().rename(columns={'Medicaid Amount Reimbursed': '2023'})
all_fenta_mmean['2016'] = fenta_2016_mmean
all_fenta_mmean['2009'] = fenta_2009_mmean
all_fenta_mmean['2002'] = fenta_2002_mmean
all_fenta_mmean['1995'] = fenta_1995_mmean
all_fenta_mmean['1991'] = fenta_1991_mmean

all_fenta_mmean = all_fenta_mmean.rename(index={'XX': 'USA'})





#Normalization
oxy_mnorm = all_oxy_mmean/cln_pop*100000
oxy_tnorm = all_oxy_tmean/cln_pop*100000

fenta_mnorm = all_fenta_mmean/cln_pop*100000
fenta_tnorm = all_fenta_tmean/cln_pop*100000

hydro_mnorm = all_hydro_mmean/cln_pop*100000
hydro_tnorm = all_hydro_tmean/cln_pop*100000

morph_mnorm = all_morph_mmean/cln_pop*100000
morph_tnorm = all_morph_tmean/cln_pop*100000








cl_oxy_mnorm = oxy_mnorm.drop('USA', axis=0)
cln_oxy_mnorm = cl_oxy_mnorm.sum()

cl_oxy_tnorm = oxy_tnorm.drop('USA', axis=0)
cln_oxy_tnorm = cl_oxy_tnorm.sum()

#---------------------------------------------------------------------------------
cl_hydro_mnorm = hydro_mnorm.drop('USA', axis=0)
cln_hydro_mnorm = cl_hydro_mnorm.sum()

cl_hydro_tnorm = hydro_tnorm.drop('USA', axis=0)
cln_hydro_tnorm = cl_hydro_tnorm.sum()
#---------------------------------------------------------------------------------
cl_morph_mnorm = morph_mnorm.drop('USA', axis=0)
cln_morph_mnorm = cl_morph_mnorm.sum()

cl_morph_tnorm = morph_tnorm.drop('USA', axis=0)
cln_morph_tnorm = cl_morph_tnorm.sum()

#---------------------------------------------------------------------------------
cl_fenta_mnorm = fenta_mnorm.drop('USA', axis=0)
cln_fenta_mnorm = cl_fenta_mnorm.sum()

cl_fenta_tnorm = fenta_tnorm.drop('USA', axis=0)
cln_fenta_tnorm = cl_fenta_tnorm.sum()


medicaid_tnorm = cln_oxy_tnorm.to_frame().rename(columns={0: 'Oxycodone'})
medicaid_tnorm['Hydrocodone'] = cln_hydro_tnorm
medicaid_tnorm['Morphine'] = cln_morph_tnorm
medicaid_tnorm['Fentanyl'] = cln_fenta_tnorm


medicaid_mnorm = cln_oxy_mnorm.to_frame().rename(columns={0: 'Oxycodone'})
medicaid_mnorm['Hydrocodone'] = cln_hydro_mnorm
medicaid_mnorm['Morphine'] = cln_morph_mnorm
medicaid_mnorm['Fentanyl'] = cln_fenta_mnorm
medicaid_mnorm


years_tnumpy = pd.to_datetime(medicaid_tnorm.index).year.astype(int)
years_tnumpy

years_mnumpy = pd.to_datetime(medicaid_mnorm.index).year.astype(int)
years_mnumpy


medicaid_tnorm_tnumpy = medicaid_tnorm.values
medicaid_tnorm

medicaid_mnorm_mnumpy = medicaid_mnorm.values
medicaid_mnorm





#### Oxycodone Total

x_taxis = years_tnumpy
oxy_taxis = medicaid_tnorm_tnumpy[:,0]


(slope, intercept, rvalue, pvalue, stderr) = linregress(x_axis, oxy_taxis)
regress_values = x_axis * slope + intercept
line_eq = "y = " + str(round(slope,2)) + "x + " + str(round(intercept,2))

r_oxyt = rvalue**2

print(f"R-squared value: {rvalue**2:.4f}")


#### Oxycodone Medicaid

x_maxis = years_mnumpy
oxy_maxis = medicaid_mnorm_mnumpy[:,0]


(slope, intercept, rvalue, pvalue, stderr) = linregress(x_axis, oxy_maxis)
regress_values = x_axis * slope + intercept
line_eq = "y = " + str(round(slope,2)) + "x + " + str(round(intercept,2))

r_oxym = rvalue**2

print(f"R-squared value: {rvalue**2:.4f}")


#### Hydrocodone Total

x_taxis = years_tnumpy
hydro_taxis = medicaid_tnorm_tnumpy[:,1]


(slope, intercept, rvalue, pvalue, stderr) = linregress(x_axis, hydro_taxis)
regress_values = x_axis * slope + intercept
line_eq = "y = " + str(round(slope,2)) + "x + " + str(round(intercept,2))

r_hydrot = rvalue**2

print(f"R-squared value: {rvalue**2:.4f}")


#### Hydrocodone Medicaid

x_maxis = years_mnumpy
hydro_maxis = medicaid_mnorm_mnumpy[:,1]


(slope, intercept, rvalue, pvalue, stderr) = linregress(x_axis, hydro_maxis)
regress_values = x_axis * slope + intercept
line_eq = "y = " + str(round(slope,2)) + "x + " + str(round(intercept,2))

r_hydrom = rvalue**2

print(f"R-squared value: {rvalue**2:.4f}")


#### Morphine Total

x_taxis = years_tnumpy
morph_taxis = medicaid_tnorm_tnumpy[:,2]


(slope, intercept, rvalue, pvalue, stderr) = linregress(x_axis, morph_taxis)
regress_values = x_axis * slope + intercept
line_eq = "y = " + str(round(slope,2)) + "x + " + str(round(intercept,2))

r_morpht = rvalue**2

print(f"R-squared value: {rvalue**2:.4f}")


#### Morphine Medicaid

x_maxis = years_mnumpy
morph_maxis = medicaid_mnorm_mnumpy[:,2]


(slope, intercept, rvalue, pvalue, stderr) = linregress(x_axis, morph_maxis)
regress_values = x_axis * slope + intercept
line_eq = "y = " + str(round(slope,2)) + "x + " + str(round(intercept,2))

r_morphm = rvalue**2

print(f"R-squared value: {rvalue**2:.4f}")


#### Fentanyl Total

x_taxis = years_tnumpy
fenta_taxis = medicaid_tnorm_tnumpy[:,3]


(slope, intercept, rvalue, pvalue, stderr) = linregress(x_axis, fenta_taxis)
regress_values = x_axis * slope + intercept
line_eq = "y = " + str(round(slope,2)) + "x + " + str(round(intercept,2))

r_fentat = rvalue**2

print(f"R-squared value: {rvalue**2:.4f}")


#### Fentanyl Medicaid


x_maxis = years_mnumpy
fenta_maxis = medicaid_mnorm_mnumpy[:,3]


(slope, intercept, rvalue, pvalue, stderr) = linregress(x_axis, fenta_maxis)
regress_values = x_axis * slope + intercept
line_eq = "y = " + str(round(slope,2)) + "x + " + str(round(intercept,2))

r_fentam = rvalue**2

print(f"R-squared value: {rvalue**2:.4f}")





# Sort the DataFrame by index (years)
medicaid_mnorm = medicaid_mnorm.sort_index()

medicaid_mnorm = medicaid_mnorm[medicaid_mnorm > 0]
# Plotting
plt.figure(figsize=(10, 6))


plt.plot(medicaid_mnorm.index, medicaid_mnorm['Oxycodone'], color='black', label='Oxycodone', linewidth=2.5, marker='o')
plt.plot(medicaid_mnorm.index, medicaid_mnorm['Hydrocodone'], color='grey', label='Hydrocodone', linewidth=2.5, marker='o')
plt.plot(medicaid_mnorm.index, medicaid_mnorm['Morphine'], color='pink', label='Morphine', linewidth=2.5, marker='o')
plt.plot(medicaid_mnorm.index, medicaid_mnorm['Fentanyl'], color='brown', label='Fentanyl', linewidth=2.5, marker='o')


# Add title and labels
plt.title('Medicaid Reimbursement Trends for Opioids in the U.S. ',fontsize=20, pad=30)
plt.xlabel('Time \n(Years)', fontsize=13, labelpad=20)
plt.ylabel('Medicaid Reimbursement per 100,000 people', fontsize=13, labelpad=20)

# Set logarithmic scale for y-axis
plt.yscale('log')
# Add legend
plt.legend()

# Grid settings
plt.grid(True, linestyle='--', alpha=0.7)

# Adjust tick labels and rotation for better readability
plt.xticks(rotation=45, ha='right')  # Using default ticks based on medicaid_norm.index

# Set y-ticks for logarithmic scale
 # Adjust y-ticks as needed

plt.yticks([10**i for i in range(1,6)]) 


plt.text(0.95, 0.05, f'Oxycodone: R² = {r_oxym:.4f}\nHydrocodone: R² = {r_hydrom:.4f}\nMorphine: R² = {r_morphm:.4f}\nFentanyl: R² = {r_fentam:.4f}', transform=plt.gca().transAxes, fontsize=12, ha='right')

# Ensure the plot layout is tight
plt.tight_layout()
plt.grid(True, linestyle='--', alpha=0)


plt.savefig('Output/Medicaid Reimbursement Trends for Opioids in the U.S..png')
# Show the plot
plt.show();






medicaid_tnorm = medicaid_tnorm.sort_index()

# Plotting
plt.figure(figsize=(10, 6))

# Plot each opioid type with specified colors and markers
plt.plot(medicaid_tnorm.index, medicaid_tnorm['Oxycodone'], color='black', label='Oxycodone', linewidth=2.5, marker='o')
plt.plot(medicaid_tnorm.index, medicaid_tnorm['Hydrocodone'], color='grey', label='Hydrocodone', linewidth=2.5, marker='o')
plt.plot(medicaid_tnorm.index, medicaid_tnorm['Morphine'], color='pink', label='Morphine', linewidth=2.5, marker='o')
plt.plot(medicaid_tnorm.index, medicaid_tnorm['Fentanyl'], color='brown', label='Fentanyl', linewidth=2.5, marker='o')

# Add title and labels
plt.title('Total Reimbursement Trends for Opioids in the U.S.',fontsize=20, pad=30)
plt.xlabel('Time \n(Years)', fontsize=13, labelpad=20)
plt.ylabel('Total Reimbursement per 100,000 people', fontsize=13, labelpad=20)

# Set logarithmic scale for y-axis
plt.yscale('log')
# Add legend
plt.legend()

# Grid settings
plt.grid(True, linestyle='--', alpha=0.7)

# Adjust tick labels and rotation for better readability
plt.xticks(rotation=45, ha='right')  # Using default ticks based on medicaid_norm.index

# Set y-ticks for logarithmic scale
 # Adjust y-ticks as needed

plt.yticks([10**i for i in range(1,6)]) 
# Ensure the plot layout is tight

plt.text(0.95, 0.05, f'Oxycodone: R² = {r_oxyt:.4f}\nHydrocodone: R² = {r_hydrot:.4f}\nMorphine: R² = {r_morpht:.4f}\nFentanyl: R² = {r_fentat:.4f}', transform=plt.gca().transAxes, fontsize=12, ha='right')

plt.tight_layout()
plt.grid(True, linestyle='--', alpha=0)

plt.savefig('Output/Total Reimbursement Trends for Opioids in the U.S..png')
# Show the plot
plt.show();








# create state abbreviations for heat map
state_abbreviations = {
    'Alabama': 'AL',
    'Alaska': 'AK',
    'Arizona': 'AZ',
    'Arkansas': 'AR',
    'California': 'CA',
    'Colorado': 'CO',
    'Connecticut': 'CT',
    'Delaware': 'DE',
    'District of Columbia' : 'DC',
    'Florida': 'FL',
    'Georgia': 'GA',
    'Hawaii': 'HI',
    'Idaho': 'ID',
    'Illinois': 'IL',
    'Indiana': 'IN',
    'Iowa': 'IA',
    'Kansas': 'KS',
    'Kentucky': 'KY',
    'Louisiana': 'LA',
    'Maine': 'ME',
    'Maryland': 'MD',
    'Massachusetts': 'MA',
    'Michigan': 'MI',
    'Minnesota': 'MN',
    'Mississippi': 'MS',
    'Missouri': 'MO',
    'Montana': 'MT',
    'Nebraska': 'NE',
    'Nevada': 'NV',
    'New Hampshire': 'NH',
    'New Jersey': 'NJ',
    'New Mexico': 'NM',
    'New York': 'NY',
    'North Carolina': 'NC',
    'North Dakota': 'ND',
    'Ohio': 'OH',
    'Oklahoma': 'OK',
    'Oregon': 'OR',
    'Pennsylvania': 'PA',
    'Rhode Island': 'RI',
    'South Carolina': 'SC',
    'South Dakota': 'SD',
    'Tennessee': 'TN',
    'Texas': 'TX',
    'Utah': 'UT',
    'Vermont': 'VT',
    'Virginia': 'VA',
    'Washington': 'WA',
    'West Virginia': 'WV',
    'Wisconsin': 'WI',
    'Wyoming': 'WY'
}


# Add abbreviation column to DataFrame
df['Abbreviation'] = df['state_National'].map(state_abbreviations)





# Create the choropleth map
fig = px.choropleth(df,
                    locations='Abbreviation',
                    locationmode="USA-states",
                    color='total_est_pct2',
                    scope="usa",
                    color_continuous_scale="YlOrRd",  # or any other color scale
                    title=" % of Sates Population in Poverty")

# Show the figure
fig.show()





# Create a DataFrame from the provided data to display the top 10 states with highest poverty percentage
data = {
    'state_National': ['Alabama', 'Alaska', 'Arizona', 'Arkansas', 'California', 'Colorado', 'Connecticut', 'Delaware', 
                       'District of Columbia', 'Florida', 'Georgia', 'Hawaii', 'Idaho', 'Illinois', 'Indiana', 'Iowa', 
                       'Kansas', 'Kentucky', 'Louisiana', 'Maine', 'Maryland', 'Massachusetts', 'Michigan', 'Minnesota', 
                       'Mississippi', 'Missouri', 'Montana', 'National', 'Nebraska', 'Nevada', 'New Hampshire', 
                       'New Jersey', 'New Mexico', 'New York', 'North Carolina', 'North Dakota', 'Ohio', 'Oklahoma', 
                       'Oregon', 'Pennsylvania', 'Rhode Island', 'South Carolina', 'South Dakota', 'Tennessee', 'Texas', 
                       'Utah', 'Vermont', 'Virginia', 'Washington', 'West Virginia', 'Wisconsin'],
    'total_est_pct2': [16.3, 10.8, 12.9, 16.0, 12.3, 9.7, 10.1, 11.5, 16.8, 13.2, 14.2, 10.9, 10.8, 12.1, 12.1, 11.0, 
                       11.6, 16.3, 19.5, 11.2, 10.3, 10.4, 13.0, 9.3, 19.2, 12.8, 12.0, 12.8, 10.5, 14.0, 7.4, 10.2, 17.7, 
                       14.0, 13.5, 10.9, 13.3, 15.4, 12.2, 12.0, 12.1, 14.5, 11.9, 13.7, 14.2, 8.7, 10.2, 10.3, 9.9, 16.8, 
                       10.8],
    'Abbreviation': ['AL', 'AK', 'AZ', 'AR', 'CA', 'CO', 'CT', 'DE', 'DC', 'FL', 'GA', 'HI', 'ID', 'IL', 'IN', 'IA', 
                     'KS', 'KY', 'LA', 'ME', 'MD', 'MA', 'MI', 'MN', 'MS', 'MO', 'MT', 'NE', 'NV', 'NH', 'NJ', 'NM', 
                     'NY', 'NC', 'ND', 'OH', 'OK', 'OR', 'PA', 'RI', 'SC', 'SD', 'TN', 'TX', 'UT', 'VT', 'VA', 'WA', 
                     'WV', 'WI', 'WY']
}

df4 = pd.DataFrame(data)

# Sort the DataFrame based on the total_est_pct2 column in descending order and select the top 5 states
top_5_states = df4.sort_values(by='total_est_pct2', ascending=False).head(10)

# Plot the bar chart
plt.figure(figsize=(10, 6))
plt.bar(top_5_states['Abbreviation'], top_5_states['total_est_pct2'], color='orange')
plt.xlabel('State')
plt.ylabel('Percent of People in Poverty')
plt.title('Top 10 States with the Highest Percent of People Living in Poverty')
plt.savefig('images/poverty_graph.png')
plt.show();


#create df for states population
pop_by_state_df2 = pd.DataFrame(pop_by_state_df[["ST","2014"]])
pop_by_state_df2["2014"] = pop_by_state_df2["2014"] / 100000
pop_by_state_df2["2014"] = pop_by_state_df2["2014"].round(2)
pop_by_state_df2 = pop_by_state_df2.rename(columns={"ST":"Abbreviation",
                                                    "2014":"Population"})
pop_by_state_df2.head()


# add abbreviation column for heat map of united states
df2['Abbreviation'] = df2['State'].map(state_abbreviations)


# add abbreviation column and read into only neccessary columns and rows
df3 = df2.loc[(df2["Year"] == 2014), ["State", "Deaths", "Abbreviation"]]
df3 = pd.merge(df3, pop_by_state_df2, how="inner", on="Abbreviation")
df3 = df3[["State", "Abbreviation", "Deaths", "Population"]]
df3["Deaths"] = df3["Deaths"].astype(int)
df3["Deaths per 100k"] = df3["Deaths"].div(df3["Population"].values,axis=0)
df3["Deaths per 100k"] = df3["Deaths per 100k"].round(3)
df3.head()





data = {
    'State': ['Alabama', 'Alaska', 'Arizona', 'Arkansas', 'California', 'Colorado', 'Connecticut', 'Delaware', 
              'District of Columbia', 'Florida', 'Georgia', 'Hawaii', 'Idaho', 'Illinois', 'Indiana', 'Iowa', 
              'Kansas', 'Kentucky', 'Louisiana', 'Maine', 'Maryland', 'Massachusetts', 'Michigan', 'Minnesota', 
              'Mississippi', 'Missouri', 'Montana', 'Nebraska', 'Nevada', 'New Hampshire', 'New Jersey', 
              'New Mexico', 'New York', 'North Carolina', 'North Dakota', 'Ohio', 'Oklahoma', 'Oregon', 
              'Pennsylvania', 'Rhode Island', 'South Carolina', 'South Dakota', 'Tennessee', 'Texas', 'Utah', 
              'Vermont', 'Virginia', 'Washington', 'West Virginia', 'Wisconsin', 'Wyoming'],
    'Year': [2014] * 51,
    'Deaths': df3["Deaths per 100k"],
    'Abbreviation': ['AL', 'AK', 'AZ', 'AR', 'CA', 'CO', 'CT', 'DE', 'DC', 'FL', 'GA', 'HI', 'ID', 'IL', 'IN', 'IA', 
                     'KS', 'KY', 'LA', 'ME', 'MD', 'MA', 'MI', 'MN', 'MS', 'MO', 'MT', 'NE', 'NV', 'NH', 'NJ', 'NM', 
                     'NY', 'NC', 'ND', 'OH', 'OK', 'OR', 'PA', 'RI', 'SC', 'SD', 'TN', 'TX', 'UT', 'VT', 'VA', 'WA', 
                     'WV', 'WI', 'WY']
}

df = pd.DataFrame(data)

# Sort the DataFrame based on the Deaths column in descending order and select the top 5 states
top_5_states = df.sort_values(by='Deaths', ascending=False).head(10)

# Plot the bar chart
plt.figure(figsize=(10, 6))
plt.bar(top_5_states['Abbreviation'], top_5_states['Deaths'], color='blue')
plt.xlabel('State')
plt.ylabel('Number of Deaths per 100k')
plt.title('Top 10 States with the Highest Number of Opioid Related Deaths')
plt.savefig('images/opiod_deathsV2.png')
plt.show();





# Data for the first bar graph
data_poverty = {
    'state_National': ['Alabama', 'Alaska', 'Arizona', 'Arkansas', 'California', 'Colorado', 'Connecticut', 'Delaware',
                       'District of Columbia', 'Florida', 'Georgia', 'Hawaii', 'Idaho', 'Illinois', 'Indiana', 'Iowa',
                       'Kansas', 'Kentucky', 'Louisiana', 'Maine', 'Maryland', 'Massachusetts', 'Michigan', 'Minnesota',
                       'Mississippi', 'Missouri', 'Montana', 'National', 'Nebraska', 'Nevada', 'New Hampshire',
                       'New Jersey', 'New Mexico', 'New York', 'North Carolina', 'North Dakota', 'Ohio', 'Oklahoma',
                       'Oregon', 'Pennsylvania', 'Rhode Island', 'South Carolina', 'South Dakota', 'Tennessee', 'Texas',
                       'Utah', 'Vermont', 'Virginia', 'Washington', 'West Virginia', 'Wisconsin'],
    'total_est_pct2': [16.3, 10.8, 12.9, 16.0, 12.3, 9.7, 10.1, 11.5, 16.8, 13.2, 14.2, 10.9, 10.8, 12.1, 12.1, 11.0,
                       11.6, 16.3, 19.5, 11.2, 10.3, 10.4, 13.0, 9.3, 19.2, 12.8, 12.0, 12.8, 10.5, 14.0, 7.4, 10.2, 17.7,
                       14.0, 13.5, 10.9, 13.3, 15.4, 12.2, 12.0, 12.1, 14.5, 11.9, 13.7, 14.2, 8.7, 10.2, 10.3, 9.9, 16.8,
                       10.8],
    'Abbreviation': ['AL', 'AK', 'AZ', 'AR', 'CA', 'CO', 'CT', 'DE', 'DC', 'FL', 'GA', 'HI', 'ID', 'IL', 'IN', 'IA',
                     'KS', 'KY', 'LA', 'ME', 'MD', 'MA', 'MI', 'MN', 'MS', 'MO', 'MT', 'NE', 'NV', 'NH', 'NJ', 'NM',
                     'NY', 'NC', 'ND', 'OH', 'OK', 'OR', 'PA', 'RI', 'SC', 'SD', 'TN', 'TX', 'UT', 'VT', 'VA', 'WA',
                     'WV', 'WI', 'WY']
}
# Data for the second bar graph
data_deaths = {
    'State': ['Alabama', 'Alaska', 'Arizona', 'Arkansas', 'California', 'Colorado', 'Connecticut', 'Delaware',
              'District of Columbia', 'Florida', 'Georgia', 'Hawaii', 'Idaho', 'Illinois', 'Indiana', 'Iowa',
              'Kansas', 'Kentucky', 'Louisiana', 'Maine', 'Maryland', 'Massachusetts', 'Michigan', 'Minnesota',
              'Mississippi', 'Missouri', 'Montana', 'Nebraska', 'Nevada', 'New Hampshire', 'New Jersey',
              'New Mexico', 'New York', 'North Carolina', 'North Dakota', 'Ohio', 'Oklahoma', 'Oregon',
              'Pennsylvania', 'Rhode Island', 'South Carolina', 'South Dakota', 'Tennessee', 'Texas', 'Utah',
              'Vermont', 'Virginia', 'Washington', 'West Virginia', 'Wisconsin', 'Wyoming'],
    'Year': [2014] * 51,
    'Deaths': df3["Deaths per 100k"],
    'Abbreviation': ['AL', 'AK', 'AZ', 'AR', 'CA', 'CO', 'CT', 'DE', 'DC', 'FL', 'GA', 'HI', 'ID', 'IL', 'IN', 'IA',
                     'KS', 'KY', 'LA', 'ME', 'MD', 'MA', 'MI', 'MN', 'MS', 'MO', 'MT', 'NE', 'NV', 'NH', 'NJ', 'NM',
                     'NY', 'NC', 'ND', 'OH', 'OK', 'OR', 'PA', 'RI', 'SC', 'SD', 'TN', 'TX', 'UT', 'VT', 'VA', 'WA',
                     'WV', 'WI', 'WY']
}
df_poverty = pd.DataFrame(data_poverty)
df_deaths = pd.DataFrame(data_deaths)
# Merge the two DataFrames on the Abbreviation column
merged_df = pd.merge(df_poverty, df_deaths[['Abbreviation', 'Deaths']], on='Abbreviation')
merged_df = merged_df.sort_values("total_est_pct2", ascending=False)

# Plot the combined bar chart
fig, ax1 = plt.subplots(figsize=(20, 10))
# Plot the percent of people in poverty
ax1.bar(merged_df['Abbreviation'], merged_df['total_est_pct2'], color='orange', width=0.4, align='center', label='Percent of People in Poverty')
ax1.set_xlabel('State')
ax1.set_ylabel('Percent of People in Poverty', color='Black')
ax1.tick_params(axis='y', labelcolor='Black')
ax1.set_title('States Population Poverty % Vs. Opioid-Related Deaths per 100k by State')
# Create another y-axis to plot the number of deaths
ax2 = ax1.twinx()
ax2.bar(merged_df['Abbreviation'], merged_df['Deaths'], color='blue', width=0.2, align='edge', label='Number of Deaths')
ax2.set_ylabel('Number of Deaths', color='black')
ax2.tick_params(axis='y', labelcolor='Black')
# Rotate x-axis labels for better readability
plt.xticks(rotation=45, ha='right')
# Adjust the layout to make room for the rotated x-axis labels
plt.tight_layout()
# Add legends
ax1.legend(loc='upper left')
ax2.legend(loc='upper right')
plt.savefig('images/poverty_vs_deaths.png')
plt.show();





##Filter core data to be analyzed (i.e. only opioid deaths, deaths per 100k - age-adjusted)
all_df = data_df[data_df["PANEL"] == "Drug overdose deaths involving any opioid"]
all_df = all_df[all_df["UNIT"] == "Deaths per 100,000 resident population, age-adjusted"]

male_df = all_df[all_df["STUB_LABEL"] == "Male"]
female_df = all_df[all_df["STUB_LABEL"] == "Female"]
all_df = all_df[all_df["STUB_LABEL"] == "All persons"]

# Generate a line plot of Deaths per 100k vs. calendar year
##Define data to be analyzed from DF (One set each for all, male, female)
Year_all = all_df.loc[:,"YEAR"]

Deaths_all = all_df.loc[:,"ESTIMATE"]
Deaths_male = male_df.loc[:,"ESTIMATE"]
Deaths_female = female_df.loc[:,"ESTIMATE"]

##Set parameters and variables to be plotted on a line chart with output
fig, ax1 = plt.subplots()
plt.title("Opioid Deaths by Gender (1999-2018)", fontsize=12)
ax1.set_xlim(min(Year_all)-2, max(Year_all)+2)
ax1.set_ylabel("Deaths per 100,000")
ax1.set_xlabel("Year")
plt.grid(True)

#set line plots
all,    = plt.plot(Year_all, Deaths_all, linewidth=2.0, marker="", color="black", label="Overall")
male,   = plt.plot(Year_all, Deaths_male, linewidth=1.25, marker="", color="blue", label="Male")
female, = plt.plot(Year_all, Deaths_female, linewidth=1.25, marker="", color="red", label="Female")

#set legend, save to file and output to screen
plt.legend(handles=[male,
                    female,
                    all], loc=(0.02,.78))
plt.savefig("output/rate_by_gender.png")
plt.show();


#Summarize Opioid Deaths by gender chart in previous code block
gender_df = data_df.copy()

#Set parameters to be included
gender_df = gender_df[gender_df["UNIT"] == "Deaths per 100,000 resident population, age-adjusted"]
gender_df = gender_df[gender_df["PANEL"] == "Drug overdose deaths involving any opioid"]
gender_df = gender_df[gender_df["STUB_NAME"].isin(["Total","Sex"])]
gender_df = gender_df[gender_df["YEAR"].isin([1999,2004,2009,2014,2018])]

#Finalize DF
gender_df["YEAR"]= gender_df["YEAR"].astype(str)
gender_df = pd.DataFrame(gender_df[["YEAR","STUB_LABEL","ESTIMATE"]])
gender_df = gender_df.rename(columns = {"YEAR":"Year",
                                        "STUB_LABEL":"Gender",
                                        "ESTIMATE":"Deaths per 100k"})

#Call values for 2018 death rates for ratio calculation
male_2018 = gender_df[gender_df["Year"] == "2018"]
male_2018 = male_2018[male_2018["Gender"] == "Male"]
male_2018 = male_2018.values[0,2]

female_2018 = gender_df[gender_df["Year"] == "2018"]
female_2018 = female_2018[female_2018["Gender"] == "Female"].round(2)
female_2018 = female_2018.values[0,2]

#Calculate ratio of men to women overdose death rates
calc_2018 = round(male_2018 / female_2018, 2)

#formating summary DF for presentation
gender_df = gender_df.groupby(["Year","Gender"])["Deaths per 100k"].sum()
gender_df = pd.DataFrame(gender_df)
gender_df = gender_df.transpose()

#Output to ratio & DF to screen
print(f"By 2018, the ratio of opioid overdose death rates for men to opioid overdose death rates for women was {calc_2018}.")
print("")
gender_df


##Create deaths by age grouping chart
##Filter core data to be analyzed (i.e. only opioid deaths, deaths per 100k - age-adjusted)
age_df = data_df[data_df["PANEL"] == "Drug overdose deaths involving any opioid"]
age_df = age_df[age_df["STUB_NAME"] == "Age"]

##Separate each age group into separate DFs
under_15_df     = age_df[age_df["STUB_LABEL"] == "Under 15 years"]
age_15_24_df    = age_df[age_df["STUB_LABEL"] == "15-24 years"]
age_25_34_df    = age_df[age_df["STUB_LABEL"] == "25-34 years"]
age_35_44_df    = age_df[age_df["STUB_LABEL"] == "35-44 years"]
age_45_54_df    = age_df[age_df["STUB_LABEL"] == "45-54 years"]
age_55_64_df    = age_df[age_df["STUB_LABEL"] == "55-64 years"]
age_65_74_df    = age_df[age_df["STUB_LABEL"] == "65-74 years"]
age_75_84_df    = age_df[age_df["STUB_LABEL"] == "75-84 years"]
inc_n_ovr_85_df = age_df[age_df["STUB_LABEL"] == "85 years and over"]

# Generate a line plot of Deaths per 100k vs. calendar year
##Define data to be analyzed from DF (One set each for all, each age group)
Year_all = all_df.loc[:,"YEAR"]

Deaths_all      =          all_df.loc[:,"ESTIMATE"]
Deaths_und15    =     under_15_df.loc[:,"ESTIMATE"]
Deaths_15_24    =    age_15_24_df.loc[:,"ESTIMATE"]
Deaths_25_34    =    age_25_34_df.loc[:,"ESTIMATE"]
Deaths_35_44    =    age_35_44_df.loc[:,"ESTIMATE"]
Deaths_45_54    =    age_45_54_df.loc[:,"ESTIMATE"]
Deaths_55_64    =    age_55_64_df.loc[:,"ESTIMATE"]
Deaths_65_74    =    age_65_74_df.loc[:,"ESTIMATE"]
Deaths_75_84    =    age_75_84_df.loc[:,"ESTIMATE"]
Deaths_85_n_ovr = inc_n_ovr_85_df.loc[:,"ESTIMATE"]

##Set parameters and variables to be plotted on a line chart with output
fig, ax1 = plt.subplots()
plt.title("Opioid Deaths by Age Group (1999-2018)", fontsize=12)
ax1.set_xlim(min(Year_all)-2, max(Year_all)+2)
ax1.set_ylabel("Deaths per 100,000")
ax1.set_xlabel("Year")
plt.grid(True)

##Set up of line plots
##Commented out lines below in order to focus plot output on age groups with higher death rates.
all,      = plt.plot(Year_all, Deaths_all, linewidth=3.0, marker="", color="black", label="Overall")
##age_un15,  = plt.plot(Year_all, Deaths_und15, linewidth=0.50, marker="", label="Under 15")
##age_15_24, = plt.plot(Year_all, Deaths_15_24, linewidth=0.50, marker="", label="15-24")
age_25_34, = plt.plot(Year_all, Deaths_25_34, linewidth=2.00, marker="o", markersize=4, color="red", label="25-34 yrs")
age_35_44, = plt.plot(Year_all, Deaths_35_44, linewidth=2.00, marker="^", markersize=4, color="blue", label="35-44 yrs")
age_45_54, = plt.plot(Year_all, Deaths_45_54, linewidth=1.25, marker="s", markersize=4, color="blue", label="45-54 yrs")
##age_55_64, = plt.plot(Year_all, Deaths_55_64, linewidth=1.25, marker="", label="55-64")
##age_65_74, = plt.plot(Year_all, Deaths_65_74, linewidth=0.50, marker="", label="65-74")
##age_75_84, = plt.plot(Year_all, Deaths_75_84, linewidth=0.50, marker="", label="75-84")
##age_85ovr, = plt.plot(Year_all, Deaths_85_n_ovr, linewidth=0.50, marker="", label="85 & Over")

plt.legend(handles=[
##                    age_un15,
##                    age_15_24,
                    age_25_34,
                    age_35_44,
                    age_45_54,
##                    age_55_64,
##                    age_65_74,
##                    age_75_84,
##                    age_85ovr,
                    all],
           loc="best", fontsize=8)

#Output to file and screen
plt.savefig("output/rate_by_age.png")
plt.show();


#Summarize Opioid Deaths by age group into data summary
age_df = data_df.copy()

#Set parameters to be included
age_df = age_df[age_df["PANEL"] == "Drug overdose deaths involving any opioid"]
age_df = age_df[age_df["STUB_NAME"] == "Age"]
age_df = age_df[age_df["YEAR"].isin([1999,2004,2009,2014,2018])]
age_df = pd.DataFrame(age_df[["YEAR","STUB_LABEL","ESTIMATE"]])
age_df = age_df[age_df["STUB_LABEL"].isin(["25-34 years",
                                           "35-44 years",
                                           "45-54 years"])]
temp_all_df = pd.DataFrame(all_df[["YEAR","STUB_LABEL","ESTIMATE"]])
temp_all_df = temp_all_df[temp_all_df["YEAR"].isin([1999,2004,2009,2014,2018])]

#concatenate the two DFs
age_df = pd.concat([age_df,temp_all_df])

#formatting
age_df["YEAR"]= age_df["YEAR"].astype(str)
age_df = age_df.rename(columns = {"YEAR":"Year",
                                  "STUB_LABEL":"Age Group",
                                  "ESTIMATE":"Deaths per 100k"})

#Call values for 2018 death rates for ratio calculation
age_all_2018 = all_df[all_df["YEAR"] == 2018]["ESTIMATE"].values[0]

age25_34_2018 = age_df[age_df["Age Group"] == "25-34 years"]
age25_34_2018 = age25_34_2018[age25_34_2018["Year"] == "2018"]["Deaths per 100k"].values[0]

age35_44_2018 = age_df[age_df["Age Group"] == "35-44 years"]
age35_44_2018 = age35_44_2018[age35_44_2018["Year"] == "2018"]["Deaths per 100k"].values[0]

age45_54_2018 = age_df[age_df["Age Group"] == "45-54 years"]
age45_54_2018 = age45_54_2018[age45_54_2018["Year"] == "2018"]["Deaths per 100k"].values[0]

#formatting summary DF for presentation
age_df = age_df.groupby(["Year","Age Group"])["Deaths per 100k"].sum()
age_df = pd.DataFrame(age_df)
age_df = age_df.transpose()

#Output to 2018 rates and summary DF to screen
print(f"By 2018, the opioid overdose death rates per 100,000 people for the age groups of 25-34 years, 35-44 years, 45-54 years are")
print(f"  {age25_34_2018}, {age35_44_2018}, and {age45_54_2018}, respectively.  For comparison the overall death rate per 100,000 is {age_all_2018}.")
print("")
age_df


##Deaths by methadone, other synthetics, all opioids
#Filter core data to be analyzed (i.e. only opioid deaths, deaths per 100k - age-adjusted)
synth_df = data_df
synth_df = synth_df[synth_df["UNIT"] == "Deaths per 100,000 resident population, age-adjusted"]
synth_df = synth_df[synth_df["STUB_NAME"] == "Total"]

##Generate a line plot of Deaths per 100k vs. calendar year
##Define data to be analyzed from DF (One set each for all, each drug grouping)

# for x-axis setting
all_year= synth_df.loc[synth_df["PANEL"] == "Drug overdose deaths involving any opioid"]["YEAR"]

# data for line plots
Deaths_all_op  = synth_df[synth_df["PANEL"] == "Drug overdose deaths involving any opioid"]\
                                   ["ESTIMATE"]
Deaths_meth    = synth_df[synth_df["PANEL"] == "Drug overdose deaths involving methadone"]\
                                   ["ESTIMATE"]
Deaths_synth   = synth_df[synth_df["PANEL"] == "Drug overdose deaths involving other synthetic opioids (other than methadone)"]\
                                   ["ESTIMATE"]
Deaths_ALL     = synth_df[synth_df["PANEL"] == "All drug overdose deaths"]\
                                   ["ESTIMATE"]
Deaths_natsemi = synth_df[synth_df["PANEL"] == "Drug overdose deaths involving natural and semisynthetic opioids"]\
                                   ["ESTIMATE"]
Deaths_heroin  = synth_df[synth_df["PANEL"] == "Drug overdose deaths involving heroin"]\
                                   ["ESTIMATE"]

##Set parameters for line chart with output
fig, ax1 = plt.subplots()
plt.title("Overdose Deaths by Drug (1999-2018)", fontsize=12)
ax1.set_xlim(min(Year_all)-2, max(Year_all)+2)
ax1.set_ylabel("Deaths per 100,000")
ax1.set_xlabel("Year")
plt.grid(True)

# create line plots
all_op,    = plt.plot(all_year, Deaths_all_op, linewidth=2.0, marker="o", markersize=2, color="black", label="All Opioids")
methodone, = plt.plot(all_year, Deaths_meth, linewidth=1.0, marker="", color="gray", label="Methadone")
oth_syn,   = plt.plot(all_year, Deaths_synth, linewidth=3.0, marker="", color="red", label="Other Synthetics")
ALL_drugs, = plt.plot(all_year, Deaths_ALL, linewidth=3.0, marker="", color="black", label="All drugs")
nat_semi,  = plt.plot(all_year, Deaths_natsemi, linewidth=1.0, marker="o", markersize=1.5, color="gray", label="Natural & Semi")
heroin,    = plt.plot(all_year, Deaths_heroin, linewidth=2.0, marker="", color="blue", label="HEROIN")


# create legend
plt.legend(handles=[ALL_drugs,
                    all_op,
                    oth_syn,
                    heroin,
                    nat_semi,
                    methodone
                   ], loc="best", fontsize=8)

# save to file and output to screen
plt.savefig("output/rate_by_synth.png")
plt.show();


# Load the CSV file into a Pandas DataFrame and apply any filters
data_df = pd.read_csv("resources/DrugODs_Demographic.csv")

##Filter core data to be analyzed (i.e. only opioid deaths, deaths per 100k - age-adjusted)
all_df = data_df[data_df["PANEL"] == "Drug overdose deaths involving any opioid"]
all_df = all_df[all_df["UNIT"] == "Deaths per 100,000 resident population, age-adjusted"]

male_df = all_df[all_df["STUB_LABEL"] == "Male"]
female_df = all_df[all_df["STUB_LABEL"] == "Female"]
all_df = all_df[all_df["STUB_LABEL"] == "All persons"]


# Generate a line plot of Deaths per 100k vs. calendar year

##Define data to be analyzed from DF (One set each for all, male, female)
Year_all = all_df.loc[:,"YEAR"]

Deaths_all = all_df.loc[:,"ESTIMATE"]
Deaths_male = male_df.loc[:,"ESTIMATE"]
Deaths_female = female_df.loc[:,"ESTIMATE"]

##Set parameters and variables to be plotted on a line chart with output
fig, ax1 = plt.subplots()
plt.title("Opioid Deaths 1999-2018", fontsize=12)
ax1.set_xlim(min(Year_all)-2, max(Year_all)+2)

ax1.set_ylabel("Deaths per 100,000")
ax1.set_xlabel("Year")
plt.grid(True)

all, = plt.plot(Year_all, Deaths_all, linewidth=2.0, marker="", color="black", label="Overall")
male, = plt.plot(Year_all, Deaths_male, linewidth=1.25, marker="", color="blue", label="Male")
female, = plt.plot(Year_all, Deaths_female, linewidth=1.25, marker="", color="red", label="Female")

plt.legend(handles=[male, female, all], loc=(0.02,.78))

plt.show();


##Create deaths by age grouping chart
##Filter core data to be analyzed (i.e. only opioid deaths, deaths per 100k - age-adjusted)
age_df = data_df[data_df["PANEL"] == "Drug overdose deaths involving any opioid"]
age_df = age_df[age_df["STUB_NAME"] == "Age"]

##Separate each age group into separate DFs
under_15_df     = age_df[age_df["STUB_LABEL"] == "Under 15 years"]
age_15_24_df    = age_df[age_df["STUB_LABEL"] == "15-24 years"]
age_25_34_df    = age_df[age_df["STUB_LABEL"] == "25-34 years"]
age_35_44_df    = age_df[age_df["STUB_LABEL"] == "35-44 years"]
age_45_54_df    = age_df[age_df["STUB_LABEL"] == "45-54 years"]
age_55_64_df    = age_df[age_df["STUB_LABEL"] == "55-64 years"]
age_65_74_df    = age_df[age_df["STUB_LABEL"] == "65-74 years"]
age_75_84_df    = age_df[age_df["STUB_LABEL"] == "75-84 years"]
inc_n_ovr_85_df = age_df[age_df["STUB_LABEL"] == "85 years and over"]

# Generate a line plot of Deaths per 100k vs. calendar year
##Define data to be analyzed from DF (One set each for all, each age group)
Year_all = all_df.loc[:,"YEAR"]

Deaths_all      =          all_df.loc[:,"ESTIMATE"]
Deaths_und15    =     under_15_df.loc[:,"ESTIMATE"]
Deaths_15_24    =    age_15_24_df.loc[:,"ESTIMATE"]
Deaths_25_34    =    age_25_34_df.loc[:,"ESTIMATE"]
Deaths_35_44    =    age_35_44_df.loc[:,"ESTIMATE"]
Deaths_45_54    =    age_45_54_df.loc[:,"ESTIMATE"]
Deaths_55_64    =    age_55_64_df.loc[:,"ESTIMATE"]
Deaths_65_74    =    age_65_74_df.loc[:,"ESTIMATE"]
Deaths_75_84    =    age_75_84_df.loc[:,"ESTIMATE"]
Deaths_85_n_ovr = inc_n_ovr_85_df.loc[:,"ESTIMATE"]

##Set parameters and variables to be plotted on a line chart with output
fig, ax1 = plt.subplots()
plt.title("Opioid Deaths by Age Group (1999-2018)", fontsize=12)
ax1.set_xlim(min(Year_all)-2, max(Year_all)+2)
ax1.set_ylabel("Deaths per 100,000")
ax1.set_xlabel("Year")
plt.grid(True)

##Set up of line plots
##Commented out lines below in order to focus plot output on age groups with higher death rates.
all,      = plt.plot(Year_all, Deaths_all, linewidth=3.0, marker="", color="black", label="Overall")
##age_un15,  = plt.plot(Year_all, Deaths_und15, linewidth=0.50, marker="", label="Under 15")
##age_15_24, = plt.plot(Year_all, Deaths_15_24, linewidth=0.50, marker="", label="15-24")
age_25_34, = plt.plot(Year_all, Deaths_25_34, linewidth=2.00, marker="o", markersize=4, color="red", label="25-34 yrs")
age_35_44, = plt.plot(Year_all, Deaths_35_44, linewidth=2.00, marker="^", markersize=4, color="blue", label="35-44 yrs")
age_45_54, = plt.plot(Year_all, Deaths_45_54, linewidth=1.25, marker="s", markersize=4, color="blue", label="45-54 yrs")
##age_55_64, = plt.plot(Year_all, Deaths_55_64, linewidth=1.25, marker="", label="55-64")
##age_65_74, = plt.plot(Year_all, Deaths_65_74, linewidth=0.50, marker="", label="65-74")
##age_75_84, = plt.plot(Year_all, Deaths_75_84, linewidth=0.50, marker="", label="75-84")
##age_85ovr, = plt.plot(Year_all, Deaths_85_n_ovr, linewidth=0.50, marker="", label="85 & Over")

plt.legend(handles=[
##                    age_un15,
##                    age_15_24,
                    age_25_34,
                    age_35_44,
                    age_45_54,
##                    age_55_64,
##                    age_65_74,
##                    age_75_84,
##                    age_85ovr,
                    all],
           loc="best", fontsize=8)

#Output to file and screen
plt.savefig("output/rate_by_age.png")
plt.show();





drug_df = pd.DataFrame(drug_overdose_data)
drug_df.head()


del drug_df['ï»¿State']
drug_df.head()


drug_df.count()


drug_df.isnull().sum()


drug_df.rename(columns={"State Abbreviation": "State"},inplace=True)
drug_df.head()


#Cleaning data by renaming columns
drug_df.rename(columns={'2019 Age-adjusted Rate (per 100000 population)': '2019 OD Rate',
                        '2018 Age-adjusted Rate (per 100000 population)': '2018 OD Rate',
                        '2017 Age-adjusted Rate (per 100000 population)': '2017 OD Rate',
                        '2016 Age-adjusted Rate (per 100000 population)': '2016 OD Rate',
                        '2015 Age-adjusted Rate (per 100000 population)': '2015 OD Rate',
                        '2014 Age-adjusted Rate (per 100000 population)': '2014 OD Rate',
                        '2013 Age-adjusted Rate (per 100000 population)': '2013 OD Rate'},inplace=True)
drug_df.head(10)


drug_df.rename(columns={"2019 Number of Deaths":'2019 Deaths',
                        "2018 Number of Deaths":'2018 Deaths',
                        "2017 Number of Deaths":'2017 Deaths',
                        "2016 Number of Deaths":'2016 Deaths',
                        "2015 Number of Deaths":'2015 Deaths',
                        "2014 Number of Deaths":'2014 Deaths',
                        "2013 Number of Deaths":'2013 Deaths',
                        "Population density per kmÂ²": "Pop Density / Sq Km",
                        'Population': "State Pop",
                        'Land Area (kmÂ²)"': "Land Area in Sq Km"
                        },inplace=True)
drug_df.head(10)


#dropping Washington D.C. null values
clean_overdose_df = drug_df.dropna()
clean_overdose_df.head()


#creating table which focuses on OD rate per 100,000 people
drug_overdose_rates_df = clean_overdose_df[['State','2019 OD Rate','2018 OD Rate','2017 OD Rate','2016 OD Rate','2015 OD Rate','2014 OD Rate','2013 OD Rate']]
drug_overdose_rates_df.head(10)


#setting state as index for cleaning/transposing
drug_overdose_rates_df.set_index("State",inplace=True)
drug_overdose_rates_df.rename_axis(None,axis=0,inplace=True)
print(drug_overdose_rates_df)


#transposition of state data and yearly OD rate
transposed_overdose_df = drug_overdose_rates_df.transpose()
transposed_overdose_df.head()


#reordering rows by ascending year
sorted_overdose_data = transposed_overdose_df.sort_index(ascending=True)
sorted_overdose_data.head()





import warnings
warnings.filterwarnings('ignore')

#showing figure for time series of OD Rate by state
plt.figure(figsize=(24,20))
plt.title("Overdose death rates per 100,000 people, by State")
plt.ylabel("Overdose death rate (per 100,000 people)")
sns.lineplot(data=sorted_overdose_data)
plt.savefig("output/OD_Rate_by_State");


my_colors = ['lightblue','blue','purple','red','black','orange']

plt.figure(figsize=(24,10))
plt.title("2019 Overdose Rate, by State")
plt.ylabel("Overdose rate")
plt.xlabel("State Abbreviated")
x_axis=clean_overdose_df["State"]
y_axis=clean_overdose_df['2019 OD Rate']
plt.bar(x_axis,y_axis,color=my_colors,alpha=.5,align="edge");


plt.figure(figsize=(24,10))
plt.title("2019 OD Rate per 100,000 People, By State")
sns.barplot(x=clean_overdose_df["State"],y=clean_overdose_df['2019 OD Rate'])
plt.savefig("output/2019_Rates.png");


#showing deaths by state in bar chart
plt.figure(figsize=(24,10))
plt.title("2019 OD Deaths, By State")
sns.barplot(x=clean_overdose_df["State"],y=clean_overdose_df['2019 Deaths'])
plt.savefig("output/2019_Deaths.png");


plt.figure(figsize=(24,10))
plt.title("2013 OD Deaths, By State")
sns.barplot(x=clean_overdose_df["State"],y=clean_overdose_df['2013 Deaths']);


plt.figure(figsize=(24,10))
plt.title("2013 OD Rate per 100,000 People, By State")
sns.barplot(x=clean_overdose_df["State"],y=clean_overdose_df['2013 OD Rate'])
plt.savefig("output/2013_Deaths.png");



clean_overdose_df.rename(columns={
    'Urban population as a percentage of the total population in 2010': 'Urban population % 2010',
    '2019 Poverty rate (percent of persons in poverty)': '2019 Poverty %',
    'Gini coefficient of income inequality': 'Gini coefficient',
    'Pop Density / sq km': 'Pop Density / km²'
},inplace=True)





heatmap_overdose = clean_overdose_df[['2019 OD Rate', '2018 OD Rate', '2017 OD Rate', '2016 OD Rate', '2015 OD Rate', '2014 OD Rate',
                                      '2013 OD Rate', '2019 Poverty %', 'Gini coefficient', 'GDP per capita 2021', 
                                    'Urban population % 2010', 'Pop Density / Sq Km']]
heatmap_overdose.head()


heatmap_overdose.rename(columns={
    'Urban population as a percentage of the total population in 2010': 'Urban population % 2010',
    '2019 Poverty rate (percent of persons in poverty)': '2019 Poverty %',
    'Gini coefficient of income inequality': 'Gini coefficient',
    'Pop Density / sq km': 'Pop Density / km²'
},inplace=True)


plt.figure(figsize=(20,20))
sns.heatmap(heatmap_overdose.corr(),cmap='coolwarm',annot=True);


clean_overdose_df.head()


clean_overdose_df["State"].nunique()


clean_overdose_df.describe()


plt.figure(figsize=(8,8))
sns.regplot(x=heatmap_overdose["2013 OD Rate"],y=heatmap_overdose['2019 Poverty %']);


heatmap_overdose.corr().style.background_gradient(cmap="coolwarm")


plt.figure(figsize=(8,8))
plt.title("OD Rate Compared to Pop Density, 2019")
sns.regplot(x=heatmap_overdose['2019 OD Rate'],y=heatmap_overdose["Pop Density / Sq Km"])
plt.savefig("output/Pop_density2019.png");


plt.figure(figsize=(8,8))
plt.title("OD Rate Compared to Pop Density, 2013")
sns.regplot(x=heatmap_overdose['2013 OD Rate'],y=heatmap_overdose["Pop Density / Sq Km"])
plt.savefig("output/Pop_density2013.png");


plt.figure(figsize=(24,10))
plt.title("Poverty Rate by State in 2019")
sns.barplot(x=clean_overdose_df['State'],y=clean_overdose_df['2019 Poverty %'])
plt.savefig("output/Poverty_rate.png");


plt.figure(figsize=(8,8))
plt.title("OD Rate Compared to Poverty Rate, 2013")
sns.regplot(x=heatmap_overdose['2013 OD Rate'],y=heatmap_overdose["2019 Poverty %"]);


plt.figure(figsize=(8,8))
plt.title("OD Rate Compared to Poverty Rate, 2019")
sns.regplot(x=heatmap_overdose['2019 OD Rate'],y=heatmap_overdose["2019 Poverty %"]);


plt.figure(figsize=(24,10))
plt.title("Gini coefficient by State")
sns.barplot(x=clean_overdose_df['State'],y=heatmap_overdose['Gini coefficient']);


#regressing Gini coefficient of inequality to OD Rate in 2013 and 2019
plt.figure(figsize=(8,8))
plt.title("OD Rate Compared to Gini Coefficient, 2013")
sns.regplot(x=heatmap_overdose['2013 OD Rate'],y=heatmap_overdose["Gini coefficient"]);


plt.figure(figsize=(8,8))
plt.title("OD Rate Compared to Gini Coefficient, 2019")
sns.regplot(x=heatmap_overdose['2019 OD Rate'],y=heatmap_overdose["Gini coefficient"]);



