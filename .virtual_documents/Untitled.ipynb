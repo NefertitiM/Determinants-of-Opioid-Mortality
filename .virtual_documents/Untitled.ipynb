import pandas as pd
import matplotlib.pyplot as plt
import plotly.express as px


df = pd.read_csv('PovertyReport.csv')


df['total_est_pct2'] = df['total_est_pct2'].astype(float)









