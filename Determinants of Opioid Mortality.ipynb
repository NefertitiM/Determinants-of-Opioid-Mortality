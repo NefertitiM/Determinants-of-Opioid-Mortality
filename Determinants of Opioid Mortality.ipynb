{
 "cells": [
  {
   "cell_type": "markdown",
   "id": "0fe61fb2-5e69-40b7-875b-c9082bbc54bc",
   "metadata": {},
   "source": [
    "# Dependencies"
   ]
  },
  {
   "cell_type": "code",
   "execution_count": 11,
   "id": "dd0b1cff-33f0-4a22-a60f-a39247105c84",
   "metadata": {},
   "outputs": [],
   "source": [
    "import pandas as pd\n",
    "from pathlib import Path\n",
    "import numpy as np\n",
    "import numpy as py\n",
    "from functools import reduce\n",
    "import matplotlib.pyplot as plt\n",
    "%matplotlib inline\n",
    "%matplotlib widget\n",
    "import seaborn as sns\n",
    "from scipy.stats import linregress\n",
    "import plotly.express as px\n",
    "import hvplot.pandas\n",
    "import requests\n",
    "import time\n",
    "from functools import reduce\n",
    "import re\n",
    "from IPython.core.interactiveshell import InteractiveShell\n",
    "InteractiveShell.ast_node_interactivity = \"all\"\n",
    "from functools import reduce\n",
    "import re\n",
    "from IPython.core.interactiveshell import InteractiveShell\n",
    "InteractiveShell.ast_node_interactivity = \"all\"\n"
   ]
  },
  {
   "cell_type": "markdown",
   "id": "9da51fc7-7eea-4096-9df5-c412e0e89cec",
   "metadata": {},
   "source": [
    "# Fetch Files"
   ]
  },
  {
   "cell_type": "markdown",
   "id": "337cc29c-1d76-4d4f-bf07-5c854f94d0b7",
   "metadata": {},
   "source": [
    "## Load Files"
   ]
  },
  {
   "cell_type": "markdown",
   "id": "2f3df5a8-da05-418c-9af4-807b8b34db06",
   "metadata": {},
   "source": [
    "### Alexander "
   ]
  },
  {
   "cell_type": "code",
   "execution_count": null,
   "id": "79083b00-3255-41ee-916d-53d49715ff67",
   "metadata": {},
   "outputs": [],
   "source": [
    "csv_file_path = Path('CDC_deaths_data.csv')"
   ]
  },
  {
   "cell_type": "markdown",
   "id": "0f9f111d-aae3-47c7-8ec4-9faf7f24943a",
   "metadata": {},
   "source": [
    "### Nefertiti "
   ]
  },
  {
   "cell_type": "code",
   "execution_count": 12,
   "id": "dd9bd3a7-12a7-4736-b8eb-132feca5c88a",
   "metadata": {},
   "outputs": [],
   "source": [
    "#Load Population Files\n",
    "pop_path = Path(\"Pop_df/pop_by_state_df.csv\")\n",
    "\n",
    "#Load Files 2023\n",
    "oxy_2023_path = Path(\"2023/Oxycodone_2023.csv\")\n",
    "hydro_2023_path = Path(\"2023/Hydrocod_2023.csv\")\n",
    "morph_2023_path = Path(\"2023/Morphine_2023.csv\")\n",
    "fenta_2023_path = Path(\"2023/Fentanyl_2023.csv\")\n",
    "\n",
    "#Load Files 2016\n",
    "oxy_2016_path = Path(\"2016/Oxycodone_2016.csv\")\n",
    "hydro_2016_path = Path(\"2016/Hydrocod_2016.csv\")\n",
    "morph_2016_path = Path(\"2016/Morphine_2016.csv\")\n",
    "fenta_2016_path = Path(\"2016/Fentanyl_2016.csv\")\n",
    "\n",
    "#Load Files 2009\n",
    "oxy_2009_path = Path(\"2009/Oxycodone_2009.csv\")\n",
    "hydro_2009_path = Path(\"2009/Hydrocod_2009.csv\")\n",
    "morph_2009_path = Path(\"2009/Morphine_2009.csv\")\n",
    "fenta_2009_path = Path(\"2009/Fentanyl_2009.csv\")\n",
    "\n",
    "#Load Files 2002\n",
    "oxy_2002_path = Path(\"2002/Oxycodone_2002.csv\")\n",
    "hydro_2002_path = Path(\"2002/Hydrocod_2002.csv\")\n",
    "morph_2002_path = Path(\"2002/Morphine_2002.csv\")\n",
    "fenta_2002_path = Path(\"2002/Fentanyl_2002.csv\")\n",
    "\n",
    "#Load Files 1995\n",
    "oxy_1995_path = Path(\"1995/Oxycodone_1995.csv\")\n",
    "hydro_1995_path = Path(\"1995/Hydrocod_1995.csv\")\n",
    "morph_1995_path = Path(\"1995/Morphine_1995.csv\")\n",
    "fenta_1995_path = Path(\"1995/Fentanyl_1995.csv\")\n",
    "\n",
    "#Load Files 1991\n",
    "oxy_1991_path = Path(\"1991/Oxycodone_1991.csv\")\n",
    "hydro_1991_path = Path(\"1991/Hydrocod_1991.csv\")\n",
    "morph_1991_path = Path(\"1991/Morphine_1991.csv\")\n",
    "fenta_1991_path = Path(\"1991/Fentanyl_1991.csv\")"
   ]
  },
  {
   "cell_type": "markdown",
   "id": "2ff246aa-42cb-427b-9f25-f17f7af717c1",
   "metadata": {},
   "source": [
    "## Read Files"
   ]
  },
  {
   "cell_type": "markdown",
   "id": "fee14d36-df90-479b-a5ba-b66da0cb39e2",
   "metadata": {},
   "source": [
    "### Alexander"
   ]
  },
  {
   "cell_type": "code",
   "execution_count": null,
   "id": "d0110899-46df-4b7e-ad5b-0e317a8451db",
   "metadata": {},
   "outputs": [],
   "source": [
    "drug_overdose_data = pd.read_csv(csv_file_path, encoding = \"ISO-8859-1\")"
   ]
  },
  {
   "cell_type": "markdown",
   "id": "e5187333-e79d-4fb4-a7d0-24d080765ee9",
   "metadata": {},
   "source": [
    "### Adrian"
   ]
  },
  {
   "cell_type": "code",
   "execution_count": null,
   "id": "65e18a6c-7467-4723-972e-f9e772b628cb",
   "metadata": {},
   "outputs": [],
   "source": [
    "# Load the CSV file into a Pandas DataFrame and apply any filters\n",
    "data_df = pd.read_csv(\"Resources/DrugODs_Demographic.csv\")"
   ]
  },
  {
   "cell_type": "markdown",
   "id": "3fbcc8b1-493c-45bb-81f2-bae3de86d838",
   "metadata": {},
   "source": [
    "### Joe"
   ]
  },
  {
   "cell_type": "code",
   "execution_count": null,
   "id": "96fb4ef4-c3ef-4686-a789-8046b3983188",
   "metadata": {},
   "outputs": [],
   "source": [
    "# read into only neccesary colummns\n",
    "df = df[['state_National', 'total_est_pct2']]\n",
    "df = df.dropna(inplace=False)"
   ]
  },
  {
   "cell_type": "code",
   "execution_count": null,
   "id": "7a622fd1-2c32-43c1-91a4-f992c435807a",
   "metadata": {},
   "outputs": [],
   "source": [
    "# read into pop_by_state_df.csv\n",
    "pop_by_state_df = pd.read_csv('Resources/pop_by_state_df.csv')"
   ]
  },
  {
   "cell_type": "markdown",
   "id": "269943ce-4393-4f64-9e2b-b42255c275d1",
   "metadata": {},
   "source": [
    "### Nefertiti "
   ]
  },
  {
   "cell_type": "code",
   "execution_count": 13,
   "id": "aae991f3-c953-4e6f-8db1-39345f208bba",
   "metadata": {},
   "outputs": [],
   "source": [
    "#Read Population Files\n",
    "pop = pd.read_csv(pop_path)\n",
    "\n",
    "#Read Files 2023\n",
    "oxy_2023 = pd.read_csv(oxy_2023_path)\n",
    "hydro_2023 = pd.read_csv(hydro_2023_path)\n",
    "morph_2023 = pd.read_csv(morph_2023_path)\n",
    "fenta_2023 = pd.read_csv(fenta_2023_path)\n",
    "\n",
    "#Read Files 2016\n",
    "oxy_2016 = pd.read_csv(fenta_2016_path)\n",
    "hydro_2016 = pd.read_csv(hydro_2016_path)\n",
    "morph_2016 = pd.read_csv(morph_2016_path)\n",
    "fenta_2016 = pd.read_csv(fenta_2016_path)\n",
    "\n",
    "#Read Files 2009\n",
    "oxy_2009 = pd.read_csv(fenta_2009_path)\n",
    "hydro_2009 = pd.read_csv(hydro_2009_path)\n",
    "morph_2009 = pd.read_csv(morph_2009_path)\n",
    "fenta_2009 = pd.read_csv(fenta_2009_path)\n",
    "\n",
    "#Read Files 2002\n",
    "oxy_2002 = pd.read_csv(oxy_2002_path)\n",
    "hydro_2002 = pd.read_csv(hydro_2002_path)\n",
    "morph_2002 = pd.read_csv(morph_2002_path)\n",
    "fenta_2002 = pd.read_csv(fenta_2002_path)\n",
    "\n",
    "#Read Files 1995\n",
    "oxy_1995 = pd.read_csv(oxy_1995_path)\n",
    "hydro_1995 = pd.read_csv(hydro_1995_path)\n",
    "morph_1995 = pd.read_csv(morph_1995_path)\n",
    "fenta_1995 = pd.read_csv(fenta_1995_path)\n",
    "\n",
    "#Read Files 1991\n",
    "oxy_1991 = pd.read_csv(oxy_1991_path)\n",
    "hydro_1991 = pd.read_csv(hydro_1991_path)\n",
    "morph_1991 = pd.read_csv(morph_1991_path)\n",
    "fenta_1991 = pd.read_csv(fenta_1991_path)"
   ]
  },
  {
   "cell_type": "markdown",
   "id": "1312c5de-627d-4fbc-b704-b8936411c886",
   "metadata": {},
   "source": [
    "# Has access to prescription opioids shaped the current wave of the opioid crisis? (NM)"
   ]
  },
  {
   "cell_type": "markdown",
   "id": "7a6ff154-7488-4b5b-b65f-113fb97e9ff6",
   "metadata": {},
   "source": [
    "## Main DataFrames"
   ]
  },
  {
   "cell_type": "code",
   "execution_count": 14,
   "id": "b3fe5bfe-3ab2-4578-9a65-d0afae5a99de",
   "metadata": {},
   "outputs": [],
   "source": [
    "#Make Pop DataFrame\n",
    "pop_df = pd.DataFrame(pop)\n",
    "\n",
    "#Make DataFrame 2023\n",
    "oxy_2023_df = pd.DataFrame(oxy_2023)\n",
    "hydro_2023_df = pd.DataFrame(hydro_2023)\n",
    "morph_2023_df = pd.DataFrame(morph_2023)\n",
    "fenta_2023_df = pd.DataFrame(fenta_2023)\n",
    "\n",
    "#Make DataFrame 2016\n",
    "oxy_2016_df = pd.DataFrame(oxy_2016)\n",
    "hydro_2016_df = pd.DataFrame(hydro_2016)\n",
    "morph_2016_df = pd.DataFrame(morph_2016)\n",
    "fenta_2016_df = pd.DataFrame(fenta_2016)\n",
    "\n",
    "#Make DataFrame 2009\n",
    "oxy_2009_df = pd.DataFrame(oxy_2009)\n",
    "hydro_2009_df = pd.DataFrame(hydro_2009)\n",
    "morph_2009_df = pd.DataFrame(morph_2009)\n",
    "fenta_2009_df = pd.DataFrame(fenta_2009)\n",
    "\n",
    "#Make DataFrame 2002\n",
    "oxy_2002_df = pd.DataFrame(oxy_2002)\n",
    "hydro_2002_df = pd.DataFrame(hydro_2002)\n",
    "morph_2002_df = pd.DataFrame(morph_2002)\n",
    "fenta_2002_df = pd.DataFrame(fenta_2002)\n",
    "\n",
    "#Make DataFrame 1995\n",
    "oxy_1995_df = pd.DataFrame(oxy_1995)\n",
    "hydro_1995_df = pd.DataFrame(hydro_1995)\n",
    "morph_1995_df = pd.DataFrame(morph_1995)\n",
    "fenta_1995_df = pd.DataFrame(fenta_1995)\n",
    "\n",
    "#Make DataFrame 1991\n",
    "oxy_1991_df = pd.DataFrame(oxy_1991)\n",
    "hydro_1991_df = pd.DataFrame(hydro_1991)\n",
    "morph_1991_df = pd.DataFrame(morph_1991)\n",
    "fenta_1991_df = pd.DataFrame(fenta_1991)"
   ]
  },
  {
   "cell_type": "markdown",
   "id": "0b2e67db-dfd5-4431-99a7-590c3b1dfe93",
   "metadata": {},
   "source": [
    "## Opioid Prescription Rate by State and Year"
   ]
  },
  {
   "cell_type": "markdown",
   "id": "b33f8dbc-aa80-42a7-a974-1a4feb5de53c",
   "metadata": {},
   "source": [
    "### Averages"
   ]
  },
  {
   "cell_type": "code",
   "execution_count": 16,
   "id": "bd9e5d47-02df-4c2b-a4cb-51f1c35be756",
   "metadata": {},
   "outputs": [],
   "source": [
    "#For each year, the average amount of \"x\" opioids prescribed per state is made into a series\n",
    "\n",
    "#Mean 2023\n",
    "oxy_2023_pmean = oxy_2023_df.groupby('State')['Number of Prescriptions'].mean()\n",
    "hydro_2023_pmean = hydro_2023_df.groupby('State')['Number of Prescriptions'].mean()\n",
    "morph_2023_pmean = morph_2023_df.groupby('State')['Number of Prescriptions'].mean()\n",
    "fenta_2023_pmean = fenta_2023_df.groupby('State')['Number of Prescriptions'].mean()\n",
    "\n",
    "#Mean 2016\n",
    "oxy_2016_pmean = oxy_2016_df.groupby('State')['Number of Prescriptions'].mean()\n",
    "hydro_2016_pmean = hydro_2016_df.groupby('State')['Number of Prescriptions'].mean()\n",
    "morph_2016_pmean = morph_2016_df.groupby('State')['Number of Prescriptions'].mean()\n",
    "fenta_2016_pmean = fenta_2016_df.groupby('State')['Number of Prescriptions'].mean()\n",
    "\n",
    "#Mean 2009\n",
    "oxy_2009_pmean = oxy_2009_df.groupby('State')['Number of Prescriptions'].mean()\n",
    "hydro_2009_pmean = hydro_2009_df.groupby('State')['Number of Prescriptions'].mean()\n",
    "morph_2009_pmean = morph_2009_df.groupby('State')['Number of Prescriptions'].mean()\n",
    "fenta_2009_pmean = fenta_2009_df.groupby('State')['Number of Prescriptions'].mean()\n",
    "\n",
    "#Mean 2002\n",
    "oxy_2002_pmean = oxy_2002_df.groupby('State')['Number of Prescriptions'].mean()\n",
    "hydro_2002_pmean = hydro_2002_df.groupby('State')['Number of Prescriptions'].mean()\n",
    "morph_2002_pmean = morph_2002_df.groupby('State')['Number of Prescriptions'].mean()\n",
    "fenta_2002_pmean = fenta_2002_df.groupby('State')['Number of Prescriptions'].mean()\n",
    "\n",
    "#Mean 1995\n",
    "oxy_1995_pmean = oxy_1995_df.groupby('State')['Number of Prescriptions'].mean()\n",
    "hydro_1995_pmean = hydro_1995_df.groupby('State')['Number of Prescriptions'].mean()\n",
    "morph_1995_pmean = morph_1995_df.groupby('State')['Number of Prescriptions'].mean()\n",
    "fenta_1995_pmean = fenta_1995_df.groupby('State')['Number of Prescriptions'].mean()\n",
    "\n",
    "#Mean 1991\n",
    "oxy_1991_pmean = oxy_1991_df.groupby('State')['Number of Prescriptions'].mean()\n",
    "hydro_1991_pmean = hydro_1991_df.groupby('State')['Number of Prescriptions'].mean()\n",
    "morph_1991_pmean = morph_1991_df.groupby('State')['Number of Prescriptions'].mean()\n",
    "fenta_1991_pmean = fenta_1991_df.groupby('State')['Number of Prescriptions'].mean()\n"
   ]
  },
  {
   "cell_type": "markdown",
   "id": "4a2fd4de-5963-4793-a9ab-fdd07edc724d",
   "metadata": {},
   "source": [
    "### Normalize Per State Capita"
   ]
  },
  {
   "cell_type": "markdown",
   "id": "f563f1df-5b95-49b3-8f74-b2b1e35869a4",
   "metadata": {},
   "source": [
    "#### Clean DataFrames"
   ]
  },
  {
   "cell_type": "code",
   "execution_count": null,
   "id": "0baf9bfb",
   "metadata": {},
   "outputs": [],
   "source": [
    "#All Oxy\n",
    "all_oxy_pmean = oxy_2023_pmean.to_frame().rename(columns={'Number of Prescriptions': '2023'})\n",
    "all_oxy_pmean['2016'] = oxy_2016_pmean\n",
    "all_oxy_pmean['2009'] = oxy_2009_pmean\n",
    "all_oxy_pmean['2002'] = oxy_2002_pmean\n",
    "all_oxy_pmean['1995'] = oxy_1995_pmean\n",
    "all_oxy_pmean['1991'] = oxy_1991_pmean\n",
    "\n",
    "all_oxy_pmean = all_oxy_pmean.rename(index={'XX': 'USA'})\n",
    "\n",
    "#All hydro\n",
    "all_hydro_pmean = hydro_2023_pmean.to_frame().rename(columns={'Number of Prescriptions': '2023'})\n",
    "all_hydro_pmean['2016'] = hydro_2016_pmean\n",
    "all_hydro_pmean['2009'] = hydro_2009_pmean\n",
    "all_hydro_pmean['2002'] = hydro_2002_pmean\n",
    "all_hydro_pmean['1995'] = hydro_1995_pmean\n",
    "all_hydro_pmean['1991'] = hydro_1991_pmean\n",
    "\n",
    "all_hydro_pmean = all_hydro_pmean.rename(index={'XX': 'USA'})\n",
    "\n",
    "\n",
    "#All Morph\n",
    "all_morph_pmean = morph_2023_pmean.to_frame().rename(columns={'Number of Prescriptions': '2023'})\n",
    "all_morph_pmean['2016'] = morph_2016_pmean\n",
    "all_morph_pmean['2009'] = morph_2009_pmean\n",
    "all_morph_pmean['2002'] = morph_2002_pmean\n",
    "all_morph_pmean['1995'] = morph_1995_pmean\n",
    "all_morph_pmean['1991'] = morph_1991_pmean\n",
    "\n",
    "all_morph_pmean = all_morph_pmean.rename(index={'XX': 'USA'})\n",
    "\n",
    "\n",
    "#All Fenta\n",
    "all_fenta_pmean = fenta_2023_pmean.to_frame().rename(columns={'Number of Prescriptions': '2023'})\n",
    "all_fenta_pmean['2016'] = fenta_2016_pmean\n",
    "all_fenta_pmean['2009'] = fenta_2009_pmean\n",
    "all_fenta_pmean['2002'] = fenta_2002_pmean\n",
    "all_fenta_pmean['1995'] = fenta_1995_pmean\n",
    "all_fenta_pmean['1991'] = fenta_1991_pmean\n",
    "\n",
    "all_fenta_pmean = all_fenta_pmean.rename(index={'XX': 'USA'})"
   ]
  },
  {
   "cell_type": "code",
   "execution_count": null,
   "id": "fab3bd1c",
   "metadata": {},
   "outputs": [],
   "source": [
    "#Pop\n",
    "cl_pop = pop.set_index('ST')\n",
    "cln_pop = cl_pop[['2023', '2016', '2009', '2002', '1995', '1991']]"
   ]
  },
  {
   "cell_type": "markdown",
   "id": "0f75bec6-5ba7-4797-be2d-e226469aff65",
   "metadata": {},
   "source": [
    "#### State Capita/Per 100,000 People"
   ]
  },
  {
   "cell_type": "code",
   "execution_count": null,
   "id": "fe8ccedd",
   "metadata": {},
   "outputs": [],
   "source": [
    "#Normalization\n",
    "oxy_norm = all_oxy_pmean/cln_pop*100000\n",
    "\n",
    "fenta_norm = all_fenta_pmean/cln_pop*100000\n",
    "\n",
    "morph_norm = all_morph_pmean/cln_pop*100000\n",
    "\n",
    "hydro_norm = all_hydro_pmean/cln_pop*100000"
   ]
  },
  {
   "cell_type": "markdown",
   "id": "0980a198-fa1e-45b9-8897-4c0f6ddaad73",
   "metadata": {},
   "source": [
    "### Heat Maps"
   ]
  },
  {
   "cell_type": "markdown",
   "id": "07a699f6-986b-4838-ac44-8bed1ff7d440",
   "metadata": {},
   "source": [
    "#### Oxycodone"
   ]
  },
  {
   "cell_type": "code",
   "execution_count": null,
   "id": "c66c814e",
   "metadata": {},
   "outputs": [],
   "source": [
    "oxy_norm = oxy_norm.fillna(0)\n",
    "\n",
    "oxy_norm_log = np.log10(oxy_norm + 1)\n",
    "\n",
    "mask = oxy_norm == 0\n",
    "\n",
    "# Set custom color palette\n",
    "cmap = sns.diverging_palette(220, 20, as_cmap=True)\n",
    "cmap.set_bad('grey', 1.0) \n",
    "\n",
    "plt.figure(figsize=(10, 15))\n",
    "sns.heatmap(oxy_norm_log, cmap=cmap, mask=mask, fmt=\".1f\", linewidths=.5, vmax=1)\n",
    "\n",
    "plt.title('State Level Trends in Oxycodone Prescriptions',fontsize=20, pad=25)\n",
    "plt.xlabel('Year',fontsize=16, labelpad=25)\n",
    "plt.ylabel('State',fontsize=16, labelpad=25)\n",
    "plt.yticks(rotation=0)\n",
    "plt.xticks(rotation=0)\n",
    "plt.show()"
   ]
  },
  {
   "cell_type": "markdown",
   "id": "fafa8f52-77d9-4544-a2fd-ef457764f99b",
   "metadata": {},
   "source": [
    "#### Hydrocodone"
   ]
  },
  {
   "cell_type": "code",
   "execution_count": null,
   "id": "672b184c",
   "metadata": {},
   "outputs": [],
   "source": [
    "hydro_norm = hydro_norm.fillna(0)\n",
    "\n",
    "hydro_norm_log = np.log10(hydro_norm + 1)\n",
    "\n",
    "mask = hydro_norm == 0\n",
    "\n",
    "# Set custom color palette\n",
    "cmap = sns.diverging_palette(220, 20, as_cmap=True)\n",
    "cmap.set_bad('grey', 1.0) \n",
    "\n",
    "plt.figure(figsize=(10, 15))\n",
    "sns.heatmap(hydro_norm_log, cmap=cmap, mask=mask, fmt=\".1f\", linewidths=.5, vmax=1)\n",
    "\n",
    "plt.title('State Level Trends in Hydrocodone Prescriptions',fontsize=20, pad=25)\n",
    "plt.xlabel('Year',fontsize=16, labelpad=25)\n",
    "plt.ylabel('State',fontsize=16, labelpad=25)\n",
    "plt.yticks(rotation=0)\n",
    "plt.xticks(rotation=0)\n",
    "plt.savefig('images/State Hydro Pres.png')\n",
    "plt.show()"
   ]
  },
  {
   "cell_type": "markdown",
   "id": "5141809b-bebd-47f6-be6d-7c0319875b62",
   "metadata": {},
   "source": [
    "#### Fentanyl"
   ]
  },
  {
   "cell_type": "code",
   "execution_count": null,
   "id": "5f80cce7",
   "metadata": {},
   "outputs": [],
   "source": [
    "fenta_norm = fenta_norm.fillna(0)\n",
    "\n",
    "fenta_norm_log = np.log10(fenta_norm + 1)\n",
    "\n",
    "mask = fenta_norm == 0\n",
    "\n",
    "# Set custom color palette\n",
    "cmap = sns.diverging_palette(220, 20, as_cmap=True)\n",
    "cmap.set_bad('grey', 1.0) \n",
    "\n",
    "plt.figure(figsize=(10, 15))\n",
    "sns.heatmap(fenta_norm_log, cmap=cmap, mask=mask, fmt=\".1f\", linewidths=.5, vmax=1)\n",
    "\n",
    "plt.title('State Level Trends in Fentanyl Prescriptions',fontsize=20, pad=25)\n",
    "plt.xlabel('Year',fontsize=16, labelpad=25)\n",
    "plt.ylabel('State',fontsize=16, labelpad=25)\n",
    "plt.yticks(rotation=0)\n",
    "plt.xticks(rotation=0)\n",
    "plt.show()"
   ]
  },
  {
   "cell_type": "markdown",
   "id": "85bbb80c-0eb8-48ba-9aea-877789abb2da",
   "metadata": {},
   "source": [
    "#### Morphine"
   ]
  },
  {
   "cell_type": "code",
   "execution_count": null,
   "id": "e3ceb136",
   "metadata": {},
   "outputs": [],
   "source": [
    "morph_norm = morph_norm.fillna(0)\n",
    "\n",
    "morph_norm_log = np.log10(morph_norm + 1)\n",
    "\n",
    "mask = morph_norm == 0\n",
    "\n",
    "# Set custom color palette\n",
    "cmap = sns.diverging_palette(220, 20, as_cmap=True)\n",
    "cmap.set_bad('grey', 1.0) \n",
    "\n",
    "plt.figure(figsize=(10, 15))\n",
    "sns.heatmap(morph_norm_log, cmap=cmap, mask=mask, fmt=\".1f\", linewidths=.5,vmin=0, vmax=1)\n",
    "\n",
    "plt.title('State Level Trends in Morphine Prescriptions',fontsize=20, pad=25)\n",
    "plt.xlabel('Year',fontsize=16, labelpad=25)\n",
    "plt.ylabel('State',fontsize=16, labelpad=25)\n",
    "plt.yticks(rotation=0)\n",
    "plt.xticks(rotation=0)\n",
    "plt.show()"
   ]
  },
  {
   "cell_type": "markdown",
   "id": "af584659-47db-43ff-a194-0b46af90da8d",
   "metadata": {},
   "source": [
    "### Line Plots"
   ]
  },
  {
   "cell_type": "markdown",
   "id": "338c3f5e-557f-414a-b80f-7ed2bdaf7231",
   "metadata": {},
   "source": [
    "#### Clean DataFrame and Series"
   ]
  },
  {
   "cell_type": "code",
   "execution_count": null,
   "id": "9ac4b39b",
   "metadata": {},
   "outputs": [],
   "source": [
    "cl_oxy_norm = oxy_norm.drop('USA', axis=0)\n",
    "cln_oxy_norm = cl_oxy_norm.sum()\n",
    "\n",
    "cl_hydro_norm = hydro_norm.drop('USA', axis=0)\n",
    "cln_hydro_norm = cl_hydro_norm.sum()\n",
    "\n",
    "cl_morph_norm = morph_norm.drop('USA', axis=0)\n",
    "cln_morph_norm = cl_morph_norm.sum()\n",
    "\n",
    "cl_fenta_norm = fenta_norm.drop('USA', axis=0)\n",
    "cln_fenta_norm = cl_fenta_norm.sum()"
   ]
  },
  {
   "cell_type": "code",
   "execution_count": null,
   "id": "634508ae",
   "metadata": {},
   "outputs": [],
   "source": [
    "USA_sum_norm = cln_oxy_norm.to_frame().rename(columns={0: 'Oxycodone'})\n",
    "USA_sum_norm['Hydrocodone'] = cln_hydro_norm\n",
    "USA_sum_norm['Morphine'] = cln_morph_norm\n",
    "USA_sum_norm['Fentanyl'] = cln_fenta_norm\n",
    "USA_sum_norm"
   ]
  },
  {
   "cell_type": "markdown",
   "id": "79d12a0f-02a5-4805-84bc-8f78fa107a7a",
   "metadata": {},
   "source": [
    "#### Regression Analysis"
   ]
  },
  {
   "cell_type": "code",
   "execution_count": null,
   "id": "30fd163a-ae2d-4b01-9048-ace50c203e3f",
   "metadata": {},
   "outputs": [],
   "source": [
    "years_numpy = pd.to_datetime(USA_sum_norm.index).year.astype(int)"
   ]
  },
  {
   "cell_type": "code",
   "execution_count": null,
   "id": "7bd7170f-0fcf-4970-b3b2-a713d9162175",
   "metadata": {},
   "outputs": [],
   "source": [
    "USA_sum_norm_numpy = USA_sum_norm.values"
   ]
  },
  {
   "cell_type": "code",
   "execution_count": null,
   "id": "fa9528dd-8bdf-497f-b8f0-e1f2dd3ae7bf",
   "metadata": {},
   "outputs": [],
   "source": [
    "##### Oxycodone\n",
    "\n",
    "x_axis = years_numpy\n",
    "oxy_axis = USA_sum_norm_numpy[:,0]\n",
    "\n",
    "\n",
    "(slope, intercept, rvalue, pvalue, stderr) = linregress(x_axis, oxy_axis)\n",
    "regress_values = x_axis * slope + intercept\n",
    "line_eq = \"y = \" + str(round(slope,2)) + \"x + \" + str(round(intercept,2))\n",
    "\n",
    "r_oxy = rvalue**2\n",
    "\n",
    "print(f\"R-squared value: {rvalue**2:.4f}\")\n"
   ]
  },
  {
   "cell_type": "code",
   "execution_count": null,
   "id": "4540be0b-138e-4283-871b-7620a2918a7b",
   "metadata": {},
   "outputs": [],
   "source": [
    "##### Hydrocodone\n",
    "\n",
    "x_axis = years_numpy\n",
    "hydro_axis = USA_sum_norm_numpy[:,1]\n",
    "\n",
    "\n",
    "(slope, intercept, rvalue, pvalue, stderr) = linregress(x_axis, hydro_axis)\n",
    "regress_values = x_axis * slope + intercept\n",
    "line_eq = \"y = \" + str(round(slope,2)) + \"x + \" + str(round(intercept,2))\n",
    "\n",
    "\n",
    "r_hydro = rvalue**2\n",
    "\n",
    "print(f\"R-squared value: {rvalue**2:.4f}\")"
   ]
  },
  {
   "cell_type": "code",
   "execution_count": null,
   "id": "495be796-69c6-47ef-96ee-a949d76428e6",
   "metadata": {},
   "outputs": [],
   "source": [
    "##### Morphine\n",
    "\n",
    "x_axis = years_numpy\n",
    "morph_axis = USA_sum_norm_numpy[:,2]\n",
    "\n",
    "\n",
    "(slope, intercept, rvalue, pvalue, stderr) = linregress(x_axis, morph_axis)\n",
    "regress_values = x_axis * slope + intercept\n",
    "line_eq = \"y = \" + str(round(slope,2)) + \"x + \" + str(round(intercept,2))\n",
    "\n",
    "\n",
    "r_morph = rvalue**2\n",
    "\n",
    "print(f\"R-squared value: {rvalue**2:.4f}\")"
   ]
  },
  {
   "cell_type": "code",
   "execution_count": null,
   "id": "24cf0354-1ed0-4f39-894a-1ff82df7bc7f",
   "metadata": {},
   "outputs": [],
   "source": [
    "##### Fentanyl\n",
    "\n",
    "x_axis = years_numpy\n",
    "fenta_axis = USA_sum_norm_numpy[:,3]\n",
    "\n",
    "\n",
    "(slope, intercept, rvalue, pvalue, stderr) = linregress(x_axis, fenta_axis)\n",
    "regress_values = x_axis * slope + intercept\n",
    "line_eq = \"y = \" + str(round(slope,2)) + \"x + \" + str(round(intercept,2))\n",
    "\n",
    "\n",
    "r_fenta = rvalue**2\n",
    "\n",
    "print(f\"R-squared value: {rvalue**2:.4f}\")"
   ]
  },
  {
   "cell_type": "markdown",
   "id": "fb576f4f-ef54-46bd-94ec-6230a95c9c76",
   "metadata": {},
   "source": [
    "#### Plot"
   ]
  },
  {
   "cell_type": "code",
   "execution_count": null,
   "id": "7eb07b53",
   "metadata": {},
   "outputs": [],
   "source": [
    "USA_sum_norm = cln_oxy_norm.to_frame().rename(columns={0: 'Oxycodone'})\n",
    "USA_sum_norm['Hydrocodone'] = cln_hydro_norm\n",
    "USA_sum_norm['Morphine'] = cln_morph_norm\n",
    "USA_sum_norm['Fentanyl'] = cln_fenta_norm\n",
    "\n",
    "\n",
    "USA_sum_norm = USA_sum_norm.sort_index()\n",
    "years = USA_sum_norm.index\n",
    "\n",
    "\n",
    "plt.figure(figsize=(6, 6))\n",
    "plt.plot(USA_sum_norm.index, USA_sum_norm['Oxycodone'], color='black', label='Oxycodone', linewidth=2.5, marker='o')\n",
    "plt.plot(USA_sum_norm.index, USA_sum_norm['Hydrocodone'], color='grey', label='Hydrocodone', linewidth=2.5, marker='o')\n",
    "plt.plot(USA_sum_norm.index, USA_sum_norm['Morphine'], color='pink', label='Morphine', linewidth=2.5, marker='o')\n",
    "plt.plot(USA_sum_norm.index, USA_sum_norm['Fentanyl'], color='brown', label='Fentanyl', linewidth=2.5, marker='o')\n",
    "plt.title('Country Level Trends in Morphine Prescriptions', fontsize=17, pad=35)\n",
    "plt.xlabel('Time \\n(Years)', fontsize=12, labelpad=20)\n",
    "plt.ylabel('Morphine Prescriptions per 100,000 people', fontsize=12, labelpad=15)\n",
    "plt.yscale('log')\n",
    "plt.legend(USA_sum_norm.columns) \n",
    "plt.grid(True, linestyle='--', alpha=0)\n",
    "plt.xticks(years, rotation=45, ha='right')\n",
    "plt.yticks([10**i for i in range(3,5)]) \n",
    "\n",
    "plt.text(0.95, 0.05, f'Oxycodone: R² = {r_oxy:.4f}\\nHydrocodonee: R² = {r_hydro:.4f}\\nMorphine: R² = {r_morph:.4f}\\nFentanyl: R² = {r_fenta:.4f}', transform=plt.gca().transAxes, fontsize=12, ha='right')\n",
    "plt.tight_layout()\n",
    "\n",
    "plt.savefig('Output/Country_Level_Trends_in_Morphine_Prescriptions.png')\n",
    "plt.show()"
   ]
  },
  {
   "cell_type": "markdown",
   "id": "0709ac5b-b107-42ce-9dba-ba93cc8a8683",
   "metadata": {},
   "source": [
    "## Medicaid Reimbursement by State and Year"
   ]
  },
  {
   "cell_type": "markdown",
   "id": "be50168e-ceed-4092-8b6f-d71ee13720da",
   "metadata": {},
   "source": [
    "### Average"
   ]
  },
  {
   "cell_type": "code",
   "execution_count": 112,
   "id": "33a0a5cc-e1fa-4b60-b211-6c22d47e3664",
   "metadata": {},
   "outputs": [],
   "source": [
    "# Total Amount Reimbursed Mean 2023\n",
    "oxy_2023_tmean = oxy_2023_df.groupby('State')['Total Amount Reimbursed'].mean()\n",
    "hydro_2023_tmean = hydro_2023_df.groupby('State')['Total Amount Reimbursed'].mean()\n",
    "morph_2023_tmean = morph_2023_df.groupby('State')['Total Amount Reimbursed'].mean()\n",
    "fenta_2023_tmean = fenta_2023_df.groupby('State')['Total Amount Reimbursed'].mean()\n",
    "\n",
    "# Medicaid Amount Reimbursed Mean 2023\n",
    "oxy_2023_mmean = oxy_2023_df.groupby('State')['Medicaid Amount Reimbursed'].mean()\n",
    "hydro_2023_mmean = hydro_2023_df.groupby('State')['Medicaid Amount Reimbursed'].mean()\n",
    "morph_2023_mmean = morph_2023_df.groupby('State')['Medicaid Amount Reimbursed'].mean()\n",
    "fenta_2023_mmean = fenta_2023_df.groupby('State')['Medicaid Amount Reimbursed'].mean()\n",
    "\n",
    "#--------------------------------------------------------------------------------------------\n",
    "\n",
    "# Total Amount Reimbursed Mean 2016\n",
    "oxy_2016_tmean = oxy_2016_df.groupby('State')['Total Amount Reimbursed'].mean()\n",
    "hydro_2016_tmean = hydro_2016_df.groupby('State')['Total Amount Reimbursed'].mean()\n",
    "morph_2016_tmean = morph_2016_df.groupby('State')['Total Amount Reimbursed'].mean()\n",
    "fenta_2016_tmean = fenta_2016_df.groupby('State')['Total Amount Reimbursed'].mean()\n",
    "\n",
    "# Medicaid Amount Reimbursed Mean 2016\n",
    "oxy_2016_mmean = oxy_2016_df.groupby('State')['Medicaid Amount Reimbursed'].mean()\n",
    "hydro_2016_mmean = hydro_2016_df.groupby('State')['Medicaid Amount Reimbursed'].mean()\n",
    "morph_2016_mmean = morph_2016_df.groupby('State')['Medicaid Amount Reimbursed'].mean()\n",
    "fenta_2016_mmean = fenta_2016_df.groupby('State')['Medicaid Amount Reimbursed'].mean()\n",
    "\n",
    "#--------------------------------------------------------------------------------------------\n",
    "\n",
    "# Total Amount Reimbursed Mean 2009\n",
    "oxy_2009_tmean = oxy_2009_df.groupby('State')['Total Amount Reimbursed'].mean()\n",
    "hydro_2009_tmean = hydro_2009_df.groupby('State')['Total Amount Reimbursed'].mean()\n",
    "morph_2009_tmean = morph_2009_df.groupby('State')['Total Amount Reimbursed'].mean()\n",
    "fenta_2009_tmean = fenta_2009_df.groupby('State')['Total Amount Reimbursed'].mean()\n",
    "\n",
    "# Medicaid Amount Reimbursed Mean 2009\n",
    "oxy_2009_mmean = oxy_2009_df.groupby('State')['Medicaid Amount Reimbursed'].mean()\n",
    "hydro_2009_mmean = hydro_2009_df.groupby('State')['Medicaid Amount Reimbursed'].mean()\n",
    "morph_2009_mmean = morph_2009_df.groupby('State')['Medicaid Amount Reimbursed'].mean()\n",
    "fenta_2009_mmean = fenta_2009_df.groupby('State')['Medicaid Amount Reimbursed'].mean()\n",
    "\n",
    "#--------------------------------------------------------------------------------------------\n",
    "\n",
    "# Total Amount Reimbursed Mean 2002\n",
    "oxy_2002_tmean = oxy_2002_df.groupby('State')['Total Amount Reimbursed'].mean()\n",
    "hydro_2002_tmean = hydro_2002_df.groupby('State')['Total Amount Reimbursed'].mean()\n",
    "morph_2002_tmean = morph_2002_df.groupby('State')['Total Amount Reimbursed'].mean()\n",
    "fenta_2002_tmean = fenta_2002_df.groupby('State')['Total Amount Reimbursed'].mean()\n",
    "\n",
    "# Medicaid Amount Reimbursed Mean 2002\n",
    "oxy_2002_mmean = oxy_2002_df.groupby('State')['Medicaid Amount Reimbursed'].mean()\n",
    "hydro_2002_mmean = hydro_2002_df.groupby('State')['Medicaid Amount Reimbursed'].mean()\n",
    "morph_2002_mmean = morph_2002_df.groupby('State')['Medicaid Amount Reimbursed'].mean()\n",
    "fenta_2002_mmean = fenta_2002_df.groupby('State')['Medicaid Amount Reimbursed'].mean()\n",
    "\n",
    "#--------------------------------------------------------------------------------------------\n",
    "\n",
    "# Total Amount Reimbursed Mean 1995\n",
    "oxy_1995_tmean = oxy_1995_df.groupby('State')['Total Amount Reimbursed'].mean()\n",
    "hydro_1995_tmean = hydro_1995_df.groupby('State')['Total Amount Reimbursed'].mean()\n",
    "morph_1995_tmean = morph_1995_df.groupby('State')['Total Amount Reimbursed'].mean()\n",
    "fenta_1995_tmean = fenta_1995_df.groupby('State')['Total Amount Reimbursed'].mean()\n",
    "\n",
    "# Medicaid Amount Reimbursed Mean 2002\n",
    "oxy_1995_mmean = oxy_1995_df.groupby('State')['Medicaid Amount Reimbursed'].mean()\n",
    "hydro_1995_mmean = hydro_1995_df.groupby('State')['Medicaid Amount Reimbursed'].mean()\n",
    "morph_1995_mmean = morph_1995_df.groupby('State')['Medicaid Amount Reimbursed'].mean()\n",
    "fenta_1995_mmean = fenta_1995_df.groupby('State')['Medicaid Amount Reimbursed'].mean()\n",
    "\n",
    "#--------------------------------------------------------------------------------------------\n",
    "\n",
    "# Total Amount Reimbursed Mean 1991\n",
    "oxy_1991_tmean = oxy_1991_df.groupby('State')['Total Amount Reimbursed'].mean()\n",
    "hydro_1991_tmean = hydro_1991_df.groupby('State')['Total Amount Reimbursed'].mean()\n",
    "morph_1991_tmean = morph_1991_df.groupby('State')['Total Amount Reimbursed'].mean()\n",
    "fenta_1991_tmean = fenta_1991_df.groupby('State')['Total Amount Reimbursed'].mean()\n",
    "\n",
    "# Medicaid Amount Reimbursed Mean 1991\n",
    "oxy_1991_mmean = oxy_1991_df.groupby('State')['Medicaid Amount Reimbursed'].mean()\n",
    "hydro_1991_mmean = hydro_1991_df.groupby('State')['Medicaid Amount Reimbursed'].mean()\n",
    "morph_1991_mmean = morph_1991_df.groupby('State')['Medicaid Amount Reimbursed'].mean()\n",
    "fenta_1991_mmean = fenta_1991_df.groupby('State')['Medicaid Amount Reimbursed'].mean()"
   ]
  },
  {
   "cell_type": "markdown",
   "id": "52dd6d6c-157e-4094-8532-28e37981f00b",
   "metadata": {},
   "source": [
    "## Normalize Per State Capita"
   ]
  },
  {
   "cell_type": "markdown",
   "id": "a35804a0-89a6-496c-b336-da93b3a2361f",
   "metadata": {},
   "source": [
    "### Clean DataFrames"
   ]
  },
  {
   "cell_type": "code",
   "execution_count": null,
   "id": "4f4f2a58-2115-4c0d-9f31-31ea6961039c",
   "metadata": {},
   "outputs": [],
   "source": [
    "#All# Total Amount Reimbursed Mean OXYCODONE\n",
    "all_oxy_tmean = oxy_2023_tmean.to_frame().rename(columns={'Total Amount Reimbursed': '2023'})\n",
    "all_oxy_tmean['2016'] = oxy_2016_tmean\n",
    "all_oxy_tmean['2009'] = oxy_2009_tmean\n",
    "all_oxy_tmean['2002'] = oxy_2002_tmean\n",
    "all_oxy_tmean['1995'] = oxy_1995_tmean\n",
    "all_oxy_tmean['1991'] = oxy_1991_tmean\n",
    "\n",
    "all_oxy_tmean = all_oxy_tmean.rename(index={'XX': 'USA'})\n",
    "\n",
    "#Medicaid Amount Reimbursed Mean OXYCODONE\n",
    "all_oxy_mmean = oxy_2023_mmean.to_frame().rename(columns={'Medicaid Amount Reimbursed': '2023'})\n",
    "all_oxy_mmean['2016'] = oxy_2016_mmean\n",
    "all_oxy_mmean['2009'] = oxy_2009_mmean\n",
    "all_oxy_mmean['2002'] = oxy_2002_mmean\n",
    "all_oxy_mmean['1995'] = oxy_1995_mmean\n",
    "all_oxy_mmean['1991'] = oxy_1991_mmean\n",
    "\n",
    "all_oxy_mmean = all_oxy_mmean.rename(index={'XX': 'USA'})\n",
    "#-----------------------------------------------------------------------------------\n",
    "\n",
    "#All# Total Amount Reimbursed Mean Hydrocodone\n",
    "all_hydro_tmean = hydro_2023_tmean.to_frame().rename(columns={'Total Amount Reimbursed': '2023'})\n",
    "all_hydro_tmean['2016'] = hydro_2016_tmean\n",
    "all_hydro_tmean['2009'] = hydro_2009_tmean\n",
    "all_hydro_tmean['2002'] = hydro_2002_tmean\n",
    "all_hydro_tmean['1995'] = hydro_1995_tmean\n",
    "all_hydro_tmean['1991'] = hydro_1991_tmean\n",
    "\n",
    "all_hydro_tmean = all_hydro_tmean.rename(index={'XX': 'USA'})\n",
    "\n",
    "#Medicaid Amount Reimbursed Mean Hydrocodone\n",
    "all_hydro_mmean = hydro_2023_mmean.to_frame().rename(columns={'Medicaid Amount Reimbursed': '2023'})\n",
    "all_hydro_mmean['2016'] = hydro_2016_mmean\n",
    "all_hydro_mmean['2009'] = hydro_2009_mmean\n",
    "all_hydro_mmean['2002'] = hydro_2002_mmean\n",
    "all_hydro_mmean['1995'] = hydro_1995_mmean\n",
    "all_hydro_mmean['1991'] = hydro_1991_mmean\n",
    "\n",
    "all_hydro_mmean = all_hydro_mmean.rename(index={'XX': 'USA'})\n",
    "\n",
    "#----------------------------------------------------------------------------------------------------\n",
    "#All# Total Amount Reimbursed Mean Morphine\n",
    "all_morph_tmean = morph_2023_tmean.to_frame().rename(columns={'Total Amount Reimbursed': '2023'})\n",
    "all_morph_tmean['2016'] = morph_2016_tmean\n",
    "all_morph_tmean['2009'] = morph_2009_tmean\n",
    "all_morph_tmean['2002'] = morph_2002_tmean\n",
    "all_morph_tmean['1995'] = morph_1995_tmean\n",
    "all_morph_tmean['1991'] = morph_1991_tmean\n",
    "\n",
    "all_morph_tmean = all_morph_tmean.rename(index={'XX': 'USA'})\n",
    "\n",
    "#Medicaid Amount Reimbursed Mean Morphine\n",
    "all_morph_mmean = morph_2023_mmean.to_frame().rename(columns={'Medicaid Amount Reimbursed': '2023'})\n",
    "all_morph_mmean['2016'] = morph_2016_mmean\n",
    "all_morph_mmean['2009'] = morph_2009_mmean\n",
    "all_morph_mmean['2002'] = morph_2002_mmean\n",
    "all_morph_mmean['1995'] = morph_1995_mmean\n",
    "all_morph_mmean['1991'] = morph_1991_mmean\n",
    "\n",
    "all_morph_mmean = all_morph_mmean.rename(index={'XX': 'USA'})\n",
    "\n",
    "#----------------------------------------------------------------------------------------------------\n",
    "#All# Total Amount Reimbursed Mean Fentanyl\n",
    "all_fenta_tmean = fenta_2023_tmean.to_frame().rename(columns={'Total Amount Reimbursed': '2023'})\n",
    "all_fenta_tmean['2016'] = fenta_2016_tmean\n",
    "all_fenta_tmean['2009'] = fenta_2009_tmean\n",
    "all_fenta_tmean['2002'] = fenta_2002_tmean\n",
    "all_fenta_tmean['1995'] = fenta_1995_tmean\n",
    "all_fenta_tmean['1991'] = fenta_1991_tmean\n",
    "\n",
    "all_fenta_tmean = all_fenta_tmean.rename(index={'XX': 'USA'})\n",
    "\n",
    "#Medicaid Amount Reimbursed Mean Fentanyl\n",
    "all_fenta_mmean = fenta_2023_mmean.to_frame().rename(columns={'Medicaid Amount Reimbursed': '2023'})\n",
    "all_fenta_mmean['2016'] = fenta_2016_mmean\n",
    "all_fenta_mmean['2009'] = fenta_2009_mmean\n",
    "all_fenta_mmean['2002'] = fenta_2002_mmean\n",
    "all_fenta_mmean['1995'] = fenta_1995_mmean\n",
    "all_fenta_mmean['1991'] = fenta_1991_mmean\n",
    "\n",
    "all_fenta_mmean = all_fenta_mmean.rename(index={'XX': 'USA'})"
   ]
  },
  {
   "cell_type": "markdown",
   "id": "741e5cf4-9c28-415b-ad7d-5eeb05c8b2fb",
   "metadata": {},
   "source": [
    "### State Capita/100,000 People"
   ]
  },
  {
   "cell_type": "code",
   "execution_count": null,
   "id": "327cfb47-47e0-4b90-9bb0-f21b4ea931df",
   "metadata": {},
   "outputs": [],
   "source": [
    "#Normalization\n",
    "oxy_mnorm = all_oxy_mmean/cln_pop*100000\n",
    "oxy_tnorm = all_oxy_tmean/cln_pop*100000\n",
    "\n",
    "fenta_mnorm = all_fenta_mmean/cln_pop*100000\n",
    "fenta_tnorm = all_fenta_tmean/cln_pop*100000\n",
    "\n",
    "hydro_mnorm = all_hydro_mmean/cln_pop*100000\n",
    "hydro_tnorm = all_hydro_tmean/cln_pop*100000\n",
    "\n",
    "morph_mnorm = all_morph_mmean/cln_pop*100000\n",
    "morph_tnorm = all_morph_tmean/cln_pop*100000"
   ]
  },
  {
   "cell_type": "markdown",
   "id": "3d4aeff2-7cc4-4c42-b60b-e1f6dce4ead3",
   "metadata": {},
   "source": [
    "## Line Plot"
   ]
  },
  {
   "cell_type": "markdown",
   "id": "9f26f254-63fd-408f-9505-abb072931be6",
   "metadata": {},
   "source": [
    "### Clean DataFrames"
   ]
  },
  {
   "cell_type": "code",
   "execution_count": null,
   "id": "991bbb22-cb51-4ca5-85d3-43c78700fdc5",
   "metadata": {},
   "outputs": [],
   "source": [
    "cl_oxy_mnorm = oxy_mnorm.drop('USA', axis=0)\n",
    "cln_oxy_mnorm = cl_oxy_mnorm.sum()\n",
    "\n",
    "cl_oxy_tnorm = oxy_tnorm.drop('USA', axis=0)\n",
    "cln_oxy_tnorm = cl_oxy_tnorm.sum()\n",
    "\n",
    "#---------------------------------------------------------------------------------\n",
    "cl_hydro_mnorm = hydro_mnorm.drop('USA', axis=0)\n",
    "cln_hydro_mnorm = cl_hydro_mnorm.sum()\n",
    "\n",
    "cl_hydro_tnorm = hydro_tnorm.drop('USA', axis=0)\n",
    "cln_hydro_tnorm = cl_hydro_tnorm.sum()\n",
    "#---------------------------------------------------------------------------------\n",
    "cl_morph_mnorm = morph_mnorm.drop('USA', axis=0)\n",
    "cln_morph_mnorm = cl_morph_mnorm.sum()\n",
    "\n",
    "cl_morph_tnorm = morph_tnorm.drop('USA', axis=0)\n",
    "cln_morph_tnorm = cl_morph_tnorm.sum()\n",
    "\n",
    "#---------------------------------------------------------------------------------\n",
    "cl_fenta_mnorm = fenta_mnorm.drop('USA', axis=0)\n",
    "cln_fenta_mnorm = cl_fenta_mnorm.sum()\n",
    "\n",
    "cl_fenta_tnorm = fenta_tnorm.drop('USA', axis=0)\n",
    "cln_fenta_tnorm = cl_fenta_tnorm.sum()"
   ]
  },
  {
   "cell_type": "code",
   "execution_count": null,
   "id": "72e45a2b-2df5-410e-b2eb-79ab80ab3101",
   "metadata": {},
   "outputs": [],
   "source": [
    "medicaid_tnorm = cln_oxy_tnorm.to_frame().rename(columns={0: 'Oxycodone'})\n",
    "medicaid_tnorm['Hydrocodone'] = cln_hydro_tnorm\n",
    "medicaid_tnorm['Morphine'] = cln_morph_tnorm\n",
    "medicaid_tnorm['Fentanyl'] = cln_fenta_tnorm\n",
    "\n",
    "\n",
    "medicaid_mnorm = cln_oxy_mnorm.to_frame().rename(columns={0: 'Oxycodone'})\n",
    "medicaid_mnorm['Hydrocodone'] = cln_hydro_mnorm\n",
    "medicaid_mnorm['Morphine'] = cln_morph_mnorm\n",
    "medicaid_mnorm['Fentanyl'] = cln_fenta_mnorm\n",
    "medicaid_mnorm"
   ]
  },
  {
   "cell_type": "code",
   "execution_count": null,
   "id": "940ad3af-c432-45d6-a5e7-c8c663013116",
   "metadata": {},
   "outputs": [],
   "source": [
    "years_tnumpy = pd.to_datetime(medicaid_tnorm.index).year.astype(int)\n",
    "years_tnumpy\n",
    "\n",
    "years_mnumpy = pd.to_datetime(medicaid_mnorm.index).year.astype(int)\n",
    "years_mnumpy"
   ]
  },
  {
   "cell_type": "code",
   "execution_count": null,
   "id": "2090c6dd-412d-4540-aac7-00067e06c551",
   "metadata": {},
   "outputs": [],
   "source": [
    "medicaid_tnorm_tnumpy = medicaid_tnorm.values\n",
    "medicaid_tnorm\n",
    "\n",
    "medicaid_mnorm_mnumpy = medicaid_mnorm.values\n",
    "medicaid_mnorm"
   ]
  },
  {
   "cell_type": "markdown",
   "id": "a81ea6bc-ea0f-4cb1-9a1a-cc352d8e627a",
   "metadata": {},
   "source": [
    "### Regression Analysis"
   ]
  },
  {
   "cell_type": "code",
   "execution_count": null,
   "id": "7f70d184-5b3e-406f-91cc-076b1063d184",
   "metadata": {},
   "outputs": [],
   "source": [
    "#### Oxycodone Total\n",
    "\n",
    "x_taxis = years_tnumpy\n",
    "oxy_taxis = medicaid_tnorm_tnumpy[:,0]\n",
    "\n",
    "\n",
    "(slope, intercept, rvalue, pvalue, stderr) = linregress(x_axis, oxy_taxis)\n",
    "regress_values = x_axis * slope + intercept\n",
    "line_eq = \"y = \" + str(round(slope,2)) + \"x + \" + str(round(intercept,2))\n",
    "\n",
    "r_oxym = rvalue**2\n",
    "\n",
    "print(f\"R-squared value: {rvalue**2:.4f}\")"
   ]
  },
  {
   "cell_type": "code",
   "execution_count": null,
   "id": "73950555-494d-45b9-90be-0631440d0111",
   "metadata": {},
   "outputs": [],
   "source": [
    "#### Oxycodone Medicaid\n",
    "\n",
    "x_maxis = years_mnumpy\n",
    "oxy_maxis = medicaid_mnorm_mnumpy[:,0]\n",
    "\n",
    "\n",
    "(slope, intercept, rvalue, pvalue, stderr) = linregress(x_axis, oxy_maxis)\n",
    "regress_values = x_axis * slope + intercept\n",
    "line_eq = \"y = \" + str(round(slope,2)) + \"x + \" + str(round(intercept,2))\n",
    "\n",
    "r_oxym = rvalue**2\n",
    "\n",
    "print(f\"R-squared value: {rvalue**2:.4f}\")"
   ]
  },
  {
   "cell_type": "code",
   "execution_count": null,
   "id": "3611c406-46bc-4f0e-8e92-65234299a15d",
   "metadata": {},
   "outputs": [],
   "source": [
    "#### Hydrocodone Total\n",
    "\n",
    "x_taxis = years_tnumpy\n",
    "hydro_taxis = medicaid_tnorm_tnumpy[:,1]\n",
    "\n",
    "\n",
    "(slope, intercept, rvalue, pvalue, stderr) = linregress(x_axis, hydro_taxis)\n",
    "regress_values = x_axis * slope + intercept\n",
    "line_eq = \"y = \" + str(round(slope,2)) + \"x + \" + str(round(intercept,2))\n",
    "\n",
    "r_hydrom = rvalue**2\n",
    "\n",
    "print(f\"R-squared value: {rvalue**2:.4f}\")"
   ]
  },
  {
   "cell_type": "code",
   "execution_count": null,
   "id": "16c52954-7c29-4120-a716-b925a8e2e0e4",
   "metadata": {},
   "outputs": [],
   "source": [
    "#### Hydrocodone Medicaid\n",
    "\n",
    "x_maxis = years_mnumpy\n",
    "hydro_maxis = medicaid_mnorm_mnumpy[:,1]\n",
    "\n",
    "\n",
    "(slope, intercept, rvalue, pvalue, stderr) = linregress(x_axis, hydro_maxis)\n",
    "regress_values = x_axis * slope + intercept\n",
    "line_eq = \"y = \" + str(round(slope,2)) + \"x + \" + str(round(intercept,2))\n",
    "\n",
    "r_hydrom = rvalue**2\n",
    "\n",
    "print(f\"R-squared value: {rvalue**2:.4f}\")"
   ]
  },
  {
   "cell_type": "code",
   "execution_count": null,
   "id": "e013c1c8-7132-4570-aa66-b37d29507fda",
   "metadata": {},
   "outputs": [],
   "source": [
    "#### Morphine Total\n",
    "\n",
    "x_taxis = years_tnumpy\n",
    "morph_taxis = medicaid_tnorm_tnumpy[:,2]\n",
    "\n",
    "\n",
    "(slope, intercept, rvalue, pvalue, stderr) = linregress(x_axis, morph_taxis)\n",
    "regress_values = x_axis * slope + intercept\n",
    "line_eq = \"y = \" + str(round(slope,2)) + \"x + \" + str(round(intercept,2))\n",
    "\n",
    "r_morphm = rvalue**2\n",
    "\n",
    "print(f\"R-squared value: {rvalue**2:.4f}\")"
   ]
  },
  {
   "cell_type": "code",
   "execution_count": null,
   "id": "91c600a2-939b-4d40-905d-2b2b51d4dad2",
   "metadata": {},
   "outputs": [],
   "source": [
    "#### Morphine Medicaid\n",
    "\n",
    "x_maxis = years_mnumpy\n",
    "morph_maxis = medicaid_mnorm_mnumpy[:,2]\n",
    "\n",
    "\n",
    "(slope, intercept, rvalue, pvalue, stderr) = linregress(x_axis, morph_maxis)\n",
    "regress_values = x_axis * slope + intercept\n",
    "line_eq = \"y = \" + str(round(slope,2)) + \"x + \" + str(round(intercept,2))\n",
    "\n",
    "r_morphm = rvalue**2\n",
    "\n",
    "print(f\"R-squared value: {rvalue**2:.4f}\")"
   ]
  },
  {
   "cell_type": "code",
   "execution_count": null,
   "id": "85993db2-f843-4143-bd1b-9543b780a767",
   "metadata": {},
   "outputs": [],
   "source": [
    "#### Fentanyl Total\n",
    "\n",
    "x_taxis = years_tnumpy\n",
    "fenta_taxis = medicaid_tnorm_tnumpy[:,3]\n",
    "\n",
    "\n",
    "(slope, intercept, rvalue, pvalue, stderr) = linregress(x_axis, fenta_taxis)\n",
    "regress_values = x_axis * slope + intercept\n",
    "line_eq = \"y = \" + str(round(slope,2)) + \"x + \" + str(round(intercept,2))\n",
    "\n",
    "r_fentam = rvalue**2\n",
    "\n",
    "print(f\"R-squared value: {rvalue**2:.4f}\")"
   ]
  },
  {
   "cell_type": "code",
   "execution_count": null,
   "id": "e2a5f4fa-6ef5-42d0-ba8c-55988b515e2e",
   "metadata": {},
   "outputs": [],
   "source": [
    "#### Fentanyl Medicaid"
   ]
  },
  {
   "cell_type": "code",
   "execution_count": null,
   "id": "2fddae4e-ad56-4906-abff-8f5e923ee4ae",
   "metadata": {},
   "outputs": [],
   "source": [
    "x_maxis = years_mnumpy\n",
    "fenta_maxis = medicaid_mnorm_mnumpy[:,3]\n",
    "\n",
    "\n",
    "(slope, intercept, rvalue, pvalue, stderr) = linregress(x_axis, fenta_maxis)\n",
    "regress_values = x_axis * slope + intercept\n",
    "line_eq = \"y = \" + str(round(slope,2)) + \"x + \" + str(round(intercept,2))\n",
    "\n",
    "r_fentam = rvalue**2\n",
    "\n",
    "print(f\"R-squared value: {rvalue**2:.4f}\")"
   ]
  },
  {
   "cell_type": "markdown",
   "id": "9f195ea1-489b-4cc9-921e-76d80d1b41ed",
   "metadata": {},
   "source": [
    "### Plot (Medicaid)"
   ]
  },
  {
   "cell_type": "code",
   "execution_count": null,
   "id": "e8449fe6-824d-4274-a3aa-d478b311014e",
   "metadata": {},
   "outputs": [],
   "source": [
    "# Sort the DataFrame by index (years)\n",
    "medicaid_mnorm = medicaid_mnorm.sort_index()\n",
    "\n",
    "medicaid_mnorm = medicaid_mnorm[medicaid_mnorm > 0]\n",
    "# Plotting\n",
    "plt.figure(figsize=(10, 6))\n",
    "\n",
    "\n",
    "plt.plot(medicaid_mnorm.index, medicaid_mnorm['Oxycodone'], color='black', label='Oxycodone', linewidth=2.5, marker='o')\n",
    "plt.plot(medicaid_mnorm.index, medicaid_mnorm['Hydrocodone'], color='grey', label='Hydrocodone', linewidth=2.5, marker='o')\n",
    "plt.plot(medicaid_mnorm.index, medicaid_mnorm['Morphine'], color='pink', label='Morphine', linewidth=2.5, marker='o')\n",
    "plt.plot(medicaid_mnorm.index, medicaid_mnorm['Fentanyl'], color='brown', label='Fentanyl', linewidth=2.5, marker='o')\n",
    "\n",
    "\n",
    "# Add title and labels\n",
    "plt.title('Medicaid Reimbursement Trends for Opioids in the U.S. ',fontsize=20, pad=30)\n",
    "plt.xlabel('Time \\n(Years)', fontsize=13, labelpad=20)\n",
    "plt.ylabel('Medicaid Reimbursement per 100,000 people', fontsize=13, labelpad=20)\n",
    "\n",
    "# Set logarithmic scale for y-axis\n",
    "plt.yscale('log')\n",
    "# Add legend\n",
    "plt.legend()\n",
    "\n",
    "# Grid settings\n",
    "plt.grid(True, linestyle='--', alpha=0.7)\n",
    "\n",
    "# Adjust tick labels and rotation for better readability\n",
    "plt.xticks(rotation=45, ha='right')  # Using default ticks based on medicaid_norm.index\n",
    "\n",
    "# Set y-ticks for logarithmic scale\n",
    " # Adjust y-ticks as needed\n",
    "\n",
    "plt.yticks([10**i for i in range(1,6)]) \n",
    "\n",
    "\n",
    "plt.text(0.95, 0.05, f'Oxycodone: R² = {r_oxym:.4f}\\nHydrocodone: R² = {r_hydrom:.4f}\\nMorphine: R² = {r_morphm:.4f}\\nFentanyl: R² = {r_fentam:.4f}', transform=plt.gca().transAxes, fontsize=12, ha='right')\n",
    "\n",
    "# Ensure the plot layout is tight\n",
    "plt.tight_layout()\n",
    "plt.grid(True, linestyle='--', alpha=0)\n",
    "\n",
    "\n",
    "plt.savefig('Output/Medicaid Reimbursement Trends for Opioids in the U.S..png')\n",
    "# Show the plot\n",
    "plt.show()\n"
   ]
  },
  {
   "cell_type": "markdown",
   "id": "8b7b8a50-199f-4482-8837-0658c6152211",
   "metadata": {},
   "source": [
    "### Plot (Total)"
   ]
  },
  {
   "cell_type": "code",
   "execution_count": null,
   "id": "9e4d2551-a3ef-4436-a0ce-f1384660b2b8",
   "metadata": {},
   "outputs": [],
   "source": [
    "medicaid_tnorm = medicaid_tnorm.sort_index()\n",
    "\n",
    "# Plotting\n",
    "plt.figure(figsize=(10, 6))\n",
    "\n",
    "# Plot each opioid type with specified colors and markers\n",
    "plt.plot(medicaid_tnorm.index, medicaid_tnorm['Oxycodone'], color='black', label='Oxycodone', linewidth=2.5, marker='o')\n",
    "plt.plot(medicaid_tnorm.index, medicaid_tnorm['Hydrocodone'], color='grey', label='Hydrocodone', linewidth=2.5, marker='o')\n",
    "plt.plot(medicaid_tnorm.index, medicaid_tnorm['Morphine'], color='pink', label='Morphine', linewidth=2.5, marker='o')\n",
    "plt.plot(medicaid_tnorm.index, medicaid_tnorm['Fentanyl'], color='brown', label='Fentanyl', linewidth=2.5, marker='o')\n",
    "\n",
    "# Add title and labels\n",
    "plt.title('Total Reimbursement Trends for Opioids in the U.S.',fontsize=20, pad=30)\n",
    "plt.xlabel('Time \\n(Years)', fontsize=13, labelpad=20)\n",
    "plt.ylabel('Total Reimbursement per 100,000 people', fontsize=13, labelpad=20)\n",
    "\n",
    "# Set logarithmic scale for y-axis\n",
    "plt.yscale('log')\n",
    "# Add legend\n",
    "plt.legend()\n",
    "\n",
    "# Grid settings\n",
    "plt.grid(True, linestyle='--', alpha=0.7)\n",
    "\n",
    "# Adjust tick labels and rotation for better readability\n",
    "plt.xticks(rotation=45, ha='right')  # Using default ticks based on medicaid_norm.index\n",
    "\n",
    "# Set y-ticks for logarithmic scale\n",
    " # Adjust y-ticks as needed\n",
    "\n",
    "plt.yticks([10**i for i in range(1,6)]) \n",
    "# Ensure the plot layout is tight\n",
    "\n",
    "plt.text(0.95, 0.05, f'Oxycodone: R² = {r_oxyt:.4f}\\nHydrocodone: R² = {r_hydrot:.4f}\\nMorphine: R² = {r_morpht:.4f}\\nFentanyl: R² = {r_fentat:.4f}', transform=plt.gca().transAxes, fontsize=12, ha='right')\n",
    "\n",
    "plt.tight_layout()\n",
    "plt.grid(True, linestyle='--', alpha=0)\n",
    "\n",
    "plt.savefig('Output/Total Reimbursement Trends for Opioids in the U.S..png')\n",
    "# Show the plot\n",
    "plt.show()"
   ]
  },
  {
   "cell_type": "code",
   "execution_count": null,
   "id": "132755c7-cc6a-4277-a946-407c4fb1a953",
   "metadata": {},
   "outputs": [],
   "source": []
  },
  {
   "cell_type": "markdown",
   "id": "e3e52b38-fce9-4a2e-b6a7-a91b90e3fef5",
   "metadata": {},
   "source": [
    "# Does poverty influence opioid mortality rates? (JC)"
   ]
  },
  {
   "cell_type": "code",
   "execution_count": null,
   "id": "220606a6-d7b6-40f0-ab99-f642ac88748d",
   "metadata": {},
   "outputs": [],
   "source": [
    "# create state abbreviations for heat map\n",
    "state_abbreviations = {\n",
    "    'Alabama': 'AL',\n",
    "    'Alaska': 'AK',\n",
    "    'Arizona': 'AZ',\n",
    "    'Arkansas': 'AR',\n",
    "    'California': 'CA',\n",
    "    'Colorado': 'CO',\n",
    "    'Connecticut': 'CT',\n",
    "    'Delaware': 'DE',\n",
    "    'District of Columbia' : 'DC',\n",
    "    'Florida': 'FL',\n",
    "    'Georgia': 'GA',\n",
    "    'Hawaii': 'HI',\n",
    "    'Idaho': 'ID',\n",
    "    'Illinois': 'IL',\n",
    "    'Indiana': 'IN',\n",
    "    'Iowa': 'IA',\n",
    "    'Kansas': 'KS',\n",
    "    'Kentucky': 'KY',\n",
    "    'Louisiana': 'LA',\n",
    "    'Maine': 'ME',\n",
    "    'Maryland': 'MD',\n",
    "    'Massachusetts': 'MA',\n",
    "    'Michigan': 'MI',\n",
    "    'Minnesota': 'MN',\n",
    "    'Mississippi': 'MS',\n",
    "    'Missouri': 'MO',\n",
    "    'Montana': 'MT',\n",
    "    'Nebraska': 'NE',\n",
    "    'Nevada': 'NV',\n",
    "    'New Hampshire': 'NH',\n",
    "    'New Jersey': 'NJ',\n",
    "    'New Mexico': 'NM',\n",
    "    'New York': 'NY',\n",
    "    'North Carolina': 'NC',\n",
    "    'North Dakota': 'ND',\n",
    "    'Ohio': 'OH',\n",
    "    'Oklahoma': 'OK',\n",
    "    'Oregon': 'OR',\n",
    "    'Pennsylvania': 'PA',\n",
    "    'Rhode Island': 'RI',\n",
    "    'South Carolina': 'SC',\n",
    "    'South Dakota': 'SD',\n",
    "    'Tennessee': 'TN',\n",
    "    'Texas': 'TX',\n",
    "    'Utah': 'UT',\n",
    "    'Vermont': 'VT',\n",
    "    'Virginia': 'VA',\n",
    "    'Washington': 'WA',\n",
    "    'West Virginia': 'WV',\n",
    "    'Wisconsin': 'WI',\n",
    "    'Wyoming': 'WY'\n",
    "}"
   ]
  },
  {
   "cell_type": "code",
   "execution_count": null,
   "id": "61097cbe-4cb8-4017-8dcc-a1b5fa3489d4",
   "metadata": {},
   "outputs": [],
   "source": [
    "# Add abbreviation column to DataFrame\n",
    "df['Abbreviation'] = df['state_National'].map(state_abbreviations)"
   ]
  },
  {
   "cell_type": "markdown",
   "id": "86f8a455-81ea-4a6a-8c15-3135e27b4b86",
   "metadata": {},
   "source": [
    "## Choropleth Map"
   ]
  },
  {
   "cell_type": "code",
   "execution_count": null,
   "id": "120256fb-2c16-4f46-ab99-81aa71286737",
   "metadata": {},
   "outputs": [],
   "source": [
    "# Create the choropleth map\n",
    "fig = px.choropleth(df,\n",
    "                    locations='Abbreviation',\n",
    "                    locationmode=\"USA-states\",\n",
    "                    color='total_est_pct2',\n",
    "                    scope=\"usa\",\n",
    "                    color_continuous_scale=\"YlOrRd\",  # or any other color scale\n",
    "                    title=\" % of Sates Population in Poverty\")\n",
    "\n",
    "# Show the figure\n",
    "fig.show()"
   ]
  },
  {
   "cell_type": "markdown",
   "id": "2f331ef1-8770-4de9-9ffe-4b584dfdfb3e",
   "metadata": {},
   "source": [
    "## Plot: Top 10 States with the Highest Percent of People Living in Poverty"
   ]
  },
  {
   "cell_type": "code",
   "execution_count": null,
   "id": "39e8e53f-5dc8-46c3-a4e8-4b623f502e1e",
   "metadata": {},
   "outputs": [],
   "source": [
    "# Create a DataFrame from the provided data to display the top 10 states with highest poverty percentage\n",
    "data = {\n",
    "    'state_National': ['Alabama', 'Alaska', 'Arizona', 'Arkansas', 'California', 'Colorado', 'Connecticut', 'Delaware', \n",
    "                       'District of Columbia', 'Florida', 'Georgia', 'Hawaii', 'Idaho', 'Illinois', 'Indiana', 'Iowa', \n",
    "                       'Kansas', 'Kentucky', 'Louisiana', 'Maine', 'Maryland', 'Massachusetts', 'Michigan', 'Minnesota', \n",
    "                       'Mississippi', 'Missouri', 'Montana', 'National', 'Nebraska', 'Nevada', 'New Hampshire', \n",
    "                       'New Jersey', 'New Mexico', 'New York', 'North Carolina', 'North Dakota', 'Ohio', 'Oklahoma', \n",
    "                       'Oregon', 'Pennsylvania', 'Rhode Island', 'South Carolina', 'South Dakota', 'Tennessee', 'Texas', \n",
    "                       'Utah', 'Vermont', 'Virginia', 'Washington', 'West Virginia', 'Wisconsin'],\n",
    "    'total_est_pct2': [16.3, 10.8, 12.9, 16.0, 12.3, 9.7, 10.1, 11.5, 16.8, 13.2, 14.2, 10.9, 10.8, 12.1, 12.1, 11.0, \n",
    "                       11.6, 16.3, 19.5, 11.2, 10.3, 10.4, 13.0, 9.3, 19.2, 12.8, 12.0, 12.8, 10.5, 14.0, 7.4, 10.2, 17.7, \n",
    "                       14.0, 13.5, 10.9, 13.3, 15.4, 12.2, 12.0, 12.1, 14.5, 11.9, 13.7, 14.2, 8.7, 10.2, 10.3, 9.9, 16.8, \n",
    "                       10.8],\n",
    "    'Abbreviation': ['AL', 'AK', 'AZ', 'AR', 'CA', 'CO', 'CT', 'DE', 'DC', 'FL', 'GA', 'HI', 'ID', 'IL', 'IN', 'IA', \n",
    "                     'KS', 'KY', 'LA', 'ME', 'MD', 'MA', 'MI', 'MN', 'MS', 'MO', 'MT', 'NE', 'NV', 'NH', 'NJ', 'NM', \n",
    "                     'NY', 'NC', 'ND', 'OH', 'OK', 'OR', 'PA', 'RI', 'SC', 'SD', 'TN', 'TX', 'UT', 'VT', 'VA', 'WA', \n",
    "                     'WV', 'WI', 'WY']\n",
    "}\n",
    "\n",
    "df4 = pd.DataFrame(data)\n",
    "\n",
    "# Sort the DataFrame based on the total_est_pct2 column in descending order and select the top 5 states\n",
    "top_5_states = df4.sort_values(by='total_est_pct2', ascending=False).head(10)\n",
    "\n",
    "# Plot the bar chart\n",
    "plt.figure(figsize=(10, 6))\n",
    "plt.bar(top_5_states['Abbreviation'], top_5_states['total_est_pct2'], color='orange')\n",
    "plt.xlabel('State')\n",
    "plt.ylabel('Percent of People in Poverty')\n",
    "plt.title('Top 10 States with the Highest Percent of People Living in Poverty')\n",
    "plt.savefig('images/poverty_graph.png')\n",
    "plt.show();"
   ]
  },
  {
   "cell_type": "code",
   "execution_count": null,
   "id": "9b195fe5-f1cb-43ae-a357-113a256d1898",
   "metadata": {},
   "outputs": [],
   "source": [
    "#create df for states population\n",
    "pop_by_state_df2 = pd.DataFrame(pop_by_state_df[[\"ST\",\"2014\"]])  ##Need to copy to main notebook\n",
    "pop_by_state_df2[\"2014\"] = pop_by_state_df2[\"2014\"] / 100000     ##Need to copy to main notebook\n",
    "pop_by_state_df2[\"2014\"] = pop_by_state_df2[\"2014\"].round(2)     ##Need to copy to main notebook\n",
    "pop_by_state_df2 = pop_by_state_df2.rename(columns={\"ST\":\"Abbreviation\",  ##Need to copy to main notebook\n",
    "                                                    \"2014\":\"Population\"}) ##Need to copy to main notebook\n",
    "pop_by_state_df2.head()"
   ]
  },
  {
   "cell_type": "code",
   "execution_count": null,
   "id": "f3f69e85-6f10-4c44-a849-d627d5268fca",
   "metadata": {},
   "outputs": [],
   "source": [
    "# add abbreviation column for heat map of united states\n",
    "df2['Abbreviation'] = df2['State'].map(state_abbreviations)"
   ]
  },
  {
   "cell_type": "code",
   "execution_count": null,
   "id": "0a7937ec-1b37-47c8-85ef-59f5e496da8b",
   "metadata": {},
   "outputs": [],
   "source": [
    "# add abbreviation column and read into only neccessary columns and rows\n",
    "df3 = df2.loc[(df2[\"Year\"] == 2014), [\"State\", \"Deaths\", \"Abbreviation\"]]\n",
    "df3 = pd.merge(df3, pop_by_state_df2, how=\"inner\", on=\"Abbreviation\")\n",
    "df3 = df3[[\"State\", \"Abbreviation\", \"Deaths\", \"Population\"]]\n",
    "df3[\"Deaths\"] = df3[\"Deaths\"].astype(int)\n",
    "df3[\"Deaths per 100k\"] = df3[\"Deaths\"].div(df3[\"Population\"].values,axis=0)\n",
    "df3[\"Deaths per 100k\"] = df3[\"Deaths per 100k\"].round(3)\n",
    "df3.head()"
   ]
  },
  {
   "cell_type": "markdown",
   "id": "ace64c69-ea44-4662-823e-6689cc98cbbf",
   "metadata": {},
   "source": [
    "## Plot: Top 10 States with the Highest Number of Opioid Related Deaths"
   ]
  },
  {
   "cell_type": "code",
   "execution_count": null,
   "id": "ed36b65c-d0a5-4c6b-b9dd-9d6ef207db80",
   "metadata": {},
   "outputs": [],
   "source": [
    "data = {\n",
    "    'State': ['Alabama', 'Alaska', 'Arizona', 'Arkansas', 'California', 'Colorado', 'Connecticut', 'Delaware', \n",
    "              'District of Columbia', 'Florida', 'Georgia', 'Hawaii', 'Idaho', 'Illinois', 'Indiana', 'Iowa', \n",
    "              'Kansas', 'Kentucky', 'Louisiana', 'Maine', 'Maryland', 'Massachusetts', 'Michigan', 'Minnesota', \n",
    "              'Mississippi', 'Missouri', 'Montana', 'Nebraska', 'Nevada', 'New Hampshire', 'New Jersey', \n",
    "              'New Mexico', 'New York', 'North Carolina', 'North Dakota', 'Ohio', 'Oklahoma', 'Oregon', \n",
    "              'Pennsylvania', 'Rhode Island', 'South Carolina', 'South Dakota', 'Tennessee', 'Texas', 'Utah', \n",
    "              'Vermont', 'Virginia', 'Washington', 'West Virginia', 'Wisconsin', 'Wyoming'],\n",
    "    'Year': [2014] * 51,\n",
    "    'Deaths': df3[\"Deaths per 100k\"],\n",
    "    'Abbreviation': ['AL', 'AK', 'AZ', 'AR', 'CA', 'CO', 'CT', 'DE', 'DC', 'FL', 'GA', 'HI', 'ID', 'IL', 'IN', 'IA', \n",
    "                     'KS', 'KY', 'LA', 'ME', 'MD', 'MA', 'MI', 'MN', 'MS', 'MO', 'MT', 'NE', 'NV', 'NH', 'NJ', 'NM', \n",
    "                     'NY', 'NC', 'ND', 'OH', 'OK', 'OR', 'PA', 'RI', 'SC', 'SD', 'TN', 'TX', 'UT', 'VT', 'VA', 'WA', \n",
    "                     'WV', 'WI', 'WY']\n",
    "}\n",
    "\n",
    "df = pd.DataFrame(data)\n",
    "\n",
    "# Sort the DataFrame based on the Deaths column in descending order and select the top 5 states\n",
    "top_5_states = df.sort_values(by='Deaths', ascending=False).head(10)\n",
    "\n",
    "# Plot the bar chart\n",
    "plt.figure(figsize=(10, 6))\n",
    "plt.bar(top_5_states['Abbreviation'], top_5_states['Deaths'], color='blue')\n",
    "plt.xlabel('State')\n",
    "plt.ylabel('Number of Deaths per 100k')\n",
    "plt.title('Top 10 States with the Highest Number of Opioid Related Deaths')\n",
    "plt.savefig('images/opiod_deathsV2.png')\n",
    "plt.show();"
   ]
  },
  {
   "cell_type": "markdown",
   "id": "863c6a79-93cd-4e7a-9dc0-cf31103771c1",
   "metadata": {},
   "source": [
    "## Plot: States Population Poverty % Vs. Opioid-Related Deaths per 100k by State"
   ]
  },
  {
   "cell_type": "code",
   "execution_count": null,
   "id": "bac19827-073b-4221-a37d-afe8db71cdc4",
   "metadata": {},
   "outputs": [],
   "source": [
    "# Data for the first bar graph\n",
    "data_poverty = {\n",
    "    'state_National': ['Alabama', 'Alaska', 'Arizona', 'Arkansas', 'California', 'Colorado', 'Connecticut', 'Delaware',\n",
    "                       'District of Columbia', 'Florida', 'Georgia', 'Hawaii', 'Idaho', 'Illinois', 'Indiana', 'Iowa',\n",
    "                       'Kansas', 'Kentucky', 'Louisiana', 'Maine', 'Maryland', 'Massachusetts', 'Michigan', 'Minnesota',\n",
    "                       'Mississippi', 'Missouri', 'Montana', 'National', 'Nebraska', 'Nevada', 'New Hampshire',\n",
    "                       'New Jersey', 'New Mexico', 'New York', 'North Carolina', 'North Dakota', 'Ohio', 'Oklahoma',\n",
    "                       'Oregon', 'Pennsylvania', 'Rhode Island', 'South Carolina', 'South Dakota', 'Tennessee', 'Texas',\n",
    "                       'Utah', 'Vermont', 'Virginia', 'Washington', 'West Virginia', 'Wisconsin'],\n",
    "    'total_est_pct2': [16.3, 10.8, 12.9, 16.0, 12.3, 9.7, 10.1, 11.5, 16.8, 13.2, 14.2, 10.9, 10.8, 12.1, 12.1, 11.0,\n",
    "                       11.6, 16.3, 19.5, 11.2, 10.3, 10.4, 13.0, 9.3, 19.2, 12.8, 12.0, 12.8, 10.5, 14.0, 7.4, 10.2, 17.7,\n",
    "                       14.0, 13.5, 10.9, 13.3, 15.4, 12.2, 12.0, 12.1, 14.5, 11.9, 13.7, 14.2, 8.7, 10.2, 10.3, 9.9, 16.8,\n",
    "                       10.8],\n",
    "    'Abbreviation': ['AL', 'AK', 'AZ', 'AR', 'CA', 'CO', 'CT', 'DE', 'DC', 'FL', 'GA', 'HI', 'ID', 'IL', 'IN', 'IA',\n",
    "                     'KS', 'KY', 'LA', 'ME', 'MD', 'MA', 'MI', 'MN', 'MS', 'MO', 'MT', 'NE', 'NV', 'NH', 'NJ', 'NM',\n",
    "                     'NY', 'NC', 'ND', 'OH', 'OK', 'OR', 'PA', 'RI', 'SC', 'SD', 'TN', 'TX', 'UT', 'VT', 'VA', 'WA',\n",
    "                     'WV', 'WI', 'WY']\n",
    "}\n",
    "# Data for the second bar graph\n",
    "data_deaths = {\n",
    "    'State': ['Alabama', 'Alaska', 'Arizona', 'Arkansas', 'California', 'Colorado', 'Connecticut', 'Delaware',\n",
    "              'District of Columbia', 'Florida', 'Georgia', 'Hawaii', 'Idaho', 'Illinois', 'Indiana', 'Iowa',\n",
    "              'Kansas', 'Kentucky', 'Louisiana', 'Maine', 'Maryland', 'Massachusetts', 'Michigan', 'Minnesota',\n",
    "              'Mississippi', 'Missouri', 'Montana', 'Nebraska', 'Nevada', 'New Hampshire', 'New Jersey',\n",
    "              'New Mexico', 'New York', 'North Carolina', 'North Dakota', 'Ohio', 'Oklahoma', 'Oregon',\n",
    "              'Pennsylvania', 'Rhode Island', 'South Carolina', 'South Dakota', 'Tennessee', 'Texas', 'Utah',\n",
    "              'Vermont', 'Virginia', 'Washington', 'West Virginia', 'Wisconsin', 'Wyoming'],\n",
    "    'Year': [2014] * 51,\n",
    "    'Deaths': df3[\"Deaths per 100k\"],\n",
    "    'Abbreviation': ['AL', 'AK', 'AZ', 'AR', 'CA', 'CO', 'CT', 'DE', 'DC', 'FL', 'GA', 'HI', 'ID', 'IL', 'IN', 'IA',\n",
    "                     'KS', 'KY', 'LA', 'ME', 'MD', 'MA', 'MI', 'MN', 'MS', 'MO', 'MT', 'NE', 'NV', 'NH', 'NJ', 'NM',\n",
    "                     'NY', 'NC', 'ND', 'OH', 'OK', 'OR', 'PA', 'RI', 'SC', 'SD', 'TN', 'TX', 'UT', 'VT', 'VA', 'WA',\n",
    "                     'WV', 'WI', 'WY']\n",
    "}\n",
    "df_poverty = pd.DataFrame(data_poverty)\n",
    "df_deaths = pd.DataFrame(data_deaths)\n",
    "# Merge the two DataFrames on the Abbreviation column\n",
    "merged_df = pd.merge(df_poverty, df_deaths[['Abbreviation', 'Deaths']], on='Abbreviation')\n",
    "merged_df = merged_df.sort_values(\"total_est_pct2\", ascending=False)\n",
    "\n",
    "# Plot the combined bar chart\n",
    "fig, ax1 = plt.subplots(figsize=(20, 10))\n",
    "# Plot the percent of people in poverty\n",
    "ax1.bar(merged_df['Abbreviation'], merged_df['total_est_pct2'], color='orange', width=0.4, align='center', label='Percent of People in Poverty')\n",
    "ax1.set_xlabel('State')\n",
    "ax1.set_ylabel('Percent of People in Poverty', color='Black')\n",
    "ax1.tick_params(axis='y', labelcolor='Black')\n",
    "ax1.set_title('States Population Poverty % Vs. Opioid-Related Deaths per 100k by State')\n",
    "# Create another y-axis to plot the number of deaths\n",
    "ax2 = ax1.twinx()\n",
    "ax2.bar(merged_df['Abbreviation'], merged_df['Deaths'], color='blue', width=0.2, align='edge', label='Number of Deaths')\n",
    "ax2.set_ylabel('Number of Deaths', color='black')\n",
    "ax2.tick_params(axis='y', labelcolor='Black')\n",
    "# Rotate x-axis labels for better readability\n",
    "plt.xticks(rotation=45, ha='right')\n",
    "# Adjust the layout to make room for the rotated x-axis labels\n",
    "plt.tight_layout()\n",
    "# Add legends\n",
    "ax1.legend(loc='upper left')\n",
    "ax2.legend(loc='upper right')\n",
    "plt.savefig('images/poverty_vs_deaths.png')\n",
    "plt.show();"
   ]
  },
  {
   "cell_type": "markdown",
   "id": "2c85cdd3-b073-4963-9c1b-308dd4115ea7",
   "metadata": {},
   "source": [
    "# What demographics are susceptible to higher rates of opioid mortality? (ADC)"
   ]
  },
  {
   "cell_type": "code",
   "execution_count": null,
   "id": "3c9cf96f-5cd0-4e50-8a6d-fc3026a30781",
   "metadata": {},
   "outputs": [],
   "source": [
    "##Filter core data to be analyzed (i.e. only opioid deaths, deaths per 100k - age-adjusted)\n",
    "all_df = data_df[data_df[\"PANEL\"] == \"Drug overdose deaths involving any opioid\"]\n",
    "all_df = all_df[all_df[\"UNIT\"] == \"Deaths per 100,000 resident population, age-adjusted\"]\n",
    "\n",
    "male_df = all_df[all_df[\"STUB_LABEL\"] == \"Male\"]\n",
    "female_df = all_df[all_df[\"STUB_LABEL\"] == \"Female\"]\n",
    "all_df = all_df[all_df[\"STUB_LABEL\"] == \"All persons\"]\n",
    "\n",
    "# Generate a line plot of Deaths per 100k vs. calendar year\n",
    "##Define data to be analyzed from DF (One set each for all, male, female)\n",
    "Year_all = all_df.loc[:,\"YEAR\"]\n",
    "\n",
    "Deaths_all = all_df.loc[:,\"ESTIMATE\"]\n",
    "Deaths_male = male_df.loc[:,\"ESTIMATE\"]\n",
    "Deaths_female = female_df.loc[:,\"ESTIMATE\"]\n",
    "\n",
    "##Set parameters and variables to be plotted on a line chart with output\n",
    "fig, ax1 = plt.subplots()\n",
    "plt.title(\"Opioid Deaths by Gender (1999-2018)\", fontsize=12)\n",
    "ax1.set_xlim(min(Year_all)-2, max(Year_all)+2)\n",
    "ax1.set_ylabel(\"Deaths per 100,000\")\n",
    "ax1.set_xlabel(\"Year\")\n",
    "plt.grid(True)\n",
    "\n",
    "#set line plots\n",
    "all,    = plt.plot(Year_all, Deaths_all, linewidth=2.0, marker=\"\", color=\"black\", label=\"Overall\")\n",
    "male,   = plt.plot(Year_all, Deaths_male, linewidth=1.25, marker=\"\", color=\"blue\", label=\"Male\")\n",
    "female, = plt.plot(Year_all, Deaths_female, linewidth=1.25, marker=\"\", color=\"red\", label=\"Female\")\n",
    "\n",
    "#set legend, save to file and output to screen\n",
    "plt.legend(handles=[male,\n",
    "                    female,\n",
    "                    all], loc=(0.02,.78))\n",
    "plt.savefig(\"output/rate_by_gender.png\")\n",
    "plt.show();"
   ]
  },
  {
   "cell_type": "code",
   "execution_count": null,
   "id": "8100e569-67d1-4d0a-a458-e358b49c5898",
   "metadata": {},
   "outputs": [],
   "source": [
    "#Summarize Opioid Deaths by gender chart in previous code block\n",
    "gender_df = data_df.copy()\n",
    "\n",
    "#Set parameters to be included\n",
    "gender_df = gender_df[gender_df[\"UNIT\"] == \"Deaths per 100,000 resident population, age-adjusted\"]\n",
    "gender_df = gender_df[gender_df[\"PANEL\"] == \"Drug overdose deaths involving any opioid\"]\n",
    "gender_df = gender_df[gender_df[\"STUB_NAME\"].isin([\"Total\",\"Sex\"])]\n",
    "gender_df = gender_df[gender_df[\"YEAR\"].isin([1999,2004,2009,2014,2018])]\n",
    "\n",
    "#Finalize DF\n",
    "gender_df[\"YEAR\"]= gender_df[\"YEAR\"].astype(str)\n",
    "gender_df = pd.DataFrame(gender_df[[\"YEAR\",\"STUB_LABEL\",\"ESTIMATE\"]])\n",
    "gender_df = gender_df.rename(columns = {\"YEAR\":\"Year\",\n",
    "                                        \"STUB_LABEL\":\"Gender\",\n",
    "                                        \"ESTIMATE\":\"Deaths per 100k\"})\n",
    "\n",
    "#Call values for 2018 death rates for ratio calculation\n",
    "male_2018 = gender_df[gender_df[\"Year\"] == \"2018\"]\n",
    "male_2018 = male_2018[male_2018[\"Gender\"] == \"Male\"]\n",
    "male_2018 = male_2018.values[0,2]\n",
    "\n",
    "female_2018 = gender_df[gender_df[\"Year\"] == \"2018\"]\n",
    "female_2018 = female_2018[female_2018[\"Gender\"] == \"Female\"].round(2)\n",
    "female_2018 = female_2018.values[0,2]\n",
    "\n",
    "#Calculate ratio of men to women overdose death rates\n",
    "calc_2018 = round(male_2018 / female_2018, 2)\n",
    "\n",
    "#formating summary DF for presentation\n",
    "gender_df = gender_df.groupby([\"Year\",\"Gender\"])[\"Deaths per 100k\"].sum()\n",
    "gender_df = pd.DataFrame(gender_df)\n",
    "gender_df = gender_df.transpose()\n",
    "\n",
    "#Output to ratio & DF to screen\n",
    "print(f\"By 2018, the ratio of opioid overdose death rates for men to opioid overdose death rates for women was {calc_2018}.\")\n",
    "print(\"\")\n",
    "gender_df"
   ]
  },
  {
   "cell_type": "code",
   "execution_count": null,
   "id": "d6ad7230-9957-4856-96a7-62c78f2e0df7",
   "metadata": {},
   "outputs": [],
   "source": [
    "##Create deaths by age grouping chart\n",
    "##Filter core data to be analyzed (i.e. only opioid deaths, deaths per 100k - age-adjusted)\n",
    "age_df = data_df[data_df[\"PANEL\"] == \"Drug overdose deaths involving any opioid\"]\n",
    "age_df = age_df[age_df[\"STUB_NAME\"] == \"Age\"]\n",
    "\n",
    "##Separate each age group into separate DFs\n",
    "under_15_df     = age_df[age_df[\"STUB_LABEL\"] == \"Under 15 years\"]\n",
    "age_15_24_df    = age_df[age_df[\"STUB_LABEL\"] == \"15-24 years\"]\n",
    "age_25_34_df    = age_df[age_df[\"STUB_LABEL\"] == \"25-34 years\"]\n",
    "age_35_44_df    = age_df[age_df[\"STUB_LABEL\"] == \"35-44 years\"]\n",
    "age_45_54_df    = age_df[age_df[\"STUB_LABEL\"] == \"45-54 years\"]\n",
    "age_55_64_df    = age_df[age_df[\"STUB_LABEL\"] == \"55-64 years\"]\n",
    "age_65_74_df    = age_df[age_df[\"STUB_LABEL\"] == \"65-74 years\"]\n",
    "age_75_84_df    = age_df[age_df[\"STUB_LABEL\"] == \"75-84 years\"]\n",
    "inc_n_ovr_85_df = age_df[age_df[\"STUB_LABEL\"] == \"85 years and over\"]\n",
    "\n",
    "# Generate a line plot of Deaths per 100k vs. calendar year\n",
    "##Define data to be analyzed from DF (One set each for all, each age group)\n",
    "Year_all = all_df.loc[:,\"YEAR\"]\n",
    "\n",
    "Deaths_all      =          all_df.loc[:,\"ESTIMATE\"]\n",
    "Deaths_und15    =     under_15_df.loc[:,\"ESTIMATE\"]\n",
    "Deaths_15_24    =    age_15_24_df.loc[:,\"ESTIMATE\"]\n",
    "Deaths_25_34    =    age_25_34_df.loc[:,\"ESTIMATE\"]\n",
    "Deaths_35_44    =    age_35_44_df.loc[:,\"ESTIMATE\"]\n",
    "Deaths_45_54    =    age_45_54_df.loc[:,\"ESTIMATE\"]\n",
    "Deaths_55_64    =    age_55_64_df.loc[:,\"ESTIMATE\"]\n",
    "Deaths_65_74    =    age_65_74_df.loc[:,\"ESTIMATE\"]\n",
    "Deaths_75_84    =    age_75_84_df.loc[:,\"ESTIMATE\"]\n",
    "Deaths_85_n_ovr = inc_n_ovr_85_df.loc[:,\"ESTIMATE\"]\n",
    "\n",
    "##Set parameters and variables to be plotted on a line chart with output\n",
    "fig, ax1 = plt.subplots()\n",
    "plt.title(\"Opioid Deaths by Age Group (1999-2018)\", fontsize=12)\n",
    "ax1.set_xlim(min(Year_all)-2, max(Year_all)+2)\n",
    "ax1.set_ylabel(\"Deaths per 100,000\")\n",
    "ax1.set_xlabel(\"Year\")\n",
    "plt.grid(True)\n",
    "\n",
    "##Set up of line plots\n",
    "##Commented out lines below in order to focus plot output on age groups with higher death rates.\n",
    "all,      = plt.plot(Year_all, Deaths_all, linewidth=3.0, marker=\"\", color=\"black\", label=\"Overall\")\n",
    "##age_un15,  = plt.plot(Year_all, Deaths_und15, linewidth=0.50, marker=\"\", label=\"Under 15\")\n",
    "##age_15_24, = plt.plot(Year_all, Deaths_15_24, linewidth=0.50, marker=\"\", label=\"15-24\")\n",
    "age_25_34, = plt.plot(Year_all, Deaths_25_34, linewidth=2.00, marker=\"o\", markersize=4, color=\"red\", label=\"25-34 yrs\")\n",
    "age_35_44, = plt.plot(Year_all, Deaths_35_44, linewidth=2.00, marker=\"^\", markersize=4, color=\"blue\", label=\"35-44 yrs\")\n",
    "age_45_54, = plt.plot(Year_all, Deaths_45_54, linewidth=1.25, marker=\"s\", markersize=4, color=\"blue\", label=\"45-54 yrs\")\n",
    "##age_55_64, = plt.plot(Year_all, Deaths_55_64, linewidth=1.25, marker=\"\", label=\"55-64\")\n",
    "##age_65_74, = plt.plot(Year_all, Deaths_65_74, linewidth=0.50, marker=\"\", label=\"65-74\")\n",
    "##age_75_84, = plt.plot(Year_all, Deaths_75_84, linewidth=0.50, marker=\"\", label=\"75-84\")\n",
    "##age_85ovr, = plt.plot(Year_all, Deaths_85_n_ovr, linewidth=0.50, marker=\"\", label=\"85 & Over\")\n",
    "\n",
    "plt.legend(handles=[\n",
    "##                    age_un15,\n",
    "##                    age_15_24,\n",
    "                    age_25_34,\n",
    "                    age_35_44,\n",
    "                    age_45_54,\n",
    "##                    age_55_64,\n",
    "##                    age_65_74,\n",
    "##                    age_75_84,\n",
    "##                    age_85ovr,\n",
    "                    all],\n",
    "           loc=\"best\", fontsize=8)\n",
    "\n",
    "#Output to file and screen\n",
    "plt.savefig(\"output/rate_by_age.png\")\n",
    "plt.show();"
   ]
  },
  {
   "cell_type": "code",
   "execution_count": null,
   "id": "bcb3d8f8-b996-422d-bf58-b276347cc8d1",
   "metadata": {},
   "outputs": [],
   "source": [
    "#Summarize Opioid Deaths by age group into data summary\n",
    "age_df = data_df.copy()\n",
    "\n",
    "#Set parameters to be included\n",
    "age_df = age_df[age_df[\"PANEL\"] == \"Drug overdose deaths involving any opioid\"]\n",
    "age_df = age_df[age_df[\"STUB_NAME\"] == \"Age\"]\n",
    "age_df = age_df[age_df[\"YEAR\"].isin([1999,2004,2009,2014,2018])]\n",
    "age_df = pd.DataFrame(age_df[[\"YEAR\",\"STUB_LABEL\",\"ESTIMATE\"]])\n",
    "age_df = age_df[age_df[\"STUB_LABEL\"].isin([\"25-34 years\",\n",
    "                                           \"35-44 years\",\n",
    "                                           \"45-54 years\"])]\n",
    "temp_all_df = pd.DataFrame(all_df[[\"YEAR\",\"STUB_LABEL\",\"ESTIMATE\"]])\n",
    "temp_all_df = temp_all_df[temp_all_df[\"YEAR\"].isin([1999,2004,2009,2014,2018])]\n",
    "\n",
    "#concatenate the two DFs\n",
    "age_df = pd.concat([age_df,temp_all_df])\n",
    "\n",
    "#formatting\n",
    "age_df[\"YEAR\"]= age_df[\"YEAR\"].astype(str)\n",
    "age_df = age_df.rename(columns = {\"YEAR\":\"Year\",\n",
    "                                  \"STUB_LABEL\":\"Age Group\",\n",
    "                                  \"ESTIMATE\":\"Deaths per 100k\"})\n",
    "\n",
    "#Call values for 2018 death rates for ratio calculation\n",
    "age_all_2018 = all_df[all_df[\"YEAR\"] == 2018][\"ESTIMATE\"].values[0]\n",
    "\n",
    "age25_34_2018 = age_df[age_df[\"Age Group\"] == \"25-34 years\"]\n",
    "age25_34_2018 = age25_34_2018[age25_34_2018[\"Year\"] == \"2018\"][\"Deaths per 100k\"].values[0]\n",
    "\n",
    "age35_44_2018 = age_df[age_df[\"Age Group\"] == \"35-44 years\"]\n",
    "age35_44_2018 = age35_44_2018[age35_44_2018[\"Year\"] == \"2018\"][\"Deaths per 100k\"].values[0]\n",
    "\n",
    "age45_54_2018 = age_df[age_df[\"Age Group\"] == \"45-54 years\"]\n",
    "age45_54_2018 = age45_54_2018[age45_54_2018[\"Year\"] == \"2018\"][\"Deaths per 100k\"].values[0]\n",
    "\n",
    "#formatting summary DF for presentation\n",
    "age_df = age_df.groupby([\"Year\",\"Age Group\"])[\"Deaths per 100k\"].sum()\n",
    "age_df = pd.DataFrame(age_df)\n",
    "age_df = age_df.transpose()\n",
    "\n",
    "#Output to 2018 rates and summary DF to screen\n",
    "print(f\"By 2018, the opioid overdose death rates per 100,000 people for the age groups of 25-34 years, 35-44 years, 45-54 years are\")\n",
    "print(f\"  {age25_34_2018}, {age35_44_2018}, and {age45_54_2018}, respectively.  For comparison the overall death rate per 100,000 is {age_all_2018}.\")\n",
    "print(\"\")\n",
    "age_df"
   ]
  },
  {
   "cell_type": "code",
   "execution_count": null,
   "id": "46bba971-2fef-43ba-bba6-cb1294f92d6b",
   "metadata": {},
   "outputs": [],
   "source": [
    "##Deaths by methadone, other synthetics, all opioids\n",
    "#Filter core data to be analyzed (i.e. only opioid deaths, deaths per 100k - age-adjusted)\n",
    "synth_df = data_df\n",
    "synth_df = synth_df[synth_df[\"UNIT\"] == \"Deaths per 100,000 resident population, age-adjusted\"]\n",
    "synth_df = synth_df[synth_df[\"STUB_NAME\"] == \"Total\"]\n",
    "\n",
    "##Generate a line plot of Deaths per 100k vs. calendar year\n",
    "##Define data to be analyzed from DF (One set each for all, each drug grouping)\n",
    "\n",
    "# for x-axis setting\n",
    "all_year= synth_df.loc[synth_df[\"PANEL\"] == \"Drug overdose deaths involving any opioid\"][\"YEAR\"]\n",
    "\n",
    "# data for line plots\n",
    "Deaths_all_op  = synth_df[synth_df[\"PANEL\"] == \"Drug overdose deaths involving any opioid\"]\\\n",
    "                                   [\"ESTIMATE\"]\n",
    "Deaths_meth    = synth_df[synth_df[\"PANEL\"] == \"Drug overdose deaths involving methadone\"]\\\n",
    "                                   [\"ESTIMATE\"]\n",
    "Deaths_synth   = synth_df[synth_df[\"PANEL\"] == \"Drug overdose deaths involving other synthetic opioids (other than methadone)\"]\\\n",
    "                                   [\"ESTIMATE\"]\n",
    "Deaths_ALL     = synth_df[synth_df[\"PANEL\"] == \"All drug overdose deaths\"]\\\n",
    "                                   [\"ESTIMATE\"]\n",
    "Deaths_natsemi = synth_df[synth_df[\"PANEL\"] == \"Drug overdose deaths involving natural and semisynthetic opioids\"]\\\n",
    "                                   [\"ESTIMATE\"]\n",
    "Deaths_heroin  = synth_df[synth_df[\"PANEL\"] == \"Drug overdose deaths involving heroin\"]\\\n",
    "                                   [\"ESTIMATE\"]\n",
    "\n",
    "##Set parameters for line chart with output\n",
    "fig, ax1 = plt.subplots()\n",
    "plt.title(\"Overdose Deaths by Drug (1999-2018)\", fontsize=12)\n",
    "ax1.set_xlim(min(Year_all)-2, max(Year_all)+2)\n",
    "ax1.set_ylabel(\"Deaths per 100,000\")\n",
    "ax1.set_xlabel(\"Year\")\n",
    "plt.grid(True)\n",
    "\n",
    "# create line plots\n",
    "all_op,    = plt.plot(all_year, Deaths_all_op, linewidth=2.0, marker=\"o\", markersize=2, color=\"black\", label=\"All Opioids\")\n",
    "methodone, = plt.plot(all_year, Deaths_meth, linewidth=1.0, marker=\"\", color=\"gray\", label=\"Methadone\")\n",
    "oth_syn,   = plt.plot(all_year, Deaths_synth, linewidth=3.0, marker=\"\", color=\"red\", label=\"Other Synthetics\")\n",
    "ALL_drugs, = plt.plot(all_year, Deaths_ALL, linewidth=3.0, marker=\"\", color=\"black\", label=\"All drugs\")\n",
    "nat_semi,  = plt.plot(all_year, Deaths_natsemi, linewidth=1.0, marker=\"o\", markersize=1.5, color=\"gray\", label=\"Natural & Semi\")\n",
    "heroin,    = plt.plot(all_year, Deaths_heroin, linewidth=2.0, marker=\"\", color=\"blue\", label=\"HEROIN\")\n",
    "\n",
    "\n",
    "# create legend\n",
    "plt.legend(handles=[ALL_drugs,\n",
    "                    all_op,\n",
    "                    oth_syn,\n",
    "                    heroin,\n",
    "                    nat_semi,\n",
    "                    methodone\n",
    "                   ], loc=\"best\", fontsize=8)\n",
    "\n",
    "# save to file and output to screen\n",
    "plt.savefig(\"output/rate_by_synth.png\")\n",
    "plt.show();"
   ]
  },
  {
   "cell_type": "code",
   "execution_count": null,
   "id": "dc0999f1-6f9f-4d6a-aa32-5f017186c81c",
   "metadata": {},
   "outputs": [],
   "source": [
    "###Build out of population by state DF\n",
    "#Pull of data from multiple csv files\n",
    "nineties_pop_df = pd.read_csv(\"Resources/USPopByState1990-1999.csv\")\n",
    "aughts_pop_df   = pd.read_csv(\"Resources/USPopByState2000-2009(mod).csv\",\n",
    "                              usecols=[3,9,10,11,12,13,14,15,16,17,18,19],\n",
    "                              names=  [\"State\",\n",
    "                                       \"2000\",\n",
    "                                       \"2001\",\n",
    "                                       \"2002\",\n",
    "                                       \"2003\",\n",
    "                                       \"2004\",\n",
    "                                       \"2005\",\n",
    "                                       \"2006\",\n",
    "                                       \"2007\",\n",
    "                                       \"2008\",\n",
    "                                       \"2009\",\n",
    "                                       \"2010\"])\n",
    "                                                                                  \n",
    "tens_pop_df     = pd.read_csv(\"Resources/USPopByState2010-2020.csv\",\n",
    "                              usecols=[4,7,8,9,10,11,12,13,14,15],\n",
    "                              names=  [\"State\",\n",
    "                                       \"2011\",\n",
    "                                       \"2012\",\n",
    "                                       \"2013\",\n",
    "                                       \"2014\",\n",
    "                                       \"2015\",\n",
    "                                       \"2016\",\n",
    "                                       \"2017\",\n",
    "                                       \"2018\",\n",
    "                                       \"2019\"])\n",
    "\n",
    "twenties_pop_df = pd.read_csv(\"Resources/USPopByState2020-2023.csv\",\n",
    "                              usecols=[4,6,7,8,9],\n",
    "                              names=  [\"State\",\n",
    "                                       \"2020\",\n",
    "                                       \"2021\",\n",
    "                                       \"2022\",\n",
    "                                       \"2023\"])\n",
    "\n",
    "#Clean up of DFs to facilitate merge\n",
    "aughts_pop_df=aughts_pop_df.drop(0)\n",
    "\n",
    "tens_pop_df=tens_pop_df.drop(0)\n",
    "\n",
    "twenties_pop_df=twenties_pop_df.drop(0)\n",
    "\n",
    "# Combine the data into a single DataFrame\n",
    "all_pop_dfs = [nineties_pop_df,\n",
    "               aughts_pop_df,\n",
    "               tens_pop_df,\n",
    "               twenties_pop_df]\n",
    "\n",
    "pop_by_state_df = reduce(lambda  left,right: pd.merge(left,right,on=[\"State\"],\n",
    "                                                            how=\"inner\"), all_pop_dfs)\n",
    "\n",
    "pop_by_state_df.replace(\",\",\"\", regex=True, inplace=True)\n",
    "pop_cols = pop_by_state_df.iloc[:,2:35].select_dtypes(object).columns\n",
    "pop_by_state_df[pop_cols] = pop_by_state_df[pop_cols].apply(pd.to_numeric,errors='coerce')\n",
    "\n",
    "# Display the data table for preview\n",
    "pop_by_state_df.head()\n",
    "\n",
    "# Output to csv\n",
    "pop_by_state_df.to_csv(\"output/pop_by_state_df.csv\")"
   ]
  },
  {
   "cell_type": "code",
   "execution_count": null,
   "id": "8b1c9208-3364-4b33-9a1e-f36907e96a5d",
   "metadata": {},
   "outputs": [],
   "source": []
  },
  {
   "cell_type": "code",
   "execution_count": null,
   "id": "05a760be-9788-461f-9284-1ed7c00eb059",
   "metadata": {},
   "outputs": [],
   "source": []
  },
  {
   "cell_type": "code",
   "execution_count": null,
   "id": "d5f041c8-da4f-4a09-af4c-663d946a2844",
   "metadata": {},
   "outputs": [],
   "source": []
  },
  {
   "cell_type": "code",
   "execution_count": null,
   "id": "dca1b2a4-2dbf-4c2c-ba69-846f46a76b2f",
   "metadata": {},
   "outputs": [],
   "source": []
  },
  {
   "cell_type": "code",
   "execution_count": null,
   "id": "2fd74703-beb7-4634-84f2-5e377e8dc18b",
   "metadata": {},
   "outputs": [],
   "source": []
  },
  {
   "cell_type": "code",
   "execution_count": null,
   "id": "2edbbb61-75b8-42d4-8a7a-889f2d6c7826",
   "metadata": {},
   "outputs": [],
   "source": []
  },
  {
   "cell_type": "code",
   "execution_count": null,
   "id": "2b92b958-0195-4978-8afb-f1ad5850e13a",
   "metadata": {},
   "outputs": [],
   "source": []
  },
  {
   "cell_type": "code",
   "execution_count": null,
   "id": "124b1b02-0bad-4d1a-8227-7ab49c3291bc",
   "metadata": {},
   "outputs": [],
   "source": []
  },
  {
   "cell_type": "code",
   "execution_count": null,
   "id": "d546ad08-abb6-483b-9b79-57d1619c1f17",
   "metadata": {},
   "outputs": [],
   "source": [
    "# Load the CSV file into a Pandas DataFrame and apply any filters\n",
    "data_df = pd.read_csv(\"Resources/DrugODs_Demographic.csv\")\n",
    "\n",
    "##Filter core data to be analyzed (i.e. only opioid deaths, deaths per 100k - age-adjusted)\n",
    "all_df = data_df[data_df[\"PANEL\"] == \"Drug overdose deaths involving any opioid\"]\n",
    "all_df = all_df[all_df[\"UNIT\"] == \"Deaths per 100,000 resident population, age-adjusted\"]\n",
    "\n",
    "male_df = all_df[all_df[\"STUB_LABEL\"] == \"Male\"]\n",
    "female_df = all_df[all_df[\"STUB_LABEL\"] == \"Female\"]\n",
    "all_df = all_df[all_df[\"STUB_LABEL\"] == \"All persons\"]"
   ]
  },
  {
   "cell_type": "code",
   "execution_count": null,
   "id": "6c4ef4df-6f72-46a3-85c8-07fabbc67575",
   "metadata": {},
   "outputs": [],
   "source": [
    "# Generate a line plot of Deaths per 100k vs. calendar year\n",
    "\n",
    "##Define data to be analyzed from DF (One set each for all, male, female)\n",
    "Year_all = all_df.loc[:,\"YEAR\"]\n",
    "\n",
    "Deaths_all = all_df.loc[:,\"ESTIMATE\"]\n",
    "Deaths_male = male_df.loc[:,\"ESTIMATE\"]\n",
    "Deaths_female = female_df.loc[:,\"ESTIMATE\"]\n",
    "\n",
    "##Set parameters and variables to be plotted on a line chart with output\n",
    "fig, ax1 = plt.subplots()\n",
    "plt.title(\"Opioid Deaths 1999-2018\", fontsize=12)\n",
    "ax1.set_xlim(min(Year_all)-2, max(Year_all)+2)\n",
    "\n",
    "ax1.set_ylabel(\"Deaths per 100,000\")\n",
    "ax1.set_xlabel(\"Year\")\n",
    "plt.grid(True)\n",
    "\n",
    "all, = plt.plot(Year_all, Deaths_all, linewidth=2.0, marker=\"\", color=\"black\", label=\"Overall\")\n",
    "male, = plt.plot(Year_all, Deaths_male, linewidth=1.25, marker=\"\", color=\"blue\", label=\"Male\")\n",
    "female, = plt.plot(Year_all, Deaths_female, linewidth=1.25, marker=\"\", color=\"red\", label=\"Female\")\n",
    "\n",
    "plt.legend(handles=[male, female, all], loc=(0.02,.78))\n",
    "\n",
    "plt.show();"
   ]
  },
  {
   "cell_type": "code",
   "execution_count": null,
   "id": "646006b5-192c-461d-8f72-32ced72a2903",
   "metadata": {},
   "outputs": [],
   "source": [
    "##Deaths by age grouping\n",
    "##Filter core data to be analyzed (i.e. only opioid deaths, deaths per 100k - age-adjusted)\n",
    "age_df = data_df[data_df[\"PANEL\"] == \"Drug overdose deaths involving any opioid\"]\n",
    "age_df = age_df[age_df[\"STUB_NAME\"] == \"Age\"]\n",
    "\n",
    "##Separate each age group into separate DFs\n",
    "under_15_df     = age_df[age_df[\"STUB_LABEL\"] == \"Under 15 years\"]\n",
    "age_15_24_df    = age_df[age_df[\"STUB_LABEL\"] == \"15-24 years\"]\n",
    "age_25_34_df    = age_df[age_df[\"STUB_LABEL\"] == \"25-34 years\"]\n",
    "age_35_44_df    = age_df[age_df[\"STUB_LABEL\"] == \"35-44 years\"]\n",
    "age_45_54_df    = age_df[age_df[\"STUB_LABEL\"] == \"45-54 years\"]\n",
    "age_55_64_df    = age_df[age_df[\"STUB_LABEL\"] == \"55-64 years\"]\n",
    "age_65_74_df    = age_df[age_df[\"STUB_LABEL\"] == \"65-74 years\"]\n",
    "age_75_84_df    = age_df[age_df[\"STUB_LABEL\"] == \"75-84 years\"]\n",
    "inc_n_ovr_85_df = age_df[age_df[\"STUB_LABEL\"] == \"85 years and over\"]\n",
    "\n",
    "# Generate a line plot of Deaths per 100k vs. calendar year\n",
    "##Define data to be analyzed from DF (One set each for all, each age group)\n",
    "Year_all = all_df.loc[:,\"YEAR\"]\n",
    "\n",
    "Deaths_all      =          all_df.loc[:,\"ESTIMATE\"]\n",
    "Deaths_und15    =     under_15_df.loc[:,\"ESTIMATE\"]\n",
    "Deaths_15_24    =    age_15_24_df.loc[:,\"ESTIMATE\"]\n",
    "Deaths_25_34    =    age_25_34_df.loc[:,\"ESTIMATE\"]\n",
    "Deaths_35_44    =    age_35_44_df.loc[:,\"ESTIMATE\"]\n",
    "Deaths_45_54    =    age_45_54_df.loc[:,\"ESTIMATE\"]\n",
    "Deaths_55_64    =    age_55_64_df.loc[:,\"ESTIMATE\"]\n",
    "Deaths_65_74    =    age_65_74_df.loc[:,\"ESTIMATE\"]\n",
    "Deaths_75_84    =    age_75_84_df.loc[:,\"ESTIMATE\"]\n",
    "Deaths_85_n_ovr = inc_n_ovr_85_df.loc[:,\"ESTIMATE\"]\n",
    "\n",
    "##Set parameters and variables to be plotted on a line chart with output\n",
    "fig, ax1 = plt.subplots()\n",
    "plt.title(\"Opioid Deaths 1999-2018\", fontsize=12)\n",
    "ax1.set_xlim(min(Year_all)-2, max(Year_all)+2)\n",
    "\n",
    "ax1.set_ylabel(\"Deaths per 100,000\")\n",
    "ax1.set_xlabel(\"Year\")\n",
    "plt.grid(True)\n",
    "\n",
    "all,      = plt.plot(Year_all, Deaths_all, linewidth=3.0, marker=\"\", color=\"black\", label=\"Overall\")\n",
    "age_u15,  = plt.plot(Year_all, Deaths_und15, linewidth=0.50, marker=\"\", label=\"Under 15\")\n",
    "age_1524, = plt.plot(Year_all, Deaths_15_24, linewidth=0.50, marker=\"\", label=\"15-24\")\n",
    "age_2534, = plt.plot(Year_all, Deaths_25_34, linewidth=2.00, marker=\"\", label=\"25-34\")\n",
    "age_3544, = plt.plot(Year_all, Deaths_35_44, linewidth=2.00, marker=\"\", label=\"35-44\")\n",
    "age_4554, = plt.plot(Year_all, Deaths_45_54, linewidth=2.00, marker=\"\", label=\"45-54\")\n",
    "age_5564, = plt.plot(Year_all, Deaths_55_64, linewidth=1.25, marker=\"\", label=\"55-64\")\n",
    "age_6574, = plt.plot(Year_all, Deaths_65_74, linewidth=0.50, marker=\"\", label=\"65-74\")\n",
    "age_7584, = plt.plot(Year_all, Deaths_75_84, linewidth=0.50, marker=\"\", label=\"75-84\")\n",
    "age_85ov, = plt.plot(Year_all, Deaths_85_n_ovr, linewidth=0.50, marker=\"\", label=\"85 & Over\")\n",
    "\n",
    "plt.legend(handles=[all,\n",
    "                    age_u15,\n",
    "                    age_1524,\n",
    "                    age_2534,\n",
    "                    age_3544,\n",
    "                    age_4554,\n",
    "                    age_5564,\n",
    "                    age_6574,\n",
    "                    age_7584,\n",
    "                    age_85ov\n",
    "                   ], loc=\"best\", fontsize=8)\n",
    "\n",
    "plt.show();"
   ]
  },
  {
   "cell_type": "code",
   "execution_count": null,
   "id": "585a48cc-f241-4f8f-bfae-c45b30707121",
   "metadata": {},
   "outputs": [],
   "source": [
    "###Build out of population by state DF\n",
    "#Pull of data from multiple csv files\n",
    "nineties_pop_df = pd.read_csv(\"Resources/USPopByState1990-1999.csv\")\n",
    "aughts_pop_df   = pd.read_csv(\"Resources/USPopByState2000-2009(mod).csv\",\n",
    "                              usecols=[3,9,10,11,12,13,14,15,16,17,18,19],\n",
    "                              names=  [\"State\",\n",
    "                                       \"2000\",\n",
    "                                       \"2001\",\n",
    "                                       \"2002\",\n",
    "                                       \"2003\",\n",
    "                                       \"2004\",\n",
    "                                       \"2005\",\n",
    "                                       \"2006\",\n",
    "                                       \"2007\",\n",
    "                                       \"2008\",\n",
    "                                       \"2009\",\n",
    "                                       \"2010\"])\n",
    "                                                                                  \n",
    "tens_pop_df     = pd.read_csv(\"Resources/USPopByState2010-2020.csv\",\n",
    "                              usecols=[4,7,8,9,10,11,12,13,14,15],\n",
    "                              names=  [\"State\",\n",
    "                                       \"2011\",\n",
    "                                       \"2012\",\n",
    "                                       \"2013\",\n",
    "                                       \"2014\",\n",
    "                                       \"2015\",\n",
    "                                       \"2016\",\n",
    "                                       \"2017\",\n",
    "                                       \"2018\",\n",
    "                                       \"2019\"])\n",
    "\n",
    "twenties_pop_df = pd.read_csv(\"Resources/USPopByState2020-2023.csv\",\n",
    "                              usecols=[4,6,7,8,9],\n",
    "                              names=  [\"State\",\n",
    "                                       \"2020\",\n",
    "                                       \"2021\",\n",
    "                                       \"2022\",\n",
    "                                       \"2023\"])\n",
    "\n",
    "#Clean up of DFs to facilitate merge\n",
    "aughts_pop_df=aughts_pop_df.drop(0)\n",
    "\n",
    "tens_pop_df=tens_pop_df.drop(0)\n",
    "\n",
    "twenties_pop_df=twenties_pop_df.drop(0)\n",
    "\n",
    "# Combine the data into a single DataFrame\n",
    "all_pop_dfs = [nineties_pop_df,\n",
    "               aughts_pop_df,\n",
    "               tens_pop_df,\n",
    "               twenties_pop_df]\n",
    "\n",
    "pop_by_state_df = reduce(lambda  left,right: pd.merge(left,right,on=[\"State\"],\n",
    "                                                            how=\"inner\"), all_pop_dfs)\n",
    "\n",
    "pop_by_state_df.replace(\",\",\"\", regex=True, inplace=True)\n",
    "pop_cols = pop_by_state_df.iloc[:,2:35].select_dtypes(object).columns\n",
    "pop_by_state_df[pop_cols] = pop_by_state_df[pop_cols].apply(pd.to_numeric,errors='coerce')\n",
    "\n",
    "# Display the data table for preview\n",
    "pop_by_state_df.head()\n",
    "\n",
    "# Output to csv\n",
    "pop_by_state_df.to_csv(\"output/pop_by_state_df.csv\")"
   ]
  },
  {
   "cell_type": "code",
   "execution_count": null,
   "id": "ebc91df7-c8aa-417b-bb6f-c2e0e852888d",
   "metadata": {},
   "outputs": [],
   "source": []
  },
  {
   "cell_type": "markdown",
   "id": "c231c8f9-2a5e-4d3c-9e0a-27a1417818ee",
   "metadata": {},
   "source": [
    "# Is the opioid crisis region/state specific? (AW)"
   ]
  },
  {
   "cell_type": "code",
   "execution_count": null,
   "id": "12338892-faa1-4c05-b807-c140f9290cca",
   "metadata": {},
   "outputs": [],
   "source": [
    "drug_df = pd.DataFrame(drug_overdose_data)\n",
    "drug_df"
   ]
  },
  {
   "cell_type": "code",
   "execution_count": null,
   "id": "2077ab4b-69f2-43bf-9740-948a363a4347",
   "metadata": {},
   "outputs": [],
   "source": [
    "del drug_df['ï»¿State']\n",
    "drug_df"
   ]
  },
  {
   "cell_type": "code",
   "execution_count": null,
   "id": "dddce571-e847-419d-bdd2-4a28b8913675",
   "metadata": {},
   "outputs": [],
   "source": [
    "drug_df.count()"
   ]
  },
  {
   "cell_type": "code",
   "execution_count": null,
   "id": "c604a19e-d0d9-4452-a29c-0fcd41be6fb6",
   "metadata": {},
   "outputs": [],
   "source": [
    "drug_df.isnull().sum()"
   ]
  },
  {
   "cell_type": "code",
   "execution_count": null,
   "id": "8437037f-5ee4-4d2a-b42f-57fd96c1a315",
   "metadata": {},
   "outputs": [],
   "source": [
    "drug_df.rename(columns={\"State Abbreviation\": \"State\"},inplace=True)\n",
    "drug_df"
   ]
  },
  {
   "cell_type": "code",
   "execution_count": null,
   "id": "1ca8a2f9-a071-4676-b7ce-440e50a6e2d3",
   "metadata": {},
   "outputs": [],
   "source": [
    "#Cleaning data by renaming columns\n",
    "drug_df.rename(columns={'2019 Age-adjusted Rate (per 100000 population)': '2019 OD Rate',\n",
    "                        '2018 Age-adjusted Rate (per 100000 population)': '2018 OD Rate',\n",
    "                        '2017 Age-adjusted Rate (per 100000 population)': '2017 OD Rate',\n",
    "                        '2016 Age-adjusted Rate (per 100000 population)': '2016 OD Rate',\n",
    "                        '2015 Age-adjusted Rate (per 100000 population)': '2015 OD Rate',\n",
    "                        '2014 Age-adjusted Rate (per 100000 population)': '2014 OD Rate',\n",
    "                        '2013 Age-adjusted Rate (per 100000 population)': '2013 OD Rate'},inplace=True)\n",
    "drug_df.head(10)"
   ]
  },
  {
   "cell_type": "code",
   "execution_count": null,
   "id": "ed8538d3-307a-402a-bc91-6135e8e8fa84",
   "metadata": {},
   "outputs": [],
   "source": [
    "drug_df.rename(columns={\"2019 Number of Deaths\":'2019 Deaths',\n",
    "                        \"2018 Number of Deaths\":'2018 Deaths',\n",
    "                        \"2017 Number of Deaths\":'2017 Deaths',\n",
    "                        \"2016 Number of Deaths\":'2016 Deaths',\n",
    "                        \"2015 Number of Deaths\":'2015 Deaths',\n",
    "                        \"2014 Number of Deaths\":'2014 Deaths',\n",
    "                        \"2013 Number of Deaths\":'2013 Deaths',\n",
    "                        \"Population density per kmÂ²\": \"Pop Density / Sq Km\",\n",
    "                        'Population': \"State Pop\",\n",
    "                        'Land Area (kmÂ²)\"': \"Land Area in Sq Km\"\n",
    "                        },inplace=True)\n",
    "drug_df.head(10)"
   ]
  },
  {
   "cell_type": "code",
   "execution_count": null,
   "id": "048f243c-deff-4327-8ed6-0b9f08178b8a",
   "metadata": {},
   "outputs": [],
   "source": [
    "#dropping Washington D.C. null values\n",
    "clean_overdose_df = drug_df.dropna()\n",
    "clean_overdose_df"
   ]
  },
  {
   "cell_type": "code",
   "execution_count": null,
   "id": "9b28d1fd-df3b-4cd1-8505-d1bfd834d4ec",
   "metadata": {},
   "outputs": [],
   "source": [
    "#creating table which focuses on OD rate per 100,000 people\n",
    "drug_overdose_rates_df = clean_overdose_df[['State','2019 OD Rate','2018 OD Rate','2017 OD Rate','2016 OD Rate','2015 OD Rate','2014 OD Rate','2013 OD Rate']]\n",
    "drug_overdose_rates_df.head(10)"
   ]
  },
  {
   "cell_type": "code",
   "execution_count": null,
   "id": "586096b2-7ad5-4050-937b-cb59bb14605a",
   "metadata": {},
   "outputs": [],
   "source": [
    "#setting state as index for cleaning/transposing\n",
    "drug_overdose_rates_df.set_index(\"State\",inplace=True)\n",
    "drug_overdose_rates_df.rename_axis(None,axis=0,inplace=True)\n",
    "print(drug_overdose_rates_df)"
   ]
  },
  {
   "cell_type": "code",
   "execution_count": null,
   "id": "18f9699b-a470-4091-9e18-284e18f15c38",
   "metadata": {},
   "outputs": [],
   "source": [
    "#transposition of state data and yearly OD rate\n",
    "transposed_overdose_df = drug_overdose_rates_df.transpose()\n",
    "transposed_overdose_df.head()"
   ]
  },
  {
   "cell_type": "code",
   "execution_count": 1,
   "id": "43348671-a252-4b8a-9c66-98e59dfa01b4",
   "metadata": {},
   "outputs": [
    {
     "ename": "NameError",
     "evalue": "name 'transposed_overdose_df' is not defined",
     "output_type": "error",
     "traceback": [
      "\u001b[1;31m---------------------------------------------------------------------------\u001b[0m",
      "\u001b[1;31mNameError\u001b[0m                                 Traceback (most recent call last)",
      "Cell \u001b[1;32mIn[1], line 1\u001b[0m\n\u001b[1;32m----> 1\u001b[0m sorted_overdose_data \u001b[38;5;241m=\u001b[39m transposed_overdose_df\u001b[38;5;241m.\u001b[39msort_index(ascending\u001b[38;5;241m=\u001b[39m\u001b[38;5;28;01mTrue\u001b[39;00m)\n",
      "\u001b[1;31mNameError\u001b[0m: name 'transposed_overdose_df' is not defined"
     ]
    }
   ],
   "source": [
    "#reordering rows by ascending year\n",
    "sorted_overdose_data = transposed_overdose_df.sort_index(ascending=True)\n",
    "sorted_overdose_data.head()"
   ]
  },
  {
   "cell_type": "markdown",
   "id": "06c16059-1f9d-42e6-84f7-b76dad8257ea",
   "metadata": {},
   "source": [
    "## Time series of OD Rate by state"
   ]
  },
  {
   "cell_type": "code",
   "execution_count": null,
   "id": "5bc269a6-b1bf-43f4-9814-90e84d2cdebf",
   "metadata": {},
   "outputs": [],
   "source": [
    "#showing figure for time series of OD Rate by state\n",
    "plt.figure(figsize=(24,20))\n",
    "plt.title(\"Overdose death rates per 100,000 people, by State\")\n",
    "plt.ylabel(\"Overdose death rate (per 100,000 people)\")\n",
    "sns.lineplot(data=sorted_overdose_data)\n",
    "plt.savefig(\"output_files/OD_Rate_by_State\")"
   ]
  },
  {
   "cell_type": "code",
   "execution_count": null,
   "id": "de286233-8619-4eab-b99a-591ef828b161",
   "metadata": {},
   "outputs": [],
   "source": [
    "my_colors = ['lightblue','blue','purple','red','black','orange']\n",
    "\n",
    "plt.figure(figsize=(24,10))\n",
    "plt.title(\"2019 Overdose Rate, by State\")\n",
    "plt.ylabel(\"Overdose rate\")\n",
    "plt.xlabel(\"State Abbreviated\")\n",
    "x_axis=clean_overdose_df[\"State\"]\n",
    "y_axis=clean_overdose_df['2019 OD Rate']\n",
    "plt.bar(x_axis,y_axis,color=my_colors,alpha=.5,align=\"edge\")"
   ]
  },
  {
   "cell_type": "code",
   "execution_count": null,
   "id": "90ae5ab7-1aa6-417c-b8fa-8def097d6649",
   "metadata": {},
   "outputs": [],
   "source": [
    "plt.figure(figsize=(24,10))\n",
    "plt.title(\"2019 OD Rate per 100,000 People, By State\")\n",
    "sns.barplot(x=clean_overdose_df[\"State\"],y=clean_overdose_df['2019 OD Rate'])\n",
    "plt.savefig(\"output_files/2019_Rates.png\")"
   ]
  },
  {
   "cell_type": "code",
   "execution_count": null,
   "id": "c81db26b-89d0-4eb4-a23a-884f6c640f3b",
   "metadata": {},
   "outputs": [],
   "source": [
    "#showing deaths by state in bar chart\n",
    "plt.figure(figsize=(24,10))\n",
    "plt.title(\"2019 OD Deaths, By State\")\n",
    "sns.barplot(x=clean_overdose_df[\"State\"],y=clean_overdose_df['2019 Deaths'])\n",
    "plt.savefig(\"output_files/2019_Deaths.png\")"
   ]
  },
  {
   "cell_type": "code",
   "execution_count": null,
   "id": "7ad94220-deec-4d12-a240-4c97182400f8",
   "metadata": {},
   "outputs": [],
   "source": [
    "plt.figure(figsize=(24,10))\n",
    "plt.title(\"2013 OD Deaths, By State\")\n",
    "sns.barplot(x=clean_overdose_df[\"State\"],y=clean_overdose_df['2013 Deaths'])"
   ]
  },
  {
   "cell_type": "code",
   "execution_count": null,
   "id": "89819521-bf05-4e66-bf98-a2d5045c67a2",
   "metadata": {},
   "outputs": [],
   "source": [
    "plt.figure(figsize=(24,10))\n",
    "plt.title(\"2013 OD Rate per 100,000 People, By State\")\n",
    "sns.barplot(x=clean_overdose_df[\"State\"],y=clean_overdose_df['2013 OD Rate'])\n",
    "plt.savefig()"
   ]
  },
  {
   "cell_type": "code",
   "execution_count": null,
   "id": "f73e7f47-543a-44d2-ac65-3947aea05f61",
   "metadata": {},
   "outputs": [],
   "source": [
    "clean_overdose_df.rename(columns={\n",
    "    'Urban population as a percentage of the total population in 2010': 'Urban population % 2010',\n",
    "    '2019 Poverty rate (percent of persons in poverty)': '2019 Poverty %',\n",
    "    'Gini coefficient of income inequality': 'Gini coefficient',\n",
    "    'Pop Density / sq km': 'Pop Density / km²'\n",
    "},inplace=True)"
   ]
  },
  {
   "cell_type": "markdown",
   "id": "55c7524c-c06d-49ad-8703-4489c6181378",
   "metadata": {},
   "source": [
    "## Heatmap: Urban population as a percentage of the total population in 2010"
   ]
  },
  {
   "cell_type": "code",
   "execution_count": null,
   "id": "aafda85b-f7e0-47dd-8cac-c25b94e0f8a6",
   "metadata": {},
   "outputs": [],
   "source": [
    "heatmap_overdose = clean_overdose_df[['2019 OD Rate', '2018 OD Rate', '2017 OD Rate', '2016 OD Rate', '2015 OD Rate', '2014 OD Rate',\n",
    "                                      '2013 OD Rate', '2019 Poverty rate (percent of persons in poverty)', 'Gini coefficient of income inequality', 'GDP per capita 2021', \n",
    "                                    'Urban population as a percentage of the total population in 2010', 'Pop Density / Sq Km']]\n",
    "heatmap_overdose.head()"
   ]
  },
  {
   "cell_type": "code",
   "execution_count": null,
   "id": "f21dbad0-f3ba-4629-9e83-c28f4d99eef2",
   "metadata": {},
   "outputs": [],
   "source": [
    "heatmap_overdose.rename(columns={\n",
    "    'Urban population as a percentage of the total population in 2010': 'Urban population % 2010',\n",
    "    '2019 Poverty rate (percent of persons in poverty)': '2019 Poverty %',\n",
    "    'Gini coefficient of income inequality': 'Gini coefficient',\n",
    "    'Pop Density / sq km': 'Pop Density / km²'\n",
    "},inplace=True)"
   ]
  },
  {
   "cell_type": "code",
   "execution_count": null,
   "id": "8a8f0f67-1dcf-48ba-9165-d611ed7d68f5",
   "metadata": {},
   "outputs": [],
   "source": [
    "plt.figure(figsize=(20,20))\n",
    "sns.heatmap(heatmap_overdose.corr(),cmap='coolwarm',annot=True)"
   ]
  },
  {
   "cell_type": "code",
   "execution_count": null,
   "id": "ea6f4c82-bb1c-4723-8c96-a01255d5143d",
   "metadata": {},
   "outputs": [],
   "source": [
    "clean_overdose_df.head()"
   ]
  },
  {
   "cell_type": "code",
   "execution_count": null,
   "id": "657cf43b-04f2-4356-936c-0a3c067671a9",
   "metadata": {},
   "outputs": [],
   "source": [
    "clean_overdose_df[\"State\"].nunique()"
   ]
  },
  {
   "cell_type": "code",
   "execution_count": null,
   "id": "ed001638-0da8-4341-b1fa-74a54a7900b5",
   "metadata": {},
   "outputs": [],
   "source": [
    "clean_overdose_df.describe()"
   ]
  },
  {
   "cell_type": "code",
   "execution_count": null,
   "id": "d0416595-84b2-44a3-8df9-33c756354cc5",
   "metadata": {},
   "outputs": [],
   "source": [
    "sns.regplot(x=heatmap_overdose[\"2013 OD Rate\"],y=heatmap_overdose['2019 Poverty %'])"
   ]
  },
  {
   "cell_type": "code",
   "execution_count": null,
   "id": "b49802c9-3077-40b7-87d6-0bf4edbb2cb4",
   "metadata": {},
   "outputs": [],
   "source": [
    "heatmap_overdose.corr().style.background_gradient(cmap=\"coolwarm\")"
   ]
  },
  {
   "cell_type": "code",
   "execution_count": null,
   "id": "33b27e27-ac5c-4f18-8634-6bc7b9a3a2c8",
   "metadata": {},
   "outputs": [],
   "source": [
    "plt.title(\"OD Rate Compared to Pop Density, 2019\")\n",
    "sns.regplot(x=heatmap_overdose['2019 OD Rate'],y=heatmap_overdose[\"Pop Density / Sq Km\"])\n",
    "plt.savefig(\"output_files/Pop_density2019.png\")"
   ]
  },
  {
   "cell_type": "code",
   "execution_count": null,
   "id": "727ba960-b86a-4bd1-a295-13736bfe60e9",
   "metadata": {},
   "outputs": [],
   "source": [
    "plt.title(\"OD Rate Compared to Pop Density, 2013\")\n",
    "sns.regplot(x=heatmap_overdose['2013 OD Rate'],y=heatmap_overdose[\"Pop Density / Sq Km\"])\n",
    "plt.savefig(\"output_files/Pop_density2013.png\")"
   ]
  },
  {
   "cell_type": "code",
   "execution_count": null,
   "id": "4253f9ee-d2c8-416a-8a3c-2643cf03e4ba",
   "metadata": {},
   "outputs": [],
   "source": [
    "plt.figure(figsize=(24,10))\n",
    "plt.title(\"Poverty Rate by State in 2019\")\n",
    "sns.barplot(x=clean_overdose_df['State'],y=clean_overdose_df['2019 Poverty rate (percent of persons in poverty)'])\n",
    "plt.savefig(\"output_files/Poverty_rate.png\")"
   ]
  },
  {
   "cell_type": "code",
   "execution_count": null,
   "id": "e148dc91-ba46-4ecc-a9a7-753d8cc7f6c6",
   "metadata": {},
   "outputs": [],
   "source": [
    "plt.title(\"OD Rate Compared to Poverty Rate, 2013\")\n",
    "sns.regplot(x=heatmap_overdose['2013 OD Rate'],y=heatmap_overdose[\"2019 Poverty %\"])"
   ]
  },
  {
   "cell_type": "code",
   "execution_count": null,
   "id": "d3039bd8-2df7-4dc2-961c-dfa167d2bfa5",
   "metadata": {},
   "outputs": [],
   "source": [
    "plt.title(\"OD Rate Compared to Poverty Rate, 2019\")\n",
    "sns.regplot(x=heatmap_overdose['2019 OD Rate'],y=heatmap_overdose[\"2019 Poverty %\"])"
   ]
  },
  {
   "cell_type": "code",
   "execution_count": null,
   "id": "d664b57d-3890-46dd-8a36-327b07786f93",
   "metadata": {},
   "outputs": [],
   "source": [
    "plt.figure(figsize=(24,10))\n",
    "plt.title(\"Gini coefficient by State\")\n",
    "sns.barplot(x=clean_overdose_df['State'],y=heatmap_overdose['Gini coefficient'])"
   ]
  },
  {
   "cell_type": "code",
   "execution_count": null,
   "id": "4509c61f-f514-4eb0-b48d-e484989280d5",
   "metadata": {},
   "outputs": [],
   "source": [
    "#regressing Gini coefficient of inequality to OD Rate in 2013 and 2019\n",
    "plt.title(\"OD Rate Compared to Gini Coefficient, 2013\")\n",
    "sns.regplot(x=heatmap_overdose['2013 OD Rate'],y=heatmap_overdose[\"Gini coefficient\"])"
   ]
  },
  {
   "cell_type": "code",
   "execution_count": null,
   "id": "29f30947-51ac-4f4e-8373-f49129e73f57",
   "metadata": {},
   "outputs": [],
   "source": [
    "plt.title(\"OD Rate Compared to Gini Coefficient, 2019\")\n",
    "sns.regplot(x=heatmap_overdose['2019 OD Rate'],y=heatmap_overdose[\"Gini coefficient\"])"
   ]
  },
  {
   "cell_type": "code",
   "execution_count": null,
   "id": "7231cfa0-4860-4163-a174-c56a4173b588",
   "metadata": {},
   "outputs": [],
   "source": []
  },
  {
   "cell_type": "code",
   "execution_count": null,
   "id": "3e0c3a48-c87e-431a-8083-623bcce12851",
   "metadata": {},
   "outputs": [],
   "source": []
  },
  {
   "cell_type": "code",
   "execution_count": null,
   "id": "cc71dc23-f8f3-4b69-ba47-1c0d7761ad12",
   "metadata": {},
   "outputs": [],
   "source": []
  },
  {
   "cell_type": "code",
   "execution_count": null,
   "id": "4b13b51f-a7bc-492e-a8f9-dd3239b65a3f",
   "metadata": {},
   "outputs": [],
   "source": []
  },
  {
   "cell_type": "code",
   "execution_count": null,
   "id": "bdf3bd5d-1c54-400f-ba25-3e42fad262a3",
   "metadata": {},
   "outputs": [],
   "source": []
  },
  {
   "cell_type": "code",
   "execution_count": null,
   "id": "42cf1101-d8bd-4165-b67f-6e1cf8761c07",
   "metadata": {},
   "outputs": [],
   "source": []
  },
  {
   "cell_type": "code",
   "execution_count": null,
   "id": "6ed29a00-d3bd-4078-a007-f482dd7a8830",
   "metadata": {},
   "outputs": [],
   "source": []
  },
  {
   "cell_type": "code",
   "execution_count": null,
   "id": "ffa43a94-ac62-41e2-8c48-a05274ff1c3a",
   "metadata": {},
   "outputs": [],
   "source": []
  }
 ],
 "metadata": {
  "kernelspec": {
   "display_name": "Python 3 (ipykernel)",
   "language": "python",
   "name": "python3"
  },
  "language_info": {
   "codemirror_mode": {
    "name": "ipython",
    "version": 3
   },
   "file_extension": ".py",
   "mimetype": "text/x-python",
   "name": "python",
   "nbconvert_exporter": "python",
   "pygments_lexer": "ipython3",
   "version": "3.11.7"
  }
 },
 "nbformat": 4,
 "nbformat_minor": 5
}
