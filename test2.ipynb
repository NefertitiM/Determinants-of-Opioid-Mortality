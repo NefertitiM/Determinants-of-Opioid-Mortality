{
 "cells": [
  {
   "cell_type": "code",
   "execution_count": 111,
   "id": "5deec8b4-f2d8-469d-b9e6-3391edbccec4",
   "metadata": {},
   "outputs": [],
   "source": [
    "import pandas as pd\n",
    "import matplotlib.pyplot as plt\n",
    "import plotly.express as px"
   ]
  },
  {
   "cell_type": "code",
   "execution_count": 112,
   "id": "a75da4a3-02dd-4fef-8931-0001846d7bf4",
   "metadata": {},
   "outputs": [],
   "source": [
    "# read into first data set, Poverty Report\n",
    "df = pd.read_csv('resources/PovertyReport.csv')"
   ]
  },
  {
   "cell_type": "code",
   "execution_count": 113,
   "id": "c66bede1-976d-4acc-ab7d-925766781a06",
   "metadata": {},
   "outputs": [],
   "source": [
    "# read into only neccesary colummns\n",
    "df = df[['Textbox98', 'state_National', 'total_est_pct2']]\n",
    "df = df.dropna(inplace=False)"
   ]
  },
  {
   "cell_type": "code",
   "execution_count": 114,
   "id": "96e5b087-ce6d-4080-9f96-1a796b1b2a64",
   "metadata": {},
   "outputs": [],
   "source": [
    "# create state abbreviations for heat map\n",
    "state_abbreviations = {\n",
    "    'Alabama': 'AL',\n",
    "    'Alaska': 'AK',\n",
    "    'Arizona': 'AZ',\n",
    "    'Arkansas': 'AR',\n",
    "    'California': 'CA',\n",
    "    'Colorado': 'CO',\n",
    "    'Connecticut': 'CT',\n",
    "    'Delaware': 'DE',\n",
    "    'Florida': 'FL',\n",
    "    'Georgia': 'GA',\n",
    "    'Hawaii': 'HI',\n",
    "    'Idaho': 'ID',\n",
    "    'Illinois': 'IL',\n",
    "    'Indiana': 'IN',\n",
    "    'Iowa': 'IA',\n",
    "    'Kansas': 'KS',\n",
    "    'Kentucky': 'KY',\n",
    "    'Louisiana': 'LA',\n",
    "    'Maine': 'ME',\n",
    "    'Maryland': 'MD',\n",
    "    'Massachusetts': 'MA',\n",
    "    'Michigan': 'MI',\n",
    "    'Minnesota': 'MN',\n",
    "    'Mississippi': 'MS',\n",
    "    'Missouri': 'MO',\n",
    "    'Montana': 'MT',\n",
    "    'Nebraska': 'NE',\n",
    "    'Nevada': 'NV',\n",
    "    'New Hampshire': 'NH',\n",
    "    'New Jersey': 'NJ',\n",
    "    'New Mexico': 'NM',\n",
    "    'New York': 'NY',\n",
    "    'North Carolina': 'NC',\n",
    "    'North Dakota': 'ND',\n",
    "    'Ohio': 'OH',\n",
    "    'Oklahoma': 'OK',\n",
    "    'Oregon': 'OR',\n",
    "    'Pennsylvania': 'PA',\n",
    "    'Rhode Island': 'RI',\n",
    "    'South Carolina': 'SC',\n",
    "    'South Dakota': 'SD',\n",
    "    'Tennessee': 'TN',\n",
    "    'Texas': 'TX',\n",
    "    'Utah': 'UT',\n",
    "    'Vermont': 'VT',\n",
    "    'Virginia': 'VA',\n",
    "    'Washington': 'WA',\n",
    "    'West Virginia': 'WV',\n",
    "    'Wisconsin': 'WI',\n",
    "    'Wyoming': 'WY'\n",
    "}"
   ]
  },
  {
   "cell_type": "code",
   "execution_count": 115,
   "id": "a1a45433-f1e5-419b-8256-645fa94a0136",
   "metadata": {},
   "outputs": [],
   "source": [
    "# Add abbreviation column to DataFrame\n",
    "df['Abbreviation'] = df['state_National'].map(state_abbreviations)\n"
   ]
  },
  {
   "cell_type": "code",
   "execution_count": 116,
   "id": "3d17e47d-87b0-40cd-a9c6-14ce4f4cc0d3",
   "metadata": {},
   "outputs": [
    {
     "data": {
      "application/vnd.plotly.v1+json": {
       "config": {
        "plotlyServerURL": "https://plot.ly"
       },
       "data": [
        {
         "coloraxis": "coloraxis",
         "geo": "geo",
         "hovertemplate": "Abbreviation=%{location}<br>total_est_pct2=%{z}<extra></extra>",
         "locationmode": "USA-states",
         "locations": [
          "AL",
          "AK",
          "AZ",
          "AR",
          "CA",
          "CO",
          "CT",
          "DE",
          null,
          "FL",
          "GA",
          "HI",
          "ID",
          "IL",
          "IN",
          "IA",
          "KS",
          "KY",
          "LA",
          "ME",
          "MD",
          "MA",
          "MI",
          "MN",
          "MS",
          "MO",
          "MT",
          null,
          "NE",
          "NV",
          "NH",
          "NJ",
          "NM",
          "NY",
          "NC",
          "ND",
          "OH",
          "OK",
          "OR",
          "PA",
          "RI",
          "SC",
          "SD",
          "TN",
          "TX",
          "UT",
          "VT",
          "VA",
          "WA",
          "WV",
          "WI",
          "WY"
         ],
         "name": "",
         "type": "choropleth",
         "z": [
          16.3,
          10.8,
          12.9,
          16,
          12.3,
          9.7,
          10.1,
          11.5,
          16.8,
          13.2,
          14.2,
          10.9,
          10.8,
          12.1,
          12.1,
          11,
          11.6,
          16.3,
          19.5,
          11.2,
          10.3,
          10.4,
          13,
          9.3,
          19.2,
          12.8,
          12,
          12.8,
          10.5,
          14,
          7.4,
          10.2,
          17.7,
          14,
          13.5,
          10.9,
          13.3,
          15.4,
          12.2,
          12,
          12.1,
          14.5,
          11.9,
          13.7,
          14.2,
          8.7,
          10.2,
          10.3,
          9.9,
          16.8,
          10.8,
          10.6
         ]
        }
       ],
       "layout": {
        "autosize": true,
        "coloraxis": {
         "colorbar": {
          "title": {
           "text": "total_est_pct2"
          }
         },
         "colorscale": [
          [
           0,
           "rgb(255,255,204)"
          ],
          [
           0.125,
           "rgb(255,237,160)"
          ],
          [
           0.25,
           "rgb(254,217,118)"
          ],
          [
           0.375,
           "rgb(254,178,76)"
          ],
          [
           0.5,
           "rgb(253,141,60)"
          ],
          [
           0.625,
           "rgb(252,78,42)"
          ],
          [
           0.75,
           "rgb(227,26,28)"
          ],
          [
           0.875,
           "rgb(189,0,38)"
          ],
          [
           1,
           "rgb(128,0,38)"
          ]
         ]
        },
        "geo": {
         "center": {
          "lat": 39.9867629984868,
          "lon": -102.64798582691617
         },
         "domain": {
          "x": [
           0,
           1
          ],
          "y": [
           0,
           1
          ]
         },
         "projection": {
          "scale": 0.8572439793551118
         },
         "scope": "usa"
        },
        "legend": {
         "tracegroupgap": 0
        },
        "template": {
         "data": {
          "bar": [
           {
            "error_x": {
             "color": "#2a3f5f"
            },
            "error_y": {
             "color": "#2a3f5f"
            },
            "marker": {
             "line": {
              "color": "#E5ECF6",
              "width": 0.5
             },
             "pattern": {
              "fillmode": "overlay",
              "size": 10,
              "solidity": 0.2
             }
            },
            "type": "bar"
           }
          ],
          "barpolar": [
           {
            "marker": {
             "line": {
              "color": "#E5ECF6",
              "width": 0.5
             },
             "pattern": {
              "fillmode": "overlay",
              "size": 10,
              "solidity": 0.2
             }
            },
            "type": "barpolar"
           }
          ],
          "carpet": [
           {
            "aaxis": {
             "endlinecolor": "#2a3f5f",
             "gridcolor": "white",
             "linecolor": "white",
             "minorgridcolor": "white",
             "startlinecolor": "#2a3f5f"
            },
            "baxis": {
             "endlinecolor": "#2a3f5f",
             "gridcolor": "white",
             "linecolor": "white",
             "minorgridcolor": "white",
             "startlinecolor": "#2a3f5f"
            },
            "type": "carpet"
           }
          ],
          "choropleth": [
           {
            "colorbar": {
             "outlinewidth": 0,
             "ticks": ""
            },
            "type": "choropleth"
           }
          ],
          "contour": [
           {
            "colorbar": {
             "outlinewidth": 0,
             "ticks": ""
            },
            "colorscale": [
             [
              0,
              "#0d0887"
             ],
             [
              0.1111111111111111,
              "#46039f"
             ],
             [
              0.2222222222222222,
              "#7201a8"
             ],
             [
              0.3333333333333333,
              "#9c179e"
             ],
             [
              0.4444444444444444,
              "#bd3786"
             ],
             [
              0.5555555555555556,
              "#d8576b"
             ],
             [
              0.6666666666666666,
              "#ed7953"
             ],
             [
              0.7777777777777778,
              "#fb9f3a"
             ],
             [
              0.8888888888888888,
              "#fdca26"
             ],
             [
              1,
              "#f0f921"
             ]
            ],
            "type": "contour"
           }
          ],
          "contourcarpet": [
           {
            "colorbar": {
             "outlinewidth": 0,
             "ticks": ""
            },
            "type": "contourcarpet"
           }
          ],
          "heatmap": [
           {
            "colorbar": {
             "outlinewidth": 0,
             "ticks": ""
            },
            "colorscale": [
             [
              0,
              "#0d0887"
             ],
             [
              0.1111111111111111,
              "#46039f"
             ],
             [
              0.2222222222222222,
              "#7201a8"
             ],
             [
              0.3333333333333333,
              "#9c179e"
             ],
             [
              0.4444444444444444,
              "#bd3786"
             ],
             [
              0.5555555555555556,
              "#d8576b"
             ],
             [
              0.6666666666666666,
              "#ed7953"
             ],
             [
              0.7777777777777778,
              "#fb9f3a"
             ],
             [
              0.8888888888888888,
              "#fdca26"
             ],
             [
              1,
              "#f0f921"
             ]
            ],
            "type": "heatmap"
           }
          ],
          "heatmapgl": [
           {
            "colorbar": {
             "outlinewidth": 0,
             "ticks": ""
            },
            "colorscale": [
             [
              0,
              "#0d0887"
             ],
             [
              0.1111111111111111,
              "#46039f"
             ],
             [
              0.2222222222222222,
              "#7201a8"
             ],
             [
              0.3333333333333333,
              "#9c179e"
             ],
             [
              0.4444444444444444,
              "#bd3786"
             ],
             [
              0.5555555555555556,
              "#d8576b"
             ],
             [
              0.6666666666666666,
              "#ed7953"
             ],
             [
              0.7777777777777778,
              "#fb9f3a"
             ],
             [
              0.8888888888888888,
              "#fdca26"
             ],
             [
              1,
              "#f0f921"
             ]
            ],
            "type": "heatmapgl"
           }
          ],
          "histogram": [
           {
            "marker": {
             "pattern": {
              "fillmode": "overlay",
              "size": 10,
              "solidity": 0.2
             }
            },
            "type": "histogram"
           }
          ],
          "histogram2d": [
           {
            "colorbar": {
             "outlinewidth": 0,
             "ticks": ""
            },
            "colorscale": [
             [
              0,
              "#0d0887"
             ],
             [
              0.1111111111111111,
              "#46039f"
             ],
             [
              0.2222222222222222,
              "#7201a8"
             ],
             [
              0.3333333333333333,
              "#9c179e"
             ],
             [
              0.4444444444444444,
              "#bd3786"
             ],
             [
              0.5555555555555556,
              "#d8576b"
             ],
             [
              0.6666666666666666,
              "#ed7953"
             ],
             [
              0.7777777777777778,
              "#fb9f3a"
             ],
             [
              0.8888888888888888,
              "#fdca26"
             ],
             [
              1,
              "#f0f921"
             ]
            ],
            "type": "histogram2d"
           }
          ],
          "histogram2dcontour": [
           {
            "colorbar": {
             "outlinewidth": 0,
             "ticks": ""
            },
            "colorscale": [
             [
              0,
              "#0d0887"
             ],
             [
              0.1111111111111111,
              "#46039f"
             ],
             [
              0.2222222222222222,
              "#7201a8"
             ],
             [
              0.3333333333333333,
              "#9c179e"
             ],
             [
              0.4444444444444444,
              "#bd3786"
             ],
             [
              0.5555555555555556,
              "#d8576b"
             ],
             [
              0.6666666666666666,
              "#ed7953"
             ],
             [
              0.7777777777777778,
              "#fb9f3a"
             ],
             [
              0.8888888888888888,
              "#fdca26"
             ],
             [
              1,
              "#f0f921"
             ]
            ],
            "type": "histogram2dcontour"
           }
          ],
          "mesh3d": [
           {
            "colorbar": {
             "outlinewidth": 0,
             "ticks": ""
            },
            "type": "mesh3d"
           }
          ],
          "parcoords": [
           {
            "line": {
             "colorbar": {
              "outlinewidth": 0,
              "ticks": ""
             }
            },
            "type": "parcoords"
           }
          ],
          "pie": [
           {
            "automargin": true,
            "type": "pie"
           }
          ],
          "scatter": [
           {
            "fillpattern": {
             "fillmode": "overlay",
             "size": 10,
             "solidity": 0.2
            },
            "type": "scatter"
           }
          ],
          "scatter3d": [
           {
            "line": {
             "colorbar": {
              "outlinewidth": 0,
              "ticks": ""
             }
            },
            "marker": {
             "colorbar": {
              "outlinewidth": 0,
              "ticks": ""
             }
            },
            "type": "scatter3d"
           }
          ],
          "scattercarpet": [
           {
            "marker": {
             "colorbar": {
              "outlinewidth": 0,
              "ticks": ""
             }
            },
            "type": "scattercarpet"
           }
          ],
          "scattergeo": [
           {
            "marker": {
             "colorbar": {
              "outlinewidth": 0,
              "ticks": ""
             }
            },
            "type": "scattergeo"
           }
          ],
          "scattergl": [
           {
            "marker": {
             "colorbar": {
              "outlinewidth": 0,
              "ticks": ""
             }
            },
            "type": "scattergl"
           }
          ],
          "scattermapbox": [
           {
            "marker": {
             "colorbar": {
              "outlinewidth": 0,
              "ticks": ""
             }
            },
            "type": "scattermapbox"
           }
          ],
          "scatterpolar": [
           {
            "marker": {
             "colorbar": {
              "outlinewidth": 0,
              "ticks": ""
             }
            },
            "type": "scatterpolar"
           }
          ],
          "scatterpolargl": [
           {
            "marker": {
             "colorbar": {
              "outlinewidth": 0,
              "ticks": ""
             }
            },
            "type": "scatterpolargl"
           }
          ],
          "scatterternary": [
           {
            "marker": {
             "colorbar": {
              "outlinewidth": 0,
              "ticks": ""
             }
            },
            "type": "scatterternary"
           }
          ],
          "surface": [
           {
            "colorbar": {
             "outlinewidth": 0,
             "ticks": ""
            },
            "colorscale": [
             [
              0,
              "#0d0887"
             ],
             [
              0.1111111111111111,
              "#46039f"
             ],
             [
              0.2222222222222222,
              "#7201a8"
             ],
             [
              0.3333333333333333,
              "#9c179e"
             ],
             [
              0.4444444444444444,
              "#bd3786"
             ],
             [
              0.5555555555555556,
              "#d8576b"
             ],
             [
              0.6666666666666666,
              "#ed7953"
             ],
             [
              0.7777777777777778,
              "#fb9f3a"
             ],
             [
              0.8888888888888888,
              "#fdca26"
             ],
             [
              1,
              "#f0f921"
             ]
            ],
            "type": "surface"
           }
          ],
          "table": [
           {
            "cells": {
             "fill": {
              "color": "#EBF0F8"
             },
             "line": {
              "color": "white"
             }
            },
            "header": {
             "fill": {
              "color": "#C8D4E3"
             },
             "line": {
              "color": "white"
             }
            },
            "type": "table"
           }
          ]
         },
         "layout": {
          "annotationdefaults": {
           "arrowcolor": "#2a3f5f",
           "arrowhead": 0,
           "arrowwidth": 1
          },
          "autotypenumbers": "strict",
          "coloraxis": {
           "colorbar": {
            "outlinewidth": 0,
            "ticks": ""
           }
          },
          "colorscale": {
           "diverging": [
            [
             0,
             "#8e0152"
            ],
            [
             0.1,
             "#c51b7d"
            ],
            [
             0.2,
             "#de77ae"
            ],
            [
             0.3,
             "#f1b6da"
            ],
            [
             0.4,
             "#fde0ef"
            ],
            [
             0.5,
             "#f7f7f7"
            ],
            [
             0.6,
             "#e6f5d0"
            ],
            [
             0.7,
             "#b8e186"
            ],
            [
             0.8,
             "#7fbc41"
            ],
            [
             0.9,
             "#4d9221"
            ],
            [
             1,
             "#276419"
            ]
           ],
           "sequential": [
            [
             0,
             "#0d0887"
            ],
            [
             0.1111111111111111,
             "#46039f"
            ],
            [
             0.2222222222222222,
             "#7201a8"
            ],
            [
             0.3333333333333333,
             "#9c179e"
            ],
            [
             0.4444444444444444,
             "#bd3786"
            ],
            [
             0.5555555555555556,
             "#d8576b"
            ],
            [
             0.6666666666666666,
             "#ed7953"
            ],
            [
             0.7777777777777778,
             "#fb9f3a"
            ],
            [
             0.8888888888888888,
             "#fdca26"
            ],
            [
             1,
             "#f0f921"
            ]
           ],
           "sequentialminus": [
            [
             0,
             "#0d0887"
            ],
            [
             0.1111111111111111,
             "#46039f"
            ],
            [
             0.2222222222222222,
             "#7201a8"
            ],
            [
             0.3333333333333333,
             "#9c179e"
            ],
            [
             0.4444444444444444,
             "#bd3786"
            ],
            [
             0.5555555555555556,
             "#d8576b"
            ],
            [
             0.6666666666666666,
             "#ed7953"
            ],
            [
             0.7777777777777778,
             "#fb9f3a"
            ],
            [
             0.8888888888888888,
             "#fdca26"
            ],
            [
             1,
             "#f0f921"
            ]
           ]
          },
          "colorway": [
           "#636efa",
           "#EF553B",
           "#00cc96",
           "#ab63fa",
           "#FFA15A",
           "#19d3f3",
           "#FF6692",
           "#B6E880",
           "#FF97FF",
           "#FECB52"
          ],
          "font": {
           "color": "#2a3f5f"
          },
          "geo": {
           "bgcolor": "white",
           "lakecolor": "white",
           "landcolor": "#E5ECF6",
           "showlakes": true,
           "showland": true,
           "subunitcolor": "white"
          },
          "hoverlabel": {
           "align": "left"
          },
          "hovermode": "closest",
          "mapbox": {
           "style": "light"
          },
          "paper_bgcolor": "white",
          "plot_bgcolor": "#E5ECF6",
          "polar": {
           "angularaxis": {
            "gridcolor": "white",
            "linecolor": "white",
            "ticks": ""
           },
           "bgcolor": "#E5ECF6",
           "radialaxis": {
            "gridcolor": "white",
            "linecolor": "white",
            "ticks": ""
           }
          },
          "scene": {
           "xaxis": {
            "backgroundcolor": "#E5ECF6",
            "gridcolor": "white",
            "gridwidth": 2,
            "linecolor": "white",
            "showbackground": true,
            "ticks": "",
            "zerolinecolor": "white"
           },
           "yaxis": {
            "backgroundcolor": "#E5ECF6",
            "gridcolor": "white",
            "gridwidth": 2,
            "linecolor": "white",
            "showbackground": true,
            "ticks": "",
            "zerolinecolor": "white"
           },
           "zaxis": {
            "backgroundcolor": "#E5ECF6",
            "gridcolor": "white",
            "gridwidth": 2,
            "linecolor": "white",
            "showbackground": true,
            "ticks": "",
            "zerolinecolor": "white"
           }
          },
          "shapedefaults": {
           "line": {
            "color": "#2a3f5f"
           }
          },
          "ternary": {
           "aaxis": {
            "gridcolor": "white",
            "linecolor": "white",
            "ticks": ""
           },
           "baxis": {
            "gridcolor": "white",
            "linecolor": "white",
            "ticks": ""
           },
           "bgcolor": "#E5ECF6",
           "caxis": {
            "gridcolor": "white",
            "linecolor": "white",
            "ticks": ""
           }
          },
          "title": {
           "x": 0.05
          },
          "xaxis": {
           "automargin": true,
           "gridcolor": "white",
           "linecolor": "white",
           "ticks": "",
           "title": {
            "standoff": 15
           },
           "zerolinecolor": "white",
           "zerolinewidth": 2
          },
          "yaxis": {
           "automargin": true,
           "gridcolor": "white",
           "linecolor": "white",
           "ticks": "",
           "title": {
            "standoff": 15
           },
           "zerolinecolor": "white",
           "zerolinewidth": 2
          }
         }
        },
        "title": {
         "text": " % of Sates Population in Poverty"
        }
       }
      },
      "image/png": "[encoded data removed]",
      "text/html": [
       "<div>                            <div id=\"d557bfd5-f42b-4642-aa20-46dc2e985aff\" class=\"plotly-graph-div\" style=\"height:525px; width:100%;\"></div>            <script type=\"text/javascript\">                require([\"plotly\"], function(Plotly) {                    window.PLOTLYENV=window.PLOTLYENV || {};                                    if (document.getElementById(\"d557bfd5-f42b-4642-aa20-46dc2e985aff\")) {                    Plotly.newPlot(                        \"d557bfd5-f42b-4642-aa20-46dc2e985aff\",                        [{\"coloraxis\":\"coloraxis\",\"geo\":\"geo\",\"hovertemplate\":\"Abbreviation=%{location}<br>total_est_pct2=%{z}<extra></extra>\",\"locationmode\":\"USA-states\",\"locations\":[\"AL\",\"AK\",\"AZ\",\"AR\",\"CA\",\"CO\",\"CT\",\"DE\",null,\"FL\",\"GA\",\"HI\",\"ID\",\"IL\",\"IN\",\"IA\",\"KS\",\"KY\",\"LA\",\"ME\",\"MD\",\"MA\",\"MI\",\"MN\",\"MS\",\"MO\",\"MT\",null,\"NE\",\"NV\",\"NH\",\"NJ\",\"NM\",\"NY\",\"NC\",\"ND\",\"OH\",\"OK\",\"OR\",\"PA\",\"RI\",\"SC\",\"SD\",\"TN\",\"TX\",\"UT\",\"VT\",\"VA\",\"WA\",\"WV\",\"WI\",\"WY\"],\"name\":\"\",\"z\":[16.3,10.8,12.9,16.0,12.3,9.7,10.1,11.5,16.8,13.2,14.2,10.9,10.8,12.1,12.1,11.0,11.6,16.3,19.5,11.2,10.3,10.4,13.0,9.3,19.2,12.8,12.0,12.8,10.5,14.0,7.4,10.2,17.7,14.0,13.5,10.9,13.3,15.4,12.2,12.0,12.1,14.5,11.9,13.7,14.2,8.7,10.2,10.3,9.9,16.8,10.8,10.6],\"type\":\"choropleth\"}],                        {\"template\":{\"data\":{\"histogram2dcontour\":[{\"type\":\"histogram2dcontour\",\"colorbar\":{\"outlinewidth\":0,\"ticks\":\"\"},\"colorscale\":[[0.0,\"#0d0887\"],[0.1111111111111111,\"#46039f\"],[0.2222222222222222,\"#7201a8\"],[0.3333333333333333,\"#9c179e\"],[0.4444444444444444,\"#bd3786\"],[0.5555555555555556,\"#d8576b\"],[0.6666666666666666,\"#ed7953\"],[0.7777777777777778,\"#fb9f3a\"],[0.8888888888888888,\"#fdca26\"],[1.0,\"#f0f921\"]]}],\"choropleth\":[{\"type\":\"choropleth\",\"colorbar\":{\"outlinewidth\":0,\"ticks\":\"\"}}],\"histogram2d\":[{\"type\":\"histogram2d\",\"colorbar\":{\"outlinewidth\":0,\"ticks\":\"\"},\"colorscale\":[[0.0,\"#0d0887\"],[0.1111111111111111,\"#46039f\"],[0.2222222222222222,\"#7201a8\"],[0.3333333333333333,\"#9c179e\"],[0.4444444444444444,\"#bd3786\"],[0.5555555555555556,\"#d8576b\"],[0.6666666666666666,\"#ed7953\"],[0.7777777777777778,\"#fb9f3a\"],[0.8888888888888888,\"#fdca26\"],[1.0,\"#f0f921\"]]}],\"heatmap\":[{\"type\":\"heatmap\",\"colorbar\":{\"outlinewidth\":0,\"ticks\":\"\"},\"colorscale\":[[0.0,\"#0d0887\"],[0.1111111111111111,\"#46039f\"],[0.2222222222222222,\"#7201a8\"],[0.3333333333333333,\"#9c179e\"],[0.4444444444444444,\"#bd3786\"],[0.5555555555555556,\"#d8576b\"],[0.6666666666666666,\"#ed7953\"],[0.7777777777777778,\"#fb9f3a\"],[0.8888888888888888,\"#fdca26\"],[1.0,\"#f0f921\"]]}],\"heatmapgl\":[{\"type\":\"heatmapgl\",\"colorbar\":{\"outlinewidth\":0,\"ticks\":\"\"},\"colorscale\":[[0.0,\"#0d0887\"],[0.1111111111111111,\"#46039f\"],[0.2222222222222222,\"#7201a8\"],[0.3333333333333333,\"#9c179e\"],[0.4444444444444444,\"#bd3786\"],[0.5555555555555556,\"#d8576b\"],[0.6666666666666666,\"#ed7953\"],[0.7777777777777778,\"#fb9f3a\"],[0.8888888888888888,\"#fdca26\"],[1.0,\"#f0f921\"]]}],\"contourcarpet\":[{\"type\":\"contourcarpet\",\"colorbar\":{\"outlinewidth\":0,\"ticks\":\"\"}}],\"contour\":[{\"type\":\"contour\",\"colorbar\":{\"outlinewidth\":0,\"ticks\":\"\"},\"colorscale\":[[0.0,\"#0d0887\"],[0.1111111111111111,\"#46039f\"],[0.2222222222222222,\"#7201a8\"],[0.3333333333333333,\"#9c179e\"],[0.4444444444444444,\"#bd3786\"],[0.5555555555555556,\"#d8576b\"],[0.6666666666666666,\"#ed7953\"],[0.7777777777777778,\"#fb9f3a\"],[0.8888888888888888,\"#fdca26\"],[1.0,\"#f0f921\"]]}],\"surface\":[{\"type\":\"surface\",\"colorbar\":{\"outlinewidth\":0,\"ticks\":\"\"},\"colorscale\":[[0.0,\"#0d0887\"],[0.1111111111111111,\"#46039f\"],[0.2222222222222222,\"#7201a8\"],[0.3333333333333333,\"#9c179e\"],[0.4444444444444444,\"#bd3786\"],[0.5555555555555556,\"#d8576b\"],[0.6666666666666666,\"#ed7953\"],[0.7777777777777778,\"#fb9f3a\"],[0.8888888888888888,\"#fdca26\"],[1.0,\"#f0f921\"]]}],\"mesh3d\":[{\"type\":\"mesh3d\",\"colorbar\":{\"outlinewidth\":0,\"ticks\":\"\"}}],\"scatter\":[{\"fillpattern\":{\"fillmode\":\"overlay\",\"size\":10,\"solidity\":0.2},\"type\":\"scatter\"}],\"parcoords\":[{\"type\":\"parcoords\",\"line\":{\"colorbar\":{\"outlinewidth\":0,\"ticks\":\"\"}}}],\"scatterpolargl\":[{\"type\":\"scatterpolargl\",\"marker\":{\"colorbar\":{\"outlinewidth\":0,\"ticks\":\"\"}}}],\"bar\":[{\"error_x\":{\"color\":\"#2a3f5f\"},\"error_y\":{\"color\":\"#2a3f5f\"},\"marker\":{\"line\":{\"color\":\"#E5ECF6\",\"width\":0.5},\"pattern\":{\"fillmode\":\"overlay\",\"size\":10,\"solidity\":0.2}},\"type\":\"bar\"}],\"scattergeo\":[{\"type\":\"scattergeo\",\"marker\":{\"colorbar\":{\"outlinewidth\":0,\"ticks\":\"\"}}}],\"scatterpolar\":[{\"type\":\"scatterpolar\",\"marker\":{\"colorbar\":{\"outlinewidth\":0,\"ticks\":\"\"}}}],\"histogram\":[{\"marker\":{\"pattern\":{\"fillmode\":\"overlay\",\"size\":10,\"solidity\":0.2}},\"type\":\"histogram\"}],\"scattergl\":[{\"type\":\"scattergl\",\"marker\":{\"colorbar\":{\"outlinewidth\":0,\"ticks\":\"\"}}}],\"scatter3d\":[{\"type\":\"scatter3d\",\"line\":{\"colorbar\":{\"outlinewidth\":0,\"ticks\":\"\"}},\"marker\":{\"colorbar\":{\"outlinewidth\":0,\"ticks\":\"\"}}}],\"scattermapbox\":[{\"type\":\"scattermapbox\",\"marker\":{\"colorbar\":{\"outlinewidth\":0,\"ticks\":\"\"}}}],\"scatterternary\":[{\"type\":\"scatterternary\",\"marker\":{\"colorbar\":{\"outlinewidth\":0,\"ticks\":\"\"}}}],\"scattercarpet\":[{\"type\":\"scattercarpet\",\"marker\":{\"colorbar\":{\"outlinewidth\":0,\"ticks\":\"\"}}}],\"carpet\":[{\"aaxis\":{\"endlinecolor\":\"#2a3f5f\",\"gridcolor\":\"white\",\"linecolor\":\"white\",\"minorgridcolor\":\"white\",\"startlinecolor\":\"#2a3f5f\"},\"baxis\":{\"endlinecolor\":\"#2a3f5f\",\"gridcolor\":\"white\",\"linecolor\":\"white\",\"minorgridcolor\":\"white\",\"startlinecolor\":\"#2a3f5f\"},\"type\":\"carpet\"}],\"table\":[{\"cells\":{\"fill\":{\"color\":\"#EBF0F8\"},\"line\":{\"color\":\"white\"}},\"header\":{\"fill\":{\"color\":\"#C8D4E3\"},\"line\":{\"color\":\"white\"}},\"type\":\"table\"}],\"barpolar\":[{\"marker\":{\"line\":{\"color\":\"#E5ECF6\",\"width\":0.5},\"pattern\":{\"fillmode\":\"overlay\",\"size\":10,\"solidity\":0.2}},\"type\":\"barpolar\"}],\"pie\":[{\"automargin\":true,\"type\":\"pie\"}]},\"layout\":{\"autotypenumbers\":\"strict\",\"colorway\":[\"#636efa\",\"#EF553B\",\"#00cc96\",\"#ab63fa\",\"#FFA15A\",\"#19d3f3\",\"#FF6692\",\"#B6E880\",\"#FF97FF\",\"#FECB52\"],\"font\":{\"color\":\"#2a3f5f\"},\"hovermode\":\"closest\",\"hoverlabel\":{\"align\":\"left\"},\"paper_bgcolor\":\"white\",\"plot_bgcolor\":\"#E5ECF6\",\"polar\":{\"bgcolor\":\"#E5ECF6\",\"angularaxis\":{\"gridcolor\":\"white\",\"linecolor\":\"white\",\"ticks\":\"\"},\"radialaxis\":{\"gridcolor\":\"white\",\"linecolor\":\"white\",\"ticks\":\"\"}},\"ternary\":{\"bgcolor\":\"#E5ECF6\",\"aaxis\":{\"gridcolor\":\"white\",\"linecolor\":\"white\",\"ticks\":\"\"},\"baxis\":{\"gridcolor\":\"white\",\"linecolor\":\"white\",\"ticks\":\"\"},\"caxis\":{\"gridcolor\":\"white\",\"linecolor\":\"white\",\"ticks\":\"\"}},\"coloraxis\":{\"colorbar\":{\"outlinewidth\":0,\"ticks\":\"\"}},\"colorscale\":{\"sequential\":[[0.0,\"#0d0887\"],[0.1111111111111111,\"#46039f\"],[0.2222222222222222,\"#7201a8\"],[0.3333333333333333,\"#9c179e\"],[0.4444444444444444,\"#bd3786\"],[0.5555555555555556,\"#d8576b\"],[0.6666666666666666,\"#ed7953\"],[0.7777777777777778,\"#fb9f3a\"],[0.8888888888888888,\"#fdca26\"],[1.0,\"#f0f921\"]],\"sequentialminus\":[[0.0,\"#0d0887\"],[0.1111111111111111,\"#46039f\"],[0.2222222222222222,\"#7201a8\"],[0.3333333333333333,\"#9c179e\"],[0.4444444444444444,\"#bd3786\"],[0.5555555555555556,\"#d8576b\"],[0.6666666666666666,\"#ed7953\"],[0.7777777777777778,\"#fb9f3a\"],[0.8888888888888888,\"#fdca26\"],[1.0,\"#f0f921\"]],\"diverging\":[[0,\"#8e0152\"],[0.1,\"#c51b7d\"],[0.2,\"#de77ae\"],[0.3,\"#f1b6da\"],[0.4,\"#fde0ef\"],[0.5,\"#f7f7f7\"],[0.6,\"#e6f5d0\"],[0.7,\"#b8e186\"],[0.8,\"#7fbc41\"],[0.9,\"#4d9221\"],[1,\"#276419\"]]},\"xaxis\":{\"gridcolor\":\"white\",\"linecolor\":\"white\",\"ticks\":\"\",\"title\":{\"standoff\":15},\"zerolinecolor\":\"white\",\"automargin\":true,\"zerolinewidth\":2},\"yaxis\":{\"gridcolor\":\"white\",\"linecolor\":\"white\",\"ticks\":\"\",\"title\":{\"standoff\":15},\"zerolinecolor\":\"white\",\"automargin\":true,\"zerolinewidth\":2},\"scene\":{\"xaxis\":{\"backgroundcolor\":\"#E5ECF6\",\"gridcolor\":\"white\",\"linecolor\":\"white\",\"showbackground\":true,\"ticks\":\"\",\"zerolinecolor\":\"white\",\"gridwidth\":2},\"yaxis\":{\"backgroundcolor\":\"#E5ECF6\",\"gridcolor\":\"white\",\"linecolor\":\"white\",\"showbackground\":true,\"ticks\":\"\",\"zerolinecolor\":\"white\",\"gridwidth\":2},\"zaxis\":{\"backgroundcolor\":\"#E5ECF6\",\"gridcolor\":\"white\",\"linecolor\":\"white\",\"showbackground\":true,\"ticks\":\"\",\"zerolinecolor\":\"white\",\"gridwidth\":2}},\"shapedefaults\":{\"line\":{\"color\":\"#2a3f5f\"}},\"annotationdefaults\":{\"arrowcolor\":\"#2a3f5f\",\"arrowhead\":0,\"arrowwidth\":1},\"geo\":{\"bgcolor\":\"white\",\"landcolor\":\"#E5ECF6\",\"subunitcolor\":\"white\",\"showland\":true,\"showlakes\":true,\"lakecolor\":\"white\"},\"title\":{\"x\":0.05},\"mapbox\":{\"style\":\"light\"}}},\"geo\":{\"domain\":{\"x\":[0.0,1.0],\"y\":[0.0,1.0]},\"center\":{},\"scope\":\"usa\"},\"coloraxis\":{\"colorbar\":{\"title\":{\"text\":\"total_est_pct2\"}},\"colorscale\":[[0.0,\"rgb(255,255,204)\"],[0.125,\"rgb(255,237,160)\"],[0.25,\"rgb(254,217,118)\"],[0.375,\"rgb(254,178,76)\"],[0.5,\"rgb(253,141,60)\"],[0.625,\"rgb(252,78,42)\"],[0.75,\"rgb(227,26,28)\"],[0.875,\"rgb(189,0,38)\"],[1.0,\"rgb(128,0,38)\"]]},\"legend\":{\"tracegroupgap\":0},\"title\":{\"text\":\" % of Sates Population in Poverty\"}},                        {\"responsive\": true}                    ).then(function(){\n",
       "                            \n",
       "var gd = document.getElementById('d557bfd5-f42b-4642-aa20-46dc2e985aff');\n",
       "var x = new MutationObserver(function (mutations, observer) {{\n",
       "        var display = window.getComputedStyle(gd).display;\n",
       "        if (!display || display === 'none') {{\n",
       "            console.log([gd, 'removed!']);\n",
       "            Plotly.purge(gd);\n",
       "            observer.disconnect();\n",
       "        }}\n",
       "}});\n",
       "\n",
       "// Listen for the removal of the full notebook cells\n",
       "var notebookContainer = gd.closest('#notebook-container');\n",
       "if (notebookContainer) {{\n",
       "    x.observe(notebookContainer, {childList: true});\n",
       "}}\n",
       "\n",
       "// Listen for the clearing of the current output cell\n",
       "var outputEl = gd.closest('.output');\n",
       "if (outputEl) {{\n",
       "    x.observe(outputEl, {childList: true});\n",
       "}}\n",
       "\n",
       "                        })                };                });            </script>        </div>"
      ]
     },
     "metadata": {},
     "output_type": "display_data"
    }
   ],
   "source": [
    "# Create the choropleth map\n",
    "fig = px.choropleth(df,\n",
    "                    locations='Abbreviation',\n",
    "                    locationmode=\"USA-states\",\n",
    "                    color='total_est_pct2',\n",
    "                    scope=\"usa\",\n",
    "                    color_continuous_scale=\"YlOrRd\",  # or any other color scale\n",
    "                    title=\" % of Sates Population in Poverty\")\n",
    "\n",
    "# Show the figure\n",
    "fig.show()"
   ]
  },
  {
   "cell_type": "code",
   "execution_count": 117,
   "id": "c467c0e9-e9ef-4410-b958-762433ebad5c",
   "metadata": {},
   "outputs": [
    {
     "data": {
      "image/png": "[encoded data removed]",
      "text/plain": [
       "<Figure size 1000x600 with 1 Axes>"
      ]
     },
     "metadata": {},
     "output_type": "display_data"
    }
   ],
   "source": [
    "# Create a DataFrame from the provided data\n",
    "data = {\n",
    "    'state_National': ['Alabama', 'Alaska', 'Arizona', 'Arkansas', 'California', 'Colorado', 'Connecticut', 'Delaware', \n",
    "                       'District of Columbia', 'Florida', 'Georgia', 'Hawaii', 'Idaho', 'Illinois', 'Indiana', 'Iowa', \n",
    "                       'Kansas', 'Kentucky', 'Louisiana', 'Maine', 'Maryland', 'Massachusetts', 'Michigan', 'Minnesota', \n",
    "                       'Mississippi', 'Missouri', 'Montana', 'National', 'Nebraska', 'Nevada', 'New Hampshire', \n",
    "                       'New Jersey', 'New Mexico', 'New York', 'North Carolina', 'North Dakota', 'Ohio', 'Oklahoma', \n",
    "                       'Oregon', 'Pennsylvania', 'Rhode Island', 'South Carolina', 'South Dakota', 'Tennessee', 'Texas', \n",
    "                       'Utah', 'Vermont', 'Virginia', 'Washington', 'West Virginia', 'Wisconsin'],\n",
    "    'total_est_pct2': [16.3, 10.8, 12.9, 16.0, 12.3, 9.7, 10.1, 11.5, 16.8, 13.2, 14.2, 10.9, 10.8, 12.1, 12.1, 11.0, \n",
    "                       11.6, 16.3, 19.5, 11.2, 10.3, 10.4, 13.0, 9.3, 19.2, 12.8, 12.0, 12.8, 10.5, 14.0, 7.4, 10.2, 17.7, \n",
    "                       14.0, 13.5, 10.9, 13.3, 15.4, 12.2, 12.0, 12.1, 14.5, 11.9, 13.7, 14.2, 8.7, 10.2, 10.3, 9.9, 16.8, \n",
    "                       10.8],\n",
    "    'Abbreviation': ['AL', 'AK', 'AZ', 'AR', 'CA', 'CO', 'CT', 'DE', 'NaN', 'FL', 'GA', 'HI', 'ID', 'IL', 'IN', 'IA', \n",
    "                     'KS', 'KY', 'LA', 'ME', 'MD', 'MA', 'MI', 'MN', 'MS', 'MO', 'MT', 'NE', 'NV', 'NH', 'NJ', 'NM', \n",
    "                     'NY', 'NC', 'ND', 'OH', 'OK', 'OR', 'PA', 'RI', 'SC', 'SD', 'TN', 'TX', 'UT', 'VT', 'VA', 'WA', \n",
    "                     'WV', 'WI', 'WY']\n",
    "}\n",
    "\n",
    "df4 = pd.DataFrame(data)\n",
    "\n",
    "# Sort the DataFrame based on the total_est_pct2 column in descending order and select the top 5 states\n",
    "top_5_states = df4.sort_values(by='total_est_pct2', ascending=False).head(10)\n",
    "\n",
    "# Plot the bar chart\n",
    "plt.figure(figsize=(10, 6))\n",
    "plt.bar(top_5_states['Abbreviation'], top_5_states['total_est_pct2'], color='orange')\n",
    "plt.xlabel('State')\n",
    "plt.ylabel('Percent of People in Poverty')\n",
    "plt.title('Top 10 States with the Highest Percent of People in Poverty')\n",
    "plt.show()"
   ]
  },
  {
   "cell_type": "code",
   "execution_count": 118,
   "id": "00b76b7b-5a3a-4a5d-92da-8ee1c2f27bf2",
   "metadata": {},
   "outputs": [],
   "source": [
    "#read into death_data to look at opiode related deaths per state\n",
    "df5 = pd.read_csv('Resources/death_data.csv')"
   ]
  },
  {
   "cell_type": "code",
   "execution_count": 119,
   "id": "2dc42bb7-8b4f-4819-8db9-bc3525a8fb7b",
   "metadata": {},
   "outputs": [],
   "source": [
    "# add abbreviation column for heat map of united states\n",
    "df2['Abbreviation'] = df2['State'].map(state_abbreviations)"
   ]
  },
  {
   "cell_type": "code",
   "execution_count": 120,
   "id": "86652414-74a0-4f93-9f8a-83e37d5af7de",
   "metadata": {},
   "outputs": [
    {
     "data": {
      "text/html": [
       "<div>\n",
       "<style scoped>\n",
       "    .dataframe tbody tr th:only-of-type {\n",
       "        vertical-align: middle;\n",
       "    }\n",
       "\n",
       "    .dataframe tbody tr th {\n",
       "        vertical-align: top;\n",
       "    }\n",
       "\n",
       "    .dataframe thead th {\n",
       "        text-align: right;\n",
       "    }\n",
       "</style>\n",
       "<table border=\"1\" class=\"dataframe\">\n",
       "  <thead>\n",
       "    <tr style=\"text-align: right;\">\n",
       "      <th></th>\n",
       "      <th>State</th>\n",
       "      <th>Deaths</th>\n",
       "      <th>Abbreviation</th>\n",
       "    </tr>\n",
       "  </thead>\n",
       "  <tbody>\n",
       "    <tr>\n",
       "      <th>15</th>\n",
       "      <td>Alabama</td>\n",
       "      <td>282</td>\n",
       "      <td>AL</td>\n",
       "    </tr>\n",
       "    <tr>\n",
       "      <th>31</th>\n",
       "      <td>Alaska</td>\n",
       "      <td>79</td>\n",
       "      <td>AK</td>\n",
       "    </tr>\n",
       "    <tr>\n",
       "      <th>47</th>\n",
       "      <td>Arizona</td>\n",
       "      <td>616</td>\n",
       "      <td>AZ</td>\n",
       "    </tr>\n",
       "    <tr>\n",
       "      <th>63</th>\n",
       "      <td>Arkansas</td>\n",
       "      <td>179</td>\n",
       "      <td>AR</td>\n",
       "    </tr>\n",
       "    <tr>\n",
       "      <th>79</th>\n",
       "      <td>California</td>\n",
       "      <td>2159</td>\n",
       "      <td>CA</td>\n",
       "    </tr>\n",
       "  </tbody>\n",
       "</table>\n",
       "</div>"
      ],
      "text/plain": [
       "         State Deaths Abbreviation\n",
       "15     Alabama    282           AL\n",
       "31      Alaska     79           AK\n",
       "47     Arizona    616           AZ\n",
       "63    Arkansas    179           AR\n",
       "79  California   2159           CA"
      ]
     },
     "execution_count": 120,
     "metadata": {},
     "output_type": "execute_result"
    }
   ],
   "source": [
    "# add abbreviation column and read into only neccessary columns and rows\n",
    "df3 = df2.loc[(df2[\"Year\"] == 2014), [\"State\", \"Deaths\", \"Abbreviation\"]]\n",
    "df3.head()"
   ]
  },
  {
   "cell_type": "code",
   "execution_count": 121,
   "id": "403042e9-3ce8-4777-baea-e2dd747cade8",
   "metadata": {},
   "outputs": [
    {
     "data": {
      "application/vnd.plotly.v1+json": {
       "config": {
        "plotlyServerURL": "https://plot.ly"
       },
       "data": [
        {
         "colorscale": [
          [
           0,
           "#636efa"
          ],
          [
           1,
           "#636efa"
          ]
         ],
         "geo": "geo",
         "hovertemplate": "Deaths=39<br>Abbreviation=%{location}<extra></extra>",
         "locationmode": "USA-states",
         "locations": [
          "AL",
          "HI",
          "VT"
         ],
         "name": "39",
         "showlegend": true,
         "showscale": false,
         "type": "choropleth",
         "z": [
          1,
          1,
          1
         ]
        },
        {
         "colorscale": [
          [
           0,
           "#EF553B"
          ],
          [
           1,
           "#EF553B"
          ]
         ],
         "geo": "geo",
         "hovertemplate": "Deaths=46<br>Abbreviation=%{location}<extra></extra>",
         "locationmode": "USA-states",
         "locations": [
          "AL",
          "DE",
          "MT",
          "MT",
          "VT",
          "VT"
         ],
         "name": "46",
         "showlegend": true,
         "showscale": false,
         "type": "choropleth",
         "z": [
          1,
          1,
          1,
          1,
          1,
          1
         ]
        },
        {
         "colorscale": [
          [
           0,
           "#00cc96"
          ],
          [
           1,
           "#00cc96"
          ]
         ],
         "geo": "geo",
         "hovertemplate": "Deaths=67<br>Abbreviation=%{location}<extra></extra>",
         "locationmode": "USA-states",
         "locations": [
          "AL",
          "HI",
          "MN"
         ],
         "name": "67",
         "showlegend": true,
         "showscale": false,
         "type": "choropleth",
         "z": [
          1,
          1,
          1
         ]
        },
        {
         "colorscale": [
          [
           0,
           "#ab63fa"
          ],
          [
           1,
           "#ab63fa"
          ]
         ],
         "geo": "geo",
         "hovertemplate": "Deaths=75<br>Abbreviation=%{location}<extra></extra>",
         "locationmode": "USA-states",
         "locations": [
          "AL",
          "HI",
          "ID",
          "VT"
         ],
         "name": "75",
         "showlegend": true,
         "showscale": false,
         "type": "choropleth",
         "z": [
          1,
          1,
          1,
          1
         ]
        },
        {
         "colorscale": [
          [
           0,
           "#FFA15A"
          ],
          [
           1,
           "#FFA15A"
          ]
         ],
         "geo": "geo",
         "hovertemplate": "Deaths=54<br>Abbreviation=%{location}<extra></extra>",
         "locationmode": "USA-states",
         "locations": [
          "AL",
          "DE",
          "MT",
          "NE",
          "VT"
         ],
         "name": "54",
         "showlegend": true,
         "showscale": false,
         "type": "choropleth",
         "z": [
          1,
          1,
          1,
          1,
          1
         ]
        },
        {
         "colorscale": [
          [
           0,
           "#19d3f3"
          ],
          [
           1,
           "#19d3f3"
          ]
         ],
         "geo": "geo",
         "hovertemplate": "Deaths=92<br>Abbreviation=%{location}<extra></extra>",
         "locationmode": "USA-states",
         "locations": [
          "AL",
          "ME",
          "NH"
         ],
         "name": "92",
         "showlegend": true,
         "showscale": false,
         "type": "choropleth",
         "z": [
          1,
          1,
          1
         ]
        },
        {
         "colorscale": [
          [
           0,
           "#FF6692"
          ],
          [
           1,
           "#FF6692"
          ]
         ],
         "geo": "geo",
         "hovertemplate": "Deaths=83<br>Abbreviation=%{location}<extra></extra>",
         "locationmode": "USA-states",
         "locations": [
          "AL",
          "NH"
         ],
         "name": "83",
         "showlegend": true,
         "showscale": false,
         "type": "choropleth",
         "z": [
          1,
          1
         ]
        },
        {
         "colorscale": [
          [
           0,
           "#B6E880"
          ],
          [
           1,
           "#B6E880"
          ]
         ],
         "geo": "geo",
         "hovertemplate": "Deaths=134<br>Abbreviation=%{location}<extra></extra>",
         "locationmode": "USA-states",
         "locations": [
          "AL",
          "GA",
          "ME",
          "NH",
          "SC"
         ],
         "name": "134",
         "showlegend": true,
         "showscale": false,
         "type": "choropleth",
         "z": [
          1,
          1,
          1,
          1,
          1
         ]
        },
        {
         "colorscale": [
          [
           0,
           "#FF97FF"
          ],
          [
           1,
           "#FF97FF"
          ]
         ],
         "geo": "geo",
         "hovertemplate": "Deaths=172<br>Abbreviation=%{location}<extra></extra>",
         "locationmode": "USA-states",
         "locations": [
          "AL"
         ],
         "name": "172",
         "showlegend": true,
         "showscale": false,
         "type": "choropleth",
         "z": [
          1
         ]
        },
        {
         "colorscale": [
          [
           0,
           "#FECB52"
          ],
          [
           1,
           "#FECB52"
          ]
         ],
         "geo": "geo",
         "hovertemplate": "Deaths=195<br>Abbreviation=%{location}<extra></extra>",
         "locationmode": "USA-states",
         "locations": [
          "AL",
          "RI"
         ],
         "name": "195",
         "showlegend": true,
         "showscale": false,
         "type": "choropleth",
         "z": [
          1,
          1
         ]
        },
        {
         "colorscale": [
          [
           0,
           "#636efa"
          ],
          [
           1,
           "#636efa"
          ]
         ],
         "geo": "geo",
         "hovertemplate": "Deaths=210<br>Abbreviation=%{location}<extra></extra>",
         "locationmode": "USA-states",
         "locations": [
          "AL",
          "AR",
          "VA"
         ],
         "name": "210",
         "showlegend": true,
         "showscale": false,
         "type": "choropleth",
         "z": [
          1,
          1,
          1
         ]
        },
        {
         "colorscale": [
          [
           0,
           "#EF553B"
          ],
          [
           1,
           "#EF553B"
          ]
         ],
         "geo": "geo",
         "hovertemplate": "Deaths=194<br>Abbreviation=%{location}<extra></extra>",
         "locationmode": "USA-states",
         "locations": [
          "AL"
         ],
         "name": "194",
         "showlegend": true,
         "showscale": false,
         "type": "choropleth",
         "z": [
          1
         ]
        },
        {
         "colorscale": [
          [
           0,
           "#00cc96"
          ],
          [
           1,
           "#00cc96"
          ]
         ],
         "geo": "geo",
         "hovertemplate": "Deaths=180<br>Abbreviation=%{location}<extra></extra>",
         "locationmode": "USA-states",
         "locations": [
          "AL",
          "LA",
          "OH"
         ],
         "name": "180",
         "showlegend": true,
         "showscale": false,
         "type": "choropleth",
         "z": [
          1,
          1,
          1
         ]
        },
        {
         "colorscale": [
          [
           0,
           "#ab63fa"
          ],
          [
           1,
           "#ab63fa"
          ]
         ],
         "geo": "geo",
         "hovertemplate": "Deaths=175<br>Abbreviation=%{location}<extra></extra>",
         "locationmode": "USA-states",
         "locations": [
          "AL",
          "AL",
          "AR",
          "CT"
         ],
         "name": "175",
         "showlegend": true,
         "showscale": false,
         "type": "choropleth",
         "z": [
          1,
          1,
          1,
          1
         ]
        },
        {
         "colorscale": [
          [
           0,
           "#FFA15A"
          ],
          [
           1,
           "#FFA15A"
          ]
         ],
         "geo": "geo",
         "hovertemplate": "Deaths=282<br>Abbreviation=%{location}<extra></extra>",
         "locationmode": "USA-states",
         "locations": [
          "AL"
         ],
         "name": "282",
         "showlegend": true,
         "showscale": false,
         "type": "choropleth",
         "z": [
          1
         ]
        },
        {
         "colorscale": [
          [
           0,
           "#19d3f3"
          ],
          [
           1,
           "#19d3f3"
          ]
         ],
         "geo": "geo",
         "hovertemplate": "Deaths=28<br>Abbreviation=%{location}<extra></extra>",
         "locationmode": "USA-states",
         "locations": [
          "AK",
          null,
          "MS"
         ],
         "name": "28",
         "showlegend": true,
         "showscale": false,
         "type": "choropleth",
         "z": [
          1,
          1,
          1
         ]
        },
        {
         "colorscale": [
          [
           0,
           "#FF6692"
          ],
          [
           1,
           "#FF6692"
          ]
         ],
         "geo": "geo",
         "hovertemplate": "Deaths=27<br>Abbreviation=%{location}<extra></extra>",
         "locationmode": "USA-states",
         "locations": [
          "AK",
          "MS"
         ],
         "name": "27",
         "showlegend": true,
         "showscale": false,
         "type": "choropleth",
         "z": [
          1,
          1
         ]
        },
        {
         "colorscale": [
          [
           0,
           "#B6E880"
          ],
          [
           1,
           "#B6E880"
          ]
         ],
         "geo": "geo",
         "hovertemplate": "Deaths=17<br>Abbreviation=%{location}<extra></extra>",
         "locationmode": "USA-states",
         "locations": [
          "AK",
          "ND",
          "VT",
          "WY"
         ],
         "name": "17",
         "showlegend": true,
         "showscale": false,
         "type": "choropleth",
         "z": [
          1,
          1,
          1,
          1
         ]
        },
        {
         "colorscale": [
          [
           0,
           "#FF97FF"
          ],
          [
           1,
           "#FF97FF"
          ]
         ],
         "geo": "geo",
         "hovertemplate": "Deaths=Suppressed<br>Abbreviation=%{location}<extra></extra>",
         "locationmode": "USA-states",
         "locations": [
          "AK",
          "NE",
          "ND",
          "ND",
          "ND",
          "ND",
          "ND",
          "ND",
          "SD",
          "SD",
          "WY",
          "WY",
          "WY"
         ],
         "name": "Suppressed",
         "showlegend": true,
         "showscale": false,
         "type": "choropleth",
         "z": [
          1,
          1,
          1,
          1,
          1,
          1,
          1,
          1,
          1,
          1,
          1,
          1,
          1
         ]
        },
        {
         "colorscale": [
          [
           0,
           "#FECB52"
          ],
          [
           1,
           "#FECB52"
          ]
         ],
         "geo": "geo",
         "hovertemplate": "Deaths=14<br>Abbreviation=%{location}<extra></extra>",
         "locationmode": "USA-states",
         "locations": [
          "AK",
          "MS",
          "NE",
          "ND",
          "ND",
          "WY",
          "WY"
         ],
         "name": "14",
         "showlegend": true,
         "showscale": false,
         "type": "choropleth",
         "z": [
          1,
          1,
          1,
          1,
          1,
          1,
          1
         ]
        },
        {
         "colorscale": [
          [
           0,
           "#636efa"
          ],
          [
           1,
           "#636efa"
          ]
         ],
         "geo": "geo",
         "hovertemplate": "Deaths=11<br>Abbreviation=%{location}<extra></extra>",
         "locationmode": "USA-states",
         "locations": [
          "AK"
         ],
         "name": "11",
         "showlegend": true,
         "showscale": false,
         "type": "choropleth",
         "z": [
          1
         ]
        },
        {
         "colorscale": [
          [
           0,
           "#EF553B"
          ],
          [
           1,
           "#EF553B"
          ]
         ],
         "geo": "geo",
         "hovertemplate": "Deaths=19<br>Abbreviation=%{location}<extra></extra>",
         "locationmode": "USA-states",
         "locations": [
          "AK",
          "IA"
         ],
         "name": "19",
         "showlegend": true,
         "showscale": false,
         "type": "choropleth",
         "z": [
          1,
          1
         ]
        },
        {
         "colorscale": [
          [
           0,
           "#00cc96"
          ],
          [
           1,
           "#00cc96"
          ]
         ],
         "geo": "geo",
         "hovertemplate": "Deaths=29<br>Abbreviation=%{location}<extra></extra>",
         "locationmode": "USA-states",
         "locations": [
          "AK",
          "AR",
          null,
          null,
          "ID",
          "IA",
          "NH"
         ],
         "name": "29",
         "showlegend": true,
         "showscale": false,
         "type": "choropleth",
         "z": [
          1,
          1,
          1,
          1,
          1,
          1,
          1
         ]
        },
        {
         "colorscale": [
          [
           0,
           "#ab63fa"
          ],
          [
           1,
           "#ab63fa"
          ]
         ],
         "geo": "geo",
         "hovertemplate": "Deaths=16<br>Abbreviation=%{location}<extra></extra>",
         "locationmode": "USA-states",
         "locations": [
          "AK",
          "MS",
          "MT",
          "NE"
         ],
         "name": "16",
         "showlegend": true,
         "showscale": false,
         "type": "choropleth",
         "z": [
          1,
          1,
          1,
          1
         ]
        },
        {
         "colorscale": [
          [
           0,
           "#FFA15A"
          ],
          [
           1,
           "#FFA15A"
          ]
         ],
         "geo": "geo",
         "hovertemplate": "Deaths=94<br>Abbreviation=%{location}<extra></extra>",
         "locationmode": "USA-states",
         "locations": [
          "AK",
          "AK",
          "KY",
          "MT",
          "NH"
         ],
         "name": "94",
         "showlegend": true,
         "showscale": false,
         "type": "choropleth",
         "z": [
          1,
          1,
          1,
          1,
          1
         ]
        },
        {
         "colorscale": [
          [
           0,
           "#19d3f3"
          ],
          [
           1,
           "#19d3f3"
          ]
         ],
         "geo": "geo",
         "hovertemplate": "Deaths=71<br>Abbreviation=%{location}<extra></extra>",
         "locationmode": "USA-states",
         "locations": [
          "AK",
          "ID"
         ],
         "name": "71",
         "showlegend": true,
         "showscale": false,
         "type": "choropleth",
         "z": [
          1,
          1
         ]
        },
        {
         "colorscale": [
          [
           0,
           "#FF6692"
          ],
          [
           1,
           "#FF6692"
          ]
         ],
         "geo": "geo",
         "hovertemplate": "Deaths=72<br>Abbreviation=%{location}<extra></extra>",
         "locationmode": "USA-states",
         "locations": [
          "AK",
          "VT"
         ],
         "name": "72",
         "showlegend": true,
         "showscale": false,
         "type": "choropleth",
         "z": [
          1,
          1
         ]
        },
        {
         "colorscale": [
          [
           0,
           "#B6E880"
          ],
          [
           1,
           "#B6E880"
          ]
         ],
         "geo": "geo",
         "hovertemplate": "Deaths=81<br>Abbreviation=%{location}<extra></extra>",
         "locationmode": "USA-states",
         "locations": [
          "AK",
          "ID",
          "ID"
         ],
         "name": "81",
         "showlegend": true,
         "showscale": false,
         "type": "choropleth",
         "z": [
          1,
          1,
          1
         ]
        },
        {
         "colorscale": [
          [
           0,
           "#FF97FF"
          ],
          [
           1,
           "#FF97FF"
          ]
         ],
         "geo": "geo",
         "hovertemplate": "Deaths=69<br>Abbreviation=%{location}<extra></extra>",
         "locationmode": "USA-states",
         "locations": [
          "AK",
          "MN",
          "MS"
         ],
         "name": "69",
         "showlegend": true,
         "showscale": false,
         "type": "choropleth",
         "z": [
          1,
          1,
          1
         ]
        },
        {
         "colorscale": [
          [
           0,
           "#FECB52"
          ],
          [
           1,
           "#FECB52"
          ]
         ],
         "geo": "geo",
         "hovertemplate": "Deaths=79<br>Abbreviation=%{location}<extra></extra>",
         "locationmode": "USA-states",
         "locations": [
          "AK",
          "IN"
         ],
         "name": "79",
         "showlegend": true,
         "showscale": false,
         "type": "choropleth",
         "z": [
          1,
          1
         ]
        },
        {
         "colorscale": [
          [
           0,
           "#636efa"
          ],
          [
           1,
           "#636efa"
          ]
         ],
         "geo": "geo",
         "hovertemplate": "Deaths=250<br>Abbreviation=%{location}<extra></extra>",
         "locationmode": "USA-states",
         "locations": [
          "AZ",
          "SC"
         ],
         "name": "250",
         "showlegend": true,
         "showscale": false,
         "type": "choropleth",
         "z": [
          1,
          1
         ]
        },
        {
         "colorscale": [
          [
           0,
           "#EF553B"
          ],
          [
           1,
           "#EF553B"
          ]
         ],
         "geo": "geo",
         "hovertemplate": "Deaths=249<br>Abbreviation=%{location}<extra></extra>",
         "locationmode": "USA-states",
         "locations": [
          "AZ",
          "CT",
          "SC"
         ],
         "name": "249",
         "showlegend": true,
         "showscale": false,
         "type": "choropleth",
         "z": [
          1,
          1,
          1
         ]
        },
        {
         "colorscale": [
          [
           0,
           "#00cc96"
          ],
          [
           1,
           "#00cc96"
          ]
         ],
         "geo": "geo",
         "hovertemplate": "Deaths=275<br>Abbreviation=%{location}<extra></extra>",
         "locationmode": "USA-states",
         "locations": [
          "AZ",
          "UT"
         ],
         "name": "275",
         "showlegend": true,
         "showscale": false,
         "type": "choropleth",
         "z": [
          1,
          1
         ]
        },
        {
         "colorscale": [
          [
           0,
           "#ab63fa"
          ],
          [
           1,
           "#ab63fa"
          ]
         ],
         "geo": "geo",
         "hovertemplate": "Deaths=340<br>Abbreviation=%{location}<extra></extra>",
         "locationmode": "USA-states",
         "locations": [
          "AZ"
         ],
         "name": "340",
         "showlegend": true,
         "showscale": false,
         "type": "choropleth",
         "z": [
          1
         ]
        },
        {
         "colorscale": [
          [
           0,
           "#FFA15A"
          ],
          [
           1,
           "#FFA15A"
          ]
         ],
         "geo": "geo",
         "hovertemplate": "Deaths=350<br>Abbreviation=%{location}<extra></extra>",
         "locationmode": "USA-states",
         "locations": [
          "AZ",
          "NM"
         ],
         "name": "350",
         "showlegend": true,
         "showscale": false,
         "type": "choropleth",
         "z": [
          1,
          1
         ]
        },
        {
         "colorscale": [
          [
           0,
           "#19d3f3"
          ],
          [
           1,
           "#19d3f3"
          ]
         ],
         "geo": "geo",
         "hovertemplate": "Deaths=360<br>Abbreviation=%{location}<extra></extra>",
         "locationmode": "USA-states",
         "locations": [
          "AZ"
         ],
         "name": "360",
         "showlegend": true,
         "showscale": false,
         "type": "choropleth",
         "z": [
          1
         ]
        },
        {
         "colorscale": [
          [
           0,
           "#FF6692"
          ],
          [
           1,
           "#FF6692"
          ]
         ],
         "geo": "geo",
         "hovertemplate": "Deaths=393<br>Abbreviation=%{location}<extra></extra>",
         "locationmode": "USA-states",
         "locations": [
          "AZ",
          "UT"
         ],
         "name": "393",
         "showlegend": true,
         "showscale": false,
         "type": "choropleth",
         "z": [
          1,
          1
         ]
        },
        {
         "colorscale": [
          [
           0,
           "#B6E880"
          ],
          [
           1,
           "#B6E880"
          ]
         ],
         "geo": "geo",
         "hovertemplate": "Deaths=479<br>Abbreviation=%{location}<extra></extra>",
         "locationmode": "USA-states",
         "locations": [
          "AZ"
         ],
         "name": "479",
         "showlegend": true,
         "showscale": false,
         "type": "choropleth",
         "z": [
          1
         ]
        },
        {
         "colorscale": [
          [
           0,
           "#FF97FF"
          ],
          [
           1,
           "#FF97FF"
          ]
         ],
         "geo": "geo",
         "hovertemplate": "Deaths=490<br>Abbreviation=%{location}<extra></extra>",
         "locationmode": "USA-states",
         "locations": [
          "AZ",
          "MO"
         ],
         "name": "490",
         "showlegend": true,
         "showscale": false,
         "type": "choropleth",
         "z": [
          1,
          1
         ]
        },
        {
         "colorscale": [
          [
           0,
           "#FECB52"
          ],
          [
           1,
           "#FECB52"
          ]
         ],
         "geo": "geo",
         "hovertemplate": "Deaths=515<br>Abbreviation=%{location}<extra></extra>",
         "locationmode": "USA-states",
         "locations": [
          "AZ"
         ],
         "name": "515",
         "showlegend": true,
         "showscale": false,
         "type": "choropleth",
         "z": [
          1
         ]
        },
        {
         "colorscale": [
          [
           0,
           "#636efa"
          ],
          [
           1,
           "#636efa"
          ]
         ],
         "geo": "geo",
         "hovertemplate": "Deaths=625<br>Abbreviation=%{location}<extra></extra>",
         "locationmode": "USA-states",
         "locations": [
          "AZ",
          "NJ"
         ],
         "name": "625",
         "showlegend": true,
         "showscale": false,
         "type": "choropleth",
         "z": [
          1,
          1
         ]
        },
        {
         "colorscale": [
          [
           0,
           "#EF553B"
          ],
          [
           1,
           "#EF553B"
          ]
         ],
         "geo": "geo",
         "hovertemplate": "Deaths=650<br>Abbreviation=%{location}<extra></extra>",
         "locationmode": "USA-states",
         "locations": [
          "AZ"
         ],
         "name": "650",
         "showlegend": true,
         "showscale": false,
         "type": "choropleth",
         "z": [
          1
         ]
        },
        {
         "colorscale": [
          [
           0,
           "#00cc96"
          ],
          [
           1,
           "#00cc96"
          ]
         ],
         "geo": "geo",
         "hovertemplate": "Deaths=596<br>Abbreviation=%{location}<extra></extra>",
         "locationmode": "USA-states",
         "locations": [
          "AZ",
          "WV"
         ],
         "name": "596",
         "showlegend": true,
         "showscale": false,
         "type": "choropleth",
         "z": [
          1,
          1
         ]
        },
        {
         "colorscale": [
          [
           0,
           "#ab63fa"
          ],
          [
           1,
           "#ab63fa"
          ]
         ],
         "geo": "geo",
         "hovertemplate": "Deaths=565<br>Abbreviation=%{location}<extra></extra>",
         "locationmode": "USA-states",
         "locations": [
          "AZ"
         ],
         "name": "565",
         "showlegend": true,
         "showscale": false,
         "type": "choropleth",
         "z": [
          1
         ]
        },
        {
         "colorscale": [
          [
           0,
           "#FFA15A"
          ],
          [
           1,
           "#FFA15A"
          ]
         ],
         "geo": "geo",
         "hovertemplate": "Deaths=545<br>Abbreviation=%{location}<extra></extra>",
         "locationmode": "USA-states",
         "locations": [
          "AZ"
         ],
         "name": "545",
         "showlegend": true,
         "showscale": false,
         "type": "choropleth",
         "z": [
          1
         ]
        },
        {
         "colorscale": [
          [
           0,
           "#19d3f3"
          ],
          [
           1,
           "#19d3f3"
          ]
         ],
         "geo": "geo",
         "hovertemplate": "Deaths=616<br>Abbreviation=%{location}<extra></extra>",
         "locationmode": "USA-states",
         "locations": [
          "AZ"
         ],
         "name": "616",
         "showlegend": true,
         "showscale": false,
         "type": "choropleth",
         "z": [
          1
         ]
        },
        {
         "colorscale": [
          [
           0,
           "#FF6692"
          ],
          [
           1,
           "#FF6692"
          ]
         ],
         "geo": "geo",
         "hovertemplate": "Deaths=20<br>Abbreviation=%{location}<extra></extra>",
         "locationmode": "USA-states",
         "locations": [
          "AR"
         ],
         "name": "20",
         "showlegend": true,
         "showscale": false,
         "type": "choropleth",
         "z": [
          1
         ]
        },
        {
         "colorscale": [
          [
           0,
           "#B6E880"
          ],
          [
           1,
           "#B6E880"
          ]
         ],
         "geo": "geo",
         "hovertemplate": "Deaths=30<br>Abbreviation=%{location}<extra></extra>",
         "locationmode": "USA-states",
         "locations": [
          "AR",
          "LA",
          "NE"
         ],
         "name": "30",
         "showlegend": true,
         "showscale": false,
         "type": "choropleth",
         "z": [
          1,
          1,
          1
         ]
        },
        {
         "colorscale": [
          [
           0,
           "#FF97FF"
          ],
          [
           1,
           "#FF97FF"
          ]
         ],
         "geo": "geo",
         "hovertemplate": "Deaths=96<br>Abbreviation=%{location}<extra></extra>",
         "locationmode": "USA-states",
         "locations": [
          "AR"
         ],
         "name": "96",
         "showlegend": true,
         "showscale": false,
         "type": "choropleth",
         "z": [
          1
         ]
        },
        {
         "colorscale": [
          [
           0,
           "#FECB52"
          ],
          [
           1,
           "#FECB52"
          ]
         ],
         "geo": "geo",
         "hovertemplate": "Deaths=98<br>Abbreviation=%{location}<extra></extra>",
         "locationmode": "USA-states",
         "locations": [
          "AR",
          "MS",
          "MS"
         ],
         "name": "98",
         "showlegend": true,
         "showscale": false,
         "type": "choropleth",
         "z": [
          1,
          1,
          1
         ]
        },
        {
         "colorscale": [
          [
           0,
           "#636efa"
          ],
          [
           1,
           "#636efa"
          ]
         ],
         "geo": "geo",
         "hovertemplate": "Deaths=133<br>Abbreviation=%{location}<extra></extra>",
         "locationmode": "USA-states",
         "locations": [
          "AR",
          "RI"
         ],
         "name": "133",
         "showlegend": true,
         "showscale": false,
         "type": "choropleth",
         "z": [
          1,
          1
         ]
        },
        {
         "colorscale": [
          [
           0,
           "#EF553B"
          ],
          [
           1,
           "#EF553B"
          ]
         ],
         "geo": "geo",
         "hovertemplate": "Deaths=127<br>Abbreviation=%{location}<extra></extra>",
         "locationmode": "USA-states",
         "locations": [
          "AR",
          "KS",
          "NH"
         ],
         "name": "127",
         "showlegend": true,
         "showscale": false,
         "type": "choropleth",
         "z": [
          1,
          1,
          1
         ]
        },
        {
         "colorscale": [
          [
           0,
           "#00cc96"
          ],
          [
           1,
           "#00cc96"
          ]
         ],
         "geo": "geo",
         "hovertemplate": "Deaths=149<br>Abbreviation=%{location}<extra></extra>",
         "locationmode": "USA-states",
         "locations": [
          "AR",
          "KY",
          "MN"
         ],
         "name": "149",
         "showlegend": true,
         "showscale": false,
         "type": "choropleth",
         "z": [
          1,
          1,
          1
         ]
        },
        {
         "colorscale": [
          [
           0,
           "#ab63fa"
          ],
          [
           1,
           "#ab63fa"
          ]
         ],
         "geo": "geo",
         "hovertemplate": "Deaths=156<br>Abbreviation=%{location}<extra></extra>",
         "locationmode": "USA-states",
         "locations": [
          "AR"
         ],
         "name": "156",
         "showlegend": true,
         "showscale": false,
         "type": "choropleth",
         "z": [
          1
         ]
        },
        {
         "colorscale": [
          [
           0,
           "#FFA15A"
          ],
          [
           1,
           "#FFA15A"
          ]
         ],
         "geo": "geo",
         "hovertemplate": "Deaths=221<br>Abbreviation=%{location}<extra></extra>",
         "locationmode": "USA-states",
         "locations": [
          "AR"
         ],
         "name": "221",
         "showlegend": true,
         "showscale": false,
         "type": "choropleth",
         "z": [
          1
         ]
        },
        {
         "colorscale": [
          [
           0,
           "#19d3f3"
          ],
          [
           1,
           "#19d3f3"
          ]
         ],
         "geo": "geo",
         "hovertemplate": "Deaths=198<br>Abbreviation=%{location}<extra></extra>",
         "locationmode": "USA-states",
         "locations": [
          "AR",
          "MO",
          "OR"
         ],
         "name": "198",
         "showlegend": true,
         "showscale": false,
         "type": "choropleth",
         "z": [
          1,
          1,
          1
         ]
        },
        {
         "colorscale": [
          [
           0,
           "#FF6692"
          ],
          [
           1,
           "#FF6692"
          ]
         ],
         "geo": "geo",
         "hovertemplate": "Deaths=176<br>Abbreviation=%{location}<extra></extra>",
         "locationmode": "USA-states",
         "locations": [
          "AR"
         ],
         "name": "176",
         "showlegend": true,
         "showscale": false,
         "type": "choropleth",
         "z": [
          1
         ]
        },
        {
         "colorscale": [
          [
           0,
           "#B6E880"
          ],
          [
           1,
           "#B6E880"
          ]
         ],
         "geo": "geo",
         "hovertemplate": "Deaths=181<br>Abbreviation=%{location}<extra></extra>",
         "locationmode": "USA-states",
         "locations": [
          "AR"
         ],
         "name": "181",
         "showlegend": true,
         "showscale": false,
         "type": "choropleth",
         "z": [
          1
         ]
        },
        {
         "colorscale": [
          [
           0,
           "#FF97FF"
          ],
          [
           1,
           "#FF97FF"
          ]
         ],
         "geo": "geo",
         "hovertemplate": "Deaths=179<br>Abbreviation=%{location}<extra></extra>",
         "locationmode": "USA-states",
         "locations": [
          "AR",
          "TN"
         ],
         "name": "179",
         "showlegend": true,
         "showscale": false,
         "type": "choropleth",
         "z": [
          1,
          1
         ]
        },
        {
         "colorscale": [
          [
           0,
           "#FECB52"
          ],
          [
           1,
           "#FECB52"
          ]
         ],
         "geo": "geo",
         "hovertemplate": "Deaths=1598<br>Abbreviation=%{location}<extra></extra>",
         "locationmode": "USA-states",
         "locations": [
          "CA"
         ],
         "name": "1598",
         "showlegend": true,
         "showscale": false,
         "type": "choropleth",
         "z": [
          1
         ]
        },
        {
         "colorscale": [
          [
           0,
           "#636efa"
          ],
          [
           1,
           "#636efa"
          ]
         ],
         "geo": "geo",
         "hovertemplate": "Deaths=1105<br>Abbreviation=%{location}<extra></extra>",
         "locationmode": "USA-states",
         "locations": [
          "CA"
         ],
         "name": "1105",
         "showlegend": true,
         "showscale": false,
         "type": "choropleth",
         "z": [
          1
         ]
        },
        {
         "colorscale": [
          [
           0,
           "#EF553B"
          ],
          [
           1,
           "#EF553B"
          ]
         ],
         "geo": "geo",
         "hovertemplate": "Deaths=605<br>Abbreviation=%{location}<extra></extra>",
         "locationmode": "USA-states",
         "locations": [
          "CA"
         ],
         "name": "605",
         "showlegend": true,
         "showscale": false,
         "type": "choropleth",
         "z": [
          1
         ]
        },
        {
         "colorscale": [
          [
           0,
           "#00cc96"
          ],
          [
           1,
           "#00cc96"
          ]
         ],
         "geo": "geo",
         "hovertemplate": "Deaths=1583<br>Abbreviation=%{location}<extra></extra>",
         "locationmode": "USA-states",
         "locations": [
          "CA"
         ],
         "name": "1583",
         "showlegend": true,
         "showscale": false,
         "type": "choropleth",
         "z": [
          1
         ]
        },
        {
         "colorscale": [
          [
           0,
           "#ab63fa"
          ],
          [
           1,
           "#ab63fa"
          ]
         ],
         "geo": "geo",
         "hovertemplate": "Deaths=1530<br>Abbreviation=%{location}<extra></extra>",
         "locationmode": "USA-states",
         "locations": [
          "CA"
         ],
         "name": "1530",
         "showlegend": true,
         "showscale": false,
         "type": "choropleth",
         "z": [
          1
         ]
        },
        {
         "colorscale": [
          [
           0,
           "#FFA15A"
          ],
          [
           1,
           "#FFA15A"
          ]
         ],
         "geo": "geo",
         "hovertemplate": "Deaths=1547<br>Abbreviation=%{location}<extra></extra>",
         "locationmode": "USA-states",
         "locations": [
          "CA"
         ],
         "name": "1547",
         "showlegend": true,
         "showscale": false,
         "type": "choropleth",
         "z": [
          1
         ]
        },
        {
         "colorscale": [
          [
           0,
           "#19d3f3"
          ],
          [
           1,
           "#19d3f3"
          ]
         ],
         "geo": "geo",
         "hovertemplate": "Deaths=1485<br>Abbreviation=%{location}<extra></extra>",
         "locationmode": "USA-states",
         "locations": [
          "CA"
         ],
         "name": "1485",
         "showlegend": true,
         "showscale": false,
         "type": "choropleth",
         "z": [
          1
         ]
        },
        {
         "colorscale": [
          [
           0,
           "#FF6692"
          ],
          [
           1,
           "#FF6692"
          ]
         ],
         "geo": "geo",
         "hovertemplate": "Deaths=1602<br>Abbreviation=%{location}<extra></extra>",
         "locationmode": "USA-states",
         "locations": [
          "CA"
         ],
         "name": "1602",
         "showlegend": true,
         "showscale": false,
         "type": "choropleth",
         "z": [
          1
         ]
        },
        {
         "colorscale": [
          [
           0,
           "#B6E880"
          ],
          [
           1,
           "#B6E880"
          ]
         ],
         "geo": "geo",
         "hovertemplate": "Deaths=1762<br>Abbreviation=%{location}<extra></extra>",
         "locationmode": "USA-states",
         "locations": [
          "CA"
         ],
         "name": "1762",
         "showlegend": true,
         "showscale": false,
         "type": "choropleth",
         "z": [
          1
         ]
        },
        {
         "colorscale": [
          [
           0,
           "#FF97FF"
          ],
          [
           1,
           "#FF97FF"
          ]
         ],
         "geo": "geo",
         "hovertemplate": "Deaths=1889<br>Abbreviation=%{location}<extra></extra>",
         "locationmode": "USA-states",
         "locations": [
          "CA"
         ],
         "name": "1889",
         "showlegend": true,
         "showscale": false,
         "type": "choropleth",
         "z": [
          1
         ]
        },
        {
         "colorscale": [
          [
           0,
           "#FECB52"
          ],
          [
           1,
           "#FECB52"
          ]
         ],
         "geo": "geo",
         "hovertemplate": "Deaths=2128<br>Abbreviation=%{location}<extra></extra>",
         "locationmode": "USA-states",
         "locations": [
          "CA"
         ],
         "name": "2128",
         "showlegend": true,
         "showscale": false,
         "type": "choropleth",
         "z": [
          1
         ]
        },
        {
         "colorscale": [
          [
           0,
           "#636efa"
          ],
          [
           1,
           "#636efa"
          ]
         ],
         "geo": "geo",
         "hovertemplate": "Deaths=2059<br>Abbreviation=%{location}<extra></extra>",
         "locationmode": "USA-states",
         "locations": [
          "CA"
         ],
         "name": "2059",
         "showlegend": true,
         "showscale": false,
         "type": "choropleth",
         "z": [
          1
         ]
        },
        {
         "colorscale": [
          [
           0,
           "#EF553B"
          ],
          [
           1,
           "#EF553B"
          ]
         ],
         "geo": "geo",
         "hovertemplate": "Deaths=2057<br>Abbreviation=%{location}<extra></extra>",
         "locationmode": "USA-states",
         "locations": [
          "CA"
         ],
         "name": "2057",
         "showlegend": true,
         "showscale": false,
         "type": "choropleth",
         "z": [
          1
         ]
        },
        {
         "colorscale": [
          [
           0,
           "#00cc96"
          ],
          [
           1,
           "#00cc96"
          ]
         ],
         "geo": "geo",
         "hovertemplate": "Deaths=1847<br>Abbreviation=%{location}<extra></extra>",
         "locationmode": "USA-states",
         "locations": [
          "CA"
         ],
         "name": "1847",
         "showlegend": true,
         "showscale": false,
         "type": "choropleth",
         "z": [
          1
         ]
        },
        {
         "colorscale": [
          [
           0,
           "#ab63fa"
          ],
          [
           1,
           "#ab63fa"
          ]
         ],
         "geo": "geo",
         "hovertemplate": "Deaths=2088<br>Abbreviation=%{location}<extra></extra>",
         "locationmode": "USA-states",
         "locations": [
          "CA"
         ],
         "name": "2088",
         "showlegend": true,
         "showscale": false,
         "type": "choropleth",
         "z": [
          1
         ]
        },
        {
         "colorscale": [
          [
           0,
           "#FFA15A"
          ],
          [
           1,
           "#FFA15A"
          ]
         ],
         "geo": "geo",
         "hovertemplate": "Deaths=2159<br>Abbreviation=%{location}<extra></extra>",
         "locationmode": "USA-states",
         "locations": [
          "CA"
         ],
         "name": "2159",
         "showlegend": true,
         "showscale": false,
         "type": "choropleth",
         "z": [
          1
         ]
        },
        {
         "colorscale": [
          [
           0,
           "#19d3f3"
          ],
          [
           1,
           "#19d3f3"
          ]
         ],
         "geo": "geo",
         "hovertemplate": "Deaths=169<br>Abbreviation=%{location}<extra></extra>",
         "locationmode": "USA-states",
         "locations": [
          "CO",
          "IN"
         ],
         "name": "169",
         "showlegend": true,
         "showscale": false,
         "type": "choropleth",
         "z": [
          1,
          1
         ]
        },
        {
         "colorscale": [
          [
           0,
           "#FF6692"
          ],
          [
           1,
           "#FF6692"
          ]
         ],
         "geo": "geo",
         "hovertemplate": "Deaths=184<br>Abbreviation=%{location}<extra></extra>",
         "locationmode": "USA-states",
         "locations": [
          "CO",
          "KS"
         ],
         "name": "184",
         "showlegend": true,
         "showscale": false,
         "type": "choropleth",
         "z": [
          1,
          1
         ]
        },
        {
         "colorscale": [
          [
           0,
           "#B6E880"
          ],
          [
           1,
           "#B6E880"
          ]
         ],
         "geo": "geo",
         "hovertemplate": "Deaths=204<br>Abbreviation=%{location}<extra></extra>",
         "locationmode": "USA-states",
         "locations": [
          "CO"
         ],
         "name": "204",
         "showlegend": true,
         "showscale": false,
         "type": "choropleth",
         "z": [
          1
         ]
        },
        {
         "colorscale": [
          [
           0,
           "#FF97FF"
          ],
          [
           1,
           "#FF97FF"
          ]
         ],
         "geo": "geo",
         "hovertemplate": "Deaths=206<br>Abbreviation=%{location}<extra></extra>",
         "locationmode": "USA-states",
         "locations": [
          "CO",
          "SC"
         ],
         "name": "206",
         "showlegend": true,
         "showscale": false,
         "type": "choropleth",
         "z": [
          1,
          1
         ]
        },
        {
         "colorscale": [
          [
           0,
           "#FECB52"
          ],
          [
           1,
           "#FECB52"
          ]
         ],
         "geo": "geo",
         "hovertemplate": "Deaths=229<br>Abbreviation=%{location}<extra></extra>",
         "locationmode": "USA-states",
         "locations": [
          "CO"
         ],
         "name": "229",
         "showlegend": true,
         "showscale": false,
         "type": "choropleth",
         "z": [
          1
         ]
        },
        {
         "colorscale": [
          [
           0,
           "#636efa"
          ],
          [
           1,
           "#636efa"
          ]
         ],
         "geo": "geo",
         "hovertemplate": "Deaths=233<br>Abbreviation=%{location}<extra></extra>",
         "locationmode": "USA-states",
         "locations": [
          "CO",
          "CT"
         ],
         "name": "233",
         "showlegend": true,
         "showscale": false,
         "type": "choropleth",
         "z": [
          1,
          1
         ]
        },
        {
         "colorscale": [
          [
           0,
           "#EF553B"
          ],
          [
           1,
           "#EF553B"
          ]
         ],
         "geo": "geo",
         "hovertemplate": "Deaths=310<br>Abbreviation=%{location}<extra></extra>",
         "locationmode": "USA-states",
         "locations": [
          "CO",
          "OR"
         ],
         "name": "310",
         "showlegend": true,
         "showscale": false,
         "type": "choropleth",
         "z": [
          1,
          1
         ]
        },
        {
         "colorscale": [
          [
           0,
           "#00cc96"
          ],
          [
           1,
           "#00cc96"
          ]
         ],
         "geo": "geo",
         "hovertemplate": "Deaths=337<br>Abbreviation=%{location}<extra></extra>",
         "locationmode": "USA-states",
         "locations": [
          "CO",
          "OR"
         ],
         "name": "337",
         "showlegend": true,
         "showscale": false,
         "type": "choropleth",
         "z": [
          1,
          1
         ]
        },
        {
         "colorscale": [
          [
           0,
           "#ab63fa"
          ],
          [
           1,
           "#ab63fa"
          ]
         ],
         "geo": "geo",
         "hovertemplate": "Deaths=368<br>Abbreviation=%{location}<extra></extra>",
         "locationmode": "USA-states",
         "locations": [
          "CO"
         ],
         "name": "368",
         "showlegend": true,
         "showscale": false,
         "type": "choropleth",
         "z": [
          1
         ]
        },
        {
         "colorscale": [
          [
           0,
           "#FFA15A"
          ],
          [
           1,
           "#FFA15A"
          ]
         ],
         "geo": "geo",
         "hovertemplate": "Deaths=365<br>Abbreviation=%{location}<extra></extra>",
         "locationmode": "USA-states",
         "locations": [
          "CO",
          "NV"
         ],
         "name": "365",
         "showlegend": true,
         "showscale": false,
         "type": "choropleth",
         "z": [
          1,
          1
         ]
        },
        {
         "colorscale": [
          [
           0,
           "#19d3f3"
          ],
          [
           1,
           "#19d3f3"
          ]
         ],
         "geo": "geo",
         "hovertemplate": "Deaths=412<br>Abbreviation=%{location}<extra></extra>",
         "locationmode": "USA-states",
         "locations": [
          "CO",
          "NC"
         ],
         "name": "412",
         "showlegend": true,
         "showscale": false,
         "type": "choropleth",
         "z": [
          1,
          1
         ]
        },
        {
         "colorscale": [
          [
           0,
           "#FF6692"
          ],
          [
           1,
           "#FF6692"
          ]
         ],
         "geo": "geo",
         "hovertemplate": "Deaths=325<br>Abbreviation=%{location}<extra></extra>",
         "locationmode": "USA-states",
         "locations": [
          "CO",
          "OK"
         ],
         "name": "325",
         "showlegend": true,
         "showscale": false,
         "type": "choropleth",
         "z": [
          1,
          1
         ]
        },
        {
         "colorscale": [
          [
           0,
           "#B6E880"
          ],
          [
           1,
           "#B6E880"
          ]
         ],
         "geo": "geo",
         "hovertemplate": "Deaths=423<br>Abbreviation=%{location}<extra></extra>",
         "locationmode": "USA-states",
         "locations": [
          "CO"
         ],
         "name": "423",
         "showlegend": true,
         "showscale": false,
         "type": "choropleth",
         "z": [
          1
         ]
        },
        {
         "colorscale": [
          [
           0,
           "#FF97FF"
          ],
          [
           1,
           "#FF97FF"
          ]
         ],
         "geo": "geo",
         "hovertemplate": "Deaths=415<br>Abbreviation=%{location}<extra></extra>",
         "locationmode": "USA-states",
         "locations": [
          "CO"
         ],
         "name": "415",
         "showlegend": true,
         "showscale": false,
         "type": "choropleth",
         "z": [
          1
         ]
        },
        {
         "colorscale": [
          [
           0,
           "#FECB52"
          ],
          [
           1,
           "#FECB52"
          ]
         ],
         "geo": "geo",
         "hovertemplate": "Deaths=443<br>Abbreviation=%{location}<extra></extra>",
         "locationmode": "USA-states",
         "locations": [
          "CO",
          "NV"
         ],
         "name": "443",
         "showlegend": true,
         "showscale": false,
         "type": "choropleth",
         "z": [
          1,
          1
         ]
        },
        {
         "colorscale": [
          [
           0,
           "#636efa"
          ],
          [
           1,
           "#636efa"
          ]
         ],
         "geo": "geo",
         "hovertemplate": "Deaths=532<br>Abbreviation=%{location}<extra></extra>",
         "locationmode": "USA-states",
         "locations": [
          "CO",
          "NV"
         ],
         "name": "532",
         "showlegend": true,
         "showscale": false,
         "type": "choropleth",
         "z": [
          1,
          1
         ]
        },
        {
         "colorscale": [
          [
           0,
           "#EF553B"
          ],
          [
           1,
           "#EF553B"
          ]
         ],
         "geo": "geo",
         "hovertemplate": "Deaths=158<br>Abbreviation=%{location}<extra></extra>",
         "locationmode": "USA-states",
         "locations": [
          "CT",
          "CT",
          "LA",
          "NH"
         ],
         "name": "158",
         "showlegend": true,
         "showscale": false,
         "type": "choropleth",
         "z": [
          1,
          1,
          1,
          1
         ]
        },
        {
         "colorscale": [
          [
           0,
           "#00cc96"
          ],
          [
           1,
           "#00cc96"
          ]
         ],
         "geo": "geo",
         "hovertemplate": "Deaths=173<br>Abbreviation=%{location}<extra></extra>",
         "locationmode": "USA-states",
         "locations": [
          "CT",
          "WI"
         ],
         "name": "173",
         "showlegend": true,
         "showscale": false,
         "type": "choropleth",
         "z": [
          1,
          1
         ]
        },
        {
         "colorscale": [
          [
           0,
           "#ab63fa"
          ],
          [
           1,
           "#ab63fa"
          ]
         ],
         "geo": "geo",
         "hovertemplate": "Deaths=174<br>Abbreviation=%{location}<extra></extra>",
         "locationmode": "USA-states",
         "locations": [
          "CT",
          "ME"
         ],
         "name": "174",
         "showlegend": true,
         "showscale": false,
         "type": "choropleth",
         "z": [
          1,
          1
         ]
        },
        {
         "colorscale": [
          [
           0,
           "#FFA15A"
          ],
          [
           1,
           "#FFA15A"
          ]
         ],
         "geo": "geo",
         "hovertemplate": "Deaths=168<br>Abbreviation=%{location}<extra></extra>",
         "locationmode": "USA-states",
         "locations": [
          "CT"
         ],
         "name": "168",
         "showlegend": true,
         "showscale": false,
         "type": "choropleth",
         "z": [
          1
         ]
        },
        {
         "colorscale": [
          [
           0,
           "#19d3f3"
          ],
          [
           1,
           "#19d3f3"
          ]
         ],
         "geo": "geo",
         "hovertemplate": "Deaths=196<br>Abbreviation=%{location}<extra></extra>",
         "locationmode": "USA-states",
         "locations": [
          "CT",
          "MI"
         ],
         "name": "196",
         "showlegend": true,
         "showscale": false,
         "type": "choropleth",
         "z": [
          1,
          1
         ]
        },
        {
         "colorscale": [
          [
           0,
           "#FF6692"
          ],
          [
           1,
           "#FF6692"
          ]
         ],
         "geo": "geo",
         "hovertemplate": "Deaths=238<br>Abbreviation=%{location}<extra></extra>",
         "locationmode": "USA-states",
         "locations": [
          "CT"
         ],
         "name": "238",
         "showlegend": true,
         "showscale": false,
         "type": "choropleth",
         "z": [
          1
         ]
        },
        {
         "colorscale": [
          [
           0,
           "#B6E880"
          ],
          [
           1,
           "#B6E880"
          ]
         ],
         "geo": "geo",
         "hovertemplate": "Deaths=220<br>Abbreviation=%{location}<extra></extra>",
         "locationmode": "USA-states",
         "locations": [
          "CT"
         ],
         "name": "220",
         "showlegend": true,
         "showscale": false,
         "type": "choropleth",
         "z": [
          1
         ]
        },
        {
         "colorscale": [
          [
           0,
           "#FF97FF"
          ],
          [
           1,
           "#FF97FF"
          ]
         ],
         "geo": "geo",
         "hovertemplate": "Deaths=225<br>Abbreviation=%{location}<extra></extra>",
         "locationmode": "USA-states",
         "locations": [
          "CT"
         ],
         "name": "225",
         "showlegend": true,
         "showscale": false,
         "type": "choropleth",
         "z": [
          1
         ]
        },
        {
         "colorscale": [
          [
           0,
           "#FECB52"
          ],
          [
           1,
           "#FECB52"
          ]
         ],
         "geo": "geo",
         "hovertemplate": "Deaths=213<br>Abbreviation=%{location}<extra></extra>",
         "locationmode": "USA-states",
         "locations": [
          "CT",
          "UT"
         ],
         "name": "213",
         "showlegend": true,
         "showscale": false,
         "type": "choropleth",
         "z": [
          1,
          1
         ]
        },
        {
         "colorscale": [
          [
           0,
           "#636efa"
          ],
          [
           1,
           "#636efa"
          ]
         ],
         "geo": "geo",
         "hovertemplate": "Deaths=202<br>Abbreviation=%{location}<extra></extra>",
         "locationmode": "USA-states",
         "locations": [
          "CT"
         ],
         "name": "202",
         "showlegend": true,
         "showscale": false,
         "type": "choropleth",
         "z": [
          1
         ]
        },
        {
         "colorscale": [
          [
           0,
           "#EF553B"
          ],
          [
           1,
           "#EF553B"
          ]
         ],
         "geo": "geo",
         "hovertemplate": "Deaths=442<br>Abbreviation=%{location}<extra></extra>",
         "locationmode": "USA-states",
         "locations": [
          "CT"
         ],
         "name": "442",
         "showlegend": true,
         "showscale": false,
         "type": "choropleth",
         "z": [
          1
         ]
        },
        {
         "colorscale": [
          [
           0,
           "#00cc96"
          ],
          [
           1,
           "#00cc96"
          ]
         ],
         "geo": "geo",
         "hovertemplate": "Deaths=531<br>Abbreviation=%{location}<extra></extra>",
         "locationmode": "USA-states",
         "locations": [
          "CT"
         ],
         "name": "531",
         "showlegend": true,
         "showscale": false,
         "type": "choropleth",
         "z": [
          1
         ]
        },
        {
         "colorscale": [
          [
           0,
           "#ab63fa"
          ],
          [
           1,
           "#ab63fa"
          ]
         ],
         "geo": "geo",
         "hovertemplate": "Deaths=32<br>Abbreviation=%{location}<extra></extra>",
         "locationmode": "USA-states",
         "locations": [
          "DE",
          "ID",
          "ME",
          "NE",
          "ND",
          "SD"
         ],
         "name": "32",
         "showlegend": true,
         "showscale": false,
         "type": "choropleth",
         "z": [
          1,
          1,
          1,
          1,
          1,
          1
         ]
        },
        {
         "colorscale": [
          [
           0,
           "#FFA15A"
          ],
          [
           1,
           "#FFA15A"
          ]
         ],
         "geo": "geo",
         "hovertemplate": "Deaths=36<br>Abbreviation=%{location}<extra></extra>",
         "locationmode": "USA-states",
         "locations": [
          "DE",
          null,
          "RI"
         ],
         "name": "36",
         "showlegend": true,
         "showscale": false,
         "type": "choropleth",
         "z": [
          1,
          1,
          1
         ]
        },
        {
         "colorscale": [
          [
           0,
           "#19d3f3"
          ],
          [
           1,
           "#19d3f3"
          ]
         ],
         "geo": "geo",
         "hovertemplate": "Deaths=40<br>Abbreviation=%{location}<extra></extra>",
         "locationmode": "USA-states",
         "locations": [
          "DE"
         ],
         "name": "40",
         "showlegend": true,
         "showscale": false,
         "type": "choropleth",
         "z": [
          1
         ]
        },
        {
         "colorscale": [
          [
           0,
           "#FF6692"
          ],
          [
           1,
           "#FF6692"
          ]
         ],
         "geo": "geo",
         "hovertemplate": "Deaths=38<br>Abbreviation=%{location}<extra></extra>",
         "locationmode": "USA-states",
         "locations": [
          "DE"
         ],
         "name": "38",
         "showlegend": true,
         "showscale": false,
         "type": "choropleth",
         "z": [
          1
         ]
        },
        {
         "colorscale": [
          [
           0,
           "#B6E880"
          ],
          [
           1,
           "#B6E880"
          ]
         ],
         "geo": "geo",
         "hovertemplate": "Deaths=33<br>Abbreviation=%{location}<extra></extra>",
         "locationmode": "USA-states",
         "locations": [
          "DE",
          null,
          "SD",
          "SD"
         ],
         "name": "33",
         "showlegend": true,
         "showscale": false,
         "type": "choropleth",
         "z": [
          1,
          1,
          1,
          1
         ]
        },
        {
         "colorscale": [
          [
           0,
           "#FF97FF"
          ],
          [
           1,
           "#FF97FF"
          ]
         ],
         "geo": "geo",
         "hovertemplate": "Deaths=42<br>Abbreviation=%{location}<extra></extra>",
         "locationmode": "USA-states",
         "locations": [
          "DE",
          "ME",
          "NE"
         ],
         "name": "42",
         "showlegend": true,
         "showscale": false,
         "type": "choropleth",
         "z": [
          1,
          1,
          1
         ]
        },
        {
         "colorscale": [
          [
           0,
           "#FECB52"
          ],
          [
           1,
           "#FECB52"
          ]
         ],
         "geo": "geo",
         "hovertemplate": "Deaths=52<br>Abbreviation=%{location}<extra></extra>",
         "locationmode": "USA-states",
         "locations": [
          "DE",
          "ID",
          "MT",
          "WV",
          "WY"
         ],
         "name": "52",
         "showlegend": true,
         "showscale": false,
         "type": "choropleth",
         "z": [
          1,
          1,
          1,
          1,
          1
         ]
        },
        {
         "colorscale": [
          [
           0,
           "#636efa"
          ],
          [
           1,
           "#636efa"
          ]
         ],
         "geo": "geo",
         "hovertemplate": "Deaths=68<br>Abbreviation=%{location}<extra></extra>",
         "locationmode": "USA-states",
         "locations": [
          "DE",
          "MT",
          "NE"
         ],
         "name": "68",
         "showlegend": true,
         "showscale": false,
         "type": "choropleth",
         "z": [
          1,
          1,
          1
         ]
        },
        {
         "colorscale": [
          [
           0,
           "#EF553B"
          ],
          [
           1,
           "#EF553B"
          ]
         ],
         "geo": "geo",
         "hovertemplate": "Deaths=93<br>Abbreviation=%{location}<extra></extra>",
         "locationmode": "USA-states",
         "locations": [
          "DE"
         ],
         "name": "93",
         "showlegend": true,
         "showscale": false,
         "type": "choropleth",
         "z": [
          1
         ]
        },
        {
         "colorscale": [
          [
           0,
           "#00cc96"
          ],
          [
           1,
           "#00cc96"
          ]
         ],
         "geo": "geo",
         "hovertemplate": "Deaths=116<br>Abbreviation=%{location}<extra></extra>",
         "locationmode": "USA-states",
         "locations": [
          "DE"
         ],
         "name": "116",
         "showlegend": true,
         "showscale": false,
         "type": "choropleth",
         "z": [
          1
         ]
        },
        {
         "colorscale": [
          [
           0,
           "#ab63fa"
          ],
          [
           1,
           "#ab63fa"
          ]
         ],
         "geo": "geo",
         "hovertemplate": "Deaths=115<br>Abbreviation=%{location}<extra></extra>",
         "locationmode": "USA-states",
         "locations": [
          "DE",
          "DE"
         ],
         "name": "115",
         "showlegend": true,
         "showscale": false,
         "type": "choropleth",
         "z": [
          1,
          1
         ]
        },
        {
         "colorscale": [
          [
           0,
           "#FFA15A"
          ],
          [
           1,
           "#FFA15A"
          ]
         ],
         "geo": "geo",
         "hovertemplate": "Deaths=86<br>Abbreviation=%{location}<extra></extra>",
         "locationmode": "USA-states",
         "locations": [
          "DE",
          "RI"
         ],
         "name": "86",
         "showlegend": true,
         "showscale": false,
         "type": "choropleth",
         "z": [
          1,
          1
         ]
        },
        {
         "colorscale": [
          [
           0,
           "#19d3f3"
          ],
          [
           1,
           "#19d3f3"
          ]
         ],
         "geo": "geo",
         "hovertemplate": "Deaths=125<br>Abbreviation=%{location}<extra></extra>",
         "locationmode": "USA-states",
         "locations": [
          "DE"
         ],
         "name": "125",
         "showlegend": true,
         "showscale": false,
         "type": "choropleth",
         "z": [
          1
         ]
        },
        {
         "colorscale": [
          [
           0,
           "#FF6692"
          ],
          [
           1,
           "#FF6692"
          ]
         ],
         "geo": "geo",
         "hovertemplate": "Deaths=43<br>Abbreviation=%{location}<extra></extra>",
         "locationmode": "USA-states",
         "locations": [
          null,
          "IA",
          "NE"
         ],
         "name": "43",
         "showlegend": true,
         "showscale": false,
         "type": "choropleth",
         "z": [
          1,
          1,
          1
         ]
        },
        {
         "colorscale": [
          [
           0,
           "#B6E880"
          ],
          [
           1,
           "#B6E880"
          ]
         ],
         "geo": "geo",
         "hovertemplate": "Deaths=48<br>Abbreviation=%{location}<extra></extra>",
         "locationmode": "USA-states",
         "locations": [
          null,
          "HI",
          "ID",
          "WY"
         ],
         "name": "48",
         "showlegend": true,
         "showscale": false,
         "type": "choropleth",
         "z": [
          1,
          1,
          1,
          1
         ]
        },
        {
         "colorscale": [
          [
           0,
           "#FF97FF"
          ],
          [
           1,
           "#FF97FF"
          ]
         ],
         "geo": "geo",
         "hovertemplate": "Deaths=60<br>Abbreviation=%{location}<extra></extra>",
         "locationmode": "USA-states",
         "locations": [
          null,
          null,
          "NE",
          "NE",
          "VT"
         ],
         "name": "60",
         "showlegend": true,
         "showscale": false,
         "type": "choropleth",
         "z": [
          1,
          1,
          1,
          1,
          1
         ]
        },
        {
         "colorscale": [
          [
           0,
           "#FECB52"
          ],
          [
           1,
           "#FECB52"
          ]
         ],
         "geo": "geo",
         "hovertemplate": "Deaths=53<br>Abbreviation=%{location}<extra></extra>",
         "locationmode": "USA-states",
         "locations": [
          null,
          "LA",
          "MT",
          "NH"
         ],
         "name": "53",
         "showlegend": true,
         "showscale": false,
         "type": "choropleth",
         "z": [
          1,
          1,
          1,
          1
         ]
        },
        {
         "colorscale": [
          [
           0,
           "#636efa"
          ],
          [
           1,
           "#636efa"
          ]
         ],
         "geo": "geo",
         "hovertemplate": "Deaths=45<br>Abbreviation=%{location}<extra></extra>",
         "locationmode": "USA-states",
         "locations": [
          null,
          null,
          "ID",
          "VT"
         ],
         "name": "45",
         "showlegend": true,
         "showscale": false,
         "type": "choropleth",
         "z": [
          1,
          1,
          1,
          1
         ]
        },
        {
         "colorscale": [
          [
           0,
           "#EF553B"
          ],
          [
           1,
           "#EF553B"
          ]
         ],
         "geo": "geo",
         "hovertemplate": "Deaths=62<br>Abbreviation=%{location}<extra></extra>",
         "locationmode": "USA-states",
         "locations": [
          null,
          "HI",
          "MT"
         ],
         "name": "62",
         "showlegend": true,
         "showscale": false,
         "type": "choropleth",
         "z": [
          1,
          1,
          1
         ]
        },
        {
         "colorscale": [
          [
           0,
           "#00cc96"
          ],
          [
           1,
           "#00cc96"
          ]
         ],
         "geo": "geo",
         "hovertemplate": "Deaths=13<br>Abbreviation=%{location}<extra></extra>",
         "locationmode": "USA-states",
         "locations": [
          null,
          "MT",
          "ND",
          "SD"
         ],
         "name": "13",
         "showlegend": true,
         "showscale": false,
         "type": "choropleth",
         "z": [
          1,
          1,
          1,
          1
         ]
        },
        {
         "colorscale": [
          [
           0,
           "#ab63fa"
          ],
          [
           1,
           "#ab63fa"
          ]
         ],
         "geo": "geo",
         "hovertemplate": "Deaths=57<br>Abbreviation=%{location}<extra></extra>",
         "locationmode": "USA-states",
         "locations": [
          null,
          "NJ",
          "VT",
          "WY"
         ],
         "name": "57",
         "showlegend": true,
         "showscale": false,
         "type": "choropleth",
         "z": [
          1,
          1,
          1,
          1
         ]
        },
        {
         "colorscale": [
          [
           0,
           "#FFA15A"
          ],
          [
           1,
           "#FFA15A"
          ]
         ],
         "geo": "geo",
         "hovertemplate": "Deaths=65<br>Abbreviation=%{location}<extra></extra>",
         "locationmode": "USA-states",
         "locations": [
          null,
          "IA"
         ],
         "name": "65",
         "showlegend": true,
         "showscale": false,
         "type": "choropleth",
         "z": [
          1,
          1
         ]
        },
        {
         "colorscale": [
          [
           0,
           "#19d3f3"
          ],
          [
           1,
           "#19d3f3"
          ]
         ],
         "geo": "geo",
         "hovertemplate": "Deaths=417<br>Abbreviation=%{location}<extra></extra>",
         "locationmode": "USA-states",
         "locations": [
          "FL",
          "GA"
         ],
         "name": "417",
         "showlegend": true,
         "showscale": false,
         "type": "choropleth",
         "z": [
          1,
          1
         ]
        },
        {
         "colorscale": [
          [
           0,
           "#FF6692"
          ],
          [
           1,
           "#FF6692"
          ]
         ],
         "geo": "geo",
         "hovertemplate": "Deaths=571<br>Abbreviation=%{location}<extra></extra>",
         "locationmode": "USA-states",
         "locations": [
          "FL"
         ],
         "name": "571",
         "showlegend": true,
         "showscale": false,
         "type": "choropleth",
         "z": [
          1
         ]
        },
        {
         "colorscale": [
          [
           0,
           "#B6E880"
          ],
          [
           1,
           "#B6E880"
          ]
         ],
         "geo": "geo",
         "hovertemplate": "Deaths=890<br>Abbreviation=%{location}<extra></extra>",
         "locationmode": "USA-states",
         "locations": [
          "FL"
         ],
         "name": "890",
         "showlegend": true,
         "showscale": false,
         "type": "choropleth",
         "z": [
          1
         ]
        },
        {
         "colorscale": [
          [
           0,
           "#FF97FF"
          ],
          [
           1,
           "#FF97FF"
          ]
         ],
         "geo": "geo",
         "hovertemplate": "Deaths=1001<br>Abbreviation=%{location}<extra></extra>",
         "locationmode": "USA-states",
         "locations": [
          "FL"
         ],
         "name": "1001",
         "showlegend": true,
         "showscale": false,
         "type": "choropleth",
         "z": [
          1
         ]
        },
        {
         "colorscale": [
          [
           0,
           "#FECB52"
          ],
          [
           1,
           "#FECB52"
          ]
         ],
         "geo": "geo",
         "hovertemplate": "Deaths=1080<br>Abbreviation=%{location}<extra></extra>",
         "locationmode": "USA-states",
         "locations": [
          "FL"
         ],
         "name": "1080",
         "showlegend": true,
         "showscale": false,
         "type": "choropleth",
         "z": [
          1
         ]
        },
        {
         "colorscale": [
          [
           0,
           "#636efa"
          ],
          [
           1,
           "#636efa"
          ]
         ],
         "geo": "geo",
         "hovertemplate": "Deaths=1258<br>Abbreviation=%{location}<extra></extra>",
         "locationmode": "USA-states",
         "locations": [
          "FL"
         ],
         "name": "1258",
         "showlegend": true,
         "showscale": false,
         "type": "choropleth",
         "z": [
          1
         ]
        },
        {
         "colorscale": [
          [
           0,
           "#EF553B"
          ],
          [
           1,
           "#EF553B"
          ]
         ],
         "geo": "geo",
         "hovertemplate": "Deaths=1151<br>Abbreviation=%{location}<extra></extra>",
         "locationmode": "USA-states",
         "locations": [
          "FL"
         ],
         "name": "1151",
         "showlegend": true,
         "showscale": false,
         "type": "choropleth",
         "z": [
          1
         ]
        },
        {
         "colorscale": [
          [
           0,
           "#00cc96"
          ],
          [
           1,
           "#00cc96"
          ]
         ],
         "geo": "geo",
         "hovertemplate": "Deaths=1323<br>Abbreviation=%{location}<extra></extra>",
         "locationmode": "USA-states",
         "locations": [
          "FL"
         ],
         "name": "1323",
         "showlegend": true,
         "showscale": false,
         "type": "choropleth",
         "z": [
          1
         ]
        },
        {
         "colorscale": [
          [
           0,
           "#ab63fa"
          ],
          [
           1,
           "#ab63fa"
          ]
         ],
         "geo": "geo",
         "hovertemplate": "Deaths=1519<br>Abbreviation=%{location}<extra></extra>",
         "locationmode": "USA-states",
         "locations": [
          "FL"
         ],
         "name": "1519",
         "showlegend": true,
         "showscale": false,
         "type": "choropleth",
         "z": [
          1
         ]
        },
        {
         "colorscale": [
          [
           0,
           "#FFA15A"
          ],
          [
           1,
           "#FFA15A"
          ]
         ],
         "geo": "geo",
         "hovertemplate": "Deaths=1523<br>Abbreviation=%{location}<extra></extra>",
         "locationmode": "USA-states",
         "locations": [
          "FL"
         ],
         "name": "1523",
         "showlegend": true,
         "showscale": false,
         "type": "choropleth",
         "z": [
          1
         ]
        },
        {
         "colorscale": [
          [
           0,
           "#19d3f3"
          ],
          [
           1,
           "#19d3f3"
          ]
         ],
         "geo": "geo",
         "hovertemplate": "Deaths=1654<br>Abbreviation=%{location}<extra></extra>",
         "locationmode": "USA-states",
         "locations": [
          "FL"
         ],
         "name": "1654",
         "showlegend": true,
         "showscale": false,
         "type": "choropleth",
         "z": [
          1
         ]
        },
        {
         "colorscale": [
          [
           0,
           "#FF6692"
          ],
          [
           1,
           "#FF6692"
          ]
         ],
         "geo": "geo",
         "hovertemplate": "Deaths=1739<br>Abbreviation=%{location}<extra></extra>",
         "locationmode": "USA-states",
         "locations": [
          "FL"
         ],
         "name": "1739",
         "showlegend": true,
         "showscale": false,
         "type": "choropleth",
         "z": [
          1
         ]
        },
        {
         "colorscale": [
          [
           0,
           "#B6E880"
          ],
          [
           1,
           "#B6E880"
          ]
         ],
         "geo": "geo",
         "hovertemplate": "Deaths=1637<br>Abbreviation=%{location}<extra></extra>",
         "locationmode": "USA-states",
         "locations": [
          "FL"
         ],
         "name": "1637",
         "showlegend": true,
         "showscale": false,
         "type": "choropleth",
         "z": [
          1
         ]
        },
        {
         "colorscale": [
          [
           0,
           "#FF97FF"
          ],
          [
           1,
           "#FF97FF"
          ]
         ],
         "geo": "geo",
         "hovertemplate": "Deaths=1383<br>Abbreviation=%{location}<extra></extra>",
         "locationmode": "USA-states",
         "locations": [
          "FL"
         ],
         "name": "1383",
         "showlegend": true,
         "showscale": false,
         "type": "choropleth",
         "z": [
          1
         ]
        },
        {
         "colorscale": [
          [
           0,
           "#FECB52"
          ],
          [
           1,
           "#FECB52"
          ]
         ],
         "geo": "geo",
         "hovertemplate": "Deaths=1327<br>Abbreviation=%{location}<extra></extra>",
         "locationmode": "USA-states",
         "locations": [
          "FL"
         ],
         "name": "1327",
         "showlegend": true,
         "showscale": false,
         "type": "choropleth",
         "z": [
          1
         ]
        },
        {
         "colorscale": [
          [
           0,
           "#636efa"
          ],
          [
           1,
           "#636efa"
          ]
         ],
         "geo": "geo",
         "hovertemplate": "Deaths=1446<br>Abbreviation=%{location}<extra></extra>",
         "locationmode": "USA-states",
         "locations": [
          "FL"
         ],
         "name": "1446",
         "showlegend": true,
         "showscale": false,
         "type": "choropleth",
         "z": [
          1
         ]
        },
        {
         "colorscale": [
          [
           0,
           "#EF553B"
          ],
          [
           1,
           "#EF553B"
          ]
         ],
         "geo": "geo",
         "hovertemplate": "Deaths=85<br>Abbreviation=%{location}<extra></extra>",
         "locationmode": "USA-states",
         "locations": [
          "GA",
          "SC",
          "WI"
         ],
         "name": "85",
         "showlegend": true,
         "showscale": false,
         "type": "choropleth",
         "z": [
          1,
          1,
          1
         ]
        },
        {
         "colorscale": [
          [
           0,
           "#00cc96"
          ],
          [
           1,
           "#00cc96"
          ]
         ],
         "geo": "geo",
         "hovertemplate": "Deaths=199<br>Abbreviation=%{location}<extra></extra>",
         "locationmode": "USA-states",
         "locations": [
          "GA"
         ],
         "name": "199",
         "showlegend": true,
         "showscale": false,
         "type": "choropleth",
         "z": [
          1
         ]
        },
        {
         "colorscale": [
          [
           0,
           "#ab63fa"
          ],
          [
           1,
           "#ab63fa"
          ]
         ],
         "geo": "geo",
         "hovertemplate": "Deaths=223<br>Abbreviation=%{location}<extra></extra>",
         "locationmode": "USA-states",
         "locations": [
          "GA"
         ],
         "name": "223",
         "showlegend": true,
         "showscale": false,
         "type": "choropleth",
         "z": [
          1
         ]
        },
        {
         "colorscale": [
          [
           0,
           "#FFA15A"
          ],
          [
           1,
           "#FFA15A"
          ]
         ],
         "geo": "geo",
         "hovertemplate": "Deaths=248<br>Abbreviation=%{location}<extra></extra>",
         "locationmode": "USA-states",
         "locations": [
          "GA",
          "MI",
          "SC"
         ],
         "name": "248",
         "showlegend": true,
         "showscale": false,
         "type": "choropleth",
         "z": [
          1,
          1,
          1
         ]
        },
        {
         "colorscale": [
          [
           0,
           "#19d3f3"
          ],
          [
           1,
           "#19d3f3"
          ]
         ],
         "geo": "geo",
         "hovertemplate": "Deaths=269<br>Abbreviation=%{location}<extra></extra>",
         "locationmode": "USA-states",
         "locations": [
          "GA"
         ],
         "name": "269",
         "showlegend": true,
         "showscale": false,
         "type": "choropleth",
         "z": [
          1
         ]
        },
        {
         "colorscale": [
          [
           0,
           "#FF6692"
          ],
          [
           1,
           "#FF6692"
          ]
         ],
         "geo": "geo",
         "hovertemplate": "Deaths=312<br>Abbreviation=%{location}<extra></extra>",
         "locationmode": "USA-states",
         "locations": [
          "GA",
          "TN"
         ],
         "name": "312",
         "showlegend": true,
         "showscale": false,
         "type": "choropleth",
         "z": [
          1,
          1
         ]
        },
        {
         "colorscale": [
          [
           0,
           "#B6E880"
          ],
          [
           1,
           "#B6E880"
          ]
         ],
         "geo": "geo",
         "hovertemplate": "Deaths=344<br>Abbreviation=%{location}<extra></extra>",
         "locationmode": "USA-states",
         "locations": [
          "GA",
          "NJ"
         ],
         "name": "344",
         "showlegend": true,
         "showscale": false,
         "type": "choropleth",
         "z": [
          1,
          1
         ]
        },
        {
         "colorscale": [
          [
           0,
           "#FF97FF"
          ],
          [
           1,
           "#FF97FF"
          ]
         ],
         "geo": "geo",
         "hovertemplate": "Deaths=404<br>Abbreviation=%{location}<extra></extra>",
         "locationmode": "USA-states",
         "locations": [
          "GA"
         ],
         "name": "404",
         "showlegend": true,
         "showscale": false,
         "type": "choropleth",
         "z": [
          1
         ]
        },
        {
         "colorscale": [
          [
           0,
           "#FECB52"
          ],
          [
           1,
           "#FECB52"
          ]
         ],
         "geo": "geo",
         "hovertemplate": "Deaths=504<br>Abbreviation=%{location}<extra></extra>",
         "locationmode": "USA-states",
         "locations": [
          "GA",
          "IL",
          "OK"
         ],
         "name": "504",
         "showlegend": true,
         "showscale": false,
         "type": "choropleth",
         "z": [
          1,
          1,
          1
         ]
        },
        {
         "colorscale": [
          [
           0,
           "#636efa"
          ],
          [
           1,
           "#636efa"
          ]
         ],
         "geo": "geo",
         "hovertemplate": "Deaths=550<br>Abbreviation=%{location}<extra></extra>",
         "locationmode": "USA-states",
         "locations": [
          "GA"
         ],
         "name": "550",
         "showlegend": true,
         "showscale": false,
         "type": "choropleth",
         "z": [
          1
         ]
        },
        {
         "colorscale": [
          [
           0,
           "#EF553B"
          ],
          [
           1,
           "#EF553B"
          ]
         ],
         "geo": "geo",
         "hovertemplate": "Deaths=549<br>Abbreviation=%{location}<extra></extra>",
         "locationmode": "USA-states",
         "locations": [
          "GA"
         ],
         "name": "549",
         "showlegend": true,
         "showscale": false,
         "type": "choropleth",
         "z": [
          1
         ]
        },
        {
         "colorscale": [
          [
           0,
           "#00cc96"
          ],
          [
           1,
           "#00cc96"
          ]
         ],
         "geo": "geo",
         "hovertemplate": "Deaths=551<br>Abbreviation=%{location}<extra></extra>",
         "locationmode": "USA-states",
         "locations": [
          "GA"
         ],
         "name": "551",
         "showlegend": true,
         "showscale": false,
         "type": "choropleth",
         "z": [
          1
         ]
        },
        {
         "colorscale": [
          [
           0,
           "#ab63fa"
          ],
          [
           1,
           "#ab63fa"
          ]
         ],
         "geo": "geo",
         "hovertemplate": "Deaths=539<br>Abbreviation=%{location}<extra></extra>",
         "locationmode": "USA-states",
         "locations": [
          "GA"
         ],
         "name": "539",
         "showlegend": true,
         "showscale": false,
         "type": "choropleth",
         "z": [
          1
         ]
        },
        {
         "colorscale": [
          [
           0,
           "#FFA15A"
          ],
          [
           1,
           "#FFA15A"
          ]
         ],
         "geo": "geo",
         "hovertemplate": "Deaths=724<br>Abbreviation=%{location}<extra></extra>",
         "locationmode": "USA-states",
         "locations": [
          "GA"
         ],
         "name": "724",
         "showlegend": true,
         "showscale": false,
         "type": "choropleth",
         "z": [
          1
         ]
        },
        {
         "colorscale": [
          [
           0,
           "#19d3f3"
          ],
          [
           1,
           "#19d3f3"
          ]
         ],
         "geo": "geo",
         "hovertemplate": "Deaths=34<br>Abbreviation=%{location}<extra></extra>",
         "locationmode": "USA-states",
         "locations": [
          "HI",
          "NE",
          "ND",
          "SD",
          "WV",
          "WY"
         ],
         "name": "34",
         "showlegend": true,
         "showscale": false,
         "type": "choropleth",
         "z": [
          1,
          1,
          1,
          1,
          1,
          1
         ]
        },
        {
         "colorscale": [
          [
           0,
           "#FF6692"
          ],
          [
           1,
           "#FF6692"
          ]
         ],
         "geo": "geo",
         "hovertemplate": "Deaths=31<br>Abbreviation=%{location}<extra></extra>",
         "locationmode": "USA-states",
         "locations": [
          "HI",
          "MS"
         ],
         "name": "31",
         "showlegend": true,
         "showscale": false,
         "type": "choropleth",
         "z": [
          1,
          1
         ]
        },
        {
         "colorscale": [
          [
           0,
           "#B6E880"
          ],
          [
           1,
           "#B6E880"
          ]
         ],
         "geo": "geo",
         "hovertemplate": "Deaths=47<br>Abbreviation=%{location}<extra></extra>",
         "locationmode": "USA-states",
         "locations": [
          "HI",
          "IN",
          "KS",
          "MT",
          "WY",
          "WY"
         ],
         "name": "47",
         "showlegend": true,
         "showscale": false,
         "type": "choropleth",
         "z": [
          1,
          1,
          1,
          1,
          1,
          1
         ]
        },
        {
         "colorscale": [
          [
           0,
           "#FF97FF"
          ],
          [
           1,
           "#FF97FF"
          ]
         ],
         "geo": "geo",
         "hovertemplate": "Deaths=64<br>Abbreviation=%{location}<extra></extra>",
         "locationmode": "USA-states",
         "locations": [
          "HI",
          "HI",
          "ID"
         ],
         "name": "64",
         "showlegend": true,
         "showscale": false,
         "type": "choropleth",
         "z": [
          1,
          1,
          1
         ]
        },
        {
         "colorscale": [
          [
           0,
           "#FECB52"
          ],
          [
           1,
           "#FECB52"
          ]
         ],
         "geo": "geo",
         "hovertemplate": "Deaths=82<br>Abbreviation=%{location}<extra></extra>",
         "locationmode": "USA-states",
         "locations": [
          "HI"
         ],
         "name": "82",
         "showlegend": true,
         "showscale": false,
         "type": "choropleth",
         "z": [
          1
         ]
        },
        {
         "colorscale": [
          [
           0,
           "#636efa"
          ],
          [
           1,
           "#636efa"
          ]
         ],
         "geo": "geo",
         "hovertemplate": "Deaths=58<br>Abbreviation=%{location}<extra></extra>",
         "locationmode": "USA-states",
         "locations": [
          "HI"
         ],
         "name": "58",
         "showlegend": true,
         "showscale": false,
         "type": "choropleth",
         "z": [
          1
         ]
        },
        {
         "colorscale": [
          [
           0,
           "#EF553B"
          ],
          [
           1,
           "#EF553B"
          ]
         ],
         "geo": "geo",
         "hovertemplate": "Deaths=59<br>Abbreviation=%{location}<extra></extra>",
         "locationmode": "USA-states",
         "locations": [
          "HI",
          "VT",
          "VT"
         ],
         "name": "59",
         "showlegend": true,
         "showscale": false,
         "type": "choropleth",
         "z": [
          1,
          1,
          1
         ]
        },
        {
         "colorscale": [
          [
           0,
           "#00cc96"
          ],
          [
           1,
           "#00cc96"
          ]
         ],
         "geo": "geo",
         "hovertemplate": "Deaths=77<br>Abbreviation=%{location}<extra></extra>",
         "locationmode": "USA-states",
         "locations": [
          "HI",
          "RI"
         ],
         "name": "77",
         "showlegend": true,
         "showscale": false,
         "type": "choropleth",
         "z": [
          1,
          1
         ]
        },
        {
         "colorscale": [
          [
           0,
           "#ab63fa"
          ],
          [
           1,
           "#ab63fa"
          ]
         ],
         "geo": "geo",
         "hovertemplate": "Deaths=78<br>Abbreviation=%{location}<extra></extra>",
         "locationmode": "USA-states",
         "locations": [
          "HI",
          "KS"
         ],
         "name": "78",
         "showlegend": true,
         "showscale": false,
         "type": "choropleth",
         "z": [
          1,
          1
         ]
        },
        {
         "colorscale": [
          [
           0,
           "#FFA15A"
          ],
          [
           1,
           "#FFA15A"
          ]
         ],
         "geo": "geo",
         "hovertemplate": "Deaths=70<br>Abbreviation=%{location}<extra></extra>",
         "locationmode": "USA-states",
         "locations": [
          "HI",
          "MT"
         ],
         "name": "70",
         "showlegend": true,
         "showscale": false,
         "type": "choropleth",
         "z": [
          1,
          1
         ]
        },
        {
         "colorscale": [
          [
           0,
           "#19d3f3"
          ],
          [
           1,
           "#19d3f3"
          ]
         ],
         "geo": "geo",
         "hovertemplate": "Deaths=51<br>Abbreviation=%{location}<extra></extra>",
         "locationmode": "USA-states",
         "locations": [
          "ID"
         ],
         "name": "51",
         "showlegend": true,
         "showscale": false,
         "type": "choropleth",
         "z": [
          1
         ]
        },
        {
         "colorscale": [
          [
           0,
           "#FF6692"
          ],
          [
           1,
           "#FF6692"
          ]
         ],
         "geo": "geo",
         "hovertemplate": "Deaths=55<br>Abbreviation=%{location}<extra></extra>",
         "locationmode": "USA-states",
         "locations": [
          "ID",
          "MT"
         ],
         "name": "55",
         "showlegend": true,
         "showscale": false,
         "type": "choropleth",
         "z": [
          1,
          1
         ]
        },
        {
         "colorscale": [
          [
           0,
           "#B6E880"
          ],
          [
           1,
           "#B6E880"
          ]
         ],
         "geo": "geo",
         "hovertemplate": "Deaths=66<br>Abbreviation=%{location}<extra></extra>",
         "locationmode": "USA-states",
         "locations": [
          "ID"
         ],
         "name": "66",
         "showlegend": true,
         "showscale": false,
         "type": "choropleth",
         "z": [
          1
         ]
        },
        {
         "colorscale": [
          [
           0,
           "#FF97FF"
          ],
          [
           1,
           "#FF97FF"
          ]
         ],
         "geo": "geo",
         "hovertemplate": "Deaths=80<br>Abbreviation=%{location}<extra></extra>",
         "locationmode": "USA-states",
         "locations": [
          "ID",
          "ID",
          "RI"
         ],
         "name": "80",
         "showlegend": true,
         "showscale": false,
         "type": "choropleth",
         "z": [
          1,
          1,
          1
         ]
        },
        {
         "colorscale": [
          [
           0,
           "#FECB52"
          ],
          [
           1,
           "#FECB52"
          ]
         ],
         "geo": "geo",
         "hovertemplate": "Deaths=61<br>Abbreviation=%{location}<extra></extra>",
         "locationmode": "USA-states",
         "locations": [
          "ID",
          "ME",
          "NE",
          "RI"
         ],
         "name": "61",
         "showlegend": true,
         "showscale": false,
         "type": "choropleth",
         "z": [
          1,
          1,
          1,
          1
         ]
        },
        {
         "colorscale": [
          [
           0,
           "#636efa"
          ],
          [
           1,
           "#636efa"
          ]
         ],
         "geo": "geo",
         "hovertemplate": "Deaths=544<br>Abbreviation=%{location}<extra></extra>",
         "locationmode": "USA-states",
         "locations": [
          "IL"
         ],
         "name": "544",
         "showlegend": true,
         "showscale": false,
         "type": "choropleth",
         "z": [
          1
         ]
        },
        {
         "colorscale": [
          [
           0,
           "#EF553B"
          ],
          [
           1,
           "#EF553B"
          ]
         ],
         "geo": "geo",
         "hovertemplate": "Deaths=629<br>Abbreviation=%{location}<extra></extra>",
         "locationmode": "USA-states",
         "locations": [
          "IL",
          "WA"
         ],
         "name": "629",
         "showlegend": true,
         "showscale": false,
         "type": "choropleth",
         "z": [
          1,
          1
         ]
        },
        {
         "colorscale": [
          [
           0,
           "#00cc96"
          ],
          [
           1,
           "#00cc96"
          ]
         ],
         "geo": "geo",
         "hovertemplate": "Deaths=583<br>Abbreviation=%{location}<extra></extra>",
         "locationmode": "USA-states",
         "locations": [
          "IL",
          "OK"
         ],
         "name": "583",
         "showlegend": true,
         "showscale": false,
         "type": "choropleth",
         "z": [
          1,
          1
         ]
        },
        {
         "colorscale": [
          [
           0,
           "#ab63fa"
          ],
          [
           1,
           "#ab63fa"
          ]
         ],
         "geo": "geo",
         "hovertemplate": "Deaths=612<br>Abbreviation=%{location}<extra></extra>",
         "locationmode": "USA-states",
         "locations": [
          "IL",
          "MA",
          "MO"
         ],
         "name": "612",
         "showlegend": true,
         "showscale": false,
         "type": "choropleth",
         "z": [
          1,
          1,
          1
         ]
        },
        {
         "colorscale": [
          [
           0,
           "#FFA15A"
          ],
          [
           1,
           "#FFA15A"
          ]
         ],
         "geo": "geo",
         "hovertemplate": "Deaths=575<br>Abbreviation=%{location}<extra></extra>",
         "locationmode": "USA-states",
         "locations": [
          "IL"
         ],
         "name": "575",
         "showlegend": true,
         "showscale": false,
         "type": "choropleth",
         "z": [
          1
         ]
        },
        {
         "colorscale": [
          [
           0,
           "#19d3f3"
          ],
          [
           1,
           "#19d3f3"
          ]
         ],
         "geo": "geo",
         "hovertemplate": "Deaths=647<br>Abbreviation=%{location}<extra></extra>",
         "locationmode": "USA-states",
         "locations": [
          "IL"
         ],
         "name": "647",
         "showlegend": true,
         "showscale": false,
         "type": "choropleth",
         "z": [
          1
         ]
        },
        {
         "colorscale": [
          [
           0,
           "#FF6692"
          ],
          [
           1,
           "#FF6692"
          ]
         ],
         "geo": "geo",
         "hovertemplate": "Deaths=929<br>Abbreviation=%{location}<extra></extra>",
         "locationmode": "USA-states",
         "locations": [
          "IL"
         ],
         "name": "929",
         "showlegend": true,
         "showscale": false,
         "type": "choropleth",
         "z": [
          1
         ]
        },
        {
         "colorscale": [
          [
           0,
           "#B6E880"
          ],
          [
           1,
           "#B6E880"
          ]
         ],
         "geo": "geo",
         "hovertemplate": "Deaths=739<br>Abbreviation=%{location}<extra></extra>",
         "locationmode": "USA-states",
         "locations": [
          "IL"
         ],
         "name": "739",
         "showlegend": true,
         "showscale": false,
         "type": "choropleth",
         "z": [
          1
         ]
        },
        {
         "colorscale": [
          [
           0,
           "#FF97FF"
          ],
          [
           1,
           "#FF97FF"
          ]
         ],
         "geo": "geo",
         "hovertemplate": "Deaths=895<br>Abbreviation=%{location}<extra></extra>",
         "locationmode": "USA-states",
         "locations": [
          "IL"
         ],
         "name": "895",
         "showlegend": true,
         "showscale": false,
         "type": "choropleth",
         "z": [
          1
         ]
        },
        {
         "colorscale": [
          [
           0,
           "#FECB52"
          ],
          [
           1,
           "#FECB52"
          ]
         ],
         "geo": "geo",
         "hovertemplate": "Deaths=933<br>Abbreviation=%{location}<extra></extra>",
         "locationmode": "USA-states",
         "locations": [
          "IL"
         ],
         "name": "933",
         "showlegend": true,
         "showscale": false,
         "type": "choropleth",
         "z": [
          1
         ]
        },
        {
         "colorscale": [
          [
           0,
           "#636efa"
          ],
          [
           1,
           "#636efa"
          ]
         ],
         "geo": "geo",
         "hovertemplate": "Deaths=921<br>Abbreviation=%{location}<extra></extra>",
         "locationmode": "USA-states",
         "locations": [
          "IL"
         ],
         "name": "921",
         "showlegend": true,
         "showscale": false,
         "type": "choropleth",
         "z": [
          1
         ]
        },
        {
         "colorscale": [
          [
           0,
           "#EF553B"
          ],
          [
           1,
           "#EF553B"
          ]
         ],
         "geo": "geo",
         "hovertemplate": "Deaths=955<br>Abbreviation=%{location}<extra></extra>",
         "locationmode": "USA-states",
         "locations": [
          "IL"
         ],
         "name": "955",
         "showlegend": true,
         "showscale": false,
         "type": "choropleth",
         "z": [
          1
         ]
        },
        {
         "colorscale": [
          [
           0,
           "#00cc96"
          ],
          [
           1,
           "#00cc96"
          ]
         ],
         "geo": "geo",
         "hovertemplate": "Deaths=1204<br>Abbreviation=%{location}<extra></extra>",
         "locationmode": "USA-states",
         "locations": [
          "IL"
         ],
         "name": "1204",
         "showlegend": true,
         "showscale": false,
         "type": "choropleth",
         "z": [
          1
         ]
        },
        {
         "colorscale": [
          [
           0,
           "#ab63fa"
          ],
          [
           1,
           "#ab63fa"
          ]
         ],
         "geo": "geo",
         "hovertemplate": "Deaths=1139<br>Abbreviation=%{location}<extra></extra>",
         "locationmode": "USA-states",
         "locations": [
          "IL"
         ],
         "name": "1139",
         "showlegend": true,
         "showscale": false,
         "type": "choropleth",
         "z": [
          1
         ]
        },
        {
         "colorscale": [
          [
           0,
           "#FFA15A"
          ],
          [
           1,
           "#FFA15A"
          ]
         ],
         "geo": "geo",
         "hovertemplate": "Deaths=1263<br>Abbreviation=%{location}<extra></extra>",
         "locationmode": "USA-states",
         "locations": [
          "IL"
         ],
         "name": "1263",
         "showlegend": true,
         "showscale": false,
         "type": "choropleth",
         "z": [
          1
         ]
        },
        {
         "colorscale": [
          [
           0,
           "#19d3f3"
          ],
          [
           1,
           "#19d3f3"
          ]
         ],
         "geo": "geo",
         "hovertemplate": "Deaths=49<br>Abbreviation=%{location}<extra></extra>",
         "locationmode": "USA-states",
         "locations": [
          "IN",
          "WY"
         ],
         "name": "49",
         "showlegend": true,
         "showscale": false,
         "type": "choropleth",
         "z": [
          1,
          1
         ]
        },
        {
         "colorscale": [
          [
           0,
           "#FF6692"
          ],
          [
           1,
           "#FF6692"
          ]
         ],
         "geo": "geo",
         "hovertemplate": "Deaths=74<br>Abbreviation=%{location}<extra></extra>",
         "locationmode": "USA-states",
         "locations": [
          "IN",
          "IA"
         ],
         "name": "74",
         "showlegend": true,
         "showscale": false,
         "type": "choropleth",
         "z": [
          1,
          1
         ]
        },
        {
         "colorscale": [
          [
           0,
           "#B6E880"
          ],
          [
           1,
           "#B6E880"
          ]
         ],
         "geo": "geo",
         "hovertemplate": "Deaths=140<br>Abbreviation=%{location}<extra></extra>",
         "locationmode": "USA-states",
         "locations": [
          "IN",
          "MI"
         ],
         "name": "140",
         "showlegend": true,
         "showscale": false,
         "type": "choropleth",
         "z": [
          1,
          1
         ]
        },
        {
         "colorscale": [
          [
           0,
           "#FF97FF"
          ],
          [
           1,
           "#FF97FF"
          ]
         ],
         "geo": "geo",
         "hovertemplate": "Deaths=150<br>Abbreviation=%{location}<extra></extra>",
         "locationmode": "USA-states",
         "locations": [
          "IN",
          "WV"
         ],
         "name": "150",
         "showlegend": true,
         "showscale": false,
         "type": "choropleth",
         "z": [
          1,
          1
         ]
        },
        {
         "colorscale": [
          [
           0,
           "#FECB52"
          ],
          [
           1,
           "#FECB52"
          ]
         ],
         "geo": "geo",
         "hovertemplate": "Deaths=188<br>Abbreviation=%{location}<extra></extra>",
         "locationmode": "USA-states",
         "locations": [
          "IN",
          "KS",
          "MN"
         ],
         "name": "188",
         "showlegend": true,
         "showscale": false,
         "type": "choropleth",
         "z": [
          1,
          1,
          1
         ]
        },
        {
         "colorscale": [
          [
           0,
           "#636efa"
          ],
          [
           1,
           "#636efa"
          ]
         ],
         "geo": "geo",
         "hovertemplate": "Deaths=251<br>Abbreviation=%{location}<extra></extra>",
         "locationmode": "USA-states",
         "locations": [
          "IN"
         ],
         "name": "251",
         "showlegend": true,
         "showscale": false,
         "type": "choropleth",
         "z": [
          1
         ]
        },
        {
         "colorscale": [
          [
           0,
           "#EF553B"
          ],
          [
           1,
           "#EF553B"
          ]
         ],
         "geo": "geo",
         "hovertemplate": "Deaths=324<br>Abbreviation=%{location}<extra></extra>",
         "locationmode": "USA-states",
         "locations": [
          "IN"
         ],
         "name": "324",
         "showlegend": true,
         "showscale": false,
         "type": "choropleth",
         "z": [
          1
         ]
        },
        {
         "colorscale": [
          [
           0,
           "#00cc96"
          ],
          [
           1,
           "#00cc96"
          ]
         ],
         "geo": "geo",
         "hovertemplate": "Deaths=339<br>Abbreviation=%{location}<extra></extra>",
         "locationmode": "USA-states",
         "locations": [
          "IN",
          "NM"
         ],
         "name": "339",
         "showlegend": true,
         "showscale": false,
         "type": "choropleth",
         "z": [
          1,
          1
         ]
        },
        {
         "colorscale": [
          [
           0,
           "#ab63fa"
          ],
          [
           1,
           "#ab63fa"
          ]
         ],
         "geo": "geo",
         "hovertemplate": "Deaths=300<br>Abbreviation=%{location}<extra></extra>",
         "locationmode": "USA-states",
         "locations": [
          "IN"
         ],
         "name": "300",
         "showlegend": true,
         "showscale": false,
         "type": "choropleth",
         "z": [
          1
         ]
        },
        {
         "colorscale": [
          [
           0,
           "#FFA15A"
          ],
          [
           1,
           "#FFA15A"
          ]
         ],
         "geo": "geo",
         "hovertemplate": "Deaths=375<br>Abbreviation=%{location}<extra></extra>",
         "locationmode": "USA-states",
         "locations": [
          "IN"
         ],
         "name": "375",
         "showlegend": true,
         "showscale": false,
         "type": "choropleth",
         "z": [
          1
         ]
        },
        {
         "colorscale": [
          [
           0,
           "#19d3f3"
          ],
          [
           1,
           "#19d3f3"
          ]
         ],
         "geo": "geo",
         "hovertemplate": "Deaths=397<br>Abbreviation=%{location}<extra></extra>",
         "locationmode": "USA-states",
         "locations": [
          "IN"
         ],
         "name": "397",
         "showlegend": true,
         "showscale": false,
         "type": "choropleth",
         "z": [
          1
         ]
        },
        {
         "colorscale": [
          [
           0,
           "#FF6692"
          ],
          [
           1,
           "#FF6692"
          ]
         ],
         "geo": "geo",
         "hovertemplate": "Deaths=387<br>Abbreviation=%{location}<extra></extra>",
         "locationmode": "USA-states",
         "locations": [
          "IN",
          "WV"
         ],
         "name": "387",
         "showlegend": true,
         "showscale": false,
         "type": "choropleth",
         "z": [
          1,
          1
         ]
        },
        {
         "colorscale": [
          [
           0,
           "#B6E880"
          ],
          [
           1,
           "#B6E880"
          ]
         ],
         "geo": "geo",
         "hovertemplate": "Deaths=489<br>Abbreviation=%{location}<extra></extra>",
         "locationmode": "USA-states",
         "locations": [
          "IN"
         ],
         "name": "489",
         "showlegend": true,
         "showscale": false,
         "type": "choropleth",
         "z": [
          1
         ]
        },
        {
         "colorscale": [
          [
           0,
           "#FF97FF"
          ],
          [
           1,
           "#FF97FF"
          ]
         ],
         "geo": "geo",
         "hovertemplate": "Deaths=15<br>Abbreviation=%{location}<extra></extra>",
         "locationmode": "USA-states",
         "locations": [
          "IA"
         ],
         "name": "15",
         "showlegend": true,
         "showscale": false,
         "type": "choropleth",
         "z": [
          1
         ]
        },
        {
         "colorscale": [
          [
           0,
           "#FECB52"
          ],
          [
           1,
           "#FECB52"
          ]
         ],
         "geo": "geo",
         "hovertemplate": "Deaths=41<br>Abbreviation=%{location}<extra></extra>",
         "locationmode": "USA-states",
         "locations": [
          "IA",
          "NE",
          "NH",
          "VT",
          "VT"
         ],
         "name": "41",
         "showlegend": true,
         "showscale": false,
         "type": "choropleth",
         "z": [
          1,
          1,
          1,
          1,
          1
         ]
        },
        {
         "colorscale": [
          [
           0,
           "#636efa"
          ],
          [
           1,
           "#636efa"
          ]
         ],
         "geo": "geo",
         "hovertemplate": "Deaths=101<br>Abbreviation=%{location}<extra></extra>",
         "locationmode": "USA-states",
         "locations": [
          "IA"
         ],
         "name": "101",
         "showlegend": true,
         "showscale": false,
         "type": "choropleth",
         "z": [
          1
         ]
        },
        {
         "colorscale": [
          [
           0,
           "#EF553B"
          ],
          [
           1,
           "#EF553B"
          ]
         ],
         "geo": "geo",
         "hovertemplate": "Deaths=112<br>Abbreviation=%{location}<extra></extra>",
         "locationmode": "USA-states",
         "locations": [
          "IA",
          "KS",
          "MN",
          "MN",
          "MS",
          "RI"
         ],
         "name": "112",
         "showlegend": true,
         "showscale": false,
         "type": "choropleth",
         "z": [
          1,
          1,
          1,
          1,
          1,
          1
         ]
        },
        {
         "colorscale": [
          [
           0,
           "#00cc96"
          ],
          [
           1,
           "#00cc96"
          ]
         ],
         "geo": "geo",
         "hovertemplate": "Deaths=138<br>Abbreviation=%{location}<extra></extra>",
         "locationmode": "USA-states",
         "locations": [
          "IA",
          "MO"
         ],
         "name": "138",
         "showlegend": true,
         "showscale": false,
         "type": "choropleth",
         "z": [
          1,
          1
         ]
        },
        {
         "colorscale": [
          [
           0,
           "#ab63fa"
          ],
          [
           1,
           "#ab63fa"
          ]
         ],
         "geo": "geo",
         "hovertemplate": "Deaths=148<br>Abbreviation=%{location}<extra></extra>",
         "locationmode": "USA-states",
         "locations": [
          "IA",
          "NH"
         ],
         "name": "148",
         "showlegend": true,
         "showscale": false,
         "type": "choropleth",
         "z": [
          1,
          1
         ]
        },
        {
         "colorscale": [
          [
           0,
           "#FFA15A"
          ],
          [
           1,
           "#FFA15A"
          ]
         ],
         "geo": "geo",
         "hovertemplate": "Deaths=163<br>Abbreviation=%{location}<extra></extra>",
         "locationmode": "USA-states",
         "locations": [
          "IA"
         ],
         "name": "163",
         "showlegend": true,
         "showscale": false,
         "type": "choropleth",
         "z": [
          1
         ]
        },
        {
         "colorscale": [
          [
           0,
           "#19d3f3"
          ],
          [
           1,
           "#19d3f3"
          ]
         ],
         "geo": "geo",
         "hovertemplate": "Deaths=183<br>Abbreviation=%{location}<extra></extra>",
         "locationmode": "USA-states",
         "locations": [
          "IA",
          "WV"
         ],
         "name": "183",
         "showlegend": true,
         "showscale": false,
         "type": "choropleth",
         "z": [
          1,
          1
         ]
        },
        {
         "colorscale": [
          [
           0,
           "#FF6692"
          ],
          [
           1,
           "#FF6692"
          ]
         ],
         "geo": "geo",
         "hovertemplate": "Deaths=185<br>Abbreviation=%{location}<extra></extra>",
         "locationmode": "USA-states",
         "locations": [
          "IA",
          "KY",
          "LA",
          "MN"
         ],
         "name": "185",
         "showlegend": true,
         "showscale": false,
         "type": "choropleth",
         "z": [
          1,
          1,
          1,
          1
         ]
        },
        {
         "colorscale": [
          [
           0,
           "#B6E880"
          ],
          [
           1,
           "#B6E880"
          ]
         ],
         "geo": "geo",
         "hovertemplate": "Deaths=190<br>Abbreviation=%{location}<extra></extra>",
         "locationmode": "USA-states",
         "locations": [
          "IA",
          "NM"
         ],
         "name": "190",
         "showlegend": true,
         "showscale": false,
         "type": "choropleth",
         "z": [
          1,
          1
         ]
        },
        {
         "colorscale": [
          [
           0,
           "#FF97FF"
          ],
          [
           1,
           "#FF97FF"
          ]
         ],
         "geo": "geo",
         "hovertemplate": "Deaths=170<br>Abbreviation=%{location}<extra></extra>",
         "locationmode": "USA-states",
         "locations": [
          "IA",
          "OK"
         ],
         "name": "170",
         "showlegend": true,
         "showscale": false,
         "type": "choropleth",
         "z": [
          1,
          1
         ]
        },
        {
         "colorscale": [
          [
           0,
           "#FECB52"
          ],
          [
           1,
           "#FECB52"
          ]
         ],
         "geo": "geo",
         "hovertemplate": "Deaths=26<br>Abbreviation=%{location}<extra></extra>",
         "locationmode": "USA-states",
         "locations": [
          "KS",
          "MS",
          "NE",
          "SD"
         ],
         "name": "26",
         "showlegend": true,
         "showscale": false,
         "type": "choropleth",
         "z": [
          1,
          1,
          1,
          1
         ]
        },
        {
         "colorscale": [
          [
           0,
           "#636efa"
          ],
          [
           1,
           "#636efa"
          ]
         ],
         "geo": "geo",
         "hovertemplate": "Deaths=23<br>Abbreviation=%{location}<extra></extra>",
         "locationmode": "USA-states",
         "locations": [
          "KS"
         ],
         "name": "23",
         "showlegend": true,
         "showscale": false,
         "type": "choropleth",
         "z": [
          1
         ]
        },
        {
         "colorscale": [
          [
           0,
           "#EF553B"
          ],
          [
           1,
           "#EF553B"
          ]
         ],
         "geo": "geo",
         "hovertemplate": "Deaths=87<br>Abbreviation=%{location}<extra></extra>",
         "locationmode": "USA-states",
         "locations": [
          "KS",
          "LA"
         ],
         "name": "87",
         "showlegend": true,
         "showscale": false,
         "type": "choropleth",
         "z": [
          1,
          1
         ]
        },
        {
         "colorscale": [
          [
           0,
           "#00cc96"
          ],
          [
           1,
           "#00cc96"
          ]
         ],
         "geo": "geo",
         "hovertemplate": "Deaths=118<br>Abbreviation=%{location}<extra></extra>",
         "locationmode": "USA-states",
         "locations": [
          "KS"
         ],
         "name": "118",
         "showlegend": true,
         "showscale": false,
         "type": "choropleth",
         "z": [
          1
         ]
        },
        {
         "colorscale": [
          [
           0,
           "#ab63fa"
          ],
          [
           1,
           "#ab63fa"
          ]
         ],
         "geo": "geo",
         "hovertemplate": "Deaths=128<br>Abbreviation=%{location}<extra></extra>",
         "locationmode": "USA-states",
         "locations": [
          "KS"
         ],
         "name": "128",
         "showlegend": true,
         "showscale": false,
         "type": "choropleth",
         "z": [
          1
         ]
        },
        {
         "colorscale": [
          [
           0,
           "#FFA15A"
          ],
          [
           1,
           "#FFA15A"
          ]
         ],
         "geo": "geo",
         "hovertemplate": "Deaths=103<br>Abbreviation=%{location}<extra></extra>",
         "locationmode": "USA-states",
         "locations": [
          "KS",
          "MS",
          "TN"
         ],
         "name": "103",
         "showlegend": true,
         "showscale": false,
         "type": "choropleth",
         "z": [
          1,
          1,
          1
         ]
        },
        {
         "colorscale": [
          [
           0,
           "#19d3f3"
          ],
          [
           1,
           "#19d3f3"
          ]
         ],
         "geo": "geo",
         "hovertemplate": "Deaths=160<br>Abbreviation=%{location}<extra></extra>",
         "locationmode": "USA-states",
         "locations": [
          "KS"
         ],
         "name": "160",
         "showlegend": true,
         "showscale": false,
         "type": "choropleth",
         "z": [
          1
         ]
        },
        {
         "colorscale": [
          [
           0,
           "#FF6692"
          ],
          [
           1,
           "#FF6692"
          ]
         ],
         "geo": "geo",
         "hovertemplate": "Deaths=111<br>Abbreviation=%{location}<extra></extra>",
         "locationmode": "USA-states",
         "locations": [
          "KS",
          "NH"
         ],
         "name": "111",
         "showlegend": true,
         "showscale": false,
         "type": "choropleth",
         "z": [
          1,
          1
         ]
        },
        {
         "colorscale": [
          [
           0,
           "#B6E880"
          ],
          [
           1,
           "#B6E880"
          ]
         ],
         "geo": "geo",
         "hovertemplate": "Deaths=131<br>Abbreviation=%{location}<extra></extra>",
         "locationmode": "USA-states",
         "locations": [
          "KS",
          "LA",
          "LA"
         ],
         "name": "131",
         "showlegend": true,
         "showscale": false,
         "type": "choropleth",
         "z": [
          1,
          1,
          1
         ]
        },
        {
         "colorscale": [
          [
           0,
           "#FF97FF"
          ],
          [
           1,
           "#FF97FF"
          ]
         ],
         "geo": "geo",
         "hovertemplate": "Deaths=171<br>Abbreviation=%{location}<extra></extra>",
         "locationmode": "USA-states",
         "locations": [
          "KS"
         ],
         "name": "171",
         "showlegend": true,
         "showscale": false,
         "type": "choropleth",
         "z": [
          1
         ]
        },
        {
         "colorscale": [
          [
           0,
           "#FECB52"
          ],
          [
           1,
           "#FECB52"
          ]
         ],
         "geo": "geo",
         "hovertemplate": "Deaths=56<br>Abbreviation=%{location}<extra></extra>",
         "locationmode": "USA-states",
         "locations": [
          "KY"
         ],
         "name": "56",
         "showlegend": true,
         "showscale": false,
         "type": "choropleth",
         "z": [
          1
         ]
        },
        {
         "colorscale": [
          [
           0,
           "#636efa"
          ],
          [
           1,
           "#636efa"
          ]
         ],
         "geo": "geo",
         "hovertemplate": "Deaths=242<br>Abbreviation=%{location}<extra></extra>",
         "locationmode": "USA-states",
         "locations": [
          "KY",
          "MN"
         ],
         "name": "242",
         "showlegend": true,
         "showscale": false,
         "type": "choropleth",
         "z": [
          1,
          1
         ]
        },
        {
         "colorscale": [
          [
           0,
           "#EF553B"
          ],
          [
           1,
           "#EF553B"
          ]
         ],
         "geo": "geo",
         "hovertemplate": "Deaths=237<br>Abbreviation=%{location}<extra></extra>",
         "locationmode": "USA-states",
         "locations": [
          "KY"
         ],
         "name": "237",
         "showlegend": true,
         "showscale": false,
         "type": "choropleth",
         "z": [
          1
         ]
        },
        {
         "colorscale": [
          [
           0,
           "#00cc96"
          ],
          [
           1,
           "#00cc96"
          ]
         ],
         "geo": "geo",
         "hovertemplate": "Deaths=294<br>Abbreviation=%{location}<extra></extra>",
         "locationmode": "USA-states",
         "locations": [
          "KY"
         ],
         "name": "294",
         "showlegend": true,
         "showscale": false,
         "type": "choropleth",
         "z": [
          1
         ]
        },
        {
         "colorscale": [
          [
           0,
           "#ab63fa"
          ],
          [
           1,
           "#ab63fa"
          ]
         ],
         "geo": "geo",
         "hovertemplate": "Deaths=343<br>Abbreviation=%{location}<extra></extra>",
         "locationmode": "USA-states",
         "locations": [
          "KY",
          "UT"
         ],
         "name": "343",
         "showlegend": true,
         "showscale": false,
         "type": "choropleth",
         "z": [
          1,
          1
         ]
        },
        {
         "colorscale": [
          [
           0,
           "#FFA15A"
          ],
          [
           1,
           "#FFA15A"
          ]
         ],
         "geo": "geo",
         "hovertemplate": "Deaths=356<br>Abbreviation=%{location}<extra></extra>",
         "locationmode": "USA-states",
         "locations": [
          "KY",
          "OH"
         ],
         "name": "356",
         "showlegend": true,
         "showscale": false,
         "type": "choropleth",
         "z": [
          1,
          1
         ]
        },
        {
         "colorscale": [
          [
           0,
           "#19d3f3"
          ],
          [
           1,
           "#19d3f3"
          ]
         ],
         "geo": "geo",
         "hovertemplate": "Deaths=377<br>Abbreviation=%{location}<extra></extra>",
         "locationmode": "USA-states",
         "locations": [
          "KY",
          "NJ"
         ],
         "name": "377",
         "showlegend": true,
         "showscale": false,
         "type": "choropleth",
         "z": [
          1,
          1
         ]
        },
        {
         "colorscale": [
          [
           0,
           "#FF6692"
          ],
          [
           1,
           "#FF6692"
          ]
         ],
         "geo": "geo",
         "hovertemplate": "Deaths=455<br>Abbreviation=%{location}<extra></extra>",
         "locationmode": "USA-states",
         "locations": [
          "KY"
         ],
         "name": "455",
         "showlegend": true,
         "showscale": false,
         "type": "choropleth",
         "z": [
          1
         ]
        },
        {
         "colorscale": [
          [
           0,
           "#B6E880"
          ],
          [
           1,
           "#B6E880"
          ]
         ],
         "geo": "geo",
         "hovertemplate": "Deaths=624<br>Abbreviation=%{location}<extra></extra>",
         "locationmode": "USA-states",
         "locations": [
          "KY"
         ],
         "name": "624",
         "showlegend": true,
         "showscale": false,
         "type": "choropleth",
         "z": [
          1
         ]
        },
        {
         "colorscale": [
          [
           0,
           "#FF97FF"
          ],
          [
           1,
           "#FF97FF"
          ]
         ],
         "geo": "geo",
         "hovertemplate": "Deaths=707<br>Abbreviation=%{location}<extra></extra>",
         "locationmode": "USA-states",
         "locations": [
          "KY"
         ],
         "name": "707",
         "showlegend": true,
         "showscale": false,
         "type": "choropleth",
         "z": [
          1
         ]
        },
        {
         "colorscale": [
          [
           0,
           "#FECB52"
          ],
          [
           1,
           "#FECB52"
          ]
         ],
         "geo": "geo",
         "hovertemplate": "Deaths=713<br>Abbreviation=%{location}<extra></extra>",
         "locationmode": "USA-states",
         "locations": [
          "KY"
         ],
         "name": "713",
         "showlegend": true,
         "showscale": false,
         "type": "choropleth",
         "z": [
          1
         ]
        },
        {
         "colorscale": [
          [
           0,
           "#636efa"
          ],
          [
           1,
           "#636efa"
          ]
         ],
         "geo": "geo",
         "hovertemplate": "Deaths=689<br>Abbreviation=%{location}<extra></extra>",
         "locationmode": "USA-states",
         "locations": [
          "KY",
          "WA"
         ],
         "name": "689",
         "showlegend": true,
         "showscale": false,
         "type": "choropleth",
         "z": [
          1,
          1
         ]
        },
        {
         "colorscale": [
          [
           0,
           "#EF553B"
          ],
          [
           1,
           "#EF553B"
          ]
         ],
         "geo": "geo",
         "hovertemplate": "Deaths=762<br>Abbreviation=%{location}<extra></extra>",
         "locationmode": "USA-states",
         "locations": [
          "KY"
         ],
         "name": "762",
         "showlegend": true,
         "showscale": false,
         "type": "choropleth",
         "z": [
          1
         ]
        },
        {
         "colorscale": [
          [
           0,
           "#00cc96"
          ],
          [
           1,
           "#00cc96"
          ]
         ],
         "geo": "geo",
         "hovertemplate": "Deaths=105<br>Abbreviation=%{location}<extra></extra>",
         "locationmode": "USA-states",
         "locations": [
          "LA",
          "ME",
          "MS"
         ],
         "name": "105",
         "showlegend": true,
         "showscale": false,
         "type": "choropleth",
         "z": [
          1,
          1,
          1
         ]
        },
        {
         "colorscale": [
          [
           0,
           "#ab63fa"
          ],
          [
           1,
           "#ab63fa"
          ]
         ],
         "geo": "geo",
         "hovertemplate": "Deaths=203<br>Abbreviation=%{location}<extra></extra>",
         "locationmode": "USA-states",
         "locations": [
          "LA",
          "NV",
          "WV",
          "WI"
         ],
         "name": "203",
         "showlegend": true,
         "showscale": false,
         "type": "choropleth",
         "z": [
          1,
          1,
          1,
          1
         ]
        },
        {
         "colorscale": [
          [
           0,
           "#FFA15A"
          ],
          [
           1,
           "#FFA15A"
          ]
         ],
         "geo": "geo",
         "hovertemplate": "Deaths=228<br>Abbreviation=%{location}<extra></extra>",
         "locationmode": "USA-states",
         "locations": [
          "LA",
          "NM",
          "SC"
         ],
         "name": "228",
         "showlegend": true,
         "showscale": false,
         "type": "choropleth",
         "z": [
          1,
          1,
          1
         ]
        },
        {
         "colorscale": [
          [
           0,
           "#19d3f3"
          ],
          [
           1,
           "#19d3f3"
          ]
         ],
         "geo": "geo",
         "hovertemplate": "Deaths=141<br>Abbreviation=%{location}<extra></extra>",
         "locationmode": "USA-states",
         "locations": [
          "LA"
         ],
         "name": "141",
         "showlegend": true,
         "showscale": false,
         "type": "choropleth",
         "z": [
          1
         ]
        },
        {
         "colorscale": [
          [
           0,
           "#FF6692"
          ],
          [
           1,
           "#FF6692"
          ]
         ],
         "geo": "geo",
         "hovertemplate": "Deaths=130<br>Abbreviation=%{location}<extra></extra>",
         "locationmode": "USA-states",
         "locations": [
          "LA"
         ],
         "name": "130",
         "showlegend": true,
         "showscale": false,
         "type": "choropleth",
         "z": [
          1
         ]
        },
        {
         "colorscale": [
          [
           0,
           "#B6E880"
          ],
          [
           1,
           "#B6E880"
          ]
         ],
         "geo": "geo",
         "hovertemplate": "Deaths=121<br>Abbreviation=%{location}<extra></extra>",
         "locationmode": "USA-states",
         "locations": [
          "LA"
         ],
         "name": "121",
         "showlegend": true,
         "showscale": false,
         "type": "choropleth",
         "z": [
          1
         ]
        },
        {
         "colorscale": [
          [
           0,
           "#FF97FF"
          ],
          [
           1,
           "#FF97FF"
          ]
         ],
         "geo": "geo",
         "hovertemplate": "Deaths=270<br>Abbreviation=%{location}<extra></extra>",
         "locationmode": "USA-states",
         "locations": [
          "LA",
          "NV",
          "OH"
         ],
         "name": "270",
         "showlegend": true,
         "showscale": false,
         "type": "choropleth",
         "z": [
          1,
          1,
          1
         ]
        },
        {
         "colorscale": [
          [
           0,
           "#FECB52"
          ],
          [
           1,
           "#FECB52"
          ]
         ],
         "geo": "geo",
         "hovertemplate": "Deaths=266<br>Abbreviation=%{location}<extra></extra>",
         "locationmode": "USA-states",
         "locations": [
          "LA",
          "PA"
         ],
         "name": "266",
         "showlegend": true,
         "showscale": false,
         "type": "choropleth",
         "z": [
          1,
          1
         ]
        },
        {
         "colorscale": [
          [
           0,
           "#636efa"
          ],
          [
           1,
           "#636efa"
          ]
         ],
         "geo": "geo",
         "hovertemplate": "Deaths=100<br>Abbreviation=%{location}<extra></extra>",
         "locationmode": "USA-states",
         "locations": [
          "ME"
         ],
         "name": "100",
         "showlegend": true,
         "showscale": false,
         "type": "choropleth",
         "z": [
          1
         ]
        },
        {
         "colorscale": [
          [
           0,
           "#EF553B"
          ],
          [
           1,
           "#EF553B"
          ]
         ],
         "geo": "geo",
         "hovertemplate": "Deaths=124<br>Abbreviation=%{location}<extra></extra>",
         "locationmode": "USA-states",
         "locations": [
          "ME"
         ],
         "name": "124",
         "showlegend": true,
         "showscale": false,
         "type": "choropleth",
         "z": [
          1
         ]
        },
        {
         "colorscale": [
          [
           0,
           "#00cc96"
          ],
          [
           1,
           "#00cc96"
          ]
         ],
         "geo": "geo",
         "hovertemplate": "Deaths=97<br>Abbreviation=%{location}<extra></extra>",
         "locationmode": "USA-states",
         "locations": [
          "ME"
         ],
         "name": "97",
         "showlegend": true,
         "showscale": false,
         "type": "choropleth",
         "z": [
          1
         ]
        },
        {
         "colorscale": [
          [
           0,
           "#ab63fa"
          ],
          [
           1,
           "#ab63fa"
          ]
         ],
         "geo": "geo",
         "hovertemplate": "Deaths=108<br>Abbreviation=%{location}<extra></extra>",
         "locationmode": "USA-states",
         "locations": [
          "ME",
          "ME",
          "NH",
          "RI"
         ],
         "name": "108",
         "showlegend": true,
         "showscale": false,
         "type": "choropleth",
         "z": [
          1,
          1,
          1,
          1
         ]
        },
        {
         "colorscale": [
          [
           0,
           "#FFA15A"
          ],
          [
           1,
           "#FFA15A"
          ]
         ],
         "geo": "geo",
         "hovertemplate": "Deaths=119<br>Abbreviation=%{location}<extra></extra>",
         "locationmode": "USA-states",
         "locations": [
          "ME",
          "NH"
         ],
         "name": "119",
         "showlegend": true,
         "showscale": false,
         "type": "choropleth",
         "z": [
          1,
          1
         ]
        },
        {
         "colorscale": [
          [
           0,
           "#19d3f3"
          ],
          [
           1,
           "#19d3f3"
          ]
         ],
         "geo": "geo",
         "hovertemplate": "Deaths=91<br>Abbreviation=%{location}<extra></extra>",
         "locationmode": "USA-states",
         "locations": [
          "ME",
          "OK",
          "TN"
         ],
         "name": "91",
         "showlegend": true,
         "showscale": false,
         "type": "choropleth",
         "z": [
          1,
          1,
          1
         ]
        },
        {
         "colorscale": [
          [
           0,
           "#FF6692"
          ],
          [
           1,
           "#FF6692"
          ]
         ],
         "geo": "geo",
         "hovertemplate": "Deaths=95<br>Abbreviation=%{location}<extra></extra>",
         "locationmode": "USA-states",
         "locations": [
          "ME",
          "SC"
         ],
         "name": "95",
         "showlegend": true,
         "showscale": false,
         "type": "choropleth",
         "z": [
          1,
          1
         ]
        },
        {
         "colorscale": [
          [
           0,
           "#B6E880"
          ],
          [
           1,
           "#B6E880"
          ]
         ],
         "geo": "geo",
         "hovertemplate": "Deaths=107<br>Abbreviation=%{location}<extra></extra>",
         "locationmode": "USA-states",
         "locations": [
          "ME"
         ],
         "name": "107",
         "showlegend": true,
         "showscale": false,
         "type": "choropleth",
         "z": [
          1
         ]
        },
        {
         "colorscale": [
          [
           0,
           "#FF97FF"
          ],
          [
           1,
           "#FF97FF"
          ]
         ],
         "geo": "geo",
         "hovertemplate": "Deaths=503<br>Abbreviation=%{location}<extra></extra>",
         "locationmode": "USA-states",
         "locations": [
          "MD"
         ],
         "name": "503",
         "showlegend": true,
         "showscale": false,
         "type": "choropleth",
         "z": [
          1
         ]
        },
        {
         "colorscale": [
          [
           0,
           "#FECB52"
          ],
          [
           1,
           "#FECB52"
          ]
         ],
         "geo": "geo",
         "hovertemplate": "Deaths=497<br>Abbreviation=%{location}<extra></extra>",
         "locationmode": "USA-states",
         "locations": [
          "MD"
         ],
         "name": "497",
         "showlegend": true,
         "showscale": false,
         "type": "choropleth",
         "z": [
          1
         ]
        },
        {
         "colorscale": [
          [
           0,
           "#636efa"
          ],
          [
           1,
           "#636efa"
          ]
         ],
         "geo": "geo",
         "hovertemplate": "Deaths=500<br>Abbreviation=%{location}<extra></extra>",
         "locationmode": "USA-states",
         "locations": [
          "MD",
          "OK"
         ],
         "name": "500",
         "showlegend": true,
         "showscale": false,
         "type": "choropleth",
         "z": [
          1,
          1
         ]
        },
        {
         "colorscale": [
          [
           0,
           "#EF553B"
          ],
          [
           1,
           "#EF553B"
          ]
         ],
         "geo": "geo",
         "hovertemplate": "Deaths=562<br>Abbreviation=%{location}<extra></extra>",
         "locationmode": "USA-states",
         "locations": [
          "MD",
          "MD"
         ],
         "name": "562",
         "showlegend": true,
         "showscale": false,
         "type": "choropleth",
         "z": [
          1,
          1
         ]
        },
        {
         "colorscale": [
          [
           0,
           "#00cc96"
          ],
          [
           1,
           "#00cc96"
          ]
         ],
         "geo": "geo",
         "hovertemplate": "Deaths=568<br>Abbreviation=%{location}<extra></extra>",
         "locationmode": "USA-states",
         "locations": [
          "MD"
         ],
         "name": "568",
         "showlegend": true,
         "showscale": false,
         "type": "choropleth",
         "z": [
          1
         ]
        },
        {
         "colorscale": [
          [
           0,
           "#ab63fa"
          ],
          [
           1,
           "#ab63fa"
          ]
         ],
         "geo": "geo",
         "hovertemplate": "Deaths=493<br>Abbreviation=%{location}<extra></extra>",
         "locationmode": "USA-states",
         "locations": [
          "MD",
          "NV"
         ],
         "name": "493",
         "showlegend": true,
         "showscale": false,
         "type": "choropleth",
         "z": [
          1,
          1
         ]
        },
        {
         "colorscale": [
          [
           0,
           "#FFA15A"
          ],
          [
           1,
           "#FFA15A"
          ]
         ],
         "geo": "geo",
         "hovertemplate": "Deaths=507<br>Abbreviation=%{location}<extra></extra>",
         "locationmode": "USA-states",
         "locations": [
          "MD"
         ],
         "name": "507",
         "showlegend": true,
         "showscale": false,
         "type": "choropleth",
         "z": [
          1
         ]
        },
        {
         "colorscale": [
          [
           0,
           "#19d3f3"
          ],
          [
           1,
           "#19d3f3"
          ]
         ],
         "geo": "geo",
         "hovertemplate": "Deaths=584<br>Abbreviation=%{location}<extra></extra>",
         "locationmode": "USA-states",
         "locations": [
          "MD"
         ],
         "name": "584",
         "showlegend": true,
         "showscale": false,
         "type": "choropleth",
         "z": [
          1
         ]
        },
        {
         "colorscale": [
          [
           0,
           "#FF6692"
          ],
          [
           1,
           "#FF6692"
          ]
         ],
         "geo": "geo",
         "hovertemplate": "Deaths=620<br>Abbreviation=%{location}<extra></extra>",
         "locationmode": "USA-states",
         "locations": [
          "MD",
          "PA"
         ],
         "name": "620",
         "showlegend": true,
         "showscale": false,
         "type": "choropleth",
         "z": [
          1,
          1
         ]
        },
        {
         "colorscale": [
          [
           0,
           "#B6E880"
          ],
          [
           1,
           "#B6E880"
          ]
         ],
         "geo": "geo",
         "hovertemplate": "Deaths=533<br>Abbreviation=%{location}<extra></extra>",
         "locationmode": "USA-states",
         "locations": [
          "MD"
         ],
         "name": "533",
         "showlegend": true,
         "showscale": false,
         "type": "choropleth",
         "z": [
          1
         ]
        },
        {
         "colorscale": [
          [
           0,
           "#FF97FF"
          ],
          [
           1,
           "#FF97FF"
          ]
         ],
         "geo": "geo",
         "hovertemplate": "Deaths=594<br>Abbreviation=%{location}<extra></extra>",
         "locationmode": "USA-states",
         "locations": [
          "MD"
         ],
         "name": "594",
         "showlegend": true,
         "showscale": false,
         "type": "choropleth",
         "z": [
          1
         ]
        },
        {
         "colorscale": [
          [
           0,
           "#FECB52"
          ],
          [
           1,
           "#FECB52"
          ]
         ],
         "geo": "geo",
         "hovertemplate": "Deaths=522<br>Abbreviation=%{location}<extra></extra>",
         "locationmode": "USA-states",
         "locations": [
          "MD"
         ],
         "name": "522",
         "showlegend": true,
         "showscale": false,
         "type": "choropleth",
         "z": [
          1
         ]
        },
        {
         "colorscale": [
          [
           0,
           "#636efa"
          ],
          [
           1,
           "#636efa"
          ]
         ],
         "geo": "geo",
         "hovertemplate": "Deaths=667<br>Abbreviation=%{location}<extra></extra>",
         "locationmode": "USA-states",
         "locations": [
          "MD",
          "WA"
         ],
         "name": "667",
         "showlegend": true,
         "showscale": false,
         "type": "choropleth",
         "z": [
          1,
          1
         ]
        },
        {
         "colorscale": [
          [
           0,
           "#EF553B"
          ],
          [
           1,
           "#EF553B"
          ]
         ],
         "geo": "geo",
         "hovertemplate": "Deaths=759<br>Abbreviation=%{location}<extra></extra>",
         "locationmode": "USA-states",
         "locations": [
          "MD"
         ],
         "name": "759",
         "showlegend": true,
         "showscale": false,
         "type": "choropleth",
         "z": [
          1
         ]
        },
        {
         "colorscale": [
          [
           0,
           "#00cc96"
          ],
          [
           1,
           "#00cc96"
          ]
         ],
         "geo": "geo",
         "hovertemplate": "Deaths=932<br>Abbreviation=%{location}<extra></extra>",
         "locationmode": "USA-states",
         "locations": [
          "MD"
         ],
         "name": "932",
         "showlegend": true,
         "showscale": false,
         "type": "choropleth",
         "z": [
          1
         ]
        },
        {
         "colorscale": [
          [
           0,
           "#ab63fa"
          ],
          [
           1,
           "#ab63fa"
          ]
         ],
         "geo": "geo",
         "hovertemplate": "Deaths=346<br>Abbreviation=%{location}<extra></extra>",
         "locationmode": "USA-states",
         "locations": [
          "MA"
         ],
         "name": "346",
         "showlegend": true,
         "showscale": false,
         "type": "choropleth",
         "z": [
          1
         ]
        },
        {
         "colorscale": [
          [
           0,
           "#FFA15A"
          ],
          [
           1,
           "#FFA15A"
          ]
         ],
         "geo": "geo",
         "hovertemplate": "Deaths=319<br>Abbreviation=%{location}<extra></extra>",
         "locationmode": "USA-states",
         "locations": [
          "MA",
          "OK"
         ],
         "name": "319",
         "showlegend": true,
         "showscale": false,
         "type": "choropleth",
         "z": [
          1,
          1
         ]
        },
        {
         "colorscale": [
          [
           0,
           "#19d3f3"
          ],
          [
           1,
           "#19d3f3"
          ]
         ],
         "geo": "geo",
         "hovertemplate": "Deaths=519<br>Abbreviation=%{location}<extra></extra>",
         "locationmode": "USA-states",
         "locations": [
          "MA"
         ],
         "name": "519",
         "showlegend": true,
         "showscale": false,
         "type": "choropleth",
         "z": [
          1
         ]
        },
        {
         "colorscale": [
          [
           0,
           "#FF6692"
          ],
          [
           1,
           "#FF6692"
          ]
         ],
         "geo": "geo",
         "hovertemplate": "Deaths=491<br>Abbreviation=%{location}<extra></extra>",
         "locationmode": "USA-states",
         "locations": [
          "MA"
         ],
         "name": "491",
         "showlegend": true,
         "showscale": false,
         "type": "choropleth",
         "z": [
          1
         ]
        },
        {
         "colorscale": [
          [
           0,
           "#B6E880"
          ],
          [
           1,
           "#B6E880"
          ]
         ],
         "geo": "geo",
         "hovertemplate": "Deaths=595<br>Abbreviation=%{location}<extra></extra>",
         "locationmode": "USA-states",
         "locations": [
          "MA"
         ],
         "name": "595",
         "showlegend": true,
         "showscale": false,
         "type": "choropleth",
         "z": [
          1
         ]
        },
        {
         "colorscale": [
          [
           0,
           "#FF97FF"
          ],
          [
           1,
           "#FF97FF"
          ]
         ],
         "geo": "geo",
         "hovertemplate": "Deaths=467<br>Abbreviation=%{location}<extra></extra>",
         "locationmode": "USA-states",
         "locations": [
          "MA"
         ],
         "name": "467",
         "showlegend": true,
         "showscale": false,
         "type": "choropleth",
         "z": [
          1
         ]
        },
        {
         "colorscale": [
          [
           0,
           "#FECB52"
          ],
          [
           1,
           "#FECB52"
          ]
         ],
         "geo": "geo",
         "hovertemplate": "Deaths=579<br>Abbreviation=%{location}<extra></extra>",
         "locationmode": "USA-states",
         "locations": [
          "MA"
         ],
         "name": "579",
         "showlegend": true,
         "showscale": false,
         "type": "choropleth",
         "z": [
          1
         ]
        },
        {
         "colorscale": [
          [
           0,
           "#636efa"
          ],
          [
           1,
           "#636efa"
          ]
         ],
         "geo": "geo",
         "hovertemplate": "Deaths=670<br>Abbreviation=%{location}<extra></extra>",
         "locationmode": "USA-states",
         "locations": [
          "MA"
         ],
         "name": "670",
         "showlegend": true,
         "showscale": false,
         "type": "choropleth",
         "z": [
          1
         ]
        },
        {
         "colorscale": [
          [
           0,
           "#EF553B"
          ],
          [
           1,
           "#EF553B"
          ]
         ],
         "geo": "geo",
         "hovertemplate": "Deaths=660<br>Abbreviation=%{location}<extra></extra>",
         "locationmode": "USA-states",
         "locations": [
          "MA"
         ],
         "name": "660",
         "showlegend": true,
         "showscale": false,
         "type": "choropleth",
         "z": [
          1
         ]
        },
        {
         "colorscale": [
          [
           0,
           "#00cc96"
          ],
          [
           1,
           "#00cc96"
          ]
         ],
         "geo": "geo",
         "hovertemplate": "Deaths=636<br>Abbreviation=%{location}<extra></extra>",
         "locationmode": "USA-states",
         "locations": [
          "MA"
         ],
         "name": "636",
         "showlegend": true,
         "showscale": false,
         "type": "choropleth",
         "z": [
          1
         ]
        },
        {
         "colorscale": [
          [
           0,
           "#ab63fa"
          ],
          [
           1,
           "#ab63fa"
          ]
         ],
         "geo": "geo",
         "hovertemplate": "Deaths=577<br>Abbreviation=%{location}<extra></extra>",
         "locationmode": "USA-states",
         "locations": [
          "MA"
         ],
         "name": "577",
         "showlegend": true,
         "showscale": false,
         "type": "choropleth",
         "z": [
          1
         ]
        },
        {
         "colorscale": [
          [
           0,
           "#FFA15A"
          ],
          [
           1,
           "#FFA15A"
          ]
         ],
         "geo": "geo",
         "hovertemplate": "Deaths=669<br>Abbreviation=%{location}<extra></extra>",
         "locationmode": "USA-states",
         "locations": [
          "MA"
         ],
         "name": "669",
         "showlegend": true,
         "showscale": false,
         "type": "choropleth",
         "z": [
          1
         ]
        },
        {
         "colorscale": [
          [
           0,
           "#19d3f3"
          ],
          [
           1,
           "#19d3f3"
          ]
         ],
         "geo": "geo",
         "hovertemplate": "Deaths=712<br>Abbreviation=%{location}<extra></extra>",
         "locationmode": "USA-states",
         "locations": [
          "MA",
          "WA",
          "WA"
         ],
         "name": "712",
         "showlegend": true,
         "showscale": false,
         "type": "choropleth",
         "z": [
          1,
          1,
          1
         ]
        },
        {
         "colorscale": [
          [
           0,
           "#FF6692"
          ],
          [
           1,
           "#FF6692"
          ]
         ],
         "geo": "geo",
         "hovertemplate": "Deaths=910<br>Abbreviation=%{location}<extra></extra>",
         "locationmode": "USA-states",
         "locations": [
          "MA"
         ],
         "name": "910",
         "showlegend": true,
         "showscale": false,
         "type": "choropleth",
         "z": [
          1
         ]
        },
        {
         "colorscale": [
          [
           0,
           "#B6E880"
          ],
          [
           1,
           "#B6E880"
          ]
         ],
         "geo": "geo",
         "hovertemplate": "Deaths=1161<br>Abbreviation=%{location}<extra></extra>",
         "locationmode": "USA-states",
         "locations": [
          "MA"
         ],
         "name": "1161",
         "showlegend": true,
         "showscale": false,
         "type": "choropleth",
         "z": [
          1
         ]
        },
        {
         "colorscale": [
          [
           0,
           "#FF97FF"
          ],
          [
           1,
           "#FF97FF"
          ]
         ],
         "geo": "geo",
         "hovertemplate": "Deaths=211<br>Abbreviation=%{location}<extra></extra>",
         "locationmode": "USA-states",
         "locations": [
          "MI",
          "RI"
         ],
         "name": "211",
         "showlegend": true,
         "showscale": false,
         "type": "choropleth",
         "z": [
          1,
          1
         ]
        },
        {
         "colorscale": [
          [
           0,
           "#FECB52"
          ],
          [
           1,
           "#FECB52"
          ]
         ],
         "geo": "geo",
         "hovertemplate": "Deaths=278<br>Abbreviation=%{location}<extra></extra>",
         "locationmode": "USA-states",
         "locations": [
          "MI",
          "MN",
          "SC"
         ],
         "name": "278",
         "showlegend": true,
         "showscale": false,
         "type": "choropleth",
         "z": [
          1,
          1,
          1
         ]
        },
        {
         "colorscale": [
          [
           0,
           "#636efa"
          ],
          [
           1,
           "#636efa"
          ]
         ],
         "geo": "geo",
         "hovertemplate": "Deaths=390<br>Abbreviation=%{location}<extra></extra>",
         "locationmode": "USA-states",
         "locations": [
          "MI",
          "WI"
         ],
         "name": "390",
         "showlegend": true,
         "showscale": false,
         "type": "choropleth",
         "z": [
          1,
          1
         ]
        },
        {
         "colorscale": [
          [
           0,
           "#EF553B"
          ],
          [
           1,
           "#EF553B"
          ]
         ],
         "geo": "geo",
         "hovertemplate": "Deaths=527<br>Abbreviation=%{location}<extra></extra>",
         "locationmode": "USA-states",
         "locations": [
          "MI"
         ],
         "name": "527",
         "showlegend": true,
         "showscale": false,
         "type": "choropleth",
         "z": [
          1
         ]
        },
        {
         "colorscale": [
          [
           0,
           "#00cc96"
          ],
          [
           1,
           "#00cc96"
          ]
         ],
         "geo": "geo",
         "hovertemplate": "Deaths=641<br>Abbreviation=%{location}<extra></extra>",
         "locationmode": "USA-states",
         "locations": [
          "MI"
         ],
         "name": "641",
         "showlegend": true,
         "showscale": false,
         "type": "choropleth",
         "z": [
          1
         ]
        },
        {
         "colorscale": [
          [
           0,
           "#ab63fa"
          ],
          [
           1,
           "#ab63fa"
          ]
         ],
         "geo": "geo",
         "hovertemplate": "Deaths=523<br>Abbreviation=%{location}<extra></extra>",
         "locationmode": "USA-states",
         "locations": [
          "MI",
          "OK"
         ],
         "name": "523",
         "showlegend": true,
         "showscale": false,
         "type": "choropleth",
         "z": [
          1,
          1
         ]
        },
        {
         "colorscale": [
          [
           0,
           "#FFA15A"
          ],
          [
           1,
           "#FFA15A"
          ]
         ],
         "geo": "geo",
         "hovertemplate": "Deaths=656<br>Abbreviation=%{location}<extra></extra>",
         "locationmode": "USA-states",
         "locations": [
          "MI"
         ],
         "name": "656",
         "showlegend": true,
         "showscale": false,
         "type": "choropleth",
         "z": [
          1
         ]
        },
        {
         "colorscale": [
          [
           0,
           "#19d3f3"
          ],
          [
           1,
           "#19d3f3"
          ]
         ],
         "geo": "geo",
         "hovertemplate": "Deaths=747<br>Abbreviation=%{location}<extra></extra>",
         "locationmode": "USA-states",
         "locations": [
          "MI"
         ],
         "name": "747",
         "showlegend": true,
         "showscale": false,
         "type": "choropleth",
         "z": [
          1
         ]
        },
        {
         "colorscale": [
          [
           0,
           "#FF6692"
          ],
          [
           1,
           "#FF6692"
          ]
         ],
         "geo": "geo",
         "hovertemplate": "Deaths=725<br>Abbreviation=%{location}<extra></extra>",
         "locationmode": "USA-states",
         "locations": [
          "MI"
         ],
         "name": "725",
         "showlegend": true,
         "showscale": false,
         "type": "choropleth",
         "z": [
          1
         ]
        },
        {
         "colorscale": [
          [
           0,
           "#B6E880"
          ],
          [
           1,
           "#B6E880"
          ]
         ],
         "geo": "geo",
         "hovertemplate": "Deaths=756<br>Abbreviation=%{location}<extra></extra>",
         "locationmode": "USA-states",
         "locations": [
          "MI"
         ],
         "name": "756",
         "showlegend": true,
         "showscale": false,
         "type": "choropleth",
         "z": [
          1
         ]
        },
        {
         "colorscale": [
          [
           0,
           "#FF97FF"
          ],
          [
           1,
           "#FF97FF"
          ]
         ],
         "geo": "geo",
         "hovertemplate": "Deaths=700<br>Abbreviation=%{location}<extra></extra>",
         "locationmode": "USA-states",
         "locations": [
          "MI"
         ],
         "name": "700",
         "showlegend": true,
         "showscale": false,
         "type": "choropleth",
         "z": [
          1
         ]
        },
        {
         "colorscale": [
          [
           0,
           "#FECB52"
          ],
          [
           1,
           "#FECB52"
          ]
         ],
         "geo": "geo",
         "hovertemplate": "Deaths=934<br>Abbreviation=%{location}<extra></extra>",
         "locationmode": "USA-states",
         "locations": [
          "MI"
         ],
         "name": "934",
         "showlegend": true,
         "showscale": false,
         "type": "choropleth",
         "z": [
          1
         ]
        },
        {
         "colorscale": [
          [
           0,
           "#636efa"
          ],
          [
           1,
           "#636efa"
          ]
         ],
         "geo": "geo",
         "hovertemplate": "Deaths=1076<br>Abbreviation=%{location}<extra></extra>",
         "locationmode": "USA-states",
         "locations": [
          "MI"
         ],
         "name": "1076",
         "showlegend": true,
         "showscale": false,
         "type": "choropleth",
         "z": [
          1
         ]
        },
        {
         "colorscale": [
          [
           0,
           "#EF553B"
          ],
          [
           1,
           "#EF553B"
          ]
         ],
         "geo": "geo",
         "hovertemplate": "Deaths=122<br>Abbreviation=%{location}<extra></extra>",
         "locationmode": "USA-states",
         "locations": [
          "MN",
          "RI"
         ],
         "name": "122",
         "showlegend": true,
         "showscale": false,
         "type": "choropleth",
         "z": [
          1,
          1
         ]
        },
        {
         "colorscale": [
          [
           0,
           "#00cc96"
          ],
          [
           1,
           "#00cc96"
          ]
         ],
         "geo": "geo",
         "hovertemplate": "Deaths=162<br>Abbreviation=%{location}<extra></extra>",
         "locationmode": "USA-states",
         "locations": [
          "MN"
         ],
         "name": "162",
         "showlegend": true,
         "showscale": false,
         "type": "choropleth",
         "z": [
          1
         ]
        },
        {
         "colorscale": [
          [
           0,
           "#ab63fa"
          ],
          [
           1,
           "#ab63fa"
          ]
         ],
         "geo": "geo",
         "hovertemplate": "Deaths=234<br>Abbreviation=%{location}<extra></extra>",
         "locationmode": "USA-states",
         "locations": [
          "MN",
          "SC"
         ],
         "name": "234",
         "showlegend": true,
         "showscale": false,
         "type": "choropleth",
         "z": [
          1,
          1
         ]
        },
        {
         "colorscale": [
          [
           0,
           "#FFA15A"
          ],
          [
           1,
           "#FFA15A"
          ]
         ],
         "geo": "geo",
         "hovertemplate": "Deaths=295<br>Abbreviation=%{location}<extra></extra>",
         "locationmode": "USA-states",
         "locations": [
          "MN"
         ],
         "name": "295",
         "showlegend": true,
         "showscale": false,
         "type": "choropleth",
         "z": [
          1
         ]
        },
        {
         "colorscale": [
          [
           0,
           "#19d3f3"
          ],
          [
           1,
           "#19d3f3"
          ]
         ],
         "geo": "geo",
         "hovertemplate": "Deaths=298<br>Abbreviation=%{location}<extra></extra>",
         "locationmode": "USA-states",
         "locations": [
          "MN"
         ],
         "name": "298",
         "showlegend": true,
         "showscale": false,
         "type": "choropleth",
         "z": [
          1
         ]
        },
        {
         "colorscale": [
          [
           0,
           "#FF6692"
          ],
          [
           1,
           "#FF6692"
          ]
         ],
         "geo": "geo",
         "hovertemplate": "Deaths=314<br>Abbreviation=%{location}<extra></extra>",
         "locationmode": "USA-states",
         "locations": [
          "MN"
         ],
         "name": "314",
         "showlegend": true,
         "showscale": false,
         "type": "choropleth",
         "z": [
          1
         ]
        },
        {
         "colorscale": [
          [
           0,
           "#B6E880"
          ],
          [
           1,
           "#B6E880"
          ]
         ],
         "geo": "geo",
         "hovertemplate": "Deaths=331<br>Abbreviation=%{location}<extra></extra>",
         "locationmode": "USA-states",
         "locations": [
          "MN"
         ],
         "name": "331",
         "showlegend": true,
         "showscale": false,
         "type": "choropleth",
         "z": [
          1
         ]
        },
        {
         "colorscale": [
          [
           0,
           "#FF97FF"
          ],
          [
           1,
           "#FF97FF"
          ]
         ],
         "geo": "geo",
         "hovertemplate": "Deaths=44<br>Abbreviation=%{location}<extra></extra>",
         "locationmode": "USA-states",
         "locations": [
          "MS"
         ],
         "name": "44",
         "showlegend": true,
         "showscale": false,
         "type": "choropleth",
         "z": [
          1
         ]
        },
        {
         "colorscale": [
          [
           0,
           "#FECB52"
          ],
          [
           1,
           "#FECB52"
          ]
         ],
         "geo": "geo",
         "hovertemplate": "Deaths=106<br>Abbreviation=%{location}<extra></extra>",
         "locationmode": "USA-states",
         "locations": [
          "MS",
          "MO"
         ],
         "name": "106",
         "showlegend": true,
         "showscale": false,
         "type": "choropleth",
         "z": [
          1,
          1
         ]
        },
        {
         "colorscale": [
          [
           0,
           "#636efa"
          ],
          [
           1,
           "#636efa"
          ]
         ],
         "geo": "geo",
         "hovertemplate": "Deaths=84<br>Abbreviation=%{location}<extra></extra>",
         "locationmode": "USA-states",
         "locations": [
          "MS"
         ],
         "name": "84",
         "showlegend": true,
         "showscale": false,
         "type": "choropleth",
         "z": [
          1
         ]
        },
        {
         "colorscale": [
          [
           0,
           "#EF553B"
          ],
          [
           1,
           "#EF553B"
          ]
         ],
         "geo": "geo",
         "hovertemplate": "Deaths=117<br>Abbreviation=%{location}<extra></extra>",
         "locationmode": "USA-states",
         "locations": [
          "MS",
          "RI",
          "WI"
         ],
         "name": "117",
         "showlegend": true,
         "showscale": false,
         "type": "choropleth",
         "z": [
          1,
          1,
          1
         ]
        },
        {
         "colorscale": [
          [
           0,
           "#00cc96"
          ],
          [
           1,
           "#00cc96"
          ]
         ],
         "geo": "geo",
         "hovertemplate": "Deaths=137<br>Abbreviation=%{location}<extra></extra>",
         "locationmode": "USA-states",
         "locations": [
          "MO"
         ],
         "name": "137",
         "showlegend": true,
         "showscale": false,
         "type": "choropleth",
         "z": [
          1
         ]
        },
        {
         "colorscale": [
          [
           0,
           "#ab63fa"
          ],
          [
           1,
           "#ab63fa"
          ]
         ],
         "geo": "geo",
         "hovertemplate": "Deaths=277<br>Abbreviation=%{location}<extra></extra>",
         "locationmode": "USA-states",
         "locations": [
          "MO"
         ],
         "name": "277",
         "showlegend": true,
         "showscale": false,
         "type": "choropleth",
         "z": [
          1
         ]
        },
        {
         "colorscale": [
          [
           0,
           "#FFA15A"
          ],
          [
           1,
           "#FFA15A"
          ]
         ],
         "geo": "geo",
         "hovertemplate": "Deaths=284<br>Abbreviation=%{location}<extra></extra>",
         "locationmode": "USA-states",
         "locations": [
          "MO"
         ],
         "name": "284",
         "showlegend": true,
         "showscale": false,
         "type": "choropleth",
         "z": [
          1
         ]
        },
        {
         "colorscale": [
          [
           0,
           "#19d3f3"
          ],
          [
           1,
           "#19d3f3"
          ]
         ],
         "geo": "geo",
         "hovertemplate": "Deaths=306<br>Abbreviation=%{location}<extra></extra>",
         "locationmode": "USA-states",
         "locations": [
          "MO"
         ],
         "name": "306",
         "showlegend": true,
         "showscale": false,
         "type": "choropleth",
         "z": [
          1
         ]
        },
        {
         "colorscale": [
          [
           0,
           "#FF6692"
          ],
          [
           1,
           "#FF6692"
          ]
         ],
         "geo": "geo",
         "hovertemplate": "Deaths=418<br>Abbreviation=%{location}<extra></extra>",
         "locationmode": "USA-states",
         "locations": [
          "MO"
         ],
         "name": "418",
         "showlegend": true,
         "showscale": false,
         "type": "choropleth",
         "z": [
          1
         ]
        },
        {
         "colorscale": [
          [
           0,
           "#B6E880"
          ],
          [
           1,
           "#B6E880"
          ]
         ],
         "geo": "geo",
         "hovertemplate": "Deaths=406<br>Abbreviation=%{location}<extra></extra>",
         "locationmode": "USA-states",
         "locations": [
          "MO",
          "WI"
         ],
         "name": "406",
         "showlegend": true,
         "showscale": false,
         "type": "choropleth",
         "z": [
          1,
          1
         ]
        },
        {
         "colorscale": [
          [
           0,
           "#FF97FF"
          ],
          [
           1,
           "#FF97FF"
          ]
         ],
         "geo": "geo",
         "hovertemplate": "Deaths=548<br>Abbreviation=%{location}<extra></extra>",
         "locationmode": "USA-states",
         "locations": [
          "MO",
          "TN"
         ],
         "name": "548",
         "showlegend": true,
         "showscale": false,
         "type": "choropleth",
         "z": [
          1,
          1
         ]
        },
        {
         "colorscale": [
          [
           0,
           "#FECB52"
          ],
          [
           1,
           "#FECB52"
          ]
         ],
         "geo": "geo",
         "hovertemplate": "Deaths=614<br>Abbreviation=%{location}<extra></extra>",
         "locationmode": "USA-states",
         "locations": [
          "MO",
          "NY"
         ],
         "name": "614",
         "showlegend": true,
         "showscale": false,
         "type": "choropleth",
         "z": [
          1,
          1
         ]
        },
        {
         "colorscale": [
          [
           0,
           "#636efa"
          ],
          [
           1,
           "#636efa"
          ]
         ],
         "geo": "geo",
         "hovertemplate": "Deaths=556<br>Abbreviation=%{location}<extra></extra>",
         "locationmode": "USA-states",
         "locations": [
          "MO"
         ],
         "name": "556",
         "showlegend": true,
         "showscale": false,
         "type": "choropleth",
         "z": [
          1
         ]
        },
        {
         "colorscale": [
          [
           0,
           "#EF553B"
          ],
          [
           1,
           "#EF553B"
          ]
         ],
         "geo": "geo",
         "hovertemplate": "Deaths=644<br>Abbreviation=%{location}<extra></extra>",
         "locationmode": "USA-states",
         "locations": [
          "MO"
         ],
         "name": "644",
         "showlegend": true,
         "showscale": false,
         "type": "choropleth",
         "z": [
          1
         ]
        },
        {
         "colorscale": [
          [
           0,
           "#00cc96"
          ],
          [
           1,
           "#00cc96"
          ]
         ],
         "geo": "geo",
         "hovertemplate": "Deaths=726<br>Abbreviation=%{location}<extra></extra>",
         "locationmode": "USA-states",
         "locations": [
          "MO"
         ],
         "name": "726",
         "showlegend": true,
         "showscale": false,
         "type": "choropleth",
         "z": [
          1
         ]
        },
        {
         "colorscale": [
          [
           0,
           "#ab63fa"
          ],
          [
           1,
           "#ab63fa"
          ]
         ],
         "geo": "geo",
         "hovertemplate": "Deaths=21<br>Abbreviation=%{location}<extra></extra>",
         "locationmode": "USA-states",
         "locations": [
          "MT",
          "MT",
          "SD",
          "SD"
         ],
         "name": "21",
         "showlegend": true,
         "showscale": false,
         "type": "choropleth",
         "z": [
          1,
          1,
          1,
          1
         ]
        },
        {
         "colorscale": [
          [
           0,
           "#FFA15A"
          ],
          [
           1,
           "#FFA15A"
          ]
         ],
         "geo": "geo",
         "hovertemplate": "Deaths=63<br>Abbreviation=%{location}<extra></extra>",
         "locationmode": "USA-states",
         "locations": [
          "MT"
         ],
         "name": "63",
         "showlegend": true,
         "showscale": false,
         "type": "choropleth",
         "z": [
          1
         ]
        },
        {
         "colorscale": [
          [
           0,
           "#19d3f3"
          ],
          [
           1,
           "#19d3f3"
          ]
         ],
         "geo": "geo",
         "hovertemplate": "Deaths=25<br>Abbreviation=%{location}<extra></extra>",
         "locationmode": "USA-states",
         "locations": [
          "NE",
          "WY"
         ],
         "name": "25",
         "showlegend": true,
         "showscale": false,
         "type": "choropleth",
         "z": [
          1,
          1
         ]
        },
        {
         "colorscale": [
          [
           0,
           "#FF6692"
          ],
          [
           1,
           "#FF6692"
          ]
         ],
         "geo": "geo",
         "hovertemplate": "Deaths=166<br>Abbreviation=%{location}<extra></extra>",
         "locationmode": "USA-states",
         "locations": [
          "NV"
         ],
         "name": "166",
         "showlegend": true,
         "showscale": false,
         "type": "choropleth",
         "z": [
          1
         ]
        },
        {
         "colorscale": [
          [
           0,
           "#B6E880"
          ],
          [
           1,
           "#B6E880"
          ]
         ],
         "geo": "geo",
         "hovertemplate": "Deaths=205<br>Abbreviation=%{location}<extra></extra>",
         "locationmode": "USA-states",
         "locations": [
          "NV",
          "NM"
         ],
         "name": "205",
         "showlegend": true,
         "showscale": false,
         "type": "choropleth",
         "z": [
          1,
          1
         ]
        },
        {
         "colorscale": [
          [
           0,
           "#FF97FF"
          ],
          [
           1,
           "#FF97FF"
          ]
         ],
         "geo": "geo",
         "hovertemplate": "Deaths=287<br>Abbreviation=%{location}<extra></extra>",
         "locationmode": "USA-states",
         "locations": [
          "NV"
         ],
         "name": "287",
         "showlegend": true,
         "showscale": false,
         "type": "choropleth",
         "z": [
          1
         ]
        },
        {
         "colorscale": [
          [
           0,
           "#FECB52"
          ],
          [
           1,
           "#FECB52"
          ]
         ],
         "geo": "geo",
         "hovertemplate": "Deaths=330<br>Abbreviation=%{location}<extra></extra>",
         "locationmode": "USA-states",
         "locations": [
          "NV",
          "NM",
          "PA"
         ],
         "name": "330",
         "showlegend": true,
         "showscale": false,
         "type": "choropleth",
         "z": [
          1,
          1,
          1
         ]
        },
        {
         "colorscale": [
          [
           0,
           "#636efa"
          ],
          [
           1,
           "#636efa"
          ]
         ],
         "geo": "geo",
         "hovertemplate": "Deaths=378<br>Abbreviation=%{location}<extra></extra>",
         "locationmode": "USA-states",
         "locations": [
          "NV"
         ],
         "name": "378",
         "showlegend": true,
         "showscale": false,
         "type": "choropleth",
         "z": [
          1
         ]
        },
        {
         "colorscale": [
          [
           0,
           "#EF553B"
          ],
          [
           1,
           "#EF553B"
          ]
         ],
         "geo": "geo",
         "hovertemplate": "Deaths=414<br>Abbreviation=%{location}<extra></extra>",
         "locationmode": "USA-states",
         "locations": [
          "NV"
         ],
         "name": "414",
         "showlegend": true,
         "showscale": false,
         "type": "choropleth",
         "z": [
          1
         ]
        },
        {
         "colorscale": [
          [
           0,
           "#00cc96"
          ],
          [
           1,
           "#00cc96"
          ]
         ],
         "geo": "geo",
         "hovertemplate": "Deaths=437<br>Abbreviation=%{location}<extra></extra>",
         "locationmode": "USA-states",
         "locations": [
          "NV"
         ],
         "name": "437",
         "showlegend": true,
         "showscale": false,
         "type": "choropleth",
         "z": [
          1
         ]
        },
        {
         "colorscale": [
          [
           0,
           "#ab63fa"
          ],
          [
           1,
           "#ab63fa"
          ]
         ],
         "geo": "geo",
         "hovertemplate": "Deaths=498<br>Abbreviation=%{location}<extra></extra>",
         "locationmode": "USA-states",
         "locations": [
          "NV"
         ],
         "name": "498",
         "showlegend": true,
         "showscale": false,
         "type": "choropleth",
         "z": [
          1
         ]
        },
        {
         "colorscale": [
          [
           0,
           "#FFA15A"
          ],
          [
           1,
           "#FFA15A"
          ]
         ],
         "geo": "geo",
         "hovertemplate": "Deaths=520<br>Abbreviation=%{location}<extra></extra>",
         "locationmode": "USA-states",
         "locations": [
          "NV",
          "VA"
         ],
         "name": "520",
         "showlegend": true,
         "showscale": false,
         "type": "choropleth",
         "z": [
          1,
          1
         ]
        },
        {
         "colorscale": [
          [
           0,
           "#19d3f3"
          ],
          [
           1,
           "#19d3f3"
          ]
         ],
         "geo": "geo",
         "hovertemplate": "Deaths=413<br>Abbreviation=%{location}<extra></extra>",
         "locationmode": "USA-states",
         "locations": [
          "NV"
         ],
         "name": "413",
         "showlegend": true,
         "showscale": false,
         "type": "choropleth",
         "z": [
          1
         ]
        },
        {
         "colorscale": [
          [
           0,
           "#FF6692"
          ],
          [
           1,
           "#FF6692"
          ]
         ],
         "geo": "geo",
         "hovertemplate": "Deaths=99<br>Abbreviation=%{location}<extra></extra>",
         "locationmode": "USA-states",
         "locations": [
          "NH"
         ],
         "name": "99",
         "showlegend": true,
         "showscale": false,
         "type": "choropleth",
         "z": [
          1
         ]
        },
        {
         "colorscale": [
          [
           0,
           "#B6E880"
          ],
          [
           1,
           "#B6E880"
          ]
         ],
         "geo": "geo",
         "hovertemplate": "Deaths=161<br>Abbreviation=%{location}<extra></extra>",
         "locationmode": "USA-states",
         "locations": [
          "NH",
          "NC"
         ],
         "name": "161",
         "showlegend": true,
         "showscale": false,
         "type": "choropleth",
         "z": [
          1,
          1
         ]
        },
        {
         "colorscale": [
          [
           0,
           "#FF97FF"
          ],
          [
           1,
           "#FF97FF"
          ]
         ],
         "geo": "geo",
         "hovertemplate": "Deaths=302<br>Abbreviation=%{location}<extra></extra>",
         "locationmode": "USA-states",
         "locations": [
          "NH"
         ],
         "name": "302",
         "showlegend": true,
         "showscale": false,
         "type": "choropleth",
         "z": [
          1
         ]
        },
        {
         "colorscale": [
          [
           0,
           "#FECB52"
          ],
          [
           1,
           "#FECB52"
          ]
         ],
         "geo": "geo",
         "hovertemplate": "Deaths=363<br>Abbreviation=%{location}<extra></extra>",
         "locationmode": "USA-states",
         "locations": [
          "NJ"
         ],
         "name": "363",
         "showlegend": true,
         "showscale": false,
         "type": "choropleth",
         "z": [
          1
         ]
        },
        {
         "colorscale": [
          [
           0,
           "#636efa"
          ],
          [
           1,
           "#636efa"
          ]
         ],
         "geo": "geo",
         "hovertemplate": "Deaths=419<br>Abbreviation=%{location}<extra></extra>",
         "locationmode": "USA-states",
         "locations": [
          "NJ"
         ],
         "name": "419",
         "showlegend": true,
         "showscale": false,
         "type": "choropleth",
         "z": [
          1
         ]
        },
        {
         "colorscale": [
          [
           0,
           "#EF553B"
          ],
          [
           1,
           "#EF553B"
          ]
         ],
         "geo": "geo",
         "hovertemplate": "Deaths=505<br>Abbreviation=%{location}<extra></extra>",
         "locationmode": "USA-states",
         "locations": [
          "NJ"
         ],
         "name": "505",
         "showlegend": true,
         "showscale": false,
         "type": "choropleth",
         "z": [
          1
         ]
        },
        {
         "colorscale": [
          [
           0,
           "#00cc96"
          ],
          [
           1,
           "#00cc96"
          ]
         ],
         "geo": "geo",
         "hovertemplate": "Deaths=466<br>Abbreviation=%{location}<extra></extra>",
         "locationmode": "USA-states",
         "locations": [
          "NJ",
          "TN"
         ],
         "name": "466",
         "showlegend": true,
         "showscale": false,
         "type": "choropleth",
         "z": [
          1,
          1
         ]
        },
        {
         "colorscale": [
          [
           0,
           "#ab63fa"
          ],
          [
           1,
           "#ab63fa"
          ]
         ],
         "geo": "geo",
         "hovertemplate": "Deaths=326<br>Abbreviation=%{location}<extra></extra>",
         "locationmode": "USA-states",
         "locations": [
          "NJ",
          "VA"
         ],
         "name": "326",
         "showlegend": true,
         "showscale": false,
         "type": "choropleth",
         "z": [
          1,
          1
         ]
        },
        {
         "colorscale": [
          [
           0,
           "#FFA15A"
          ],
          [
           1,
           "#FFA15A"
          ]
         ],
         "geo": "geo",
         "hovertemplate": "Deaths=454<br>Abbreviation=%{location}<extra></extra>",
         "locationmode": "USA-states",
         "locations": [
          "NJ"
         ],
         "name": "454",
         "showlegend": true,
         "showscale": false,
         "type": "choropleth",
         "z": [
          1
         ]
        },
        {
         "colorscale": [
          [
           0,
           "#19d3f3"
          ],
          [
           1,
           "#19d3f3"
          ]
         ],
         "geo": "geo",
         "hovertemplate": "Deaths=348<br>Abbreviation=%{location}<extra></extra>",
         "locationmode": "USA-states",
         "locations": [
          "NJ",
          "OR"
         ],
         "name": "348",
         "showlegend": true,
         "showscale": false,
         "type": "choropleth",
         "z": [
          1,
          1
         ]
        },
        {
         "colorscale": [
          [
           0,
           "#FF6692"
          ],
          [
           1,
           "#FF6692"
          ]
         ],
         "geo": "geo",
         "hovertemplate": "Deaths=347<br>Abbreviation=%{location}<extra></extra>",
         "locationmode": "USA-states",
         "locations": [
          "NJ",
          "OR",
          "WV"
         ],
         "name": "347",
         "showlegend": true,
         "showscale": false,
         "type": "choropleth",
         "z": [
          1,
          1,
          1
         ]
        },
        {
         "colorscale": [
          [
           0,
           "#B6E880"
          ],
          [
           1,
           "#B6E880"
          ]
         ],
         "geo": "geo",
         "hovertemplate": "Deaths=384<br>Abbreviation=%{location}<extra></extra>",
         "locationmode": "USA-states",
         "locations": [
          "NJ"
         ],
         "name": "384",
         "showlegend": true,
         "showscale": false,
         "type": "choropleth",
         "z": [
          1
         ]
        },
        {
         "colorscale": [
          [
           0,
           "#FF97FF"
          ],
          [
           1,
           "#FF97FF"
          ]
         ],
         "geo": "geo",
         "hovertemplate": "Deaths=478<br>Abbreviation=%{location}<extra></extra>",
         "locationmode": "USA-states",
         "locations": [
          "NJ"
         ],
         "name": "478",
         "showlegend": true,
         "showscale": false,
         "type": "choropleth",
         "z": [
          1
         ]
        },
        {
         "colorscale": [
          [
           0,
           "#FECB52"
          ],
          [
           1,
           "#FECB52"
          ]
         ],
         "geo": "geo",
         "hovertemplate": "Deaths=711<br>Abbreviation=%{location}<extra></extra>",
         "locationmode": "USA-states",
         "locations": [
          "NJ"
         ],
         "name": "711",
         "showlegend": true,
         "showscale": false,
         "type": "choropleth",
         "z": [
          1
         ]
        },
        {
         "colorscale": [
          [
           0,
           "#636efa"
          ],
          [
           1,
           "#636efa"
          ]
         ],
         "geo": "geo",
         "hovertemplate": "Deaths=757<br>Abbreviation=%{location}<extra></extra>",
         "locationmode": "USA-states",
         "locations": [
          "NJ"
         ],
         "name": "757",
         "showlegend": true,
         "showscale": false,
         "type": "choropleth",
         "z": [
          1
         ]
        },
        {
         "colorscale": [
          [
           0,
           "#EF553B"
          ],
          [
           1,
           "#EF553B"
          ]
         ],
         "geo": "geo",
         "hovertemplate": "Deaths=187<br>Abbreviation=%{location}<extra></extra>",
         "locationmode": "USA-states",
         "locations": [
          "NM"
         ],
         "name": "187",
         "showlegend": true,
         "showscale": false,
         "type": "choropleth",
         "z": [
          1
         ]
        },
        {
         "colorscale": [
          [
           0,
           "#00cc96"
          ],
          [
           1,
           "#00cc96"
          ]
         ],
         "geo": "geo",
         "hovertemplate": "Deaths=155<br>Abbreviation=%{location}<extra></extra>",
         "locationmode": "USA-states",
         "locations": [
          "NM"
         ],
         "name": "155",
         "showlegend": true,
         "showscale": false,
         "type": "choropleth",
         "z": [
          1
         ]
        },
        {
         "colorscale": [
          [
           0,
           "#ab63fa"
          ],
          [
           1,
           "#ab63fa"
          ]
         ],
         "geo": "geo",
         "hovertemplate": "Deaths=192<br>Abbreviation=%{location}<extra></extra>",
         "locationmode": "USA-states",
         "locations": [
          "NM"
         ],
         "name": "192",
         "showlegend": true,
         "showscale": false,
         "type": "choropleth",
         "z": [
          1
         ]
        },
        {
         "colorscale": [
          [
           0,
           "#FFA15A"
          ],
          [
           1,
           "#FFA15A"
          ]
         ],
         "geo": "geo",
         "hovertemplate": "Deaths=219<br>Abbreviation=%{location}<extra></extra>",
         "locationmode": "USA-states",
         "locations": [
          "NM"
         ],
         "name": "219",
         "showlegend": true,
         "showscale": false,
         "type": "choropleth",
         "z": [
          1
         ]
        },
        {
         "colorscale": [
          [
           0,
           "#19d3f3"
          ],
          [
           1,
           "#19d3f3"
          ]
         ],
         "geo": "geo",
         "hovertemplate": "Deaths=252<br>Abbreviation=%{location}<extra></extra>",
         "locationmode": "USA-states",
         "locations": [
          "NM"
         ],
         "name": "252",
         "showlegend": true,
         "showscale": false,
         "type": "choropleth",
         "z": [
          1
         ]
        },
        {
         "colorscale": [
          [
           0,
           "#FF6692"
          ],
          [
           1,
           "#FF6692"
          ]
         ],
         "geo": "geo",
         "hovertemplate": "Deaths=272<br>Abbreviation=%{location}<extra></extra>",
         "locationmode": "USA-states",
         "locations": [
          "NM",
          "UT"
         ],
         "name": "272",
         "showlegend": true,
         "showscale": false,
         "type": "choropleth",
         "z": [
          1,
          1
         ]
        },
        {
         "colorscale": [
          [
           0,
           "#B6E880"
          ],
          [
           1,
           "#B6E880"
          ]
         ],
         "geo": "geo",
         "hovertemplate": "Deaths=212<br>Abbreviation=%{location}<extra></extra>",
         "locationmode": "USA-states",
         "locations": [
          "NM"
         ],
         "name": "212",
         "showlegend": true,
         "showscale": false,
         "type": "choropleth",
         "z": [
          1
         ]
        },
        {
         "colorscale": [
          [
           0,
           "#FF97FF"
          ],
          [
           1,
           "#FF97FF"
          ]
         ],
         "geo": "geo",
         "hovertemplate": "Deaths=201<br>Abbreviation=%{location}<extra></extra>",
         "locationmode": "USA-states",
         "locations": [
          "NM",
          "OR"
         ],
         "name": "201",
         "showlegend": true,
         "showscale": false,
         "type": "choropleth",
         "z": [
          1,
          1
         ]
        },
        {
         "colorscale": [
          [
           0,
           "#FECB52"
          ],
          [
           1,
           "#FECB52"
          ]
         ],
         "geo": "geo",
         "hovertemplate": "Deaths=254<br>Abbreviation=%{location}<extra></extra>",
         "locationmode": "USA-states",
         "locations": [
          "NM"
         ],
         "name": "254",
         "showlegend": true,
         "showscale": false,
         "type": "choropleth",
         "z": [
          1
         ]
        },
        {
         "colorscale": [
          [
           0,
           "#636efa"
          ],
          [
           1,
           "#636efa"
          ]
         ],
         "geo": "geo",
         "hovertemplate": "Deaths=416<br>Abbreviation=%{location}<extra></extra>",
         "locationmode": "USA-states",
         "locations": [
          "NM",
          "OK"
         ],
         "name": "416",
         "showlegend": true,
         "showscale": false,
         "type": "choropleth",
         "z": [
          1,
          1
         ]
        },
        {
         "colorscale": [
          [
           0,
           "#EF553B"
          ],
          [
           1,
           "#EF553B"
          ]
         ],
         "geo": "geo",
         "hovertemplate": "Deaths=664<br>Abbreviation=%{location}<extra></extra>",
         "locationmode": "USA-states",
         "locations": [
          "NY"
         ],
         "name": "664",
         "showlegend": true,
         "showscale": false,
         "type": "choropleth",
         "z": [
          1
         ]
        },
        {
         "colorscale": [
          [
           0,
           "#00cc96"
          ],
          [
           1,
           "#00cc96"
          ]
         ],
         "geo": "geo",
         "hovertemplate": "Deaths=521<br>Abbreviation=%{location}<extra></extra>",
         "locationmode": "USA-states",
         "locations": [
          "NY",
          "OK"
         ],
         "name": "521",
         "showlegend": true,
         "showscale": false,
         "type": "choropleth",
         "z": [
          1,
          1
         ]
        },
        {
         "colorscale": [
          [
           0,
           "#ab63fa"
          ],
          [
           1,
           "#ab63fa"
          ]
         ],
         "geo": "geo",
         "hovertemplate": "Deaths=654<br>Abbreviation=%{location}<extra></extra>",
         "locationmode": "USA-states",
         "locations": [
          "NY",
          "PA"
         ],
         "name": "654",
         "showlegend": true,
         "showscale": false,
         "type": "choropleth",
         "z": [
          1,
          1
         ]
        },
        {
         "colorscale": [
          [
           0,
           "#FFA15A"
          ],
          [
           1,
           "#FFA15A"
          ]
         ],
         "geo": "geo",
         "hovertemplate": "Deaths=586<br>Abbreviation=%{location}<extra></extra>",
         "locationmode": "USA-states",
         "locations": [
          "NY"
         ],
         "name": "586",
         "showlegend": true,
         "showscale": false,
         "type": "choropleth",
         "z": [
          1
         ]
        },
        {
         "colorscale": [
          [
           0,
           "#19d3f3"
          ],
          [
           1,
           "#19d3f3"
          ]
         ],
         "geo": "geo",
         "hovertemplate": "Deaths=514<br>Abbreviation=%{location}<extra></extra>",
         "locationmode": "USA-states",
         "locations": [
          "NY"
         ],
         "name": "514",
         "showlegend": true,
         "showscale": false,
         "type": "choropleth",
         "z": [
          1
         ]
        },
        {
         "colorscale": [
          [
           0,
           "#FF6692"
          ],
          [
           1,
           "#FF6692"
          ]
         ],
         "geo": "geo",
         "hovertemplate": "Deaths=580<br>Abbreviation=%{location}<extra></extra>",
         "locationmode": "USA-states",
         "locations": [
          "NY"
         ],
         "name": "580",
         "showlegend": true,
         "showscale": false,
         "type": "choropleth",
         "z": [
          1
         ]
        },
        {
         "colorscale": [
          [
           0,
           "#B6E880"
          ],
          [
           1,
           "#B6E880"
          ]
         ],
         "geo": "geo",
         "hovertemplate": "Deaths=1056<br>Abbreviation=%{location}<extra></extra>",
         "locationmode": "USA-states",
         "locations": [
          "NY"
         ],
         "name": "1056",
         "showlegend": true,
         "showscale": false,
         "type": "choropleth",
         "z": [
          1
         ]
        },
        {
         "colorscale": [
          [
           0,
           "#FF97FF"
          ],
          [
           1,
           "#FF97FF"
          ]
         ],
         "geo": "geo",
         "hovertemplate": "Deaths=1064<br>Abbreviation=%{location}<extra></extra>",
         "locationmode": "USA-states",
         "locations": [
          "NY",
          "TX"
         ],
         "name": "1064",
         "showlegend": true,
         "showscale": false,
         "type": "choropleth",
         "z": [
          1,
          1
         ]
        },
        {
         "colorscale": [
          [
           0,
           "#FECB52"
          ],
          [
           1,
           "#FECB52"
          ]
         ],
         "geo": "geo",
         "hovertemplate": "Deaths=1169<br>Abbreviation=%{location}<extra></extra>",
         "locationmode": "USA-states",
         "locations": [
          "NY"
         ],
         "name": "1169",
         "showlegend": true,
         "showscale": false,
         "type": "choropleth",
         "z": [
          1
         ]
        },
        {
         "colorscale": [
          [
           0,
           "#636efa"
          ],
          [
           1,
           "#636efa"
          ]
         ],
         "geo": "geo",
         "hovertemplate": "Deaths=1107<br>Abbreviation=%{location}<extra></extra>",
         "locationmode": "USA-states",
         "locations": [
          "NY",
          "TX"
         ],
         "name": "1107",
         "showlegend": true,
         "showscale": false,
         "type": "choropleth",
         "z": [
          1,
          1
         ]
        },
        {
         "colorscale": [
          [
           0,
           "#EF553B"
          ],
          [
           1,
           "#EF553B"
          ]
         ],
         "geo": "geo",
         "hovertemplate": "Deaths=1115<br>Abbreviation=%{location}<extra></extra>",
         "locationmode": "USA-states",
         "locations": [
          "NY"
         ],
         "name": "1115",
         "showlegend": true,
         "showscale": false,
         "type": "choropleth",
         "z": [
          1
         ]
        },
        {
         "colorscale": [
          [
           0,
           "#00cc96"
          ],
          [
           1,
           "#00cc96"
          ]
         ],
         "geo": "geo",
         "hovertemplate": "Deaths=1417<br>Abbreviation=%{location}<extra></extra>",
         "locationmode": "USA-states",
         "locations": [
          "NY"
         ],
         "name": "1417",
         "showlegend": true,
         "showscale": false,
         "type": "choropleth",
         "z": [
          1
         ]
        },
        {
         "colorscale": [
          [
           0,
           "#ab63fa"
          ],
          [
           1,
           "#ab63fa"
          ]
         ],
         "geo": "geo",
         "hovertemplate": "Deaths=1576<br>Abbreviation=%{location}<extra></extra>",
         "locationmode": "USA-states",
         "locations": [
          "NY"
         ],
         "name": "1576",
         "showlegend": true,
         "showscale": false,
         "type": "choropleth",
         "z": [
          1
         ]
        },
        {
         "colorscale": [
          [
           0,
           "#FFA15A"
          ],
          [
           1,
           "#FFA15A"
          ]
         ],
         "geo": "geo",
         "hovertemplate": "Deaths=1732<br>Abbreviation=%{location}<extra></extra>",
         "locationmode": "USA-states",
         "locations": [
          "NY"
         ],
         "name": "1732",
         "showlegend": true,
         "showscale": false,
         "type": "choropleth",
         "z": [
          1
         ]
        },
        {
         "colorscale": [
          [
           0,
           "#19d3f3"
          ],
          [
           1,
           "#19d3f3"
          ]
         ],
         "geo": "geo",
         "hovertemplate": "Deaths=1787<br>Abbreviation=%{location}<extra></extra>",
         "locationmode": "USA-states",
         "locations": [
          "NY"
         ],
         "name": "1787",
         "showlegend": true,
         "showscale": false,
         "type": "choropleth",
         "z": [
          1
         ]
        },
        {
         "colorscale": [
          [
           0,
           "#FF6692"
          ],
          [
           1,
           "#FF6692"
          ]
         ],
         "geo": "geo",
         "hovertemplate": "Deaths=292<br>Abbreviation=%{location}<extra></extra>",
         "locationmode": "USA-states",
         "locations": [
          "NC"
         ],
         "name": "292",
         "showlegend": true,
         "showscale": false,
         "type": "choropleth",
         "z": [
          1
         ]
        },
        {
         "colorscale": [
          [
           0,
           "#B6E880"
          ],
          [
           1,
           "#B6E880"
          ]
         ],
         "geo": "geo",
         "hovertemplate": "Deaths=342<br>Abbreviation=%{location}<extra></extra>",
         "locationmode": "USA-states",
         "locations": [
          "NC"
         ],
         "name": "342",
         "showlegend": true,
         "showscale": false,
         "type": "choropleth",
         "z": [
          1
         ]
        },
        {
         "colorscale": [
          [
           0,
           "#FF97FF"
          ],
          [
           1,
           "#FF97FF"
          ]
         ],
         "geo": "geo",
         "hovertemplate": "Deaths=506<br>Abbreviation=%{location}<extra></extra>",
         "locationmode": "USA-states",
         "locations": [
          "NC"
         ],
         "name": "506",
         "showlegend": true,
         "showscale": false,
         "type": "choropleth",
         "z": [
          1
         ]
        },
        {
         "colorscale": [
          [
           0,
           "#FECB52"
          ],
          [
           1,
           "#FECB52"
          ]
         ],
         "geo": "geo",
         "hovertemplate": "Deaths=576<br>Abbreviation=%{location}<extra></extra>",
         "locationmode": "USA-states",
         "locations": [
          "NC"
         ],
         "name": "576",
         "showlegend": true,
         "showscale": false,
         "type": "choropleth",
         "z": [
          1
         ]
        },
        {
         "colorscale": [
          [
           0,
           "#636efa"
          ],
          [
           1,
           "#636efa"
          ]
         ],
         "geo": "geo",
         "hovertemplate": "Deaths=659<br>Abbreviation=%{location}<extra></extra>",
         "locationmode": "USA-states",
         "locations": [
          "NC"
         ],
         "name": "659",
         "showlegend": true,
         "showscale": false,
         "type": "choropleth",
         "z": [
          1
         ]
        },
        {
         "colorscale": [
          [
           0,
           "#EF553B"
          ],
          [
           1,
           "#EF553B"
          ]
         ],
         "geo": "geo",
         "hovertemplate": "Deaths=708<br>Abbreviation=%{location}<extra></extra>",
         "locationmode": "USA-states",
         "locations": [
          "NC"
         ],
         "name": "708",
         "showlegend": true,
         "showscale": false,
         "type": "choropleth",
         "z": [
          1
         ]
        },
        {
         "colorscale": [
          [
           0,
           "#00cc96"
          ],
          [
           1,
           "#00cc96"
          ]
         ],
         "geo": "geo",
         "hovertemplate": "Deaths=758<br>Abbreviation=%{location}<extra></extra>",
         "locationmode": "USA-states",
         "locations": [
          "NC"
         ],
         "name": "758",
         "showlegend": true,
         "showscale": false,
         "type": "choropleth",
         "z": [
          1
         ]
        },
        {
         "colorscale": [
          [
           0,
           "#ab63fa"
          ],
          [
           1,
           "#ab63fa"
          ]
         ],
         "geo": "geo",
         "hovertemplate": "Deaths=859<br>Abbreviation=%{location}<extra></extra>",
         "locationmode": "USA-states",
         "locations": [
          "NC"
         ],
         "name": "859",
         "showlegend": true,
         "showscale": false,
         "type": "choropleth",
         "z": [
          1
         ]
        },
        {
         "colorscale": [
          [
           0,
           "#FFA15A"
          ],
          [
           1,
           "#FFA15A"
          ]
         ],
         "geo": "geo",
         "hovertemplate": "Deaths=864<br>Abbreviation=%{location}<extra></extra>",
         "locationmode": "USA-states",
         "locations": [
          "NC"
         ],
         "name": "864",
         "showlegend": true,
         "showscale": false,
         "type": "choropleth",
         "z": [
          1
         ]
        },
        {
         "colorscale": [
          [
           0,
           "#19d3f3"
          ],
          [
           1,
           "#19d3f3"
          ]
         ],
         "geo": "geo",
         "hovertemplate": "Deaths=787<br>Abbreviation=%{location}<extra></extra>",
         "locationmode": "USA-states",
         "locations": [
          "NC"
         ],
         "name": "787",
         "showlegend": true,
         "showscale": false,
         "type": "choropleth",
         "z": [
          1
         ]
        },
        {
         "colorscale": [
          [
           0,
           "#FF6692"
          ],
          [
           1,
           "#FF6692"
          ]
         ],
         "geo": "geo",
         "hovertemplate": "Deaths=829<br>Abbreviation=%{location}<extra></extra>",
         "locationmode": "USA-states",
         "locations": [
          "NC"
         ],
         "name": "829",
         "showlegend": true,
         "showscale": false,
         "type": "choropleth",
         "z": [
          1
         ]
        },
        {
         "colorscale": [
          [
           0,
           "#B6E880"
          ],
          [
           1,
           "#B6E880"
          ]
         ],
         "geo": "geo",
         "hovertemplate": "Deaths=841<br>Abbreviation=%{location}<extra></extra>",
         "locationmode": "USA-states",
         "locations": [
          "NC"
         ],
         "name": "841",
         "showlegend": true,
         "showscale": false,
         "type": "choropleth",
         "z": [
          1
         ]
        },
        {
         "colorscale": [
          [
           0,
           "#FF97FF"
          ],
          [
           1,
           "#FF97FF"
          ]
         ],
         "geo": "geo",
         "hovertemplate": "Deaths=840<br>Abbreviation=%{location}<extra></extra>",
         "locationmode": "USA-states",
         "locations": [
          "NC",
          "PA"
         ],
         "name": "840",
         "showlegend": true,
         "showscale": false,
         "type": "choropleth",
         "z": [
          1,
          1
         ]
        },
        {
         "colorscale": [
          [
           0,
           "#FECB52"
          ],
          [
           1,
           "#FECB52"
          ]
         ],
         "geo": "geo",
         "hovertemplate": "Deaths=979<br>Abbreviation=%{location}<extra></extra>",
         "locationmode": "USA-states",
         "locations": [
          "NC"
         ],
         "name": "979",
         "showlegend": true,
         "showscale": false,
         "type": "choropleth",
         "z": [
          1
         ]
        },
        {
         "colorscale": [
          [
           0,
           "#636efa"
          ],
          [
           1,
           "#636efa"
          ]
         ],
         "geo": "geo",
         "hovertemplate": "Deaths=10<br>Abbreviation=%{location}<extra></extra>",
         "locationmode": "USA-states",
         "locations": [
          "ND",
          "ND",
          "SD",
          "SD",
          "WY",
          "WY"
         ],
         "name": "10",
         "showlegend": true,
         "showscale": false,
         "type": "choropleth",
         "z": [
          1,
          1,
          1,
          1,
          1,
          1
         ]
        },
        {
         "colorscale": [
          [
           0,
           "#EF553B"
          ],
          [
           1,
           "#EF553B"
          ]
         ],
         "geo": "geo",
         "hovertemplate": "Deaths=18<br>Abbreviation=%{location}<extra></extra>",
         "locationmode": "USA-states",
         "locations": [
          "ND",
          "ND"
         ],
         "name": "18",
         "showlegend": true,
         "showscale": false,
         "type": "choropleth",
         "z": [
          1,
          1
         ]
        },
        {
         "colorscale": [
          [
           0,
           "#00cc96"
          ],
          [
           1,
           "#00cc96"
          ]
         ],
         "geo": "geo",
         "hovertemplate": "Deaths=459<br>Abbreviation=%{location}<extra></extra>",
         "locationmode": "USA-states",
         "locations": [
          "OH"
         ],
         "name": "459",
         "showlegend": true,
         "showscale": false,
         "type": "choropleth",
         "z": [
          1
         ]
        },
        {
         "colorscale": [
          [
           0,
           "#ab63fa"
          ],
          [
           1,
           "#ab63fa"
          ]
         ],
         "geo": "geo",
         "hovertemplate": "Deaths=398<br>Abbreviation=%{location}<extra></extra>",
         "locationmode": "USA-states",
         "locations": [
          "OH"
         ],
         "name": "398",
         "showlegend": true,
         "showscale": false,
         "type": "choropleth",
         "z": [
          1
         ]
        },
        {
         "colorscale": [
          [
           0,
           "#FFA15A"
          ],
          [
           1,
           "#FFA15A"
          ]
         ],
         "geo": "geo",
         "hovertemplate": "Deaths=557<br>Abbreviation=%{location}<extra></extra>",
         "locationmode": "USA-states",
         "locations": [
          "OH"
         ],
         "name": "557",
         "showlegend": true,
         "showscale": false,
         "type": "choropleth",
         "z": [
          1
         ]
        },
        {
         "colorscale": [
          [
           0,
           "#19d3f3"
          ],
          [
           1,
           "#19d3f3"
          ]
         ],
         "geo": "geo",
         "hovertemplate": "Deaths=591<br>Abbreviation=%{location}<extra></extra>",
         "locationmode": "USA-states",
         "locations": [
          "OH"
         ],
         "name": "591",
         "showlegend": true,
         "showscale": false,
         "type": "choropleth",
         "z": [
          1
         ]
        },
        {
         "colorscale": [
          [
           0,
           "#FF6692"
          ],
          [
           1,
           "#FF6692"
          ]
         ],
         "geo": "geo",
         "hovertemplate": "Deaths=675<br>Abbreviation=%{location}<extra></extra>",
         "locationmode": "USA-states",
         "locations": [
          "OH",
          "WA"
         ],
         "name": "675",
         "showlegend": true,
         "showscale": false,
         "type": "choropleth",
         "z": [
          1,
          1
         ]
        },
        {
         "colorscale": [
          [
           0,
           "#B6E880"
          ],
          [
           1,
           "#B6E880"
          ]
         ],
         "geo": "geo",
         "hovertemplate": "Deaths=755<br>Abbreviation=%{location}<extra></extra>",
         "locationmode": "USA-states",
         "locations": [
          "OH"
         ],
         "name": "755",
         "showlegend": true,
         "showscale": false,
         "type": "choropleth",
         "z": [
          1
         ]
        },
        {
         "colorscale": [
          [
           0,
           "#FF97FF"
          ],
          [
           1,
           "#FF97FF"
          ]
         ],
         "geo": "geo",
         "hovertemplate": "Deaths=863<br>Abbreviation=%{location}<extra></extra>",
         "locationmode": "USA-states",
         "locations": [
          "OH"
         ],
         "name": "863",
         "showlegend": true,
         "showscale": false,
         "type": "choropleth",
         "z": [
          1
         ]
        },
        {
         "colorscale": [
          [
           0,
           "#FECB52"
          ],
          [
           1,
           "#FECB52"
          ]
         ],
         "geo": "geo",
         "hovertemplate": "Deaths=716<br>Abbreviation=%{location}<extra></extra>",
         "locationmode": "USA-states",
         "locations": [
          "OH"
         ],
         "name": "716",
         "showlegend": true,
         "showscale": false,
         "type": "choropleth",
         "z": [
          1
         ]
        },
        {
         "colorscale": [
          [
           0,
           "#636efa"
          ],
          [
           1,
           "#636efa"
          ]
         ],
         "geo": "geo",
         "hovertemplate": "Deaths=1197<br>Abbreviation=%{location}<extra></extra>",
         "locationmode": "USA-states",
         "locations": [
          "OH",
          "TX"
         ],
         "name": "1197",
         "showlegend": true,
         "showscale": false,
         "type": "choropleth",
         "z": [
          1,
          1
         ]
        },
        {
         "colorscale": [
          [
           0,
           "#EF553B"
          ],
          [
           1,
           "#EF553B"
          ]
         ],
         "geo": "geo",
         "hovertemplate": "Deaths=1333<br>Abbreviation=%{location}<extra></extra>",
         "locationmode": "USA-states",
         "locations": [
          "OH"
         ],
         "name": "1333",
         "showlegend": true,
         "showscale": false,
         "type": "choropleth",
         "z": [
          1
         ]
        },
        {
         "colorscale": [
          [
           0,
           "#00cc96"
          ],
          [
           1,
           "#00cc96"
          ]
         ],
         "geo": "geo",
         "hovertemplate": "Deaths=1403<br>Abbreviation=%{location}<extra></extra>",
         "locationmode": "USA-states",
         "locations": [
          "OH"
         ],
         "name": "1403",
         "showlegend": true,
         "showscale": false,
         "type": "choropleth",
         "z": [
          1
         ]
        },
        {
         "colorscale": [
          [
           0,
           "#ab63fa"
          ],
          [
           1,
           "#ab63fa"
          ]
         ],
         "geo": "geo",
         "hovertemplate": "Deaths=1695<br>Abbreviation=%{location}<extra></extra>",
         "locationmode": "USA-states",
         "locations": [
          "OH"
         ],
         "name": "1695",
         "showlegend": true,
         "showscale": false,
         "type": "choropleth",
         "z": [
          1
         ]
        },
        {
         "colorscale": [
          [
           0,
           "#FFA15A"
          ],
          [
           1,
           "#FFA15A"
          ]
         ],
         "geo": "geo",
         "hovertemplate": "Deaths=2175<br>Abbreviation=%{location}<extra></extra>",
         "locationmode": "USA-states",
         "locations": [
          "OH"
         ],
         "name": "2175",
         "showlegend": true,
         "showscale": false,
         "type": "choropleth",
         "z": [
          1
         ]
        },
        {
         "colorscale": [
          [
           0,
           "#19d3f3"
          ],
          [
           1,
           "#19d3f3"
          ]
         ],
         "geo": "geo",
         "hovertemplate": "Deaths=136<br>Abbreviation=%{location}<extra></extra>",
         "locationmode": "USA-states",
         "locations": [
          "OK"
         ],
         "name": "136",
         "showlegend": true,
         "showscale": false,
         "type": "choropleth",
         "z": [
          1
         ]
        },
        {
         "colorscale": [
          [
           0,
           "#FF6692"
          ],
          [
           1,
           "#FF6692"
          ]
         ],
         "geo": "geo",
         "hovertemplate": "Deaths=152<br>Abbreviation=%{location}<extra></extra>",
         "locationmode": "USA-states",
         "locations": [
          "OK"
         ],
         "name": "152",
         "showlegend": true,
         "showscale": false,
         "type": "choropleth",
         "z": [
          1
         ]
        },
        {
         "colorscale": [
          [
           0,
           "#B6E880"
          ],
          [
           1,
           "#B6E880"
          ]
         ],
         "geo": "geo",
         "hovertemplate": "Deaths=262<br>Abbreviation=%{location}<extra></extra>",
         "locationmode": "USA-states",
         "locations": [
          "OK"
         ],
         "name": "262",
         "showlegend": true,
         "showscale": false,
         "type": "choropleth",
         "z": [
          1
         ]
        },
        {
         "colorscale": [
          [
           0,
           "#FF97FF"
          ],
          [
           1,
           "#FF97FF"
          ]
         ],
         "geo": "geo",
         "hovertemplate": "Deaths=394<br>Abbreviation=%{location}<extra></extra>",
         "locationmode": "USA-states",
         "locations": [
          "OK",
          "UT"
         ],
         "name": "394",
         "showlegend": true,
         "showscale": false,
         "type": "choropleth",
         "z": [
          1,
          1
         ]
        },
        {
         "colorscale": [
          [
           0,
           "#FECB52"
          ],
          [
           1,
           "#FECB52"
          ]
         ],
         "geo": "geo",
         "hovertemplate": "Deaths=492<br>Abbreviation=%{location}<extra></extra>",
         "locationmode": "USA-states",
         "locations": [
          "OK",
          "VA",
          "WA"
         ],
         "name": "492",
         "showlegend": true,
         "showscale": false,
         "type": "choropleth",
         "z": [
          1,
          1,
          1
         ]
        },
        {
         "colorscale": [
          [
           0,
           "#636efa"
          ],
          [
           1,
           "#636efa"
          ]
         ],
         "geo": "geo",
         "hovertemplate": "Deaths=538<br>Abbreviation=%{location}<extra></extra>",
         "locationmode": "USA-states",
         "locations": [
          "OK"
         ],
         "name": "538",
         "showlegend": true,
         "showscale": false,
         "type": "choropleth",
         "z": [
          1
         ]
        },
        {
         "colorscale": [
          [
           0,
           "#EF553B"
          ],
          [
           1,
           "#EF553B"
          ]
         ],
         "geo": "geo",
         "hovertemplate": "Deaths=178<br>Abbreviation=%{location}<extra></extra>",
         "locationmode": "USA-states",
         "locations": [
          "OR"
         ],
         "name": "178",
         "showlegend": true,
         "showscale": false,
         "type": "choropleth",
         "z": [
          1
         ]
        },
        {
         "colorscale": [
          [
           0,
           "#00cc96"
          ],
          [
           1,
           "#00cc96"
          ]
         ],
         "geo": "geo",
         "hovertemplate": "Deaths=247<br>Abbreviation=%{location}<extra></extra>",
         "locationmode": "USA-states",
         "locations": [
          "OR"
         ],
         "name": "247",
         "showlegend": true,
         "showscale": false,
         "type": "choropleth",
         "z": [
          1
         ]
        },
        {
         "colorscale": [
          [
           0,
           "#ab63fa"
          ],
          [
           1,
           "#ab63fa"
          ]
         ],
         "geo": "geo",
         "hovertemplate": "Deaths=264<br>Abbreviation=%{location}<extra></extra>",
         "locationmode": "USA-states",
         "locations": [
          "OR"
         ],
         "name": "264",
         "showlegend": true,
         "showscale": false,
         "type": "choropleth",
         "z": [
          1
         ]
        },
        {
         "colorscale": [
          [
           0,
           "#FFA15A"
          ],
          [
           1,
           "#FFA15A"
          ]
         ],
         "geo": "geo",
         "hovertemplate": "Deaths=274<br>Abbreviation=%{location}<extra></extra>",
         "locationmode": "USA-states",
         "locations": [
          "OR"
         ],
         "name": "274",
         "showlegend": true,
         "showscale": false,
         "type": "choropleth",
         "z": [
          1
         ]
        },
        {
         "colorscale": [
          [
           0,
           "#19d3f3"
          ],
          [
           1,
           "#19d3f3"
          ]
         ],
         "geo": "geo",
         "hovertemplate": "Deaths=318<br>Abbreviation=%{location}<extra></extra>",
         "locationmode": "USA-states",
         "locations": [
          "OR"
         ],
         "name": "318",
         "showlegend": true,
         "showscale": false,
         "type": "choropleth",
         "z": [
          1
         ]
        },
        {
         "colorscale": [
          [
           0,
           "#FF6692"
          ],
          [
           1,
           "#FF6692"
          ]
         ],
         "geo": "geo",
         "hovertemplate": "Deaths=396<br>Abbreviation=%{location}<extra></extra>",
         "locationmode": "USA-states",
         "locations": [
          "OR"
         ],
         "name": "396",
         "showlegend": true,
         "showscale": false,
         "type": "choropleth",
         "z": [
          1
         ]
        },
        {
         "colorscale": [
          [
           0,
           "#B6E880"
          ],
          [
           1,
           "#B6E880"
          ]
         ],
         "geo": "geo",
         "hovertemplate": "Deaths=362<br>Abbreviation=%{location}<extra></extra>",
         "locationmode": "USA-states",
         "locations": [
          "OR"
         ],
         "name": "362",
         "showlegend": true,
         "showscale": false,
         "type": "choropleth",
         "z": [
          1
         ]
        },
        {
         "colorscale": [
          [
           0,
           "#FF97FF"
          ],
          [
           1,
           "#FF97FF"
          ]
         ],
         "geo": "geo",
         "hovertemplate": "Deaths=382<br>Abbreviation=%{location}<extra></extra>",
         "locationmode": "USA-states",
         "locations": [
          "OR",
          "UT"
         ],
         "name": "382",
         "showlegend": true,
         "showscale": false,
         "type": "choropleth",
         "z": [
          1,
          1
         ]
        },
        {
         "colorscale": [
          [
           0,
           "#FECB52"
          ],
          [
           1,
           "#FECB52"
          ]
         ],
         "geo": "geo",
         "hovertemplate": "Deaths=402<br>Abbreviation=%{location}<extra></extra>",
         "locationmode": "USA-states",
         "locations": [
          "OR"
         ],
         "name": "402",
         "showlegend": true,
         "showscale": false,
         "type": "choropleth",
         "z": [
          1
         ]
        },
        {
         "colorscale": [
          [
           0,
           "#636efa"
          ],
          [
           1,
           "#636efa"
          ]
         ],
         "geo": "geo",
         "hovertemplate": "Deaths=369<br>Abbreviation=%{location}<extra></extra>",
         "locationmode": "USA-states",
         "locations": [
          "OR"
         ],
         "name": "369",
         "showlegend": true,
         "showscale": false,
         "type": "choropleth",
         "z": [
          1
         ]
        },
        {
         "colorscale": [
          [
           0,
           "#EF553B"
          ],
          [
           1,
           "#EF553B"
          ]
         ],
         "geo": "geo",
         "hovertemplate": "Deaths=328<br>Abbreviation=%{location}<extra></extra>",
         "locationmode": "USA-states",
         "locations": [
          "PA"
         ],
         "name": "328",
         "showlegend": true,
         "showscale": false,
         "type": "choropleth",
         "z": [
          1
         ]
        },
        {
         "colorscale": [
          [
           0,
           "#00cc96"
          ],
          [
           1,
           "#00cc96"
          ]
         ],
         "geo": "geo",
         "hovertemplate": "Deaths=357<br>Abbreviation=%{location}<extra></extra>",
         "locationmode": "USA-states",
         "locations": [
          "PA"
         ],
         "name": "357",
         "showlegend": true,
         "showscale": false,
         "type": "choropleth",
         "z": [
          1
         ]
        },
        {
         "colorscale": [
          [
           0,
           "#ab63fa"
          ],
          [
           1,
           "#ab63fa"
          ]
         ],
         "geo": "geo",
         "hovertemplate": "Deaths=481<br>Abbreviation=%{location}<extra></extra>",
         "locationmode": "USA-states",
         "locations": [
          "PA"
         ],
         "name": "481",
         "showlegend": true,
         "showscale": false,
         "type": "choropleth",
         "z": [
          1
         ]
        },
        {
         "colorscale": [
          [
           0,
           "#FFA15A"
          ],
          [
           1,
           "#FFA15A"
          ]
         ],
         "geo": "geo",
         "hovertemplate": "Deaths=484<br>Abbreviation=%{location}<extra></extra>",
         "locationmode": "USA-states",
         "locations": [
          "PA",
          "WI"
         ],
         "name": "484",
         "showlegend": true,
         "showscale": false,
         "type": "choropleth",
         "z": [
          1,
          1
         ]
        },
        {
         "colorscale": [
          [
           0,
           "#19d3f3"
          ],
          [
           1,
           "#19d3f3"
          ]
         ],
         "geo": "geo",
         "hovertemplate": "Deaths=524<br>Abbreviation=%{location}<extra></extra>",
         "locationmode": "USA-states",
         "locations": [
          "PA"
         ],
         "name": "524",
         "showlegend": true,
         "showscale": false,
         "type": "choropleth",
         "z": [
          1
         ]
        },
        {
         "colorscale": [
          [
           0,
           "#FF6692"
          ],
          [
           1,
           "#FF6692"
          ]
         ],
         "geo": "geo",
         "hovertemplate": "Deaths=429<br>Abbreviation=%{location}<extra></extra>",
         "locationmode": "USA-states",
         "locations": [
          "PA"
         ],
         "name": "429",
         "showlegend": true,
         "showscale": false,
         "type": "choropleth",
         "z": [
          1
         ]
        },
        {
         "colorscale": [
          [
           0,
           "#B6E880"
          ],
          [
           1,
           "#B6E880"
          ]
         ],
         "geo": "geo",
         "hovertemplate": "Deaths=501<br>Abbreviation=%{location}<extra></extra>",
         "locationmode": "USA-states",
         "locations": [
          "PA",
          "VA"
         ],
         "name": "501",
         "showlegend": true,
         "showscale": false,
         "type": "choropleth",
         "z": [
          1,
          1
         ]
        },
        {
         "colorscale": [
          [
           0,
           "#FF97FF"
          ],
          [
           1,
           "#FF97FF"
          ]
         ],
         "geo": "geo",
         "hovertemplate": "Deaths=640<br>Abbreviation=%{location}<extra></extra>",
         "locationmode": "USA-states",
         "locations": [
          "PA",
          "WI"
         ],
         "name": "640",
         "showlegend": true,
         "showscale": false,
         "type": "choropleth",
         "z": [
          1,
          1
         ]
        },
        {
         "colorscale": [
          [
           0,
           "#FECB52"
          ],
          [
           1,
           "#FECB52"
          ]
         ],
         "geo": "geo",
         "hovertemplate": "Deaths=770<br>Abbreviation=%{location}<extra></extra>",
         "locationmode": "USA-states",
         "locations": [
          "PA"
         ],
         "name": "770",
         "showlegend": true,
         "showscale": false,
         "type": "choropleth",
         "z": [
          1
         ]
        },
        {
         "colorscale": [
          [
           0,
           "#636efa"
          ],
          [
           1,
           "#636efa"
          ]
         ],
         "geo": "geo",
         "hovertemplate": "Deaths=970<br>Abbreviation=%{location}<extra></extra>",
         "locationmode": "USA-states",
         "locations": [
          "PA"
         ],
         "name": "970",
         "showlegend": true,
         "showscale": false,
         "type": "choropleth",
         "z": [
          1
         ]
        },
        {
         "colorscale": [
          [
           0,
           "#EF553B"
          ],
          [
           1,
           "#EF553B"
          ]
         ],
         "geo": "geo",
         "hovertemplate": "Deaths=1110<br>Abbreviation=%{location}<extra></extra>",
         "locationmode": "USA-states",
         "locations": [
          "PA"
         ],
         "name": "1110",
         "showlegend": true,
         "showscale": false,
         "type": "choropleth",
         "z": [
          1
         ]
        },
        {
         "colorscale": [
          [
           0,
           "#00cc96"
          ],
          [
           1,
           "#00cc96"
          ]
         ],
         "geo": "geo",
         "hovertemplate": "Deaths=132<br>Abbreviation=%{location}<extra></extra>",
         "locationmode": "USA-states",
         "locations": [
          "RI"
         ],
         "name": "132",
         "showlegend": true,
         "showscale": false,
         "type": "choropleth",
         "z": [
          1
         ]
        },
        {
         "colorscale": [
          [
           0,
           "#ab63fa"
          ],
          [
           1,
           "#ab63fa"
          ]
         ],
         "geo": "geo",
         "hovertemplate": "Deaths=89<br>Abbreviation=%{location}<extra></extra>",
         "locationmode": "USA-states",
         "locations": [
          "RI",
          "SC"
         ],
         "name": "89",
         "showlegend": true,
         "showscale": false,
         "type": "choropleth",
         "z": [
          1,
          1
         ]
        },
        {
         "colorscale": [
          [
           0,
           "#FFA15A"
          ],
          [
           1,
           "#FFA15A"
          ]
         ],
         "geo": "geo",
         "hovertemplate": "Deaths=145<br>Abbreviation=%{location}<extra></extra>",
         "locationmode": "USA-states",
         "locations": [
          "RI",
          "TN",
          "UT"
         ],
         "name": "145",
         "showlegend": true,
         "showscale": false,
         "type": "choropleth",
         "z": [
          1,
          1,
          1
         ]
        },
        {
         "colorscale": [
          [
           0,
           "#19d3f3"
          ],
          [
           1,
           "#19d3f3"
          ]
         ],
         "geo": "geo",
         "hovertemplate": "Deaths=143<br>Abbreviation=%{location}<extra></extra>",
         "locationmode": "USA-states",
         "locations": [
          "RI",
          "WI"
         ],
         "name": "143",
         "showlegend": true,
         "showscale": false,
         "type": "choropleth",
         "z": [
          1,
          1
         ]
        },
        {
         "colorscale": [
          [
           0,
           "#FF6692"
          ],
          [
           1,
           "#FF6692"
          ]
         ],
         "geo": "geo",
         "hovertemplate": "Deaths=50<br>Abbreviation=%{location}<extra></extra>",
         "locationmode": "USA-states",
         "locations": [
          "SC",
          "VT"
         ],
         "name": "50",
         "showlegend": true,
         "showscale": false,
         "type": "choropleth",
         "z": [
          1,
          1
         ]
        },
        {
         "colorscale": [
          [
           0,
           "#B6E880"
          ],
          [
           1,
           "#B6E880"
          ]
         ],
         "geo": "geo",
         "hovertemplate": "Deaths=90<br>Abbreviation=%{location}<extra></extra>",
         "locationmode": "USA-states",
         "locations": [
          "SC"
         ],
         "name": "90",
         "showlegend": true,
         "showscale": false,
         "type": "choropleth",
         "z": [
          1
         ]
        },
        {
         "colorscale": [
          [
           0,
           "#FF97FF"
          ],
          [
           1,
           "#FF97FF"
          ]
         ],
         "geo": "geo",
         "hovertemplate": "Deaths=154<br>Abbreviation=%{location}<extra></extra>",
         "locationmode": "USA-states",
         "locations": [
          "SC",
          "WV"
         ],
         "name": "154",
         "showlegend": true,
         "showscale": false,
         "type": "choropleth",
         "z": [
          1,
          1
         ]
        },
        {
         "colorscale": [
          [
           0,
           "#FECB52"
          ],
          [
           1,
           "#FECB52"
          ]
         ],
         "geo": "geo",
         "hovertemplate": "Deaths=245<br>Abbreviation=%{location}<extra></extra>",
         "locationmode": "USA-states",
         "locations": [
          "SC"
         ],
         "name": "245",
         "showlegend": true,
         "showscale": false,
         "type": "choropleth",
         "z": [
          1
         ]
        },
        {
         "colorscale": [
          [
           0,
           "#636efa"
          ],
          [
           1,
           "#636efa"
          ]
         ],
         "geo": "geo",
         "hovertemplate": "Deaths=530<br>Abbreviation=%{location}<extra></extra>",
         "locationmode": "USA-states",
         "locations": [
          "SC"
         ],
         "name": "530",
         "showlegend": true,
         "showscale": false,
         "type": "choropleth",
         "z": [
          1
         ]
        },
        {
         "colorscale": [
          [
           0,
           "#EF553B"
          ],
          [
           1,
           "#EF553B"
          ]
         ],
         "geo": "geo",
         "hovertemplate": "Deaths=22<br>Abbreviation=%{location}<extra></extra>",
         "locationmode": "USA-states",
         "locations": [
          "SD"
         ],
         "name": "22",
         "showlegend": true,
         "showscale": false,
         "type": "choropleth",
         "z": [
          1
         ]
        },
        {
         "colorscale": [
          [
           0,
           "#00cc96"
          ],
          [
           1,
           "#00cc96"
          ]
         ],
         "geo": "geo",
         "hovertemplate": "Deaths=24<br>Abbreviation=%{location}<extra></extra>",
         "locationmode": "USA-states",
         "locations": [
          "SD",
          "VT"
         ],
         "name": "24",
         "showlegend": true,
         "showscale": false,
         "type": "choropleth",
         "z": [
          1,
          1
         ]
        },
        {
         "colorscale": [
          [
           0,
           "#ab63fa"
          ],
          [
           1,
           "#ab63fa"
          ]
         ],
         "geo": "geo",
         "hovertemplate": "Deaths=35<br>Abbreviation=%{location}<extra></extra>",
         "locationmode": "USA-states",
         "locations": [
          "SD",
          "SD"
         ],
         "name": "35",
         "showlegend": true,
         "showscale": false,
         "type": "choropleth",
         "z": [
          1,
          1
         ]
        },
        {
         "colorscale": [
          [
           0,
           "#FFA15A"
          ],
          [
           1,
           "#FFA15A"
          ]
         ],
         "geo": "geo",
         "hovertemplate": "Deaths=403<br>Abbreviation=%{location}<extra></extra>",
         "locationmode": "USA-states",
         "locations": [
          "TN"
         ],
         "name": "403",
         "showlegend": true,
         "showscale": false,
         "type": "choropleth",
         "z": [
          1
         ]
        },
        {
         "colorscale": [
          [
           0,
           "#19d3f3"
          ],
          [
           1,
           "#19d3f3"
          ]
         ],
         "geo": "geo",
         "hovertemplate": "Deaths=483<br>Abbreviation=%{location}<extra></extra>",
         "locationmode": "USA-states",
         "locations": [
          "TN"
         ],
         "name": "483",
         "showlegend": true,
         "showscale": false,
         "type": "choropleth",
         "z": [
          1
         ]
        },
        {
         "colorscale": [
          [
           0,
           "#FF6692"
          ],
          [
           1,
           "#FF6692"
          ]
         ],
         "geo": "geo",
         "hovertemplate": "Deaths=494<br>Abbreviation=%{location}<extra></extra>",
         "locationmode": "USA-states",
         "locations": [
          "TN"
         ],
         "name": "494",
         "showlegend": true,
         "showscale": false,
         "type": "choropleth",
         "z": [
          1
         ]
        },
        {
         "colorscale": [
          [
           0,
           "#B6E880"
          ],
          [
           1,
           "#B6E880"
          ]
         ],
         "geo": "geo",
         "hovertemplate": "Deaths=499<br>Abbreviation=%{location}<extra></extra>",
         "locationmode": "USA-states",
         "locations": [
          "TN"
         ],
         "name": "499",
         "showlegend": true,
         "showscale": false,
         "type": "choropleth",
         "z": [
          1
         ]
        },
        {
         "colorscale": [
          [
           0,
           "#FF97FF"
          ],
          [
           1,
           "#FF97FF"
          ]
         ],
         "geo": "geo",
         "hovertemplate": "Deaths=652<br>Abbreviation=%{location}<extra></extra>",
         "locationmode": "USA-states",
         "locations": [
          "TN"
         ],
         "name": "652",
         "showlegend": true,
         "showscale": false,
         "type": "choropleth",
         "z": [
          1
         ]
        },
        {
         "colorscale": [
          [
           0,
           "#FECB52"
          ],
          [
           1,
           "#FECB52"
          ]
         ],
         "geo": "geo",
         "hovertemplate": "Deaths=663<br>Abbreviation=%{location}<extra></extra>",
         "locationmode": "USA-states",
         "locations": [
          "TN"
         ],
         "name": "663",
         "showlegend": true,
         "showscale": false,
         "type": "choropleth",
         "z": [
          1
         ]
        },
        {
         "colorscale": [
          [
           0,
           "#636efa"
          ],
          [
           1,
           "#636efa"
          ]
         ],
         "geo": "geo",
         "hovertemplate": "Deaths=748<br>Abbreviation=%{location}<extra></extra>",
         "locationmode": "USA-states",
         "locations": [
          "TN"
         ],
         "name": "748",
         "showlegend": true,
         "showscale": false,
         "type": "choropleth",
         "z": [
          1
         ]
        },
        {
         "colorscale": [
          [
           0,
           "#EF553B"
          ],
          [
           1,
           "#EF553B"
          ]
         ],
         "geo": "geo",
         "hovertemplate": "Deaths=789<br>Abbreviation=%{location}<extra></extra>",
         "locationmode": "USA-states",
         "locations": [
          "TN"
         ],
         "name": "789",
         "showlegend": true,
         "showscale": false,
         "type": "choropleth",
         "z": [
          1
         ]
        },
        {
         "colorscale": [
          [
           0,
           "#00cc96"
          ],
          [
           1,
           "#00cc96"
          ]
         ],
         "geo": "geo",
         "hovertemplate": "Deaths=892<br>Abbreviation=%{location}<extra></extra>",
         "locationmode": "USA-states",
         "locations": [
          "TN"
         ],
         "name": "892",
         "showlegend": true,
         "showscale": false,
         "type": "choropleth",
         "z": [
          1
         ]
        },
        {
         "colorscale": [
          [
           0,
           "#ab63fa"
          ],
          [
           1,
           "#ab63fa"
          ]
         ],
         "geo": "geo",
         "hovertemplate": "Deaths=379<br>Abbreviation=%{location}<extra></extra>",
         "locationmode": "USA-states",
         "locations": [
          "TX"
         ],
         "name": "379",
         "showlegend": true,
         "showscale": false,
         "type": "choropleth",
         "z": [
          1
         ]
        },
        {
         "colorscale": [
          [
           0,
           "#FFA15A"
          ],
          [
           1,
           "#FFA15A"
          ]
         ],
         "geo": "geo",
         "hovertemplate": "Deaths=457<br>Abbreviation=%{location}<extra></extra>",
         "locationmode": "USA-states",
         "locations": [
          "TX"
         ],
         "name": "457",
         "showlegend": true,
         "showscale": false,
         "type": "choropleth",
         "z": [
          1
         ]
        },
        {
         "colorscale": [
          [
           0,
           "#19d3f3"
          ],
          [
           1,
           "#19d3f3"
          ]
         ],
         "geo": "geo",
         "hovertemplate": "Deaths=602<br>Abbreviation=%{location}<extra></extra>",
         "locationmode": "USA-states",
         "locations": [
          "TX"
         ],
         "name": "602",
         "showlegend": true,
         "showscale": false,
         "type": "choropleth",
         "z": [
          1
         ]
        },
        {
         "colorscale": [
          [
           0,
           "#FF6692"
          ],
          [
           1,
           "#FF6692"
          ]
         ],
         "geo": "geo",
         "hovertemplate": "Deaths=788<br>Abbreviation=%{location}<extra></extra>",
         "locationmode": "USA-states",
         "locations": [
          "TX"
         ],
         "name": "788",
         "showlegend": true,
         "showscale": false,
         "type": "choropleth",
         "z": [
          1
         ]
        },
        {
         "colorscale": [
          [
           0,
           "#B6E880"
          ],
          [
           1,
           "#B6E880"
          ]
         ],
         "geo": "geo",
         "hovertemplate": "Deaths=825<br>Abbreviation=%{location}<extra></extra>",
         "locationmode": "USA-states",
         "locations": [
          "TX"
         ],
         "name": "825",
         "showlegend": true,
         "showscale": false,
         "type": "choropleth",
         "z": [
          1
         ]
        },
        {
         "colorscale": [
          [
           0,
           "#FF97FF"
          ],
          [
           1,
           "#FF97FF"
          ]
         ],
         "geo": "geo",
         "hovertemplate": "Deaths=836<br>Abbreviation=%{location}<extra></extra>",
         "locationmode": "USA-states",
         "locations": [
          "TX"
         ],
         "name": "836",
         "showlegend": true,
         "showscale": false,
         "type": "choropleth",
         "z": [
          1
         ]
        },
        {
         "colorscale": [
          [
           0,
           "#FECB52"
          ],
          [
           1,
           "#FECB52"
          ]
         ],
         "geo": "geo",
         "hovertemplate": "Deaths=908<br>Abbreviation=%{location}<extra></extra>",
         "locationmode": "USA-states",
         "locations": [
          "TX"
         ],
         "name": "908",
         "showlegend": true,
         "showscale": false,
         "type": "choropleth",
         "z": [
          1
         ]
        },
        {
         "colorscale": [
          [
           0,
           "#636efa"
          ],
          [
           1,
           "#636efa"
          ]
         ],
         "geo": "geo",
         "hovertemplate": "Deaths=986<br>Abbreviation=%{location}<extra></extra>",
         "locationmode": "USA-states",
         "locations": [
          "TX"
         ],
         "name": "986",
         "showlegend": true,
         "showscale": false,
         "type": "choropleth",
         "z": [
          1
         ]
        },
        {
         "colorscale": [
          [
           0,
           "#EF553B"
          ],
          [
           1,
           "#EF553B"
          ]
         ],
         "geo": "geo",
         "hovertemplate": "Deaths=1171<br>Abbreviation=%{location}<extra></extra>",
         "locationmode": "USA-states",
         "locations": [
          "TX"
         ],
         "name": "1171",
         "showlegend": true,
         "showscale": false,
         "type": "choropleth",
         "z": [
          1
         ]
        },
        {
         "colorscale": [
          [
           0,
           "#00cc96"
          ],
          [
           1,
           "#00cc96"
          ]
         ],
         "geo": "geo",
         "hovertemplate": "Deaths=1218<br>Abbreviation=%{location}<extra></extra>",
         "locationmode": "USA-states",
         "locations": [
          "TX"
         ],
         "name": "1218",
         "showlegend": true,
         "showscale": false,
         "type": "choropleth",
         "z": [
          1
         ]
        },
        {
         "colorscale": [
          [
           0,
           "#ab63fa"
          ],
          [
           1,
           "#ab63fa"
          ]
         ],
         "geo": "geo",
         "hovertemplate": "Deaths=1179<br>Abbreviation=%{location}<extra></extra>",
         "locationmode": "USA-states",
         "locations": [
          "TX"
         ],
         "name": "1179",
         "showlegend": true,
         "showscale": false,
         "type": "choropleth",
         "z": [
          1
         ]
        },
        {
         "colorscale": [
          [
           0,
           "#FFA15A"
          ],
          [
           1,
           "#FFA15A"
          ]
         ],
         "geo": "geo",
         "hovertemplate": "Deaths=1114<br>Abbreviation=%{location}<extra></extra>",
         "locationmode": "USA-states",
         "locations": [
          "TX"
         ],
         "name": "1114",
         "showlegend": true,
         "showscale": false,
         "type": "choropleth",
         "z": [
          1
         ]
        },
        {
         "colorscale": [
          [
           0,
           "#19d3f3"
          ],
          [
           1,
           "#19d3f3"
          ]
         ],
         "geo": "geo",
         "hovertemplate": "Deaths=1219<br>Abbreviation=%{location}<extra></extra>",
         "locationmode": "USA-states",
         "locations": [
          "TX"
         ],
         "name": "1219",
         "showlegend": true,
         "showscale": false,
         "type": "choropleth",
         "z": [
          1
         ]
        },
        {
         "colorscale": [
          [
           0,
           "#FF6692"
          ],
          [
           1,
           "#FF6692"
          ]
         ],
         "geo": "geo",
         "hovertemplate": "Deaths=159<br>Abbreviation=%{location}<extra></extra>",
         "locationmode": "USA-states",
         "locations": [
          "UT"
         ],
         "name": "159",
         "showlegend": true,
         "showscale": false,
         "type": "choropleth",
         "z": [
          1
         ]
        },
        {
         "colorscale": [
          [
           0,
           "#B6E880"
          ],
          [
           1,
           "#B6E880"
          ]
         ],
         "geo": "geo",
         "hovertemplate": "Deaths=167<br>Abbreviation=%{location}<extra></extra>",
         "locationmode": "USA-states",
         "locations": [
          "UT"
         ],
         "name": "167",
         "showlegend": true,
         "showscale": false,
         "type": "choropleth",
         "z": [
          1
         ]
        },
        {
         "colorscale": [
          [
           0,
           "#FF97FF"
          ],
          [
           1,
           "#FF97FF"
          ]
         ],
         "geo": "geo",
         "hovertemplate": "Deaths=345<br>Abbreviation=%{location}<extra></extra>",
         "locationmode": "USA-states",
         "locations": [
          "UT"
         ],
         "name": "345",
         "showlegend": true,
         "showscale": false,
         "type": "choropleth",
         "z": [
          1
         ]
        },
        {
         "colorscale": [
          [
           0,
           "#FECB52"
          ],
          [
           1,
           "#FECB52"
          ]
         ],
         "geo": "geo",
         "hovertemplate": "Deaths=371<br>Abbreviation=%{location}<extra></extra>",
         "locationmode": "USA-states",
         "locations": [
          "UT"
         ],
         "name": "371",
         "showlegend": true,
         "showscale": false,
         "type": "choropleth",
         "z": [
          1
         ]
        },
        {
         "colorscale": [
          [
           0,
           "#636efa"
          ],
          [
           1,
           "#636efa"
          ]
         ],
         "geo": "geo",
         "hovertemplate": "Deaths=353<br>Abbreviation=%{location}<extra></extra>",
         "locationmode": "USA-states",
         "locations": [
          "UT"
         ],
         "name": "353",
         "showlegend": true,
         "showscale": false,
         "type": "choropleth",
         "z": [
          1
         ]
        },
        {
         "colorscale": [
          [
           0,
           "#EF553B"
          ],
          [
           1,
           "#EF553B"
          ]
         ],
         "geo": "geo",
         "hovertemplate": "Deaths=438<br>Abbreviation=%{location}<extra></extra>",
         "locationmode": "USA-states",
         "locations": [
          "UT"
         ],
         "name": "438",
         "showlegend": true,
         "showscale": false,
         "type": "choropleth",
         "z": [
          1
         ]
        },
        {
         "colorscale": [
          [
           0,
           "#00cc96"
          ],
          [
           1,
           "#00cc96"
          ]
         ],
         "geo": "geo",
         "hovertemplate": "Deaths=444<br>Abbreviation=%{location}<extra></extra>",
         "locationmode": "USA-states",
         "locations": [
          "UT"
         ],
         "name": "444",
         "showlegend": true,
         "showscale": false,
         "type": "choropleth",
         "z": [
          1
         ]
        },
        {
         "colorscale": [
          [
           0,
           "#ab63fa"
          ],
          [
           1,
           "#ab63fa"
          ]
         ],
         "geo": "geo",
         "hovertemplate": "Deaths=471<br>Abbreviation=%{location}<extra></extra>",
         "locationmode": "USA-states",
         "locations": [
          "UT"
         ],
         "name": "471",
         "showlegend": true,
         "showscale": false,
         "type": "choropleth",
         "z": [
          1
         ]
        },
        {
         "colorscale": [
          [
           0,
           "#FFA15A"
          ],
          [
           1,
           "#FFA15A"
          ]
         ],
         "geo": "geo",
         "hovertemplate": "Deaths=260<br>Abbreviation=%{location}<extra></extra>",
         "locationmode": "USA-states",
         "locations": [
          "VA"
         ],
         "name": "260",
         "showlegend": true,
         "showscale": false,
         "type": "choropleth",
         "z": [
          1
         ]
        },
        {
         "colorscale": [
          [
           0,
           "#19d3f3"
          ],
          [
           1,
           "#19d3f3"
          ]
         ],
         "geo": "geo",
         "hovertemplate": "Deaths=361<br>Abbreviation=%{location}<extra></extra>",
         "locationmode": "USA-states",
         "locations": [
          "VA"
         ],
         "name": "361",
         "showlegend": true,
         "showscale": false,
         "type": "choropleth",
         "z": [
          1
         ]
        },
        {
         "colorscale": [
          [
           0,
           "#FF6692"
          ],
          [
           1,
           "#FF6692"
          ]
         ],
         "geo": "geo",
         "hovertemplate": "Deaths=374<br>Abbreviation=%{location}<extra></extra>",
         "locationmode": "USA-states",
         "locations": [
          "VA",
          "WA"
         ],
         "name": "374",
         "showlegend": true,
         "showscale": false,
         "type": "choropleth",
         "z": [
          1,
          1
         ]
        },
        {
         "colorscale": [
          [
           0,
           "#B6E880"
          ],
          [
           1,
           "#B6E880"
          ]
         ],
         "geo": "geo",
         "hovertemplate": "Deaths=399<br>Abbreviation=%{location}<extra></extra>",
         "locationmode": "USA-states",
         "locations": [
          "VA"
         ],
         "name": "399",
         "showlegend": true,
         "showscale": false,
         "type": "choropleth",
         "z": [
          1
         ]
        },
        {
         "colorscale": [
          [
           0,
           "#FF97FF"
          ],
          [
           1,
           "#FF97FF"
          ]
         ],
         "geo": "geo",
         "hovertemplate": "Deaths=385<br>Abbreviation=%{location}<extra></extra>",
         "locationmode": "USA-states",
         "locations": [
          "VA"
         ],
         "name": "385",
         "showlegend": true,
         "showscale": false,
         "type": "choropleth",
         "z": [
          1
         ]
        },
        {
         "colorscale": [
          [
           0,
           "#FECB52"
          ],
          [
           1,
           "#FECB52"
          ]
         ],
         "geo": "geo",
         "hovertemplate": "Deaths=427<br>Abbreviation=%{location}<extra></extra>",
         "locationmode": "USA-states",
         "locations": [
          "VA"
         ],
         "name": "427",
         "showlegend": true,
         "showscale": false,
         "type": "choropleth",
         "z": [
          1
         ]
        },
        {
         "colorscale": [
          [
           0,
           "#636efa"
          ],
          [
           1,
           "#636efa"
          ]
         ],
         "geo": "geo",
         "hovertemplate": "Deaths=400<br>Abbreviation=%{location}<extra></extra>",
         "locationmode": "USA-states",
         "locations": [
          "VA"
         ],
         "name": "400",
         "showlegend": true,
         "showscale": false,
         "type": "choropleth",
         "z": [
          1
         ]
        },
        {
         "colorscale": [
          [
           0,
           "#EF553B"
          ],
          [
           1,
           "#EF553B"
          ]
         ],
         "geo": "geo",
         "hovertemplate": "Deaths=582<br>Abbreviation=%{location}<extra></extra>",
         "locationmode": "USA-states",
         "locations": [
          "VA"
         ],
         "name": "582",
         "showlegend": true,
         "showscale": false,
         "type": "choropleth",
         "z": [
          1
         ]
        },
        {
         "colorscale": [
          [
           0,
           "#00cc96"
          ],
          [
           1,
           "#00cc96"
          ]
         ],
         "geo": "geo",
         "hovertemplate": "Deaths=547<br>Abbreviation=%{location}<extra></extra>",
         "locationmode": "USA-states",
         "locations": [
          "VA"
         ],
         "name": "547",
         "showlegend": true,
         "showscale": false,
         "type": "choropleth",
         "z": [
          1
         ]
        },
        {
         "colorscale": [
          [
           0,
           "#ab63fa"
          ],
          [
           1,
           "#ab63fa"
          ]
         ],
         "geo": "geo",
         "hovertemplate": "Deaths=651<br>Abbreviation=%{location}<extra></extra>",
         "locationmode": "USA-states",
         "locations": [
          "VA"
         ],
         "name": "651",
         "showlegend": true,
         "showscale": false,
         "type": "choropleth",
         "z": [
          1
         ]
        },
        {
         "colorscale": [
          [
           0,
           "#FFA15A"
          ],
          [
           1,
           "#FFA15A"
          ]
         ],
         "geo": "geo",
         "hovertemplate": "Deaths=775<br>Abbreviation=%{location}<extra></extra>",
         "locationmode": "USA-states",
         "locations": [
          "VA"
         ],
         "name": "775",
         "showlegend": true,
         "showscale": false,
         "type": "choropleth",
         "z": [
          1
         ]
        },
        {
         "colorscale": [
          [
           0,
           "#19d3f3"
          ],
          [
           1,
           "#19d3f3"
          ]
         ],
         "geo": "geo",
         "hovertemplate": "Deaths=372<br>Abbreviation=%{location}<extra></extra>",
         "locationmode": "USA-states",
         "locations": [
          "WA"
         ],
         "name": "372",
         "showlegend": true,
         "showscale": false,
         "type": "choropleth",
         "z": [
          1
         ]
        },
        {
         "colorscale": [
          [
           0,
           "#FF6692"
          ],
          [
           1,
           "#FF6692"
          ]
         ],
         "geo": "geo",
         "hovertemplate": "Deaths=332<br>Abbreviation=%{location}<extra></extra>",
         "locationmode": "USA-states",
         "locations": [
          "WA"
         ],
         "name": "332",
         "showlegend": true,
         "showscale": false,
         "type": "choropleth",
         "z": [
          1
         ]
        },
        {
         "colorscale": [
          [
           0,
           "#B6E880"
          ],
          [
           1,
           "#B6E880"
          ]
         ],
         "geo": "geo",
         "hovertemplate": "Deaths=474<br>Abbreviation=%{location}<extra></extra>",
         "locationmode": "USA-states",
         "locations": [
          "WA"
         ],
         "name": "474",
         "showlegend": true,
         "showscale": false,
         "type": "choropleth",
         "z": [
          1
         ]
        },
        {
         "colorscale": [
          [
           0,
           "#FF97FF"
          ],
          [
           1,
           "#FF97FF"
          ]
         ],
         "geo": "geo",
         "hovertemplate": "Deaths=606<br>Abbreviation=%{location}<extra></extra>",
         "locationmode": "USA-states",
         "locations": [
          "WA"
         ],
         "name": "606",
         "showlegend": true,
         "showscale": false,
         "type": "choropleth",
         "z": [
          1
         ]
        },
        {
         "colorscale": [
          [
           0,
           "#FECB52"
          ],
          [
           1,
           "#FECB52"
          ]
         ],
         "geo": "geo",
         "hovertemplate": "Deaths=737<br>Abbreviation=%{location}<extra></extra>",
         "locationmode": "USA-states",
         "locations": [
          "WA"
         ],
         "name": "737",
         "showlegend": true,
         "showscale": false,
         "type": "choropleth",
         "z": [
          1
         ]
        },
        {
         "colorscale": [
          [
           0,
           "#636efa"
          ],
          [
           1,
           "#636efa"
          ]
         ],
         "geo": "geo",
         "hovertemplate": "Deaths=648<br>Abbreviation=%{location}<extra></extra>",
         "locationmode": "USA-states",
         "locations": [
          "WA"
         ],
         "name": "648",
         "showlegend": true,
         "showscale": false,
         "type": "choropleth",
         "z": [
          1
         ]
        },
        {
         "colorscale": [
          [
           0,
           "#EF553B"
          ],
          [
           1,
           "#EF553B"
          ]
         ],
         "geo": "geo",
         "hovertemplate": "Deaths=717<br>Abbreviation=%{location}<extra></extra>",
         "locationmode": "USA-states",
         "locations": [
          "WA"
         ],
         "name": "717",
         "showlegend": true,
         "showscale": false,
         "type": "choropleth",
         "z": [
          1
         ]
        },
        {
         "colorscale": [
          [
           0,
           "#00cc96"
          ],
          [
           1,
           "#00cc96"
          ]
         ],
         "geo": "geo",
         "hovertemplate": "Deaths=692<br>Abbreviation=%{location}<extra></extra>",
         "locationmode": "USA-states",
         "locations": [
          "WA"
         ],
         "name": "692",
         "showlegend": true,
         "showscale": false,
         "type": "choropleth",
         "z": [
          1
         ]
        },
        {
         "colorscale": [
          [
           0,
           "#ab63fa"
          ],
          [
           1,
           "#ab63fa"
          ]
         ],
         "geo": "geo",
         "hovertemplate": "Deaths=273<br>Abbreviation=%{location}<extra></extra>",
         "locationmode": "USA-states",
         "locations": [
          "WV"
         ],
         "name": "273",
         "showlegend": true,
         "showscale": false,
         "type": "choropleth",
         "z": [
          1
         ]
        },
        {
         "colorscale": [
          [
           0,
           "#FFA15A"
          ],
          [
           1,
           "#FFA15A"
          ]
         ],
         "geo": "geo",
         "hovertemplate": "Deaths=299<br>Abbreviation=%{location}<extra></extra>",
         "locationmode": "USA-states",
         "locations": [
          "WV"
         ],
         "name": "299",
         "showlegend": true,
         "showscale": false,
         "type": "choropleth",
         "z": [
          1
         ]
        },
        {
         "colorscale": [
          [
           0,
           "#19d3f3"
          ],
          [
           1,
           "#19d3f3"
          ]
         ],
         "geo": "geo",
         "hovertemplate": "Deaths=193<br>Abbreviation=%{location}<extra></extra>",
         "locationmode": "USA-states",
         "locations": [
          "WV"
         ],
         "name": "193",
         "showlegend": true,
         "showscale": false,
         "type": "choropleth",
         "z": [
          1
         ]
        },
        {
         "colorscale": [
          [
           0,
           "#FF6692"
          ],
          [
           1,
           "#FF6692"
          ]
         ],
         "geo": "geo",
         "hovertemplate": "Deaths=495<br>Abbreviation=%{location}<extra></extra>",
         "locationmode": "USA-states",
         "locations": [
          "WV"
         ],
         "name": "495",
         "showlegend": true,
         "showscale": false,
         "type": "choropleth",
         "z": [
          1
         ]
        },
        {
         "colorscale": [
          [
           0,
           "#B6E880"
          ],
          [
           1,
           "#B6E880"
          ]
         ],
         "geo": "geo",
         "hovertemplate": "Deaths=513<br>Abbreviation=%{location}<extra></extra>",
         "locationmode": "USA-states",
         "locations": [
          "WV"
         ],
         "name": "513",
         "showlegend": true,
         "showscale": false,
         "type": "choropleth",
         "z": [
          1
         ]
        },
        {
         "colorscale": [
          [
           0,
           "#FF97FF"
          ],
          [
           1,
           "#FF97FF"
          ]
         ],
         "geo": "geo",
         "hovertemplate": "Deaths=518<br>Abbreviation=%{location}<extra></extra>",
         "locationmode": "USA-states",
         "locations": [
          "WV"
         ],
         "name": "518",
         "showlegend": true,
         "showscale": false,
         "type": "choropleth",
         "z": [
          1
         ]
        },
        {
         "colorscale": [
          [
           0,
           "#FECB52"
          ],
          [
           1,
           "#FECB52"
          ]
         ],
         "geo": "geo",
         "hovertemplate": "Deaths=585<br>Abbreviation=%{location}<extra></extra>",
         "locationmode": "USA-states",
         "locations": [
          "WV"
         ],
         "name": "585",
         "showlegend": true,
         "showscale": false,
         "type": "choropleth",
         "z": [
          1
         ]
        },
        {
         "colorscale": [
          [
           0,
           "#636efa"
          ],
          [
           1,
           "#636efa"
          ]
         ],
         "geo": "geo",
         "hovertemplate": "Deaths=226<br>Abbreviation=%{location}<extra></extra>",
         "locationmode": "USA-states",
         "locations": [
          "WI"
         ],
         "name": "226",
         "showlegend": true,
         "showscale": false,
         "type": "choropleth",
         "z": [
          1
         ]
        },
        {
         "colorscale": [
          [
           0,
           "#EF553B"
          ],
          [
           1,
           "#EF553B"
          ]
         ],
         "geo": "geo",
         "hovertemplate": "Deaths=281<br>Abbreviation=%{location}<extra></extra>",
         "locationmode": "USA-states",
         "locations": [
          "WI"
         ],
         "name": "281",
         "showlegend": true,
         "showscale": false,
         "type": "choropleth",
         "z": [
          1
         ]
        },
        {
         "colorscale": [
          [
           0,
           "#00cc96"
          ],
          [
           1,
           "#00cc96"
          ]
         ],
         "geo": "geo",
         "hovertemplate": "Deaths=352<br>Abbreviation=%{location}<extra></extra>",
         "locationmode": "USA-states",
         "locations": [
          "WI"
         ],
         "name": "352",
         "showlegend": true,
         "showscale": false,
         "type": "choropleth",
         "z": [
          1
         ]
        },
        {
         "colorscale": [
          [
           0,
           "#ab63fa"
          ],
          [
           1,
           "#ab63fa"
          ]
         ],
         "geo": "geo",
         "hovertemplate": "Deaths=380<br>Abbreviation=%{location}<extra></extra>",
         "locationmode": "USA-states",
         "locations": [
          "WI"
         ],
         "name": "380",
         "showlegend": true,
         "showscale": false,
         "type": "choropleth",
         "z": [
          1
         ]
        },
        {
         "colorscale": [
          [
           0,
           "#FFA15A"
          ],
          [
           1,
           "#FFA15A"
          ]
         ],
         "geo": "geo",
         "hovertemplate": "Deaths=420<br>Abbreviation=%{location}<extra></extra>",
         "locationmode": "USA-states",
         "locations": [
          "WI"
         ],
         "name": "420",
         "showlegend": true,
         "showscale": false,
         "type": "choropleth",
         "z": [
          1
         ]
        },
        {
         "colorscale": [
          [
           0,
           "#19d3f3"
          ],
          [
           1,
           "#19d3f3"
          ]
         ],
         "geo": "geo",
         "hovertemplate": "Deaths=496<br>Abbreviation=%{location}<extra></extra>",
         "locationmode": "USA-states",
         "locations": [
          "WI"
         ],
         "name": "496",
         "showlegend": true,
         "showscale": false,
         "type": "choropleth",
         "z": [
          1
         ]
        },
        {
         "colorscale": [
          [
           0,
           "#FF6692"
          ],
          [
           1,
           "#FF6692"
          ]
         ],
         "geo": "geo",
         "hovertemplate": "Deaths=604<br>Abbreviation=%{location}<extra></extra>",
         "locationmode": "USA-states",
         "locations": [
          "WI"
         ],
         "name": "604",
         "showlegend": true,
         "showscale": false,
         "type": "choropleth",
         "z": [
          1
         ]
        }
       ],
       "layout": {
        "autosize": true,
        "geo": {
         "center": {},
         "domain": {
          "x": [
           0,
           1
          ],
          "y": [
           0,
           1
          ]
         },
         "scope": "usa"
        },
        "legend": {
         "title": {
          "text": "Deaths"
         },
         "tracegroupgap": 0
        },
        "template": {
         "data": {
          "bar": [
           {
            "error_x": {
             "color": "#2a3f5f"
            },
            "error_y": {
             "color": "#2a3f5f"
            },
            "marker": {
             "line": {
              "color": "#E5ECF6",
              "width": 0.5
             },
             "pattern": {
              "fillmode": "overlay",
              "size": 10,
              "solidity": 0.2
             }
            },
            "type": "bar"
           }
          ],
          "barpolar": [
           {
            "marker": {
             "line": {
              "color": "#E5ECF6",
              "width": 0.5
             },
             "pattern": {
              "fillmode": "overlay",
              "size": 10,
              "solidity": 0.2
             }
            },
            "type": "barpolar"
           }
          ],
          "carpet": [
           {
            "aaxis": {
             "endlinecolor": "#2a3f5f",
             "gridcolor": "white",
             "linecolor": "white",
             "minorgridcolor": "white",
             "startlinecolor": "#2a3f5f"
            },
            "baxis": {
             "endlinecolor": "#2a3f5f",
             "gridcolor": "white",
             "linecolor": "white",
             "minorgridcolor": "white",
             "startlinecolor": "#2a3f5f"
            },
            "type": "carpet"
           }
          ],
          "choropleth": [
           {
            "colorbar": {
             "outlinewidth": 0,
             "ticks": ""
            },
            "type": "choropleth"
           }
          ],
          "contour": [
           {
            "colorbar": {
             "outlinewidth": 0,
             "ticks": ""
            },
            "colorscale": [
             [
              0,
              "#0d0887"
             ],
             [
              0.1111111111111111,
              "#46039f"
             ],
             [
              0.2222222222222222,
              "#7201a8"
             ],
             [
              0.3333333333333333,
              "#9c179e"
             ],
             [
              0.4444444444444444,
              "#bd3786"
             ],
             [
              0.5555555555555556,
              "#d8576b"
             ],
             [
              0.6666666666666666,
              "#ed7953"
             ],
             [
              0.7777777777777778,
              "#fb9f3a"
             ],
             [
              0.8888888888888888,
              "#fdca26"
             ],
             [
              1,
              "#f0f921"
             ]
            ],
            "type": "contour"
           }
          ],
          "contourcarpet": [
           {
            "colorbar": {
             "outlinewidth": 0,
             "ticks": ""
            },
            "type": "contourcarpet"
           }
          ],
          "heatmap": [
           {
            "colorbar": {
             "outlinewidth": 0,
             "ticks": ""
            },
            "colorscale": [
             [
              0,
              "#0d0887"
             ],
             [
              0.1111111111111111,
              "#46039f"
             ],
             [
              0.2222222222222222,
              "#7201a8"
             ],
             [
              0.3333333333333333,
              "#9c179e"
             ],
             [
              0.4444444444444444,
              "#bd3786"
             ],
             [
              0.5555555555555556,
              "#d8576b"
             ],
             [
              0.6666666666666666,
              "#ed7953"
             ],
             [
              0.7777777777777778,
              "#fb9f3a"
             ],
             [
              0.8888888888888888,
              "#fdca26"
             ],
             [
              1,
              "#f0f921"
             ]
            ],
            "type": "heatmap"
           }
          ],
          "heatmapgl": [
           {
            "colorbar": {
             "outlinewidth": 0,
             "ticks": ""
            },
            "colorscale": [
             [
              0,
              "#0d0887"
             ],
             [
              0.1111111111111111,
              "#46039f"
             ],
             [
              0.2222222222222222,
              "#7201a8"
             ],
             [
              0.3333333333333333,
              "#9c179e"
             ],
             [
              0.4444444444444444,
              "#bd3786"
             ],
             [
              0.5555555555555556,
              "#d8576b"
             ],
             [
              0.6666666666666666,
              "#ed7953"
             ],
             [
              0.7777777777777778,
              "#fb9f3a"
             ],
             [
              0.8888888888888888,
              "#fdca26"
             ],
             [
              1,
              "#f0f921"
             ]
            ],
            "type": "heatmapgl"
           }
          ],
          "histogram": [
           {
            "marker": {
             "pattern": {
              "fillmode": "overlay",
              "size": 10,
              "solidity": 0.2
             }
            },
            "type": "histogram"
           }
          ],
          "histogram2d": [
           {
            "colorbar": {
             "outlinewidth": 0,
             "ticks": ""
            },
            "colorscale": [
             [
              0,
              "#0d0887"
             ],
             [
              0.1111111111111111,
              "#46039f"
             ],
             [
              0.2222222222222222,
              "#7201a8"
             ],
             [
              0.3333333333333333,
              "#9c179e"
             ],
             [
              0.4444444444444444,
              "#bd3786"
             ],
             [
              0.5555555555555556,
              "#d8576b"
             ],
             [
              0.6666666666666666,
              "#ed7953"
             ],
             [
              0.7777777777777778,
              "#fb9f3a"
             ],
             [
              0.8888888888888888,
              "#fdca26"
             ],
             [
              1,
              "#f0f921"
             ]
            ],
            "type": "histogram2d"
           }
          ],
          "histogram2dcontour": [
           {
            "colorbar": {
             "outlinewidth": 0,
             "ticks": ""
            },
            "colorscale": [
             [
              0,
              "#0d0887"
             ],
             [
              0.1111111111111111,
              "#46039f"
             ],
             [
              0.2222222222222222,
              "#7201a8"
             ],
             [
              0.3333333333333333,
              "#9c179e"
             ],
             [
              0.4444444444444444,
              "#bd3786"
             ],
             [
              0.5555555555555556,
              "#d8576b"
             ],
             [
              0.6666666666666666,
              "#ed7953"
             ],
             [
              0.7777777777777778,
              "#fb9f3a"
             ],
             [
              0.8888888888888888,
              "#fdca26"
             ],
             [
              1,
              "#f0f921"
             ]
            ],
            "type": "histogram2dcontour"
           }
          ],
          "mesh3d": [
           {
            "colorbar": {
             "outlinewidth": 0,
             "ticks": ""
            },
            "type": "mesh3d"
           }
          ],
          "parcoords": [
           {
            "line": {
             "colorbar": {
              "outlinewidth": 0,
              "ticks": ""
             }
            },
            "type": "parcoords"
           }
          ],
          "pie": [
           {
            "automargin": true,
            "type": "pie"
           }
          ],
          "scatter": [
           {
            "fillpattern": {
             "fillmode": "overlay",
             "size": 10,
             "solidity": 0.2
            },
            "type": "scatter"
           }
          ],
          "scatter3d": [
           {
            "line": {
             "colorbar": {
              "outlinewidth": 0,
              "ticks": ""
             }
            },
            "marker": {
             "colorbar": {
              "outlinewidth": 0,
              "ticks": ""
             }
            },
            "type": "scatter3d"
           }
          ],
          "scattercarpet": [
           {
            "marker": {
             "colorbar": {
              "outlinewidth": 0,
              "ticks": ""
             }
            },
            "type": "scattercarpet"
           }
          ],
          "scattergeo": [
           {
            "marker": {
             "colorbar": {
              "outlinewidth": 0,
              "ticks": ""
             }
            },
            "type": "scattergeo"
           }
          ],
          "scattergl": [
           {
            "marker": {
             "colorbar": {
              "outlinewidth": 0,
              "ticks": ""
             }
            },
            "type": "scattergl"
           }
          ],
          "scattermapbox": [
           {
            "marker": {
             "colorbar": {
              "outlinewidth": 0,
              "ticks": ""
             }
            },
            "type": "scattermapbox"
           }
          ],
          "scatterpolar": [
           {
            "marker": {
             "colorbar": {
              "outlinewidth": 0,
              "ticks": ""
             }
            },
            "type": "scatterpolar"
           }
          ],
          "scatterpolargl": [
           {
            "marker": {
             "colorbar": {
              "outlinewidth": 0,
              "ticks": ""
             }
            },
            "type": "scatterpolargl"
           }
          ],
          "scatterternary": [
           {
            "marker": {
             "colorbar": {
              "outlinewidth": 0,
              "ticks": ""
             }
            },
            "type": "scatterternary"
           }
          ],
          "surface": [
           {
            "colorbar": {
             "outlinewidth": 0,
             "ticks": ""
            },
            "colorscale": [
             [
              0,
              "#0d0887"
             ],
             [
              0.1111111111111111,
              "#46039f"
             ],
             [
              0.2222222222222222,
              "#7201a8"
             ],
             [
              0.3333333333333333,
              "#9c179e"
             ],
             [
              0.4444444444444444,
              "#bd3786"
             ],
             [
              0.5555555555555556,
              "#d8576b"
             ],
             [
              0.6666666666666666,
              "#ed7953"
             ],
             [
              0.7777777777777778,
              "#fb9f3a"
             ],
             [
              0.8888888888888888,
              "#fdca26"
             ],
             [
              1,
              "#f0f921"
             ]
            ],
            "type": "surface"
           }
          ],
          "table": [
           {
            "cells": {
             "fill": {
              "color": "#EBF0F8"
             },
             "line": {
              "color": "white"
             }
            },
            "header": {
             "fill": {
              "color": "#C8D4E3"
             },
             "line": {
              "color": "white"
             }
            },
            "type": "table"
           }
          ]
         },
         "layout": {
          "annotationdefaults": {
           "arrowcolor": "#2a3f5f",
           "arrowhead": 0,
           "arrowwidth": 1
          },
          "autotypenumbers": "strict",
          "coloraxis": {
           "colorbar": {
            "outlinewidth": 0,
            "ticks": ""
           }
          },
          "colorscale": {
           "diverging": [
            [
             0,
             "#8e0152"
            ],
            [
             0.1,
             "#c51b7d"
            ],
            [
             0.2,
             "#de77ae"
            ],
            [
             0.3,
             "#f1b6da"
            ],
            [
             0.4,
             "#fde0ef"
            ],
            [
             0.5,
             "#f7f7f7"
            ],
            [
             0.6,
             "#e6f5d0"
            ],
            [
             0.7,
             "#b8e186"
            ],
            [
             0.8,
             "#7fbc41"
            ],
            [
             0.9,
             "#4d9221"
            ],
            [
             1,
             "#276419"
            ]
           ],
           "sequential": [
            [
             0,
             "#0d0887"
            ],
            [
             0.1111111111111111,
             "#46039f"
            ],
            [
             0.2222222222222222,
             "#7201a8"
            ],
            [
             0.3333333333333333,
             "#9c179e"
            ],
            [
             0.4444444444444444,
             "#bd3786"
            ],
            [
             0.5555555555555556,
             "#d8576b"
            ],
            [
             0.6666666666666666,
             "#ed7953"
            ],
            [
             0.7777777777777778,
             "#fb9f3a"
            ],
            [
             0.8888888888888888,
             "#fdca26"
            ],
            [
             1,
             "#f0f921"
            ]
           ],
           "sequentialminus": [
            [
             0,
             "#0d0887"
            ],
            [
             0.1111111111111111,
             "#46039f"
            ],
            [
             0.2222222222222222,
             "#7201a8"
            ],
            [
             0.3333333333333333,
             "#9c179e"
            ],
            [
             0.4444444444444444,
             "#bd3786"
            ],
            [
             0.5555555555555556,
             "#d8576b"
            ],
            [
             0.6666666666666666,
             "#ed7953"
            ],
            [
             0.7777777777777778,
             "#fb9f3a"
            ],
            [
             0.8888888888888888,
             "#fdca26"
            ],
            [
             1,
             "#f0f921"
            ]
           ]
          },
          "colorway": [
           "#636efa",
           "#EF553B",
           "#00cc96",
           "#ab63fa",
           "#FFA15A",
           "#19d3f3",
           "#FF6692",
           "#B6E880",
           "#FF97FF",
           "#FECB52"
          ],
          "font": {
           "color": "#2a3f5f"
          },
          "geo": {
           "bgcolor": "white",
           "lakecolor": "white",
           "landcolor": "#E5ECF6",
           "showlakes": true,
           "showland": true,
           "subunitcolor": "white"
          },
          "hoverlabel": {
           "align": "left"
          },
          "hovermode": "closest",
          "mapbox": {
           "style": "light"
          },
          "paper_bgcolor": "white",
          "plot_bgcolor": "#E5ECF6",
          "polar": {
           "angularaxis": {
            "gridcolor": "white",
            "linecolor": "white",
            "ticks": ""
           },
           "bgcolor": "#E5ECF6",
           "radialaxis": {
            "gridcolor": "white",
            "linecolor": "white",
            "ticks": ""
           }
          },
          "scene": {
           "xaxis": {
            "backgroundcolor": "#E5ECF6",
            "gridcolor": "white",
            "gridwidth": 2,
            "linecolor": "white",
            "showbackground": true,
            "ticks": "",
            "zerolinecolor": "white"
           },
           "yaxis": {
            "backgroundcolor": "#E5ECF6",
            "gridcolor": "white",
            "gridwidth": 2,
            "linecolor": "white",
            "showbackground": true,
            "ticks": "",
            "zerolinecolor": "white"
           },
           "zaxis": {
            "backgroundcolor": "#E5ECF6",
            "gridcolor": "white",
            "gridwidth": 2,
            "linecolor": "white",
            "showbackground": true,
            "ticks": "",
            "zerolinecolor": "white"
           }
          },
          "shapedefaults": {
           "line": {
            "color": "#2a3f5f"
           }
          },
          "ternary": {
           "aaxis": {
            "gridcolor": "white",
            "linecolor": "white",
            "ticks": ""
           },
           "baxis": {
            "gridcolor": "white",
            "linecolor": "white",
            "ticks": ""
           },
           "bgcolor": "#E5ECF6",
           "caxis": {
            "gridcolor": "white",
            "linecolor": "white",
            "ticks": ""
           }
          },
          "title": {
           "x": 0.05
          },
          "xaxis": {
           "automargin": true,
           "gridcolor": "white",
           "linecolor": "white",
           "ticks": "",
           "title": {
            "standoff": 15
           },
           "zerolinecolor": "white",
           "zerolinewidth": 2
          },
          "yaxis": {
           "automargin": true,
           "gridcolor": "white",
           "linecolor": "white",
           "ticks": "",
           "title": {
            "standoff": 15
           },
           "zerolinecolor": "white",
           "zerolinewidth": 2
          }
         }
        },
        "title": {
         "text": "# of opioid related deaths by state"
        }
       }
      },
      "image/png": "[encoded data removed]",
      "text/html": [
       "<div>                            <div id=\"ac0c178c-454c-404e-9b35-f39dd8f5a4d2\" class=\"plotly-graph-div\" style=\"height:525px; width:100%;\"></div>            <script type=\"text/javascript\">                require([\"plotly\"], function(Plotly) {                    window.PLOTLYENV=window.PLOTLYENV || {};                                    if (document.getElementById(\"ac0c178c-454c-404e-9b35-f39dd8f5a4d2\")) {                    Plotly.newPlot(                        \"ac0c178c-454c-404e-9b35-f39dd8f5a4d2\",                        [{\"colorscale\":[[0.0,\"#636efa\"],[1.0,\"#636efa\"]],\"geo\":\"geo\",\"hovertemplate\":\"Deaths=39<br>Abbreviation=%{location}<extra></extra>\",\"locationmode\":\"USA-states\",\"locations\":[\"AL\",\"HI\",\"VT\"],\"name\":\"39\",\"showlegend\":true,\"showscale\":false,\"z\":[1,1,1],\"type\":\"choropleth\"},{\"colorscale\":[[0.0,\"#EF553B\"],[1.0,\"#EF553B\"]],\"geo\":\"geo\",\"hovertemplate\":\"Deaths=46<br>Abbreviation=%{location}<extra></extra>\",\"locationmode\":\"USA-states\",\"locations\":[\"AL\",\"DE\",\"MT\",\"MT\",\"VT\",\"VT\"],\"name\":\"46\",\"showlegend\":true,\"showscale\":false,\"z\":[1,1,1,1,1,1],\"type\":\"choropleth\"},{\"colorscale\":[[0.0,\"#00cc96\"],[1.0,\"#00cc96\"]],\"geo\":\"geo\",\"hovertemplate\":\"Deaths=67<br>Abbreviation=%{location}<extra></extra>\",\"locationmode\":\"USA-states\",\"locations\":[\"AL\",\"HI\",\"MN\"],\"name\":\"67\",\"showlegend\":true,\"showscale\":false,\"z\":[1,1,1],\"type\":\"choropleth\"},{\"colorscale\":[[0.0,\"#ab63fa\"],[1.0,\"#ab63fa\"]],\"geo\":\"geo\",\"hovertemplate\":\"Deaths=75<br>Abbreviation=%{location}<extra></extra>\",\"locationmode\":\"USA-states\",\"locations\":[\"AL\",\"HI\",\"ID\",\"VT\"],\"name\":\"75\",\"showlegend\":true,\"showscale\":false,\"z\":[1,1,1,1],\"type\":\"choropleth\"},{\"colorscale\":[[0.0,\"#FFA15A\"],[1.0,\"#FFA15A\"]],\"geo\":\"geo\",\"hovertemplate\":\"Deaths=54<br>Abbreviation=%{location}<extra></extra>\",\"locationmode\":\"USA-states\",\"locations\":[\"AL\",\"DE\",\"MT\",\"NE\",\"VT\"],\"name\":\"54\",\"showlegend\":true,\"showscale\":false,\"z\":[1,1,1,1,1],\"type\":\"choropleth\"},{\"colorscale\":[[0.0,\"#19d3f3\"],[1.0,\"#19d3f3\"]],\"geo\":\"geo\",\"hovertemplate\":\"Deaths=92<br>Abbreviation=%{location}<extra></extra>\",\"locationmode\":\"USA-states\",\"locations\":[\"AL\",\"ME\",\"NH\"],\"name\":\"92\",\"showlegend\":true,\"showscale\":false,\"z\":[1,1,1],\"type\":\"choropleth\"},{\"colorscale\":[[0.0,\"#FF6692\"],[1.0,\"#FF6692\"]],\"geo\":\"geo\",\"hovertemplate\":\"Deaths=83<br>Abbreviation=%{location}<extra></extra>\",\"locationmode\":\"USA-states\",\"locations\":[\"AL\",\"NH\"],\"name\":\"83\",\"showlegend\":true,\"showscale\":false,\"z\":[1,1],\"type\":\"choropleth\"},{\"colorscale\":[[0.0,\"#B6E880\"],[1.0,\"#B6E880\"]],\"geo\":\"geo\",\"hovertemplate\":\"Deaths=134<br>Abbreviation=%{location}<extra></extra>\",\"locationmode\":\"USA-states\",\"locations\":[\"AL\",\"GA\",\"ME\",\"NH\",\"SC\"],\"name\":\"134\",\"showlegend\":true,\"showscale\":false,\"z\":[1,1,1,1,1],\"type\":\"choropleth\"},{\"colorscale\":[[0.0,\"#FF97FF\"],[1.0,\"#FF97FF\"]],\"geo\":\"geo\",\"hovertemplate\":\"Deaths=172<br>Abbreviation=%{location}<extra></extra>\",\"locationmode\":\"USA-states\",\"locations\":[\"AL\"],\"name\":\"172\",\"showlegend\":true,\"showscale\":false,\"z\":[1],\"type\":\"choropleth\"},{\"colorscale\":[[0.0,\"#FECB52\"],[1.0,\"#FECB52\"]],\"geo\":\"geo\",\"hovertemplate\":\"Deaths=195<br>Abbreviation=%{location}<extra></extra>\",\"locationmode\":\"USA-states\",\"locations\":[\"AL\",\"RI\"],\"name\":\"195\",\"showlegend\":true,\"showscale\":false,\"z\":[1,1],\"type\":\"choropleth\"},{\"colorscale\":[[0.0,\"#636efa\"],[1.0,\"#636efa\"]],\"geo\":\"geo\",\"hovertemplate\":\"Deaths=210<br>Abbreviation=%{location}<extra></extra>\",\"locationmode\":\"USA-states\",\"locations\":[\"AL\",\"AR\",\"VA\"],\"name\":\"210\",\"showlegend\":true,\"showscale\":false,\"z\":[1,1,1],\"type\":\"choropleth\"},{\"colorscale\":[[0.0,\"#EF553B\"],[1.0,\"#EF553B\"]],\"geo\":\"geo\",\"hovertemplate\":\"Deaths=194<br>Abbreviation=%{location}<extra></extra>\",\"locationmode\":\"USA-states\",\"locations\":[\"AL\"],\"name\":\"194\",\"showlegend\":true,\"showscale\":false,\"z\":[1],\"type\":\"choropleth\"},{\"colorscale\":[[0.0,\"#00cc96\"],[1.0,\"#00cc96\"]],\"geo\":\"geo\",\"hovertemplate\":\"Deaths=180<br>Abbreviation=%{location}<extra></extra>\",\"locationmode\":\"USA-states\",\"locations\":[\"AL\",\"LA\",\"OH\"],\"name\":\"180\",\"showlegend\":true,\"showscale\":false,\"z\":[1,1,1],\"type\":\"choropleth\"},{\"colorscale\":[[0.0,\"#ab63fa\"],[1.0,\"#ab63fa\"]],\"geo\":\"geo\",\"hovertemplate\":\"Deaths=175<br>Abbreviation=%{location}<extra></extra>\",\"locationmode\":\"USA-states\",\"locations\":[\"AL\",\"AL\",\"AR\",\"CT\"],\"name\":\"175\",\"showlegend\":true,\"showscale\":false,\"z\":[1,1,1,1],\"type\":\"choropleth\"},{\"colorscale\":[[0.0,\"#FFA15A\"],[1.0,\"#FFA15A\"]],\"geo\":\"geo\",\"hovertemplate\":\"Deaths=282<br>Abbreviation=%{location}<extra></extra>\",\"locationmode\":\"USA-states\",\"locations\":[\"AL\"],\"name\":\"282\",\"showlegend\":true,\"showscale\":false,\"z\":[1],\"type\":\"choropleth\"},{\"colorscale\":[[0.0,\"#19d3f3\"],[1.0,\"#19d3f3\"]],\"geo\":\"geo\",\"hovertemplate\":\"Deaths=28<br>Abbreviation=%{location}<extra></extra>\",\"locationmode\":\"USA-states\",\"locations\":[\"AK\",null,\"MS\"],\"name\":\"28\",\"showlegend\":true,\"showscale\":false,\"z\":[1,1,1],\"type\":\"choropleth\"},{\"colorscale\":[[0.0,\"#FF6692\"],[1.0,\"#FF6692\"]],\"geo\":\"geo\",\"hovertemplate\":\"Deaths=27<br>Abbreviation=%{location}<extra></extra>\",\"locationmode\":\"USA-states\",\"locations\":[\"AK\",\"MS\"],\"name\":\"27\",\"showlegend\":true,\"showscale\":false,\"z\":[1,1],\"type\":\"choropleth\"},{\"colorscale\":[[0.0,\"#B6E880\"],[1.0,\"#B6E880\"]],\"geo\":\"geo\",\"hovertemplate\":\"Deaths=17<br>Abbreviation=%{location}<extra></extra>\",\"locationmode\":\"USA-states\",\"locations\":[\"AK\",\"ND\",\"VT\",\"WY\"],\"name\":\"17\",\"showlegend\":true,\"showscale\":false,\"z\":[1,1,1,1],\"type\":\"choropleth\"},{\"colorscale\":[[0.0,\"#FF97FF\"],[1.0,\"#FF97FF\"]],\"geo\":\"geo\",\"hovertemplate\":\"Deaths=Suppressed<br>Abbreviation=%{location}<extra></extra>\",\"locationmode\":\"USA-states\",\"locations\":[\"AK\",\"NE\",\"ND\",\"ND\",\"ND\",\"ND\",\"ND\",\"ND\",\"SD\",\"SD\",\"WY\",\"WY\",\"WY\"],\"name\":\"Suppressed\",\"showlegend\":true,\"showscale\":false,\"z\":[1,1,1,1,1,1,1,1,1,1,1,1,1],\"type\":\"choropleth\"},{\"colorscale\":[[0.0,\"#FECB52\"],[1.0,\"#FECB52\"]],\"geo\":\"geo\",\"hovertemplate\":\"Deaths=14<br>Abbreviation=%{location}<extra></extra>\",\"locationmode\":\"USA-states\",\"locations\":[\"AK\",\"MS\",\"NE\",\"ND\",\"ND\",\"WY\",\"WY\"],\"name\":\"14\",\"showlegend\":true,\"showscale\":false,\"z\":[1,1,1,1,1,1,1],\"type\":\"choropleth\"},{\"colorscale\":[[0.0,\"#636efa\"],[1.0,\"#636efa\"]],\"geo\":\"geo\",\"hovertemplate\":\"Deaths=11<br>Abbreviation=%{location}<extra></extra>\",\"locationmode\":\"USA-states\",\"locations\":[\"AK\"],\"name\":\"11\",\"showlegend\":true,\"showscale\":false,\"z\":[1],\"type\":\"choropleth\"},{\"colorscale\":[[0.0,\"#EF553B\"],[1.0,\"#EF553B\"]],\"geo\":\"geo\",\"hovertemplate\":\"Deaths=19<br>Abbreviation=%{location}<extra></extra>\",\"locationmode\":\"USA-states\",\"locations\":[\"AK\",\"IA\"],\"name\":\"19\",\"showlegend\":true,\"showscale\":false,\"z\":[1,1],\"type\":\"choropleth\"},{\"colorscale\":[[0.0,\"#00cc96\"],[1.0,\"#00cc96\"]],\"geo\":\"geo\",\"hovertemplate\":\"Deaths=29<br>Abbreviation=%{location}<extra></extra>\",\"locationmode\":\"USA-states\",\"locations\":[\"AK\",\"AR\",null,null,\"ID\",\"IA\",\"NH\"],\"name\":\"29\",\"showlegend\":true,\"showscale\":false,\"z\":[1,1,1,1,1,1,1],\"type\":\"choropleth\"},{\"colorscale\":[[0.0,\"#ab63fa\"],[1.0,\"#ab63fa\"]],\"geo\":\"geo\",\"hovertemplate\":\"Deaths=16<br>Abbreviation=%{location}<extra></extra>\",\"locationmode\":\"USA-states\",\"locations\":[\"AK\",\"MS\",\"MT\",\"NE\"],\"name\":\"16\",\"showlegend\":true,\"showscale\":false,\"z\":[1,1,1,1],\"type\":\"choropleth\"},{\"colorscale\":[[0.0,\"#FFA15A\"],[1.0,\"#FFA15A\"]],\"geo\":\"geo\",\"hovertemplate\":\"Deaths=94<br>Abbreviation=%{location}<extra></extra>\",\"locationmode\":\"USA-states\",\"locations\":[\"AK\",\"AK\",\"KY\",\"MT\",\"NH\"],\"name\":\"94\",\"showlegend\":true,\"showscale\":false,\"z\":[1,1,1,1,1],\"type\":\"choropleth\"},{\"colorscale\":[[0.0,\"#19d3f3\"],[1.0,\"#19d3f3\"]],\"geo\":\"geo\",\"hovertemplate\":\"Deaths=71<br>Abbreviation=%{location}<extra></extra>\",\"locationmode\":\"USA-states\",\"locations\":[\"AK\",\"ID\"],\"name\":\"71\",\"showlegend\":true,\"showscale\":false,\"z\":[1,1],\"type\":\"choropleth\"},{\"colorscale\":[[0.0,\"#FF6692\"],[1.0,\"#FF6692\"]],\"geo\":\"geo\",\"hovertemplate\":\"Deaths=72<br>Abbreviation=%{location}<extra></extra>\",\"locationmode\":\"USA-states\",\"locations\":[\"AK\",\"VT\"],\"name\":\"72\",\"showlegend\":true,\"showscale\":false,\"z\":[1,1],\"type\":\"choropleth\"},{\"colorscale\":[[0.0,\"#B6E880\"],[1.0,\"#B6E880\"]],\"geo\":\"geo\",\"hovertemplate\":\"Deaths=81<br>Abbreviation=%{location}<extra></extra>\",\"locationmode\":\"USA-states\",\"locations\":[\"AK\",\"ID\",\"ID\"],\"name\":\"81\",\"showlegend\":true,\"showscale\":false,\"z\":[1,1,1],\"type\":\"choropleth\"},{\"colorscale\":[[0.0,\"#FF97FF\"],[1.0,\"#FF97FF\"]],\"geo\":\"geo\",\"hovertemplate\":\"Deaths=69<br>Abbreviation=%{location}<extra></extra>\",\"locationmode\":\"USA-states\",\"locations\":[\"AK\",\"MN\",\"MS\"],\"name\":\"69\",\"showlegend\":true,\"showscale\":false,\"z\":[1,1,1],\"type\":\"choropleth\"},{\"colorscale\":[[0.0,\"#FECB52\"],[1.0,\"#FECB52\"]],\"geo\":\"geo\",\"hovertemplate\":\"Deaths=79<br>Abbreviation=%{location}<extra></extra>\",\"locationmode\":\"USA-states\",\"locations\":[\"AK\",\"IN\"],\"name\":\"79\",\"showlegend\":true,\"showscale\":false,\"z\":[1,1],\"type\":\"choropleth\"},{\"colorscale\":[[0.0,\"#636efa\"],[1.0,\"#636efa\"]],\"geo\":\"geo\",\"hovertemplate\":\"Deaths=250<br>Abbreviation=%{location}<extra></extra>\",\"locationmode\":\"USA-states\",\"locations\":[\"AZ\",\"SC\"],\"name\":\"250\",\"showlegend\":true,\"showscale\":false,\"z\":[1,1],\"type\":\"choropleth\"},{\"colorscale\":[[0.0,\"#EF553B\"],[1.0,\"#EF553B\"]],\"geo\":\"geo\",\"hovertemplate\":\"Deaths=249<br>Abbreviation=%{location}<extra></extra>\",\"locationmode\":\"USA-states\",\"locations\":[\"AZ\",\"CT\",\"SC\"],\"name\":\"249\",\"showlegend\":true,\"showscale\":false,\"z\":[1,1,1],\"type\":\"choropleth\"},{\"colorscale\":[[0.0,\"#00cc96\"],[1.0,\"#00cc96\"]],\"geo\":\"geo\",\"hovertemplate\":\"Deaths=275<br>Abbreviation=%{location}<extra></extra>\",\"locationmode\":\"USA-states\",\"locations\":[\"AZ\",\"UT\"],\"name\":\"275\",\"showlegend\":true,\"showscale\":false,\"z\":[1,1],\"type\":\"choropleth\"},{\"colorscale\":[[0.0,\"#ab63fa\"],[1.0,\"#ab63fa\"]],\"geo\":\"geo\",\"hovertemplate\":\"Deaths=340<br>Abbreviation=%{location}<extra></extra>\",\"locationmode\":\"USA-states\",\"locations\":[\"AZ\"],\"name\":\"340\",\"showlegend\":true,\"showscale\":false,\"z\":[1],\"type\":\"choropleth\"},{\"colorscale\":[[0.0,\"#FFA15A\"],[1.0,\"#FFA15A\"]],\"geo\":\"geo\",\"hovertemplate\":\"Deaths=350<br>Abbreviation=%{location}<extra></extra>\",\"locationmode\":\"USA-states\",\"locations\":[\"AZ\",\"NM\"],\"name\":\"350\",\"showlegend\":true,\"showscale\":false,\"z\":[1,1],\"type\":\"choropleth\"},{\"colorscale\":[[0.0,\"#19d3f3\"],[1.0,\"#19d3f3\"]],\"geo\":\"geo\",\"hovertemplate\":\"Deaths=360<br>Abbreviation=%{location}<extra></extra>\",\"locationmode\":\"USA-states\",\"locations\":[\"AZ\"],\"name\":\"360\",\"showlegend\":true,\"showscale\":false,\"z\":[1],\"type\":\"choropleth\"},{\"colorscale\":[[0.0,\"#FF6692\"],[1.0,\"#FF6692\"]],\"geo\":\"geo\",\"hovertemplate\":\"Deaths=393<br>Abbreviation=%{location}<extra></extra>\",\"locationmode\":\"USA-states\",\"locations\":[\"AZ\",\"UT\"],\"name\":\"393\",\"showlegend\":true,\"showscale\":false,\"z\":[1,1],\"type\":\"choropleth\"},{\"colorscale\":[[0.0,\"#B6E880\"],[1.0,\"#B6E880\"]],\"geo\":\"geo\",\"hovertemplate\":\"Deaths=479<br>Abbreviation=%{location}<extra></extra>\",\"locationmode\":\"USA-states\",\"locations\":[\"AZ\"],\"name\":\"479\",\"showlegend\":true,\"showscale\":false,\"z\":[1],\"type\":\"choropleth\"},{\"colorscale\":[[0.0,\"#FF97FF\"],[1.0,\"#FF97FF\"]],\"geo\":\"geo\",\"hovertemplate\":\"Deaths=490<br>Abbreviation=%{location}<extra></extra>\",\"locationmode\":\"USA-states\",\"locations\":[\"AZ\",\"MO\"],\"name\":\"490\",\"showlegend\":true,\"showscale\":false,\"z\":[1,1],\"type\":\"choropleth\"},{\"colorscale\":[[0.0,\"#FECB52\"],[1.0,\"#FECB52\"]],\"geo\":\"geo\",\"hovertemplate\":\"Deaths=515<br>Abbreviation=%{location}<extra></extra>\",\"locationmode\":\"USA-states\",\"locations\":[\"AZ\"],\"name\":\"515\",\"showlegend\":true,\"showscale\":false,\"z\":[1],\"type\":\"choropleth\"},{\"colorscale\":[[0.0,\"#636efa\"],[1.0,\"#636efa\"]],\"geo\":\"geo\",\"hovertemplate\":\"Deaths=625<br>Abbreviation=%{location}<extra></extra>\",\"locationmode\":\"USA-states\",\"locations\":[\"AZ\",\"NJ\"],\"name\":\"625\",\"showlegend\":true,\"showscale\":false,\"z\":[1,1],\"type\":\"choropleth\"},{\"colorscale\":[[0.0,\"#EF553B\"],[1.0,\"#EF553B\"]],\"geo\":\"geo\",\"hovertemplate\":\"Deaths=650<br>Abbreviation=%{location}<extra></extra>\",\"locationmode\":\"USA-states\",\"locations\":[\"AZ\"],\"name\":\"650\",\"showlegend\":true,\"showscale\":false,\"z\":[1],\"type\":\"choropleth\"},{\"colorscale\":[[0.0,\"#00cc96\"],[1.0,\"#00cc96\"]],\"geo\":\"geo\",\"hovertemplate\":\"Deaths=596<br>Abbreviation=%{location}<extra></extra>\",\"locationmode\":\"USA-states\",\"locations\":[\"AZ\",\"WV\"],\"name\":\"596\",\"showlegend\":true,\"showscale\":false,\"z\":[1,1],\"type\":\"choropleth\"},{\"colorscale\":[[0.0,\"#ab63fa\"],[1.0,\"#ab63fa\"]],\"geo\":\"geo\",\"hovertemplate\":\"Deaths=565<br>Abbreviation=%{location}<extra></extra>\",\"locationmode\":\"USA-states\",\"locations\":[\"AZ\"],\"name\":\"565\",\"showlegend\":true,\"showscale\":false,\"z\":[1],\"type\":\"choropleth\"},{\"colorscale\":[[0.0,\"#FFA15A\"],[1.0,\"#FFA15A\"]],\"geo\":\"geo\",\"hovertemplate\":\"Deaths=545<br>Abbreviation=%{location}<extra></extra>\",\"locationmode\":\"USA-states\",\"locations\":[\"AZ\"],\"name\":\"545\",\"showlegend\":true,\"showscale\":false,\"z\":[1],\"type\":\"choropleth\"},{\"colorscale\":[[0.0,\"#19d3f3\"],[1.0,\"#19d3f3\"]],\"geo\":\"geo\",\"hovertemplate\":\"Deaths=616<br>Abbreviation=%{location}<extra></extra>\",\"locationmode\":\"USA-states\",\"locations\":[\"AZ\"],\"name\":\"616\",\"showlegend\":true,\"showscale\":false,\"z\":[1],\"type\":\"choropleth\"},{\"colorscale\":[[0.0,\"#FF6692\"],[1.0,\"#FF6692\"]],\"geo\":\"geo\",\"hovertemplate\":\"Deaths=20<br>Abbreviation=%{location}<extra></extra>\",\"locationmode\":\"USA-states\",\"locations\":[\"AR\"],\"name\":\"20\",\"showlegend\":true,\"showscale\":false,\"z\":[1],\"type\":\"choropleth\"},{\"colorscale\":[[0.0,\"#B6E880\"],[1.0,\"#B6E880\"]],\"geo\":\"geo\",\"hovertemplate\":\"Deaths=30<br>Abbreviation=%{location}<extra></extra>\",\"locationmode\":\"USA-states\",\"locations\":[\"AR\",\"LA\",\"NE\"],\"name\":\"30\",\"showlegend\":true,\"showscale\":false,\"z\":[1,1,1],\"type\":\"choropleth\"},{\"colorscale\":[[0.0,\"#FF97FF\"],[1.0,\"#FF97FF\"]],\"geo\":\"geo\",\"hovertemplate\":\"Deaths=96<br>Abbreviation=%{location}<extra></extra>\",\"locationmode\":\"USA-states\",\"locations\":[\"AR\"],\"name\":\"96\",\"showlegend\":true,\"showscale\":false,\"z\":[1],\"type\":\"choropleth\"},{\"colorscale\":[[0.0,\"#FECB52\"],[1.0,\"#FECB52\"]],\"geo\":\"geo\",\"hovertemplate\":\"Deaths=98<br>Abbreviation=%{location}<extra></extra>\",\"locationmode\":\"USA-states\",\"locations\":[\"AR\",\"MS\",\"MS\"],\"name\":\"98\",\"showlegend\":true,\"showscale\":false,\"z\":[1,1,1],\"type\":\"choropleth\"},{\"colorscale\":[[0.0,\"#636efa\"],[1.0,\"#636efa\"]],\"geo\":\"geo\",\"hovertemplate\":\"Deaths=133<br>Abbreviation=%{location}<extra></extra>\",\"locationmode\":\"USA-states\",\"locations\":[\"AR\",\"RI\"],\"name\":\"133\",\"showlegend\":true,\"showscale\":false,\"z\":[1,1],\"type\":\"choropleth\"},{\"colorscale\":[[0.0,\"#EF553B\"],[1.0,\"#EF553B\"]],\"geo\":\"geo\",\"hovertemplate\":\"Deaths=127<br>Abbreviation=%{location}<extra></extra>\",\"locationmode\":\"USA-states\",\"locations\":[\"AR\",\"KS\",\"NH\"],\"name\":\"127\",\"showlegend\":true,\"showscale\":false,\"z\":[1,1,1],\"type\":\"choropleth\"},{\"colorscale\":[[0.0,\"#00cc96\"],[1.0,\"#00cc96\"]],\"geo\":\"geo\",\"hovertemplate\":\"Deaths=149<br>Abbreviation=%{location}<extra></extra>\",\"locationmode\":\"USA-states\",\"locations\":[\"AR\",\"KY\",\"MN\"],\"name\":\"149\",\"showlegend\":true,\"showscale\":false,\"z\":[1,1,1],\"type\":\"choropleth\"},{\"colorscale\":[[0.0,\"#ab63fa\"],[1.0,\"#ab63fa\"]],\"geo\":\"geo\",\"hovertemplate\":\"Deaths=156<br>Abbreviation=%{location}<extra></extra>\",\"locationmode\":\"USA-states\",\"locations\":[\"AR\"],\"name\":\"156\",\"showlegend\":true,\"showscale\":false,\"z\":[1],\"type\":\"choropleth\"},{\"colorscale\":[[0.0,\"#FFA15A\"],[1.0,\"#FFA15A\"]],\"geo\":\"geo\",\"hovertemplate\":\"Deaths=221<br>Abbreviation=%{location}<extra></extra>\",\"locationmode\":\"USA-states\",\"locations\":[\"AR\"],\"name\":\"221\",\"showlegend\":true,\"showscale\":false,\"z\":[1],\"type\":\"choropleth\"},{\"colorscale\":[[0.0,\"#19d3f3\"],[1.0,\"#19d3f3\"]],\"geo\":\"geo\",\"hovertemplate\":\"Deaths=198<br>Abbreviation=%{location}<extra></extra>\",\"locationmode\":\"USA-states\",\"locations\":[\"AR\",\"MO\",\"OR\"],\"name\":\"198\",\"showlegend\":true,\"showscale\":false,\"z\":[1,1,1],\"type\":\"choropleth\"},{\"colorscale\":[[0.0,\"#FF6692\"],[1.0,\"#FF6692\"]],\"geo\":\"geo\",\"hovertemplate\":\"Deaths=176<br>Abbreviation=%{location}<extra></extra>\",\"locationmode\":\"USA-states\",\"locations\":[\"AR\"],\"name\":\"176\",\"showlegend\":true,\"showscale\":false,\"z\":[1],\"type\":\"choropleth\"},{\"colorscale\":[[0.0,\"#B6E880\"],[1.0,\"#B6E880\"]],\"geo\":\"geo\",\"hovertemplate\":\"Deaths=181<br>Abbreviation=%{location}<extra></extra>\",\"locationmode\":\"USA-states\",\"locations\":[\"AR\"],\"name\":\"181\",\"showlegend\":true,\"showscale\":false,\"z\":[1],\"type\":\"choropleth\"},{\"colorscale\":[[0.0,\"#FF97FF\"],[1.0,\"#FF97FF\"]],\"geo\":\"geo\",\"hovertemplate\":\"Deaths=179<br>Abbreviation=%{location}<extra></extra>\",\"locationmode\":\"USA-states\",\"locations\":[\"AR\",\"TN\"],\"name\":\"179\",\"showlegend\":true,\"showscale\":false,\"z\":[1,1],\"type\":\"choropleth\"},{\"colorscale\":[[0.0,\"#FECB52\"],[1.0,\"#FECB52\"]],\"geo\":\"geo\",\"hovertemplate\":\"Deaths=1598<br>Abbreviation=%{location}<extra></extra>\",\"locationmode\":\"USA-states\",\"locations\":[\"CA\"],\"name\":\"1598\",\"showlegend\":true,\"showscale\":false,\"z\":[1],\"type\":\"choropleth\"},{\"colorscale\":[[0.0,\"#636efa\"],[1.0,\"#636efa\"]],\"geo\":\"geo\",\"hovertemplate\":\"Deaths=1105<br>Abbreviation=%{location}<extra></extra>\",\"locationmode\":\"USA-states\",\"locations\":[\"CA\"],\"name\":\"1105\",\"showlegend\":true,\"showscale\":false,\"z\":[1],\"type\":\"choropleth\"},{\"colorscale\":[[0.0,\"#EF553B\"],[1.0,\"#EF553B\"]],\"geo\":\"geo\",\"hovertemplate\":\"Deaths=605<br>Abbreviation=%{location}<extra></extra>\",\"locationmode\":\"USA-states\",\"locations\":[\"CA\"],\"name\":\"605\",\"showlegend\":true,\"showscale\":false,\"z\":[1],\"type\":\"choropleth\"},{\"colorscale\":[[0.0,\"#00cc96\"],[1.0,\"#00cc96\"]],\"geo\":\"geo\",\"hovertemplate\":\"Deaths=1583<br>Abbreviation=%{location}<extra></extra>\",\"locationmode\":\"USA-states\",\"locations\":[\"CA\"],\"name\":\"1583\",\"showlegend\":true,\"showscale\":false,\"z\":[1],\"type\":\"choropleth\"},{\"colorscale\":[[0.0,\"#ab63fa\"],[1.0,\"#ab63fa\"]],\"geo\":\"geo\",\"hovertemplate\":\"Deaths=1530<br>Abbreviation=%{location}<extra></extra>\",\"locationmode\":\"USA-states\",\"locations\":[\"CA\"],\"name\":\"1530\",\"showlegend\":true,\"showscale\":false,\"z\":[1],\"type\":\"choropleth\"},{\"colorscale\":[[0.0,\"#FFA15A\"],[1.0,\"#FFA15A\"]],\"geo\":\"geo\",\"hovertemplate\":\"Deaths=1547<br>Abbreviation=%{location}<extra></extra>\",\"locationmode\":\"USA-states\",\"locations\":[\"CA\"],\"name\":\"1547\",\"showlegend\":true,\"showscale\":false,\"z\":[1],\"type\":\"choropleth\"},{\"colorscale\":[[0.0,\"#19d3f3\"],[1.0,\"#19d3f3\"]],\"geo\":\"geo\",\"hovertemplate\":\"Deaths=1485<br>Abbreviation=%{location}<extra></extra>\",\"locationmode\":\"USA-states\",\"locations\":[\"CA\"],\"name\":\"1485\",\"showlegend\":true,\"showscale\":false,\"z\":[1],\"type\":\"choropleth\"},{\"colorscale\":[[0.0,\"#FF6692\"],[1.0,\"#FF6692\"]],\"geo\":\"geo\",\"hovertemplate\":\"Deaths=1602<br>Abbreviation=%{location}<extra></extra>\",\"locationmode\":\"USA-states\",\"locations\":[\"CA\"],\"name\":\"1602\",\"showlegend\":true,\"showscale\":false,\"z\":[1],\"type\":\"choropleth\"},{\"colorscale\":[[0.0,\"#B6E880\"],[1.0,\"#B6E880\"]],\"geo\":\"geo\",\"hovertemplate\":\"Deaths=1762<br>Abbreviation=%{location}<extra></extra>\",\"locationmode\":\"USA-states\",\"locations\":[\"CA\"],\"name\":\"1762\",\"showlegend\":true,\"showscale\":false,\"z\":[1],\"type\":\"choropleth\"},{\"colorscale\":[[0.0,\"#FF97FF\"],[1.0,\"#FF97FF\"]],\"geo\":\"geo\",\"hovertemplate\":\"Deaths=1889<br>Abbreviation=%{location}<extra></extra>\",\"locationmode\":\"USA-states\",\"locations\":[\"CA\"],\"name\":\"1889\",\"showlegend\":true,\"showscale\":false,\"z\":[1],\"type\":\"choropleth\"},{\"colorscale\":[[0.0,\"#FECB52\"],[1.0,\"#FECB52\"]],\"geo\":\"geo\",\"hovertemplate\":\"Deaths=2128<br>Abbreviation=%{location}<extra></extra>\",\"locationmode\":\"USA-states\",\"locations\":[\"CA\"],\"name\":\"2128\",\"showlegend\":true,\"showscale\":false,\"z\":[1],\"type\":\"choropleth\"},{\"colorscale\":[[0.0,\"#636efa\"],[1.0,\"#636efa\"]],\"geo\":\"geo\",\"hovertemplate\":\"Deaths=2059<br>Abbreviation=%{location}<extra></extra>\",\"locationmode\":\"USA-states\",\"locations\":[\"CA\"],\"name\":\"2059\",\"showlegend\":true,\"showscale\":false,\"z\":[1],\"type\":\"choropleth\"},{\"colorscale\":[[0.0,\"#EF553B\"],[1.0,\"#EF553B\"]],\"geo\":\"geo\",\"hovertemplate\":\"Deaths=2057<br>Abbreviation=%{location}<extra></extra>\",\"locationmode\":\"USA-states\",\"locations\":[\"CA\"],\"name\":\"2057\",\"showlegend\":true,\"showscale\":false,\"z\":[1],\"type\":\"choropleth\"},{\"colorscale\":[[0.0,\"#00cc96\"],[1.0,\"#00cc96\"]],\"geo\":\"geo\",\"hovertemplate\":\"Deaths=1847<br>Abbreviation=%{location}<extra></extra>\",\"locationmode\":\"USA-states\",\"locations\":[\"CA\"],\"name\":\"1847\",\"showlegend\":true,\"showscale\":false,\"z\":[1],\"type\":\"choropleth\"},{\"colorscale\":[[0.0,\"#ab63fa\"],[1.0,\"#ab63fa\"]],\"geo\":\"geo\",\"hovertemplate\":\"Deaths=2088<br>Abbreviation=%{location}<extra></extra>\",\"locationmode\":\"USA-states\",\"locations\":[\"CA\"],\"name\":\"2088\",\"showlegend\":true,\"showscale\":false,\"z\":[1],\"type\":\"choropleth\"},{\"colorscale\":[[0.0,\"#FFA15A\"],[1.0,\"#FFA15A\"]],\"geo\":\"geo\",\"hovertemplate\":\"Deaths=2159<br>Abbreviation=%{location}<extra></extra>\",\"locationmode\":\"USA-states\",\"locations\":[\"CA\"],\"name\":\"2159\",\"showlegend\":true,\"showscale\":false,\"z\":[1],\"type\":\"choropleth\"},{\"colorscale\":[[0.0,\"#19d3f3\"],[1.0,\"#19d3f3\"]],\"geo\":\"geo\",\"hovertemplate\":\"Deaths=169<br>Abbreviation=%{location}<extra></extra>\",\"locationmode\":\"USA-states\",\"locations\":[\"CO\",\"IN\"],\"name\":\"169\",\"showlegend\":true,\"showscale\":false,\"z\":[1,1],\"type\":\"choropleth\"},{\"colorscale\":[[0.0,\"#FF6692\"],[1.0,\"#FF6692\"]],\"geo\":\"geo\",\"hovertemplate\":\"Deaths=184<br>Abbreviation=%{location}<extra></extra>\",\"locationmode\":\"USA-states\",\"locations\":[\"CO\",\"KS\"],\"name\":\"184\",\"showlegend\":true,\"showscale\":false,\"z\":[1,1],\"type\":\"choropleth\"},{\"colorscale\":[[0.0,\"#B6E880\"],[1.0,\"#B6E880\"]],\"geo\":\"geo\",\"hovertemplate\":\"Deaths=204<br>Abbreviation=%{location}<extra></extra>\",\"locationmode\":\"USA-states\",\"locations\":[\"CO\"],\"name\":\"204\",\"showlegend\":true,\"showscale\":false,\"z\":[1],\"type\":\"choropleth\"},{\"colorscale\":[[0.0,\"#FF97FF\"],[1.0,\"#FF97FF\"]],\"geo\":\"geo\",\"hovertemplate\":\"Deaths=206<br>Abbreviation=%{location}<extra></extra>\",\"locationmode\":\"USA-states\",\"locations\":[\"CO\",\"SC\"],\"name\":\"206\",\"showlegend\":true,\"showscale\":false,\"z\":[1,1],\"type\":\"choropleth\"},{\"colorscale\":[[0.0,\"#FECB52\"],[1.0,\"#FECB52\"]],\"geo\":\"geo\",\"hovertemplate\":\"Deaths=229<br>Abbreviation=%{location}<extra></extra>\",\"locationmode\":\"USA-states\",\"locations\":[\"CO\"],\"name\":\"229\",\"showlegend\":true,\"showscale\":false,\"z\":[1],\"type\":\"choropleth\"},{\"colorscale\":[[0.0,\"#636efa\"],[1.0,\"#636efa\"]],\"geo\":\"geo\",\"hovertemplate\":\"Deaths=233<br>Abbreviation=%{location}<extra></extra>\",\"locationmode\":\"USA-states\",\"locations\":[\"CO\",\"CT\"],\"name\":\"233\",\"showlegend\":true,\"showscale\":false,\"z\":[1,1],\"type\":\"choropleth\"},{\"colorscale\":[[0.0,\"#EF553B\"],[1.0,\"#EF553B\"]],\"geo\":\"geo\",\"hovertemplate\":\"Deaths=310<br>Abbreviation=%{location}<extra></extra>\",\"locationmode\":\"USA-states\",\"locations\":[\"CO\",\"OR\"],\"name\":\"310\",\"showlegend\":true,\"showscale\":false,\"z\":[1,1],\"type\":\"choropleth\"},{\"colorscale\":[[0.0,\"#00cc96\"],[1.0,\"#00cc96\"]],\"geo\":\"geo\",\"hovertemplate\":\"Deaths=337<br>Abbreviation=%{location}<extra></extra>\",\"locationmode\":\"USA-states\",\"locations\":[\"CO\",\"OR\"],\"name\":\"337\",\"showlegend\":true,\"showscale\":false,\"z\":[1,1],\"type\":\"choropleth\"},{\"colorscale\":[[0.0,\"#ab63fa\"],[1.0,\"#ab63fa\"]],\"geo\":\"geo\",\"hovertemplate\":\"Deaths=368<br>Abbreviation=%{location}<extra></extra>\",\"locationmode\":\"USA-states\",\"locations\":[\"CO\"],\"name\":\"368\",\"showlegend\":true,\"showscale\":false,\"z\":[1],\"type\":\"choropleth\"},{\"colorscale\":[[0.0,\"#FFA15A\"],[1.0,\"#FFA15A\"]],\"geo\":\"geo\",\"hovertemplate\":\"Deaths=365<br>Abbreviation=%{location}<extra></extra>\",\"locationmode\":\"USA-states\",\"locations\":[\"CO\",\"NV\"],\"name\":\"365\",\"showlegend\":true,\"showscale\":false,\"z\":[1,1],\"type\":\"choropleth\"},{\"colorscale\":[[0.0,\"#19d3f3\"],[1.0,\"#19d3f3\"]],\"geo\":\"geo\",\"hovertemplate\":\"Deaths=412<br>Abbreviation=%{location}<extra></extra>\",\"locationmode\":\"USA-states\",\"locations\":[\"CO\",\"NC\"],\"name\":\"412\",\"showlegend\":true,\"showscale\":false,\"z\":[1,1],\"type\":\"choropleth\"},{\"colorscale\":[[0.0,\"#FF6692\"],[1.0,\"#FF6692\"]],\"geo\":\"geo\",\"hovertemplate\":\"Deaths=325<br>Abbreviation=%{location}<extra></extra>\",\"locationmode\":\"USA-states\",\"locations\":[\"CO\",\"OK\"],\"name\":\"325\",\"showlegend\":true,\"showscale\":false,\"z\":[1,1],\"type\":\"choropleth\"},{\"colorscale\":[[0.0,\"#B6E880\"],[1.0,\"#B6E880\"]],\"geo\":\"geo\",\"hovertemplate\":\"Deaths=423<br>Abbreviation=%{location}<extra></extra>\",\"locationmode\":\"USA-states\",\"locations\":[\"CO\"],\"name\":\"423\",\"showlegend\":true,\"showscale\":false,\"z\":[1],\"type\":\"choropleth\"},{\"colorscale\":[[0.0,\"#FF97FF\"],[1.0,\"#FF97FF\"]],\"geo\":\"geo\",\"hovertemplate\":\"Deaths=415<br>Abbreviation=%{location}<extra></extra>\",\"locationmode\":\"USA-states\",\"locations\":[\"CO\"],\"name\":\"415\",\"showlegend\":true,\"showscale\":false,\"z\":[1],\"type\":\"choropleth\"},{\"colorscale\":[[0.0,\"#FECB52\"],[1.0,\"#FECB52\"]],\"geo\":\"geo\",\"hovertemplate\":\"Deaths=443<br>Abbreviation=%{location}<extra></extra>\",\"locationmode\":\"USA-states\",\"locations\":[\"CO\",\"NV\"],\"name\":\"443\",\"showlegend\":true,\"showscale\":false,\"z\":[1,1],\"type\":\"choropleth\"},{\"colorscale\":[[0.0,\"#636efa\"],[1.0,\"#636efa\"]],\"geo\":\"geo\",\"hovertemplate\":\"Deaths=532<br>Abbreviation=%{location}<extra></extra>\",\"locationmode\":\"USA-states\",\"locations\":[\"CO\",\"NV\"],\"name\":\"532\",\"showlegend\":true,\"showscale\":false,\"z\":[1,1],\"type\":\"choropleth\"},{\"colorscale\":[[0.0,\"#EF553B\"],[1.0,\"#EF553B\"]],\"geo\":\"geo\",\"hovertemplate\":\"Deaths=158<br>Abbreviation=%{location}<extra></extra>\",\"locationmode\":\"USA-states\",\"locations\":[\"CT\",\"CT\",\"LA\",\"NH\"],\"name\":\"158\",\"showlegend\":true,\"showscale\":false,\"z\":[1,1,1,1],\"type\":\"choropleth\"},{\"colorscale\":[[0.0,\"#00cc96\"],[1.0,\"#00cc96\"]],\"geo\":\"geo\",\"hovertemplate\":\"Deaths=173<br>Abbreviation=%{location}<extra></extra>\",\"locationmode\":\"USA-states\",\"locations\":[\"CT\",\"WI\"],\"name\":\"173\",\"showlegend\":true,\"showscale\":false,\"z\":[1,1],\"type\":\"choropleth\"},{\"colorscale\":[[0.0,\"#ab63fa\"],[1.0,\"#ab63fa\"]],\"geo\":\"geo\",\"hovertemplate\":\"Deaths=174<br>Abbreviation=%{location}<extra></extra>\",\"locationmode\":\"USA-states\",\"locations\":[\"CT\",\"ME\"],\"name\":\"174\",\"showlegend\":true,\"showscale\":false,\"z\":[1,1],\"type\":\"choropleth\"},{\"colorscale\":[[0.0,\"#FFA15A\"],[1.0,\"#FFA15A\"]],\"geo\":\"geo\",\"hovertemplate\":\"Deaths=168<br>Abbreviation=%{location}<extra></extra>\",\"locationmode\":\"USA-states\",\"locations\":[\"CT\"],\"name\":\"168\",\"showlegend\":true,\"showscale\":false,\"z\":[1],\"type\":\"choropleth\"},{\"colorscale\":[[0.0,\"#19d3f3\"],[1.0,\"#19d3f3\"]],\"geo\":\"geo\",\"hovertemplate\":\"Deaths=196<br>Abbreviation=%{location}<extra></extra>\",\"locationmode\":\"USA-states\",\"locations\":[\"CT\",\"MI\"],\"name\":\"196\",\"showlegend\":true,\"showscale\":false,\"z\":[1,1],\"type\":\"choropleth\"},{\"colorscale\":[[0.0,\"#FF6692\"],[1.0,\"#FF6692\"]],\"geo\":\"geo\",\"hovertemplate\":\"Deaths=238<br>Abbreviation=%{location}<extra></extra>\",\"locationmode\":\"USA-states\",\"locations\":[\"CT\"],\"name\":\"238\",\"showlegend\":true,\"showscale\":false,\"z\":[1],\"type\":\"choropleth\"},{\"colorscale\":[[0.0,\"#B6E880\"],[1.0,\"#B6E880\"]],\"geo\":\"geo\",\"hovertemplate\":\"Deaths=220<br>Abbreviation=%{location}<extra></extra>\",\"locationmode\":\"USA-states\",\"locations\":[\"CT\"],\"name\":\"220\",\"showlegend\":true,\"showscale\":false,\"z\":[1],\"type\":\"choropleth\"},{\"colorscale\":[[0.0,\"#FF97FF\"],[1.0,\"#FF97FF\"]],\"geo\":\"geo\",\"hovertemplate\":\"Deaths=225<br>Abbreviation=%{location}<extra></extra>\",\"locationmode\":\"USA-states\",\"locations\":[\"CT\"],\"name\":\"225\",\"showlegend\":true,\"showscale\":false,\"z\":[1],\"type\":\"choropleth\"},{\"colorscale\":[[0.0,\"#FECB52\"],[1.0,\"#FECB52\"]],\"geo\":\"geo\",\"hovertemplate\":\"Deaths=213<br>Abbreviation=%{location}<extra></extra>\",\"locationmode\":\"USA-states\",\"locations\":[\"CT\",\"UT\"],\"name\":\"213\",\"showlegend\":true,\"showscale\":false,\"z\":[1,1],\"type\":\"choropleth\"},{\"colorscale\":[[0.0,\"#636efa\"],[1.0,\"#636efa\"]],\"geo\":\"geo\",\"hovertemplate\":\"Deaths=202<br>Abbreviation=%{location}<extra></extra>\",\"locationmode\":\"USA-states\",\"locations\":[\"CT\"],\"name\":\"202\",\"showlegend\":true,\"showscale\":false,\"z\":[1],\"type\":\"choropleth\"},{\"colorscale\":[[0.0,\"#EF553B\"],[1.0,\"#EF553B\"]],\"geo\":\"geo\",\"hovertemplate\":\"Deaths=442<br>Abbreviation=%{location}<extra></extra>\",\"locationmode\":\"USA-states\",\"locations\":[\"CT\"],\"name\":\"442\",\"showlegend\":true,\"showscale\":false,\"z\":[1],\"type\":\"choropleth\"},{\"colorscale\":[[0.0,\"#00cc96\"],[1.0,\"#00cc96\"]],\"geo\":\"geo\",\"hovertemplate\":\"Deaths=531<br>Abbreviation=%{location}<extra></extra>\",\"locationmode\":\"USA-states\",\"locations\":[\"CT\"],\"name\":\"531\",\"showlegend\":true,\"showscale\":false,\"z\":[1],\"type\":\"choropleth\"},{\"colorscale\":[[0.0,\"#ab63fa\"],[1.0,\"#ab63fa\"]],\"geo\":\"geo\",\"hovertemplate\":\"Deaths=32<br>Abbreviation=%{location}<extra></extra>\",\"locationmode\":\"USA-states\",\"locations\":[\"DE\",\"ID\",\"ME\",\"NE\",\"ND\",\"SD\"],\"name\":\"32\",\"showlegend\":true,\"showscale\":false,\"z\":[1,1,1,1,1,1],\"type\":\"choropleth\"},{\"colorscale\":[[0.0,\"#FFA15A\"],[1.0,\"#FFA15A\"]],\"geo\":\"geo\",\"hovertemplate\":\"Deaths=36<br>Abbreviation=%{location}<extra></extra>\",\"locationmode\":\"USA-states\",\"locations\":[\"DE\",null,\"RI\"],\"name\":\"36\",\"showlegend\":true,\"showscale\":false,\"z\":[1,1,1],\"type\":\"choropleth\"},{\"colorscale\":[[0.0,\"#19d3f3\"],[1.0,\"#19d3f3\"]],\"geo\":\"geo\",\"hovertemplate\":\"Deaths=40<br>Abbreviation=%{location}<extra></extra>\",\"locationmode\":\"USA-states\",\"locations\":[\"DE\"],\"name\":\"40\",\"showlegend\":true,\"showscale\":false,\"z\":[1],\"type\":\"choropleth\"},{\"colorscale\":[[0.0,\"#FF6692\"],[1.0,\"#FF6692\"]],\"geo\":\"geo\",\"hovertemplate\":\"Deaths=38<br>Abbreviation=%{location}<extra></extra>\",\"locationmode\":\"USA-states\",\"locations\":[\"DE\"],\"name\":\"38\",\"showlegend\":true,\"showscale\":false,\"z\":[1],\"type\":\"choropleth\"},{\"colorscale\":[[0.0,\"#B6E880\"],[1.0,\"#B6E880\"]],\"geo\":\"geo\",\"hovertemplate\":\"Deaths=33<br>Abbreviation=%{location}<extra></extra>\",\"locationmode\":\"USA-states\",\"locations\":[\"DE\",null,\"SD\",\"SD\"],\"name\":\"33\",\"showlegend\":true,\"showscale\":false,\"z\":[1,1,1,1],\"type\":\"choropleth\"},{\"colorscale\":[[0.0,\"#FF97FF\"],[1.0,\"#FF97FF\"]],\"geo\":\"geo\",\"hovertemplate\":\"Deaths=42<br>Abbreviation=%{location}<extra></extra>\",\"locationmode\":\"USA-states\",\"locations\":[\"DE\",\"ME\",\"NE\"],\"name\":\"42\",\"showlegend\":true,\"showscale\":false,\"z\":[1,1,1],\"type\":\"choropleth\"},{\"colorscale\":[[0.0,\"#FECB52\"],[1.0,\"#FECB52\"]],\"geo\":\"geo\",\"hovertemplate\":\"Deaths=52<br>Abbreviation=%{location}<extra></extra>\",\"locationmode\":\"USA-states\",\"locations\":[\"DE\",\"ID\",\"MT\",\"WV\",\"WY\"],\"name\":\"52\",\"showlegend\":true,\"showscale\":false,\"z\":[1,1,1,1,1],\"type\":\"choropleth\"},{\"colorscale\":[[0.0,\"#636efa\"],[1.0,\"#636efa\"]],\"geo\":\"geo\",\"hovertemplate\":\"Deaths=68<br>Abbreviation=%{location}<extra></extra>\",\"locationmode\":\"USA-states\",\"locations\":[\"DE\",\"MT\",\"NE\"],\"name\":\"68\",\"showlegend\":true,\"showscale\":false,\"z\":[1,1,1],\"type\":\"choropleth\"},{\"colorscale\":[[0.0,\"#EF553B\"],[1.0,\"#EF553B\"]],\"geo\":\"geo\",\"hovertemplate\":\"Deaths=93<br>Abbreviation=%{location}<extra></extra>\",\"locationmode\":\"USA-states\",\"locations\":[\"DE\"],\"name\":\"93\",\"showlegend\":true,\"showscale\":false,\"z\":[1],\"type\":\"choropleth\"},{\"colorscale\":[[0.0,\"#00cc96\"],[1.0,\"#00cc96\"]],\"geo\":\"geo\",\"hovertemplate\":\"Deaths=116<br>Abbreviation=%{location}<extra></extra>\",\"locationmode\":\"USA-states\",\"locations\":[\"DE\"],\"name\":\"116\",\"showlegend\":true,\"showscale\":false,\"z\":[1],\"type\":\"choropleth\"},{\"colorscale\":[[0.0,\"#ab63fa\"],[1.0,\"#ab63fa\"]],\"geo\":\"geo\",\"hovertemplate\":\"Deaths=115<br>Abbreviation=%{location}<extra></extra>\",\"locationmode\":\"USA-states\",\"locations\":[\"DE\",\"DE\"],\"name\":\"115\",\"showlegend\":true,\"showscale\":false,\"z\":[1,1],\"type\":\"choropleth\"},{\"colorscale\":[[0.0,\"#FFA15A\"],[1.0,\"#FFA15A\"]],\"geo\":\"geo\",\"hovertemplate\":\"Deaths=86<br>Abbreviation=%{location}<extra></extra>\",\"locationmode\":\"USA-states\",\"locations\":[\"DE\",\"RI\"],\"name\":\"86\",\"showlegend\":true,\"showscale\":false,\"z\":[1,1],\"type\":\"choropleth\"},{\"colorscale\":[[0.0,\"#19d3f3\"],[1.0,\"#19d3f3\"]],\"geo\":\"geo\",\"hovertemplate\":\"Deaths=125<br>Abbreviation=%{location}<extra></extra>\",\"locationmode\":\"USA-states\",\"locations\":[\"DE\"],\"name\":\"125\",\"showlegend\":true,\"showscale\":false,\"z\":[1],\"type\":\"choropleth\"},{\"colorscale\":[[0.0,\"#FF6692\"],[1.0,\"#FF6692\"]],\"geo\":\"geo\",\"hovertemplate\":\"Deaths=43<br>Abbreviation=%{location}<extra></extra>\",\"locationmode\":\"USA-states\",\"locations\":[null,\"IA\",\"NE\"],\"name\":\"43\",\"showlegend\":true,\"showscale\":false,\"z\":[1,1,1],\"type\":\"choropleth\"},{\"colorscale\":[[0.0,\"#B6E880\"],[1.0,\"#B6E880\"]],\"geo\":\"geo\",\"hovertemplate\":\"Deaths=48<br>Abbreviation=%{location}<extra></extra>\",\"locationmode\":\"USA-states\",\"locations\":[null,\"HI\",\"ID\",\"WY\"],\"name\":\"48\",\"showlegend\":true,\"showscale\":false,\"z\":[1,1,1,1],\"type\":\"choropleth\"},{\"colorscale\":[[0.0,\"#FF97FF\"],[1.0,\"#FF97FF\"]],\"geo\":\"geo\",\"hovertemplate\":\"Deaths=60<br>Abbreviation=%{location}<extra></extra>\",\"locationmode\":\"USA-states\",\"locations\":[null,null,\"NE\",\"NE\",\"VT\"],\"name\":\"60\",\"showlegend\":true,\"showscale\":false,\"z\":[1,1,1,1,1],\"type\":\"choropleth\"},{\"colorscale\":[[0.0,\"#FECB52\"],[1.0,\"#FECB52\"]],\"geo\":\"geo\",\"hovertemplate\":\"Deaths=53<br>Abbreviation=%{location}<extra></extra>\",\"locationmode\":\"USA-states\",\"locations\":[null,\"LA\",\"MT\",\"NH\"],\"name\":\"53\",\"showlegend\":true,\"showscale\":false,\"z\":[1,1,1,1],\"type\":\"choropleth\"},{\"colorscale\":[[0.0,\"#636efa\"],[1.0,\"#636efa\"]],\"geo\":\"geo\",\"hovertemplate\":\"Deaths=45<br>Abbreviation=%{location}<extra></extra>\",\"locationmode\":\"USA-states\",\"locations\":[null,null,\"ID\",\"VT\"],\"name\":\"45\",\"showlegend\":true,\"showscale\":false,\"z\":[1,1,1,1],\"type\":\"choropleth\"},{\"colorscale\":[[0.0,\"#EF553B\"],[1.0,\"#EF553B\"]],\"geo\":\"geo\",\"hovertemplate\":\"Deaths=62<br>Abbreviation=%{location}<extra></extra>\",\"locationmode\":\"USA-states\",\"locations\":[null,\"HI\",\"MT\"],\"name\":\"62\",\"showlegend\":true,\"showscale\":false,\"z\":[1,1,1],\"type\":\"choropleth\"},{\"colorscale\":[[0.0,\"#00cc96\"],[1.0,\"#00cc96\"]],\"geo\":\"geo\",\"hovertemplate\":\"Deaths=13<br>Abbreviation=%{location}<extra></extra>\",\"locationmode\":\"USA-states\",\"locations\":[null,\"MT\",\"ND\",\"SD\"],\"name\":\"13\",\"showlegend\":true,\"showscale\":false,\"z\":[1,1,1,1],\"type\":\"choropleth\"},{\"colorscale\":[[0.0,\"#ab63fa\"],[1.0,\"#ab63fa\"]],\"geo\":\"geo\",\"hovertemplate\":\"Deaths=57<br>Abbreviation=%{location}<extra></extra>\",\"locationmode\":\"USA-states\",\"locations\":[null,\"NJ\",\"VT\",\"WY\"],\"name\":\"57\",\"showlegend\":true,\"showscale\":false,\"z\":[1,1,1,1],\"type\":\"choropleth\"},{\"colorscale\":[[0.0,\"#FFA15A\"],[1.0,\"#FFA15A\"]],\"geo\":\"geo\",\"hovertemplate\":\"Deaths=65<br>Abbreviation=%{location}<extra></extra>\",\"locationmode\":\"USA-states\",\"locations\":[null,\"IA\"],\"name\":\"65\",\"showlegend\":true,\"showscale\":false,\"z\":[1,1],\"type\":\"choropleth\"},{\"colorscale\":[[0.0,\"#19d3f3\"],[1.0,\"#19d3f3\"]],\"geo\":\"geo\",\"hovertemplate\":\"Deaths=417<br>Abbreviation=%{location}<extra></extra>\",\"locationmode\":\"USA-states\",\"locations\":[\"FL\",\"GA\"],\"name\":\"417\",\"showlegend\":true,\"showscale\":false,\"z\":[1,1],\"type\":\"choropleth\"},{\"colorscale\":[[0.0,\"#FF6692\"],[1.0,\"#FF6692\"]],\"geo\":\"geo\",\"hovertemplate\":\"Deaths=571<br>Abbreviation=%{location}<extra></extra>\",\"locationmode\":\"USA-states\",\"locations\":[\"FL\"],\"name\":\"571\",\"showlegend\":true,\"showscale\":false,\"z\":[1],\"type\":\"choropleth\"},{\"colorscale\":[[0.0,\"#B6E880\"],[1.0,\"#B6E880\"]],\"geo\":\"geo\",\"hovertemplate\":\"Deaths=890<br>Abbreviation=%{location}<extra></extra>\",\"locationmode\":\"USA-states\",\"locations\":[\"FL\"],\"name\":\"890\",\"showlegend\":true,\"showscale\":false,\"z\":[1],\"type\":\"choropleth\"},{\"colorscale\":[[0.0,\"#FF97FF\"],[1.0,\"#FF97FF\"]],\"geo\":\"geo\",\"hovertemplate\":\"Deaths=1001<br>Abbreviation=%{location}<extra></extra>\",\"locationmode\":\"USA-states\",\"locations\":[\"FL\"],\"name\":\"1001\",\"showlegend\":true,\"showscale\":false,\"z\":[1],\"type\":\"choropleth\"},{\"colorscale\":[[0.0,\"#FECB52\"],[1.0,\"#FECB52\"]],\"geo\":\"geo\",\"hovertemplate\":\"Deaths=1080<br>Abbreviation=%{location}<extra></extra>\",\"locationmode\":\"USA-states\",\"locations\":[\"FL\"],\"name\":\"1080\",\"showlegend\":true,\"showscale\":false,\"z\":[1],\"type\":\"choropleth\"},{\"colorscale\":[[0.0,\"#636efa\"],[1.0,\"#636efa\"]],\"geo\":\"geo\",\"hovertemplate\":\"Deaths=1258<br>Abbreviation=%{location}<extra></extra>\",\"locationmode\":\"USA-states\",\"locations\":[\"FL\"],\"name\":\"1258\",\"showlegend\":true,\"showscale\":false,\"z\":[1],\"type\":\"choropleth\"},{\"colorscale\":[[0.0,\"#EF553B\"],[1.0,\"#EF553B\"]],\"geo\":\"geo\",\"hovertemplate\":\"Deaths=1151<br>Abbreviation=%{location}<extra></extra>\",\"locationmode\":\"USA-states\",\"locations\":[\"FL\"],\"name\":\"1151\",\"showlegend\":true,\"showscale\":false,\"z\":[1],\"type\":\"choropleth\"},{\"colorscale\":[[0.0,\"#00cc96\"],[1.0,\"#00cc96\"]],\"geo\":\"geo\",\"hovertemplate\":\"Deaths=1323<br>Abbreviation=%{location}<extra></extra>\",\"locationmode\":\"USA-states\",\"locations\":[\"FL\"],\"name\":\"1323\",\"showlegend\":true,\"showscale\":false,\"z\":[1],\"type\":\"choropleth\"},{\"colorscale\":[[0.0,\"#ab63fa\"],[1.0,\"#ab63fa\"]],\"geo\":\"geo\",\"hovertemplate\":\"Deaths=1519<br>Abbreviation=%{location}<extra></extra>\",\"locationmode\":\"USA-states\",\"locations\":[\"FL\"],\"name\":\"1519\",\"showlegend\":true,\"showscale\":false,\"z\":[1],\"type\":\"choropleth\"},{\"colorscale\":[[0.0,\"#FFA15A\"],[1.0,\"#FFA15A\"]],\"geo\":\"geo\",\"hovertemplate\":\"Deaths=1523<br>Abbreviation=%{location}<extra></extra>\",\"locationmode\":\"USA-states\",\"locations\":[\"FL\"],\"name\":\"1523\",\"showlegend\":true,\"showscale\":false,\"z\":[1],\"type\":\"choropleth\"},{\"colorscale\":[[0.0,\"#19d3f3\"],[1.0,\"#19d3f3\"]],\"geo\":\"geo\",\"hovertemplate\":\"Deaths=1654<br>Abbreviation=%{location}<extra></extra>\",\"locationmode\":\"USA-states\",\"locations\":[\"FL\"],\"name\":\"1654\",\"showlegend\":true,\"showscale\":false,\"z\":[1],\"type\":\"choropleth\"},{\"colorscale\":[[0.0,\"#FF6692\"],[1.0,\"#FF6692\"]],\"geo\":\"geo\",\"hovertemplate\":\"Deaths=1739<br>Abbreviation=%{location}<extra></extra>\",\"locationmode\":\"USA-states\",\"locations\":[\"FL\"],\"name\":\"1739\",\"showlegend\":true,\"showscale\":false,\"z\":[1],\"type\":\"choropleth\"},{\"colorscale\":[[0.0,\"#B6E880\"],[1.0,\"#B6E880\"]],\"geo\":\"geo\",\"hovertemplate\":\"Deaths=1637<br>Abbreviation=%{location}<extra></extra>\",\"locationmode\":\"USA-states\",\"locations\":[\"FL\"],\"name\":\"1637\",\"showlegend\":true,\"showscale\":false,\"z\":[1],\"type\":\"choropleth\"},{\"colorscale\":[[0.0,\"#FF97FF\"],[1.0,\"#FF97FF\"]],\"geo\":\"geo\",\"hovertemplate\":\"Deaths=1383<br>Abbreviation=%{location}<extra></extra>\",\"locationmode\":\"USA-states\",\"locations\":[\"FL\"],\"name\":\"1383\",\"showlegend\":true,\"showscale\":false,\"z\":[1],\"type\":\"choropleth\"},{\"colorscale\":[[0.0,\"#FECB52\"],[1.0,\"#FECB52\"]],\"geo\":\"geo\",\"hovertemplate\":\"Deaths=1327<br>Abbreviation=%{location}<extra></extra>\",\"locationmode\":\"USA-states\",\"locations\":[\"FL\"],\"name\":\"1327\",\"showlegend\":true,\"showscale\":false,\"z\":[1],\"type\":\"choropleth\"},{\"colorscale\":[[0.0,\"#636efa\"],[1.0,\"#636efa\"]],\"geo\":\"geo\",\"hovertemplate\":\"Deaths=1446<br>Abbreviation=%{location}<extra></extra>\",\"locationmode\":\"USA-states\",\"locations\":[\"FL\"],\"name\":\"1446\",\"showlegend\":true,\"showscale\":false,\"z\":[1],\"type\":\"choropleth\"},{\"colorscale\":[[0.0,\"#EF553B\"],[1.0,\"#EF553B\"]],\"geo\":\"geo\",\"hovertemplate\":\"Deaths=85<br>Abbreviation=%{location}<extra></extra>\",\"locationmode\":\"USA-states\",\"locations\":[\"GA\",\"SC\",\"WI\"],\"name\":\"85\",\"showlegend\":true,\"showscale\":false,\"z\":[1,1,1],\"type\":\"choropleth\"},{\"colorscale\":[[0.0,\"#00cc96\"],[1.0,\"#00cc96\"]],\"geo\":\"geo\",\"hovertemplate\":\"Deaths=199<br>Abbreviation=%{location}<extra></extra>\",\"locationmode\":\"USA-states\",\"locations\":[\"GA\"],\"name\":\"199\",\"showlegend\":true,\"showscale\":false,\"z\":[1],\"type\":\"choropleth\"},{\"colorscale\":[[0.0,\"#ab63fa\"],[1.0,\"#ab63fa\"]],\"geo\":\"geo\",\"hovertemplate\":\"Deaths=223<br>Abbreviation=%{location}<extra></extra>\",\"locationmode\":\"USA-states\",\"locations\":[\"GA\"],\"name\":\"223\",\"showlegend\":true,\"showscale\":false,\"z\":[1],\"type\":\"choropleth\"},{\"colorscale\":[[0.0,\"#FFA15A\"],[1.0,\"#FFA15A\"]],\"geo\":\"geo\",\"hovertemplate\":\"Deaths=248<br>Abbreviation=%{location}<extra></extra>\",\"locationmode\":\"USA-states\",\"locations\":[\"GA\",\"MI\",\"SC\"],\"name\":\"248\",\"showlegend\":true,\"showscale\":false,\"z\":[1,1,1],\"type\":\"choropleth\"},{\"colorscale\":[[0.0,\"#19d3f3\"],[1.0,\"#19d3f3\"]],\"geo\":\"geo\",\"hovertemplate\":\"Deaths=269<br>Abbreviation=%{location}<extra></extra>\",\"locationmode\":\"USA-states\",\"locations\":[\"GA\"],\"name\":\"269\",\"showlegend\":true,\"showscale\":false,\"z\":[1],\"type\":\"choropleth\"},{\"colorscale\":[[0.0,\"#FF6692\"],[1.0,\"#FF6692\"]],\"geo\":\"geo\",\"hovertemplate\":\"Deaths=312<br>Abbreviation=%{location}<extra></extra>\",\"locationmode\":\"USA-states\",\"locations\":[\"GA\",\"TN\"],\"name\":\"312\",\"showlegend\":true,\"showscale\":false,\"z\":[1,1],\"type\":\"choropleth\"},{\"colorscale\":[[0.0,\"#B6E880\"],[1.0,\"#B6E880\"]],\"geo\":\"geo\",\"hovertemplate\":\"Deaths=344<br>Abbreviation=%{location}<extra></extra>\",\"locationmode\":\"USA-states\",\"locations\":[\"GA\",\"NJ\"],\"name\":\"344\",\"showlegend\":true,\"showscale\":false,\"z\":[1,1],\"type\":\"choropleth\"},{\"colorscale\":[[0.0,\"#FF97FF\"],[1.0,\"#FF97FF\"]],\"geo\":\"geo\",\"hovertemplate\":\"Deaths=404<br>Abbreviation=%{location}<extra></extra>\",\"locationmode\":\"USA-states\",\"locations\":[\"GA\"],\"name\":\"404\",\"showlegend\":true,\"showscale\":false,\"z\":[1],\"type\":\"choropleth\"},{\"colorscale\":[[0.0,\"#FECB52\"],[1.0,\"#FECB52\"]],\"geo\":\"geo\",\"hovertemplate\":\"Deaths=504<br>Abbreviation=%{location}<extra></extra>\",\"locationmode\":\"USA-states\",\"locations\":[\"GA\",\"IL\",\"OK\"],\"name\":\"504\",\"showlegend\":true,\"showscale\":false,\"z\":[1,1,1],\"type\":\"choropleth\"},{\"colorscale\":[[0.0,\"#636efa\"],[1.0,\"#636efa\"]],\"geo\":\"geo\",\"hovertemplate\":\"Deaths=550<br>Abbreviation=%{location}<extra></extra>\",\"locationmode\":\"USA-states\",\"locations\":[\"GA\"],\"name\":\"550\",\"showlegend\":true,\"showscale\":false,\"z\":[1],\"type\":\"choropleth\"},{\"colorscale\":[[0.0,\"#EF553B\"],[1.0,\"#EF553B\"]],\"geo\":\"geo\",\"hovertemplate\":\"Deaths=549<br>Abbreviation=%{location}<extra></extra>\",\"locationmode\":\"USA-states\",\"locations\":[\"GA\"],\"name\":\"549\",\"showlegend\":true,\"showscale\":false,\"z\":[1],\"type\":\"choropleth\"},{\"colorscale\":[[0.0,\"#00cc96\"],[1.0,\"#00cc96\"]],\"geo\":\"geo\",\"hovertemplate\":\"Deaths=551<br>Abbreviation=%{location}<extra></extra>\",\"locationmode\":\"USA-states\",\"locations\":[\"GA\"],\"name\":\"551\",\"showlegend\":true,\"showscale\":false,\"z\":[1],\"type\":\"choropleth\"},{\"colorscale\":[[0.0,\"#ab63fa\"],[1.0,\"#ab63fa\"]],\"geo\":\"geo\",\"hovertemplate\":\"Deaths=539<br>Abbreviation=%{location}<extra></extra>\",\"locationmode\":\"USA-states\",\"locations\":[\"GA\"],\"name\":\"539\",\"showlegend\":true,\"showscale\":false,\"z\":[1],\"type\":\"choropleth\"},{\"colorscale\":[[0.0,\"#FFA15A\"],[1.0,\"#FFA15A\"]],\"geo\":\"geo\",\"hovertemplate\":\"Deaths=724<br>Abbreviation=%{location}<extra></extra>\",\"locationmode\":\"USA-states\",\"locations\":[\"GA\"],\"name\":\"724\",\"showlegend\":true,\"showscale\":false,\"z\":[1],\"type\":\"choropleth\"},{\"colorscale\":[[0.0,\"#19d3f3\"],[1.0,\"#19d3f3\"]],\"geo\":\"geo\",\"hovertemplate\":\"Deaths=34<br>Abbreviation=%{location}<extra></extra>\",\"locationmode\":\"USA-states\",\"locations\":[\"HI\",\"NE\",\"ND\",\"SD\",\"WV\",\"WY\"],\"name\":\"34\",\"showlegend\":true,\"showscale\":false,\"z\":[1,1,1,1,1,1],\"type\":\"choropleth\"},{\"colorscale\":[[0.0,\"#FF6692\"],[1.0,\"#FF6692\"]],\"geo\":\"geo\",\"hovertemplate\":\"Deaths=31<br>Abbreviation=%{location}<extra></extra>\",\"locationmode\":\"USA-states\",\"locations\":[\"HI\",\"MS\"],\"name\":\"31\",\"showlegend\":true,\"showscale\":false,\"z\":[1,1],\"type\":\"choropleth\"},{\"colorscale\":[[0.0,\"#B6E880\"],[1.0,\"#B6E880\"]],\"geo\":\"geo\",\"hovertemplate\":\"Deaths=47<br>Abbreviation=%{location}<extra></extra>\",\"locationmode\":\"USA-states\",\"locations\":[\"HI\",\"IN\",\"KS\",\"MT\",\"WY\",\"WY\"],\"name\":\"47\",\"showlegend\":true,\"showscale\":false,\"z\":[1,1,1,1,1,1],\"type\":\"choropleth\"},{\"colorscale\":[[0.0,\"#FF97FF\"],[1.0,\"#FF97FF\"]],\"geo\":\"geo\",\"hovertemplate\":\"Deaths=64<br>Abbreviation=%{location}<extra></extra>\",\"locationmode\":\"USA-states\",\"locations\":[\"HI\",\"HI\",\"ID\"],\"name\":\"64\",\"showlegend\":true,\"showscale\":false,\"z\":[1,1,1],\"type\":\"choropleth\"},{\"colorscale\":[[0.0,\"#FECB52\"],[1.0,\"#FECB52\"]],\"geo\":\"geo\",\"hovertemplate\":\"Deaths=82<br>Abbreviation=%{location}<extra></extra>\",\"locationmode\":\"USA-states\",\"locations\":[\"HI\"],\"name\":\"82\",\"showlegend\":true,\"showscale\":false,\"z\":[1],\"type\":\"choropleth\"},{\"colorscale\":[[0.0,\"#636efa\"],[1.0,\"#636efa\"]],\"geo\":\"geo\",\"hovertemplate\":\"Deaths=58<br>Abbreviation=%{location}<extra></extra>\",\"locationmode\":\"USA-states\",\"locations\":[\"HI\"],\"name\":\"58\",\"showlegend\":true,\"showscale\":false,\"z\":[1],\"type\":\"choropleth\"},{\"colorscale\":[[0.0,\"#EF553B\"],[1.0,\"#EF553B\"]],\"geo\":\"geo\",\"hovertemplate\":\"Deaths=59<br>Abbreviation=%{location}<extra></extra>\",\"locationmode\":\"USA-states\",\"locations\":[\"HI\",\"VT\",\"VT\"],\"name\":\"59\",\"showlegend\":true,\"showscale\":false,\"z\":[1,1,1],\"type\":\"choropleth\"},{\"colorscale\":[[0.0,\"#00cc96\"],[1.0,\"#00cc96\"]],\"geo\":\"geo\",\"hovertemplate\":\"Deaths=77<br>Abbreviation=%{location}<extra></extra>\",\"locationmode\":\"USA-states\",\"locations\":[\"HI\",\"RI\"],\"name\":\"77\",\"showlegend\":true,\"showscale\":false,\"z\":[1,1],\"type\":\"choropleth\"},{\"colorscale\":[[0.0,\"#ab63fa\"],[1.0,\"#ab63fa\"]],\"geo\":\"geo\",\"hovertemplate\":\"Deaths=78<br>Abbreviation=%{location}<extra></extra>\",\"locationmode\":\"USA-states\",\"locations\":[\"HI\",\"KS\"],\"name\":\"78\",\"showlegend\":true,\"showscale\":false,\"z\":[1,1],\"type\":\"choropleth\"},{\"colorscale\":[[0.0,\"#FFA15A\"],[1.0,\"#FFA15A\"]],\"geo\":\"geo\",\"hovertemplate\":\"Deaths=70<br>Abbreviation=%{location}<extra></extra>\",\"locationmode\":\"USA-states\",\"locations\":[\"HI\",\"MT\"],\"name\":\"70\",\"showlegend\":true,\"showscale\":false,\"z\":[1,1],\"type\":\"choropleth\"},{\"colorscale\":[[0.0,\"#19d3f3\"],[1.0,\"#19d3f3\"]],\"geo\":\"geo\",\"hovertemplate\":\"Deaths=51<br>Abbreviation=%{location}<extra></extra>\",\"locationmode\":\"USA-states\",\"locations\":[\"ID\"],\"name\":\"51\",\"showlegend\":true,\"showscale\":false,\"z\":[1],\"type\":\"choropleth\"},{\"colorscale\":[[0.0,\"#FF6692\"],[1.0,\"#FF6692\"]],\"geo\":\"geo\",\"hovertemplate\":\"Deaths=55<br>Abbreviation=%{location}<extra></extra>\",\"locationmode\":\"USA-states\",\"locations\":[\"ID\",\"MT\"],\"name\":\"55\",\"showlegend\":true,\"showscale\":false,\"z\":[1,1],\"type\":\"choropleth\"},{\"colorscale\":[[0.0,\"#B6E880\"],[1.0,\"#B6E880\"]],\"geo\":\"geo\",\"hovertemplate\":\"Deaths=66<br>Abbreviation=%{location}<extra></extra>\",\"locationmode\":\"USA-states\",\"locations\":[\"ID\"],\"name\":\"66\",\"showlegend\":true,\"showscale\":false,\"z\":[1],\"type\":\"choropleth\"},{\"colorscale\":[[0.0,\"#FF97FF\"],[1.0,\"#FF97FF\"]],\"geo\":\"geo\",\"hovertemplate\":\"Deaths=80<br>Abbreviation=%{location}<extra></extra>\",\"locationmode\":\"USA-states\",\"locations\":[\"ID\",\"ID\",\"RI\"],\"name\":\"80\",\"showlegend\":true,\"showscale\":false,\"z\":[1,1,1],\"type\":\"choropleth\"},{\"colorscale\":[[0.0,\"#FECB52\"],[1.0,\"#FECB52\"]],\"geo\":\"geo\",\"hovertemplate\":\"Deaths=61<br>Abbreviation=%{location}<extra></extra>\",\"locationmode\":\"USA-states\",\"locations\":[\"ID\",\"ME\",\"NE\",\"RI\"],\"name\":\"61\",\"showlegend\":true,\"showscale\":false,\"z\":[1,1,1,1],\"type\":\"choropleth\"},{\"colorscale\":[[0.0,\"#636efa\"],[1.0,\"#636efa\"]],\"geo\":\"geo\",\"hovertemplate\":\"Deaths=544<br>Abbreviation=%{location}<extra></extra>\",\"locationmode\":\"USA-states\",\"locations\":[\"IL\"],\"name\":\"544\",\"showlegend\":true,\"showscale\":false,\"z\":[1],\"type\":\"choropleth\"},{\"colorscale\":[[0.0,\"#EF553B\"],[1.0,\"#EF553B\"]],\"geo\":\"geo\",\"hovertemplate\":\"Deaths=629<br>Abbreviation=%{location}<extra></extra>\",\"locationmode\":\"USA-states\",\"locations\":[\"IL\",\"WA\"],\"name\":\"629\",\"showlegend\":true,\"showscale\":false,\"z\":[1,1],\"type\":\"choropleth\"},{\"colorscale\":[[0.0,\"#00cc96\"],[1.0,\"#00cc96\"]],\"geo\":\"geo\",\"hovertemplate\":\"Deaths=583<br>Abbreviation=%{location}<extra></extra>\",\"locationmode\":\"USA-states\",\"locations\":[\"IL\",\"OK\"],\"name\":\"583\",\"showlegend\":true,\"showscale\":false,\"z\":[1,1],\"type\":\"choropleth\"},{\"colorscale\":[[0.0,\"#ab63fa\"],[1.0,\"#ab63fa\"]],\"geo\":\"geo\",\"hovertemplate\":\"Deaths=612<br>Abbreviation=%{location}<extra></extra>\",\"locationmode\":\"USA-states\",\"locations\":[\"IL\",\"MA\",\"MO\"],\"name\":\"612\",\"showlegend\":true,\"showscale\":false,\"z\":[1,1,1],\"type\":\"choropleth\"},{\"colorscale\":[[0.0,\"#FFA15A\"],[1.0,\"#FFA15A\"]],\"geo\":\"geo\",\"hovertemplate\":\"Deaths=575<br>Abbreviation=%{location}<extra></extra>\",\"locationmode\":\"USA-states\",\"locations\":[\"IL\"],\"name\":\"575\",\"showlegend\":true,\"showscale\":false,\"z\":[1],\"type\":\"choropleth\"},{\"colorscale\":[[0.0,\"#19d3f3\"],[1.0,\"#19d3f3\"]],\"geo\":\"geo\",\"hovertemplate\":\"Deaths=647<br>Abbreviation=%{location}<extra></extra>\",\"locationmode\":\"USA-states\",\"locations\":[\"IL\"],\"name\":\"647\",\"showlegend\":true,\"showscale\":false,\"z\":[1],\"type\":\"choropleth\"},{\"colorscale\":[[0.0,\"#FF6692\"],[1.0,\"#FF6692\"]],\"geo\":\"geo\",\"hovertemplate\":\"Deaths=929<br>Abbreviation=%{location}<extra></extra>\",\"locationmode\":\"USA-states\",\"locations\":[\"IL\"],\"name\":\"929\",\"showlegend\":true,\"showscale\":false,\"z\":[1],\"type\":\"choropleth\"},{\"colorscale\":[[0.0,\"#B6E880\"],[1.0,\"#B6E880\"]],\"geo\":\"geo\",\"hovertemplate\":\"Deaths=739<br>Abbreviation=%{location}<extra></extra>\",\"locationmode\":\"USA-states\",\"locations\":[\"IL\"],\"name\":\"739\",\"showlegend\":true,\"showscale\":false,\"z\":[1],\"type\":\"choropleth\"},{\"colorscale\":[[0.0,\"#FF97FF\"],[1.0,\"#FF97FF\"]],\"geo\":\"geo\",\"hovertemplate\":\"Deaths=895<br>Abbreviation=%{location}<extra></extra>\",\"locationmode\":\"USA-states\",\"locations\":[\"IL\"],\"name\":\"895\",\"showlegend\":true,\"showscale\":false,\"z\":[1],\"type\":\"choropleth\"},{\"colorscale\":[[0.0,\"#FECB52\"],[1.0,\"#FECB52\"]],\"geo\":\"geo\",\"hovertemplate\":\"Deaths=933<br>Abbreviation=%{location}<extra></extra>\",\"locationmode\":\"USA-states\",\"locations\":[\"IL\"],\"name\":\"933\",\"showlegend\":true,\"showscale\":false,\"z\":[1],\"type\":\"choropleth\"},{\"colorscale\":[[0.0,\"#636efa\"],[1.0,\"#636efa\"]],\"geo\":\"geo\",\"hovertemplate\":\"Deaths=921<br>Abbreviation=%{location}<extra></extra>\",\"locationmode\":\"USA-states\",\"locations\":[\"IL\"],\"name\":\"921\",\"showlegend\":true,\"showscale\":false,\"z\":[1],\"type\":\"choropleth\"},{\"colorscale\":[[0.0,\"#EF553B\"],[1.0,\"#EF553B\"]],\"geo\":\"geo\",\"hovertemplate\":\"Deaths=955<br>Abbreviation=%{location}<extra></extra>\",\"locationmode\":\"USA-states\",\"locations\":[\"IL\"],\"name\":\"955\",\"showlegend\":true,\"showscale\":false,\"z\":[1],\"type\":\"choropleth\"},{\"colorscale\":[[0.0,\"#00cc96\"],[1.0,\"#00cc96\"]],\"geo\":\"geo\",\"hovertemplate\":\"Deaths=1204<br>Abbreviation=%{location}<extra></extra>\",\"locationmode\":\"USA-states\",\"locations\":[\"IL\"],\"name\":\"1204\",\"showlegend\":true,\"showscale\":false,\"z\":[1],\"type\":\"choropleth\"},{\"colorscale\":[[0.0,\"#ab63fa\"],[1.0,\"#ab63fa\"]],\"geo\":\"geo\",\"hovertemplate\":\"Deaths=1139<br>Abbreviation=%{location}<extra></extra>\",\"locationmode\":\"USA-states\",\"locations\":[\"IL\"],\"name\":\"1139\",\"showlegend\":true,\"showscale\":false,\"z\":[1],\"type\":\"choropleth\"},{\"colorscale\":[[0.0,\"#FFA15A\"],[1.0,\"#FFA15A\"]],\"geo\":\"geo\",\"hovertemplate\":\"Deaths=1263<br>Abbreviation=%{location}<extra></extra>\",\"locationmode\":\"USA-states\",\"locations\":[\"IL\"],\"name\":\"1263\",\"showlegend\":true,\"showscale\":false,\"z\":[1],\"type\":\"choropleth\"},{\"colorscale\":[[0.0,\"#19d3f3\"],[1.0,\"#19d3f3\"]],\"geo\":\"geo\",\"hovertemplate\":\"Deaths=49<br>Abbreviation=%{location}<extra></extra>\",\"locationmode\":\"USA-states\",\"locations\":[\"IN\",\"WY\"],\"name\":\"49\",\"showlegend\":true,\"showscale\":false,\"z\":[1,1],\"type\":\"choropleth\"},{\"colorscale\":[[0.0,\"#FF6692\"],[1.0,\"#FF6692\"]],\"geo\":\"geo\",\"hovertemplate\":\"Deaths=74<br>Abbreviation=%{location}<extra></extra>\",\"locationmode\":\"USA-states\",\"locations\":[\"IN\",\"IA\"],\"name\":\"74\",\"showlegend\":true,\"showscale\":false,\"z\":[1,1],\"type\":\"choropleth\"},{\"colorscale\":[[0.0,\"#B6E880\"],[1.0,\"#B6E880\"]],\"geo\":\"geo\",\"hovertemplate\":\"Deaths=140<br>Abbreviation=%{location}<extra></extra>\",\"locationmode\":\"USA-states\",\"locations\":[\"IN\",\"MI\"],\"name\":\"140\",\"showlegend\":true,\"showscale\":false,\"z\":[1,1],\"type\":\"choropleth\"},{\"colorscale\":[[0.0,\"#FF97FF\"],[1.0,\"#FF97FF\"]],\"geo\":\"geo\",\"hovertemplate\":\"Deaths=150<br>Abbreviation=%{location}<extra></extra>\",\"locationmode\":\"USA-states\",\"locations\":[\"IN\",\"WV\"],\"name\":\"150\",\"showlegend\":true,\"showscale\":false,\"z\":[1,1],\"type\":\"choropleth\"},{\"colorscale\":[[0.0,\"#FECB52\"],[1.0,\"#FECB52\"]],\"geo\":\"geo\",\"hovertemplate\":\"Deaths=188<br>Abbreviation=%{location}<extra></extra>\",\"locationmode\":\"USA-states\",\"locations\":[\"IN\",\"KS\",\"MN\"],\"name\":\"188\",\"showlegend\":true,\"showscale\":false,\"z\":[1,1,1],\"type\":\"choropleth\"},{\"colorscale\":[[0.0,\"#636efa\"],[1.0,\"#636efa\"]],\"geo\":\"geo\",\"hovertemplate\":\"Deaths=251<br>Abbreviation=%{location}<extra></extra>\",\"locationmode\":\"USA-states\",\"locations\":[\"IN\"],\"name\":\"251\",\"showlegend\":true,\"showscale\":false,\"z\":[1],\"type\":\"choropleth\"},{\"colorscale\":[[0.0,\"#EF553B\"],[1.0,\"#EF553B\"]],\"geo\":\"geo\",\"hovertemplate\":\"Deaths=324<br>Abbreviation=%{location}<extra></extra>\",\"locationmode\":\"USA-states\",\"locations\":[\"IN\"],\"name\":\"324\",\"showlegend\":true,\"showscale\":false,\"z\":[1],\"type\":\"choropleth\"},{\"colorscale\":[[0.0,\"#00cc96\"],[1.0,\"#00cc96\"]],\"geo\":\"geo\",\"hovertemplate\":\"Deaths=339<br>Abbreviation=%{location}<extra></extra>\",\"locationmode\":\"USA-states\",\"locations\":[\"IN\",\"NM\"],\"name\":\"339\",\"showlegend\":true,\"showscale\":false,\"z\":[1,1],\"type\":\"choropleth\"},{\"colorscale\":[[0.0,\"#ab63fa\"],[1.0,\"#ab63fa\"]],\"geo\":\"geo\",\"hovertemplate\":\"Deaths=300<br>Abbreviation=%{location}<extra></extra>\",\"locationmode\":\"USA-states\",\"locations\":[\"IN\"],\"name\":\"300\",\"showlegend\":true,\"showscale\":false,\"z\":[1],\"type\":\"choropleth\"},{\"colorscale\":[[0.0,\"#FFA15A\"],[1.0,\"#FFA15A\"]],\"geo\":\"geo\",\"hovertemplate\":\"Deaths=375<br>Abbreviation=%{location}<extra></extra>\",\"locationmode\":\"USA-states\",\"locations\":[\"IN\"],\"name\":\"375\",\"showlegend\":true,\"showscale\":false,\"z\":[1],\"type\":\"choropleth\"},{\"colorscale\":[[0.0,\"#19d3f3\"],[1.0,\"#19d3f3\"]],\"geo\":\"geo\",\"hovertemplate\":\"Deaths=397<br>Abbreviation=%{location}<extra></extra>\",\"locationmode\":\"USA-states\",\"locations\":[\"IN\"],\"name\":\"397\",\"showlegend\":true,\"showscale\":false,\"z\":[1],\"type\":\"choropleth\"},{\"colorscale\":[[0.0,\"#FF6692\"],[1.0,\"#FF6692\"]],\"geo\":\"geo\",\"hovertemplate\":\"Deaths=387<br>Abbreviation=%{location}<extra></extra>\",\"locationmode\":\"USA-states\",\"locations\":[\"IN\",\"WV\"],\"name\":\"387\",\"showlegend\":true,\"showscale\":false,\"z\":[1,1],\"type\":\"choropleth\"},{\"colorscale\":[[0.0,\"#B6E880\"],[1.0,\"#B6E880\"]],\"geo\":\"geo\",\"hovertemplate\":\"Deaths=489<br>Abbreviation=%{location}<extra></extra>\",\"locationmode\":\"USA-states\",\"locations\":[\"IN\"],\"name\":\"489\",\"showlegend\":true,\"showscale\":false,\"z\":[1],\"type\":\"choropleth\"},{\"colorscale\":[[0.0,\"#FF97FF\"],[1.0,\"#FF97FF\"]],\"geo\":\"geo\",\"hovertemplate\":\"Deaths=15<br>Abbreviation=%{location}<extra></extra>\",\"locationmode\":\"USA-states\",\"locations\":[\"IA\"],\"name\":\"15\",\"showlegend\":true,\"showscale\":false,\"z\":[1],\"type\":\"choropleth\"},{\"colorscale\":[[0.0,\"#FECB52\"],[1.0,\"#FECB52\"]],\"geo\":\"geo\",\"hovertemplate\":\"Deaths=41<br>Abbreviation=%{location}<extra></extra>\",\"locationmode\":\"USA-states\",\"locations\":[\"IA\",\"NE\",\"NH\",\"VT\",\"VT\"],\"name\":\"41\",\"showlegend\":true,\"showscale\":false,\"z\":[1,1,1,1,1],\"type\":\"choropleth\"},{\"colorscale\":[[0.0,\"#636efa\"],[1.0,\"#636efa\"]],\"geo\":\"geo\",\"hovertemplate\":\"Deaths=101<br>Abbreviation=%{location}<extra></extra>\",\"locationmode\":\"USA-states\",\"locations\":[\"IA\"],\"name\":\"101\",\"showlegend\":true,\"showscale\":false,\"z\":[1],\"type\":\"choropleth\"},{\"colorscale\":[[0.0,\"#EF553B\"],[1.0,\"#EF553B\"]],\"geo\":\"geo\",\"hovertemplate\":\"Deaths=112<br>Abbreviation=%{location}<extra></extra>\",\"locationmode\":\"USA-states\",\"locations\":[\"IA\",\"KS\",\"MN\",\"MN\",\"MS\",\"RI\"],\"name\":\"112\",\"showlegend\":true,\"showscale\":false,\"z\":[1,1,1,1,1,1],\"type\":\"choropleth\"},{\"colorscale\":[[0.0,\"#00cc96\"],[1.0,\"#00cc96\"]],\"geo\":\"geo\",\"hovertemplate\":\"Deaths=138<br>Abbreviation=%{location}<extra></extra>\",\"locationmode\":\"USA-states\",\"locations\":[\"IA\",\"MO\"],\"name\":\"138\",\"showlegend\":true,\"showscale\":false,\"z\":[1,1],\"type\":\"choropleth\"},{\"colorscale\":[[0.0,\"#ab63fa\"],[1.0,\"#ab63fa\"]],\"geo\":\"geo\",\"hovertemplate\":\"Deaths=148<br>Abbreviation=%{location}<extra></extra>\",\"locationmode\":\"USA-states\",\"locations\":[\"IA\",\"NH\"],\"name\":\"148\",\"showlegend\":true,\"showscale\":false,\"z\":[1,1],\"type\":\"choropleth\"},{\"colorscale\":[[0.0,\"#FFA15A\"],[1.0,\"#FFA15A\"]],\"geo\":\"geo\",\"hovertemplate\":\"Deaths=163<br>Abbreviation=%{location}<extra></extra>\",\"locationmode\":\"USA-states\",\"locations\":[\"IA\"],\"name\":\"163\",\"showlegend\":true,\"showscale\":false,\"z\":[1],\"type\":\"choropleth\"},{\"colorscale\":[[0.0,\"#19d3f3\"],[1.0,\"#19d3f3\"]],\"geo\":\"geo\",\"hovertemplate\":\"Deaths=183<br>Abbreviation=%{location}<extra></extra>\",\"locationmode\":\"USA-states\",\"locations\":[\"IA\",\"WV\"],\"name\":\"183\",\"showlegend\":true,\"showscale\":false,\"z\":[1,1],\"type\":\"choropleth\"},{\"colorscale\":[[0.0,\"#FF6692\"],[1.0,\"#FF6692\"]],\"geo\":\"geo\",\"hovertemplate\":\"Deaths=185<br>Abbreviation=%{location}<extra></extra>\",\"locationmode\":\"USA-states\",\"locations\":[\"IA\",\"KY\",\"LA\",\"MN\"],\"name\":\"185\",\"showlegend\":true,\"showscale\":false,\"z\":[1,1,1,1],\"type\":\"choropleth\"},{\"colorscale\":[[0.0,\"#B6E880\"],[1.0,\"#B6E880\"]],\"geo\":\"geo\",\"hovertemplate\":\"Deaths=190<br>Abbreviation=%{location}<extra></extra>\",\"locationmode\":\"USA-states\",\"locations\":[\"IA\",\"NM\"],\"name\":\"190\",\"showlegend\":true,\"showscale\":false,\"z\":[1,1],\"type\":\"choropleth\"},{\"colorscale\":[[0.0,\"#FF97FF\"],[1.0,\"#FF97FF\"]],\"geo\":\"geo\",\"hovertemplate\":\"Deaths=170<br>Abbreviation=%{location}<extra></extra>\",\"locationmode\":\"USA-states\",\"locations\":[\"IA\",\"OK\"],\"name\":\"170\",\"showlegend\":true,\"showscale\":false,\"z\":[1,1],\"type\":\"choropleth\"},{\"colorscale\":[[0.0,\"#FECB52\"],[1.0,\"#FECB52\"]],\"geo\":\"geo\",\"hovertemplate\":\"Deaths=26<br>Abbreviation=%{location}<extra></extra>\",\"locationmode\":\"USA-states\",\"locations\":[\"KS\",\"MS\",\"NE\",\"SD\"],\"name\":\"26\",\"showlegend\":true,\"showscale\":false,\"z\":[1,1,1,1],\"type\":\"choropleth\"},{\"colorscale\":[[0.0,\"#636efa\"],[1.0,\"#636efa\"]],\"geo\":\"geo\",\"hovertemplate\":\"Deaths=23<br>Abbreviation=%{location}<extra></extra>\",\"locationmode\":\"USA-states\",\"locations\":[\"KS\"],\"name\":\"23\",\"showlegend\":true,\"showscale\":false,\"z\":[1],\"type\":\"choropleth\"},{\"colorscale\":[[0.0,\"#EF553B\"],[1.0,\"#EF553B\"]],\"geo\":\"geo\",\"hovertemplate\":\"Deaths=87<br>Abbreviation=%{location}<extra></extra>\",\"locationmode\":\"USA-states\",\"locations\":[\"KS\",\"LA\"],\"name\":\"87\",\"showlegend\":true,\"showscale\":false,\"z\":[1,1],\"type\":\"choropleth\"},{\"colorscale\":[[0.0,\"#00cc96\"],[1.0,\"#00cc96\"]],\"geo\":\"geo\",\"hovertemplate\":\"Deaths=118<br>Abbreviation=%{location}<extra></extra>\",\"locationmode\":\"USA-states\",\"locations\":[\"KS\"],\"name\":\"118\",\"showlegend\":true,\"showscale\":false,\"z\":[1],\"type\":\"choropleth\"},{\"colorscale\":[[0.0,\"#ab63fa\"],[1.0,\"#ab63fa\"]],\"geo\":\"geo\",\"hovertemplate\":\"Deaths=128<br>Abbreviation=%{location}<extra></extra>\",\"locationmode\":\"USA-states\",\"locations\":[\"KS\"],\"name\":\"128\",\"showlegend\":true,\"showscale\":false,\"z\":[1],\"type\":\"choropleth\"},{\"colorscale\":[[0.0,\"#FFA15A\"],[1.0,\"#FFA15A\"]],\"geo\":\"geo\",\"hovertemplate\":\"Deaths=103<br>Abbreviation=%{location}<extra></extra>\",\"locationmode\":\"USA-states\",\"locations\":[\"KS\",\"MS\",\"TN\"],\"name\":\"103\",\"showlegend\":true,\"showscale\":false,\"z\":[1,1,1],\"type\":\"choropleth\"},{\"colorscale\":[[0.0,\"#19d3f3\"],[1.0,\"#19d3f3\"]],\"geo\":\"geo\",\"hovertemplate\":\"Deaths=160<br>Abbreviation=%{location}<extra></extra>\",\"locationmode\":\"USA-states\",\"locations\":[\"KS\"],\"name\":\"160\",\"showlegend\":true,\"showscale\":false,\"z\":[1],\"type\":\"choropleth\"},{\"colorscale\":[[0.0,\"#FF6692\"],[1.0,\"#FF6692\"]],\"geo\":\"geo\",\"hovertemplate\":\"Deaths=111<br>Abbreviation=%{location}<extra></extra>\",\"locationmode\":\"USA-states\",\"locations\":[\"KS\",\"NH\"],\"name\":\"111\",\"showlegend\":true,\"showscale\":false,\"z\":[1,1],\"type\":\"choropleth\"},{\"colorscale\":[[0.0,\"#B6E880\"],[1.0,\"#B6E880\"]],\"geo\":\"geo\",\"hovertemplate\":\"Deaths=131<br>Abbreviation=%{location}<extra></extra>\",\"locationmode\":\"USA-states\",\"locations\":[\"KS\",\"LA\",\"LA\"],\"name\":\"131\",\"showlegend\":true,\"showscale\":false,\"z\":[1,1,1],\"type\":\"choropleth\"},{\"colorscale\":[[0.0,\"#FF97FF\"],[1.0,\"#FF97FF\"]],\"geo\":\"geo\",\"hovertemplate\":\"Deaths=171<br>Abbreviation=%{location}<extra></extra>\",\"locationmode\":\"USA-states\",\"locations\":[\"KS\"],\"name\":\"171\",\"showlegend\":true,\"showscale\":false,\"z\":[1],\"type\":\"choropleth\"},{\"colorscale\":[[0.0,\"#FECB52\"],[1.0,\"#FECB52\"]],\"geo\":\"geo\",\"hovertemplate\":\"Deaths=56<br>Abbreviation=%{location}<extra></extra>\",\"locationmode\":\"USA-states\",\"locations\":[\"KY\"],\"name\":\"56\",\"showlegend\":true,\"showscale\":false,\"z\":[1],\"type\":\"choropleth\"},{\"colorscale\":[[0.0,\"#636efa\"],[1.0,\"#636efa\"]],\"geo\":\"geo\",\"hovertemplate\":\"Deaths=242<br>Abbreviation=%{location}<extra></extra>\",\"locationmode\":\"USA-states\",\"locations\":[\"KY\",\"MN\"],\"name\":\"242\",\"showlegend\":true,\"showscale\":false,\"z\":[1,1],\"type\":\"choropleth\"},{\"colorscale\":[[0.0,\"#EF553B\"],[1.0,\"#EF553B\"]],\"geo\":\"geo\",\"hovertemplate\":\"Deaths=237<br>Abbreviation=%{location}<extra></extra>\",\"locationmode\":\"USA-states\",\"locations\":[\"KY\"],\"name\":\"237\",\"showlegend\":true,\"showscale\":false,\"z\":[1],\"type\":\"choropleth\"},{\"colorscale\":[[0.0,\"#00cc96\"],[1.0,\"#00cc96\"]],\"geo\":\"geo\",\"hovertemplate\":\"Deaths=294<br>Abbreviation=%{location}<extra></extra>\",\"locationmode\":\"USA-states\",\"locations\":[\"KY\"],\"name\":\"294\",\"showlegend\":true,\"showscale\":false,\"z\":[1],\"type\":\"choropleth\"},{\"colorscale\":[[0.0,\"#ab63fa\"],[1.0,\"#ab63fa\"]],\"geo\":\"geo\",\"hovertemplate\":\"Deaths=343<br>Abbreviation=%{location}<extra></extra>\",\"locationmode\":\"USA-states\",\"locations\":[\"KY\",\"UT\"],\"name\":\"343\",\"showlegend\":true,\"showscale\":false,\"z\":[1,1],\"type\":\"choropleth\"},{\"colorscale\":[[0.0,\"#FFA15A\"],[1.0,\"#FFA15A\"]],\"geo\":\"geo\",\"hovertemplate\":\"Deaths=356<br>Abbreviation=%{location}<extra></extra>\",\"locationmode\":\"USA-states\",\"locations\":[\"KY\",\"OH\"],\"name\":\"356\",\"showlegend\":true,\"showscale\":false,\"z\":[1,1],\"type\":\"choropleth\"},{\"colorscale\":[[0.0,\"#19d3f3\"],[1.0,\"#19d3f3\"]],\"geo\":\"geo\",\"hovertemplate\":\"Deaths=377<br>Abbreviation=%{location}<extra></extra>\",\"locationmode\":\"USA-states\",\"locations\":[\"KY\",\"NJ\"],\"name\":\"377\",\"showlegend\":true,\"showscale\":false,\"z\":[1,1],\"type\":\"choropleth\"},{\"colorscale\":[[0.0,\"#FF6692\"],[1.0,\"#FF6692\"]],\"geo\":\"geo\",\"hovertemplate\":\"Deaths=455<br>Abbreviation=%{location}<extra></extra>\",\"locationmode\":\"USA-states\",\"locations\":[\"KY\"],\"name\":\"455\",\"showlegend\":true,\"showscale\":false,\"z\":[1],\"type\":\"choropleth\"},{\"colorscale\":[[0.0,\"#B6E880\"],[1.0,\"#B6E880\"]],\"geo\":\"geo\",\"hovertemplate\":\"Deaths=624<br>Abbreviation=%{location}<extra></extra>\",\"locationmode\":\"USA-states\",\"locations\":[\"KY\"],\"name\":\"624\",\"showlegend\":true,\"showscale\":false,\"z\":[1],\"type\":\"choropleth\"},{\"colorscale\":[[0.0,\"#FF97FF\"],[1.0,\"#FF97FF\"]],\"geo\":\"geo\",\"hovertemplate\":\"Deaths=707<br>Abbreviation=%{location}<extra></extra>\",\"locationmode\":\"USA-states\",\"locations\":[\"KY\"],\"name\":\"707\",\"showlegend\":true,\"showscale\":false,\"z\":[1],\"type\":\"choropleth\"},{\"colorscale\":[[0.0,\"#FECB52\"],[1.0,\"#FECB52\"]],\"geo\":\"geo\",\"hovertemplate\":\"Deaths=713<br>Abbreviation=%{location}<extra></extra>\",\"locationmode\":\"USA-states\",\"locations\":[\"KY\"],\"name\":\"713\",\"showlegend\":true,\"showscale\":false,\"z\":[1],\"type\":\"choropleth\"},{\"colorscale\":[[0.0,\"#636efa\"],[1.0,\"#636efa\"]],\"geo\":\"geo\",\"hovertemplate\":\"Deaths=689<br>Abbreviation=%{location}<extra></extra>\",\"locationmode\":\"USA-states\",\"locations\":[\"KY\",\"WA\"],\"name\":\"689\",\"showlegend\":true,\"showscale\":false,\"z\":[1,1],\"type\":\"choropleth\"},{\"colorscale\":[[0.0,\"#EF553B\"],[1.0,\"#EF553B\"]],\"geo\":\"geo\",\"hovertemplate\":\"Deaths=762<br>Abbreviation=%{location}<extra></extra>\",\"locationmode\":\"USA-states\",\"locations\":[\"KY\"],\"name\":\"762\",\"showlegend\":true,\"showscale\":false,\"z\":[1],\"type\":\"choropleth\"},{\"colorscale\":[[0.0,\"#00cc96\"],[1.0,\"#00cc96\"]],\"geo\":\"geo\",\"hovertemplate\":\"Deaths=105<br>Abbreviation=%{location}<extra></extra>\",\"locationmode\":\"USA-states\",\"locations\":[\"LA\",\"ME\",\"MS\"],\"name\":\"105\",\"showlegend\":true,\"showscale\":false,\"z\":[1,1,1],\"type\":\"choropleth\"},{\"colorscale\":[[0.0,\"#ab63fa\"],[1.0,\"#ab63fa\"]],\"geo\":\"geo\",\"hovertemplate\":\"Deaths=203<br>Abbreviation=%{location}<extra></extra>\",\"locationmode\":\"USA-states\",\"locations\":[\"LA\",\"NV\",\"WV\",\"WI\"],\"name\":\"203\",\"showlegend\":true,\"showscale\":false,\"z\":[1,1,1,1],\"type\":\"choropleth\"},{\"colorscale\":[[0.0,\"#FFA15A\"],[1.0,\"#FFA15A\"]],\"geo\":\"geo\",\"hovertemplate\":\"Deaths=228<br>Abbreviation=%{location}<extra></extra>\",\"locationmode\":\"USA-states\",\"locations\":[\"LA\",\"NM\",\"SC\"],\"name\":\"228\",\"showlegend\":true,\"showscale\":false,\"z\":[1,1,1],\"type\":\"choropleth\"},{\"colorscale\":[[0.0,\"#19d3f3\"],[1.0,\"#19d3f3\"]],\"geo\":\"geo\",\"hovertemplate\":\"Deaths=141<br>Abbreviation=%{location}<extra></extra>\",\"locationmode\":\"USA-states\",\"locations\":[\"LA\"],\"name\":\"141\",\"showlegend\":true,\"showscale\":false,\"z\":[1],\"type\":\"choropleth\"},{\"colorscale\":[[0.0,\"#FF6692\"],[1.0,\"#FF6692\"]],\"geo\":\"geo\",\"hovertemplate\":\"Deaths=130<br>Abbreviation=%{location}<extra></extra>\",\"locationmode\":\"USA-states\",\"locations\":[\"LA\"],\"name\":\"130\",\"showlegend\":true,\"showscale\":false,\"z\":[1],\"type\":\"choropleth\"},{\"colorscale\":[[0.0,\"#B6E880\"],[1.0,\"#B6E880\"]],\"geo\":\"geo\",\"hovertemplate\":\"Deaths=121<br>Abbreviation=%{location}<extra></extra>\",\"locationmode\":\"USA-states\",\"locations\":[\"LA\"],\"name\":\"121\",\"showlegend\":true,\"showscale\":false,\"z\":[1],\"type\":\"choropleth\"},{\"colorscale\":[[0.0,\"#FF97FF\"],[1.0,\"#FF97FF\"]],\"geo\":\"geo\",\"hovertemplate\":\"Deaths=270<br>Abbreviation=%{location}<extra></extra>\",\"locationmode\":\"USA-states\",\"locations\":[\"LA\",\"NV\",\"OH\"],\"name\":\"270\",\"showlegend\":true,\"showscale\":false,\"z\":[1,1,1],\"type\":\"choropleth\"},{\"colorscale\":[[0.0,\"#FECB52\"],[1.0,\"#FECB52\"]],\"geo\":\"geo\",\"hovertemplate\":\"Deaths=266<br>Abbreviation=%{location}<extra></extra>\",\"locationmode\":\"USA-states\",\"locations\":[\"LA\",\"PA\"],\"name\":\"266\",\"showlegend\":true,\"showscale\":false,\"z\":[1,1],\"type\":\"choropleth\"},{\"colorscale\":[[0.0,\"#636efa\"],[1.0,\"#636efa\"]],\"geo\":\"geo\",\"hovertemplate\":\"Deaths=100<br>Abbreviation=%{location}<extra></extra>\",\"locationmode\":\"USA-states\",\"locations\":[\"ME\"],\"name\":\"100\",\"showlegend\":true,\"showscale\":false,\"z\":[1],\"type\":\"choropleth\"},{\"colorscale\":[[0.0,\"#EF553B\"],[1.0,\"#EF553B\"]],\"geo\":\"geo\",\"hovertemplate\":\"Deaths=124<br>Abbreviation=%{location}<extra></extra>\",\"locationmode\":\"USA-states\",\"locations\":[\"ME\"],\"name\":\"124\",\"showlegend\":true,\"showscale\":false,\"z\":[1],\"type\":\"choropleth\"},{\"colorscale\":[[0.0,\"#00cc96\"],[1.0,\"#00cc96\"]],\"geo\":\"geo\",\"hovertemplate\":\"Deaths=97<br>Abbreviation=%{location}<extra></extra>\",\"locationmode\":\"USA-states\",\"locations\":[\"ME\"],\"name\":\"97\",\"showlegend\":true,\"showscale\":false,\"z\":[1],\"type\":\"choropleth\"},{\"colorscale\":[[0.0,\"#ab63fa\"],[1.0,\"#ab63fa\"]],\"geo\":\"geo\",\"hovertemplate\":\"Deaths=108<br>Abbreviation=%{location}<extra></extra>\",\"locationmode\":\"USA-states\",\"locations\":[\"ME\",\"ME\",\"NH\",\"RI\"],\"name\":\"108\",\"showlegend\":true,\"showscale\":false,\"z\":[1,1,1,1],\"type\":\"choropleth\"},{\"colorscale\":[[0.0,\"#FFA15A\"],[1.0,\"#FFA15A\"]],\"geo\":\"geo\",\"hovertemplate\":\"Deaths=119<br>Abbreviation=%{location}<extra></extra>\",\"locationmode\":\"USA-states\",\"locations\":[\"ME\",\"NH\"],\"name\":\"119\",\"showlegend\":true,\"showscale\":false,\"z\":[1,1],\"type\":\"choropleth\"},{\"colorscale\":[[0.0,\"#19d3f3\"],[1.0,\"#19d3f3\"]],\"geo\":\"geo\",\"hovertemplate\":\"Deaths=91<br>Abbreviation=%{location}<extra></extra>\",\"locationmode\":\"USA-states\",\"locations\":[\"ME\",\"OK\",\"TN\"],\"name\":\"91\",\"showlegend\":true,\"showscale\":false,\"z\":[1,1,1],\"type\":\"choropleth\"},{\"colorscale\":[[0.0,\"#FF6692\"],[1.0,\"#FF6692\"]],\"geo\":\"geo\",\"hovertemplate\":\"Deaths=95<br>Abbreviation=%{location}<extra></extra>\",\"locationmode\":\"USA-states\",\"locations\":[\"ME\",\"SC\"],\"name\":\"95\",\"showlegend\":true,\"showscale\":false,\"z\":[1,1],\"type\":\"choropleth\"},{\"colorscale\":[[0.0,\"#B6E880\"],[1.0,\"#B6E880\"]],\"geo\":\"geo\",\"hovertemplate\":\"Deaths=107<br>Abbreviation=%{location}<extra></extra>\",\"locationmode\":\"USA-states\",\"locations\":[\"ME\"],\"name\":\"107\",\"showlegend\":true,\"showscale\":false,\"z\":[1],\"type\":\"choropleth\"},{\"colorscale\":[[0.0,\"#FF97FF\"],[1.0,\"#FF97FF\"]],\"geo\":\"geo\",\"hovertemplate\":\"Deaths=503<br>Abbreviation=%{location}<extra></extra>\",\"locationmode\":\"USA-states\",\"locations\":[\"MD\"],\"name\":\"503\",\"showlegend\":true,\"showscale\":false,\"z\":[1],\"type\":\"choropleth\"},{\"colorscale\":[[0.0,\"#FECB52\"],[1.0,\"#FECB52\"]],\"geo\":\"geo\",\"hovertemplate\":\"Deaths=497<br>Abbreviation=%{location}<extra></extra>\",\"locationmode\":\"USA-states\",\"locations\":[\"MD\"],\"name\":\"497\",\"showlegend\":true,\"showscale\":false,\"z\":[1],\"type\":\"choropleth\"},{\"colorscale\":[[0.0,\"#636efa\"],[1.0,\"#636efa\"]],\"geo\":\"geo\",\"hovertemplate\":\"Deaths=500<br>Abbreviation=%{location}<extra></extra>\",\"locationmode\":\"USA-states\",\"locations\":[\"MD\",\"OK\"],\"name\":\"500\",\"showlegend\":true,\"showscale\":false,\"z\":[1,1],\"type\":\"choropleth\"},{\"colorscale\":[[0.0,\"#EF553B\"],[1.0,\"#EF553B\"]],\"geo\":\"geo\",\"hovertemplate\":\"Deaths=562<br>Abbreviation=%{location}<extra></extra>\",\"locationmode\":\"USA-states\",\"locations\":[\"MD\",\"MD\"],\"name\":\"562\",\"showlegend\":true,\"showscale\":false,\"z\":[1,1],\"type\":\"choropleth\"},{\"colorscale\":[[0.0,\"#00cc96\"],[1.0,\"#00cc96\"]],\"geo\":\"geo\",\"hovertemplate\":\"Deaths=568<br>Abbreviation=%{location}<extra></extra>\",\"locationmode\":\"USA-states\",\"locations\":[\"MD\"],\"name\":\"568\",\"showlegend\":true,\"showscale\":false,\"z\":[1],\"type\":\"choropleth\"},{\"colorscale\":[[0.0,\"#ab63fa\"],[1.0,\"#ab63fa\"]],\"geo\":\"geo\",\"hovertemplate\":\"Deaths=493<br>Abbreviation=%{location}<extra></extra>\",\"locationmode\":\"USA-states\",\"locations\":[\"MD\",\"NV\"],\"name\":\"493\",\"showlegend\":true,\"showscale\":false,\"z\":[1,1],\"type\":\"choropleth\"},{\"colorscale\":[[0.0,\"#FFA15A\"],[1.0,\"#FFA15A\"]],\"geo\":\"geo\",\"hovertemplate\":\"Deaths=507<br>Abbreviation=%{location}<extra></extra>\",\"locationmode\":\"USA-states\",\"locations\":[\"MD\"],\"name\":\"507\",\"showlegend\":true,\"showscale\":false,\"z\":[1],\"type\":\"choropleth\"},{\"colorscale\":[[0.0,\"#19d3f3\"],[1.0,\"#19d3f3\"]],\"geo\":\"geo\",\"hovertemplate\":\"Deaths=584<br>Abbreviation=%{location}<extra></extra>\",\"locationmode\":\"USA-states\",\"locations\":[\"MD\"],\"name\":\"584\",\"showlegend\":true,\"showscale\":false,\"z\":[1],\"type\":\"choropleth\"},{\"colorscale\":[[0.0,\"#FF6692\"],[1.0,\"#FF6692\"]],\"geo\":\"geo\",\"hovertemplate\":\"Deaths=620<br>Abbreviation=%{location}<extra></extra>\",\"locationmode\":\"USA-states\",\"locations\":[\"MD\",\"PA\"],\"name\":\"620\",\"showlegend\":true,\"showscale\":false,\"z\":[1,1],\"type\":\"choropleth\"},{\"colorscale\":[[0.0,\"#B6E880\"],[1.0,\"#B6E880\"]],\"geo\":\"geo\",\"hovertemplate\":\"Deaths=533<br>Abbreviation=%{location}<extra></extra>\",\"locationmode\":\"USA-states\",\"locations\":[\"MD\"],\"name\":\"533\",\"showlegend\":true,\"showscale\":false,\"z\":[1],\"type\":\"choropleth\"},{\"colorscale\":[[0.0,\"#FF97FF\"],[1.0,\"#FF97FF\"]],\"geo\":\"geo\",\"hovertemplate\":\"Deaths=594<br>Abbreviation=%{location}<extra></extra>\",\"locationmode\":\"USA-states\",\"locations\":[\"MD\"],\"name\":\"594\",\"showlegend\":true,\"showscale\":false,\"z\":[1],\"type\":\"choropleth\"},{\"colorscale\":[[0.0,\"#FECB52\"],[1.0,\"#FECB52\"]],\"geo\":\"geo\",\"hovertemplate\":\"Deaths=522<br>Abbreviation=%{location}<extra></extra>\",\"locationmode\":\"USA-states\",\"locations\":[\"MD\"],\"name\":\"522\",\"showlegend\":true,\"showscale\":false,\"z\":[1],\"type\":\"choropleth\"},{\"colorscale\":[[0.0,\"#636efa\"],[1.0,\"#636efa\"]],\"geo\":\"geo\",\"hovertemplate\":\"Deaths=667<br>Abbreviation=%{location}<extra></extra>\",\"locationmode\":\"USA-states\",\"locations\":[\"MD\",\"WA\"],\"name\":\"667\",\"showlegend\":true,\"showscale\":false,\"z\":[1,1],\"type\":\"choropleth\"},{\"colorscale\":[[0.0,\"#EF553B\"],[1.0,\"#EF553B\"]],\"geo\":\"geo\",\"hovertemplate\":\"Deaths=759<br>Abbreviation=%{location}<extra></extra>\",\"locationmode\":\"USA-states\",\"locations\":[\"MD\"],\"name\":\"759\",\"showlegend\":true,\"showscale\":false,\"z\":[1],\"type\":\"choropleth\"},{\"colorscale\":[[0.0,\"#00cc96\"],[1.0,\"#00cc96\"]],\"geo\":\"geo\",\"hovertemplate\":\"Deaths=932<br>Abbreviation=%{location}<extra></extra>\",\"locationmode\":\"USA-states\",\"locations\":[\"MD\"],\"name\":\"932\",\"showlegend\":true,\"showscale\":false,\"z\":[1],\"type\":\"choropleth\"},{\"colorscale\":[[0.0,\"#ab63fa\"],[1.0,\"#ab63fa\"]],\"geo\":\"geo\",\"hovertemplate\":\"Deaths=346<br>Abbreviation=%{location}<extra></extra>\",\"locationmode\":\"USA-states\",\"locations\":[\"MA\"],\"name\":\"346\",\"showlegend\":true,\"showscale\":false,\"z\":[1],\"type\":\"choropleth\"},{\"colorscale\":[[0.0,\"#FFA15A\"],[1.0,\"#FFA15A\"]],\"geo\":\"geo\",\"hovertemplate\":\"Deaths=319<br>Abbreviation=%{location}<extra></extra>\",\"locationmode\":\"USA-states\",\"locations\":[\"MA\",\"OK\"],\"name\":\"319\",\"showlegend\":true,\"showscale\":false,\"z\":[1,1],\"type\":\"choropleth\"},{\"colorscale\":[[0.0,\"#19d3f3\"],[1.0,\"#19d3f3\"]],\"geo\":\"geo\",\"hovertemplate\":\"Deaths=519<br>Abbreviation=%{location}<extra></extra>\",\"locationmode\":\"USA-states\",\"locations\":[\"MA\"],\"name\":\"519\",\"showlegend\":true,\"showscale\":false,\"z\":[1],\"type\":\"choropleth\"},{\"colorscale\":[[0.0,\"#FF6692\"],[1.0,\"#FF6692\"]],\"geo\":\"geo\",\"hovertemplate\":\"Deaths=491<br>Abbreviation=%{location}<extra></extra>\",\"locationmode\":\"USA-states\",\"locations\":[\"MA\"],\"name\":\"491\",\"showlegend\":true,\"showscale\":false,\"z\":[1],\"type\":\"choropleth\"},{\"colorscale\":[[0.0,\"#B6E880\"],[1.0,\"#B6E880\"]],\"geo\":\"geo\",\"hovertemplate\":\"Deaths=595<br>Abbreviation=%{location}<extra></extra>\",\"locationmode\":\"USA-states\",\"locations\":[\"MA\"],\"name\":\"595\",\"showlegend\":true,\"showscale\":false,\"z\":[1],\"type\":\"choropleth\"},{\"colorscale\":[[0.0,\"#FF97FF\"],[1.0,\"#FF97FF\"]],\"geo\":\"geo\",\"hovertemplate\":\"Deaths=467<br>Abbreviation=%{location}<extra></extra>\",\"locationmode\":\"USA-states\",\"locations\":[\"MA\"],\"name\":\"467\",\"showlegend\":true,\"showscale\":false,\"z\":[1],\"type\":\"choropleth\"},{\"colorscale\":[[0.0,\"#FECB52\"],[1.0,\"#FECB52\"]],\"geo\":\"geo\",\"hovertemplate\":\"Deaths=579<br>Abbreviation=%{location}<extra></extra>\",\"locationmode\":\"USA-states\",\"locations\":[\"MA\"],\"name\":\"579\",\"showlegend\":true,\"showscale\":false,\"z\":[1],\"type\":\"choropleth\"},{\"colorscale\":[[0.0,\"#636efa\"],[1.0,\"#636efa\"]],\"geo\":\"geo\",\"hovertemplate\":\"Deaths=670<br>Abbreviation=%{location}<extra></extra>\",\"locationmode\":\"USA-states\",\"locations\":[\"MA\"],\"name\":\"670\",\"showlegend\":true,\"showscale\":false,\"z\":[1],\"type\":\"choropleth\"},{\"colorscale\":[[0.0,\"#EF553B\"],[1.0,\"#EF553B\"]],\"geo\":\"geo\",\"hovertemplate\":\"Deaths=660<br>Abbreviation=%{location}<extra></extra>\",\"locationmode\":\"USA-states\",\"locations\":[\"MA\"],\"name\":\"660\",\"showlegend\":true,\"showscale\":false,\"z\":[1],\"type\":\"choropleth\"},{\"colorscale\":[[0.0,\"#00cc96\"],[1.0,\"#00cc96\"]],\"geo\":\"geo\",\"hovertemplate\":\"Deaths=636<br>Abbreviation=%{location}<extra></extra>\",\"locationmode\":\"USA-states\",\"locations\":[\"MA\"],\"name\":\"636\",\"showlegend\":true,\"showscale\":false,\"z\":[1],\"type\":\"choropleth\"},{\"colorscale\":[[0.0,\"#ab63fa\"],[1.0,\"#ab63fa\"]],\"geo\":\"geo\",\"hovertemplate\":\"Deaths=577<br>Abbreviation=%{location}<extra></extra>\",\"locationmode\":\"USA-states\",\"locations\":[\"MA\"],\"name\":\"577\",\"showlegend\":true,\"showscale\":false,\"z\":[1],\"type\":\"choropleth\"},{\"colorscale\":[[0.0,\"#FFA15A\"],[1.0,\"#FFA15A\"]],\"geo\":\"geo\",\"hovertemplate\":\"Deaths=669<br>Abbreviation=%{location}<extra></extra>\",\"locationmode\":\"USA-states\",\"locations\":[\"MA\"],\"name\":\"669\",\"showlegend\":true,\"showscale\":false,\"z\":[1],\"type\":\"choropleth\"},{\"colorscale\":[[0.0,\"#19d3f3\"],[1.0,\"#19d3f3\"]],\"geo\":\"geo\",\"hovertemplate\":\"Deaths=712<br>Abbreviation=%{location}<extra></extra>\",\"locationmode\":\"USA-states\",\"locations\":[\"MA\",\"WA\",\"WA\"],\"name\":\"712\",\"showlegend\":true,\"showscale\":false,\"z\":[1,1,1],\"type\":\"choropleth\"},{\"colorscale\":[[0.0,\"#FF6692\"],[1.0,\"#FF6692\"]],\"geo\":\"geo\",\"hovertemplate\":\"Deaths=910<br>Abbreviation=%{location}<extra></extra>\",\"locationmode\":\"USA-states\",\"locations\":[\"MA\"],\"name\":\"910\",\"showlegend\":true,\"showscale\":false,\"z\":[1],\"type\":\"choropleth\"},{\"colorscale\":[[0.0,\"#B6E880\"],[1.0,\"#B6E880\"]],\"geo\":\"geo\",\"hovertemplate\":\"Deaths=1161<br>Abbreviation=%{location}<extra></extra>\",\"locationmode\":\"USA-states\",\"locations\":[\"MA\"],\"name\":\"1161\",\"showlegend\":true,\"showscale\":false,\"z\":[1],\"type\":\"choropleth\"},{\"colorscale\":[[0.0,\"#FF97FF\"],[1.0,\"#FF97FF\"]],\"geo\":\"geo\",\"hovertemplate\":\"Deaths=211<br>Abbreviation=%{location}<extra></extra>\",\"locationmode\":\"USA-states\",\"locations\":[\"MI\",\"RI\"],\"name\":\"211\",\"showlegend\":true,\"showscale\":false,\"z\":[1,1],\"type\":\"choropleth\"},{\"colorscale\":[[0.0,\"#FECB52\"],[1.0,\"#FECB52\"]],\"geo\":\"geo\",\"hovertemplate\":\"Deaths=278<br>Abbreviation=%{location}<extra></extra>\",\"locationmode\":\"USA-states\",\"locations\":[\"MI\",\"MN\",\"SC\"],\"name\":\"278\",\"showlegend\":true,\"showscale\":false,\"z\":[1,1,1],\"type\":\"choropleth\"},{\"colorscale\":[[0.0,\"#636efa\"],[1.0,\"#636efa\"]],\"geo\":\"geo\",\"hovertemplate\":\"Deaths=390<br>Abbreviation=%{location}<extra></extra>\",\"locationmode\":\"USA-states\",\"locations\":[\"MI\",\"WI\"],\"name\":\"390\",\"showlegend\":true,\"showscale\":false,\"z\":[1,1],\"type\":\"choropleth\"},{\"colorscale\":[[0.0,\"#EF553B\"],[1.0,\"#EF553B\"]],\"geo\":\"geo\",\"hovertemplate\":\"Deaths=527<br>Abbreviation=%{location}<extra></extra>\",\"locationmode\":\"USA-states\",\"locations\":[\"MI\"],\"name\":\"527\",\"showlegend\":true,\"showscale\":false,\"z\":[1],\"type\":\"choropleth\"},{\"colorscale\":[[0.0,\"#00cc96\"],[1.0,\"#00cc96\"]],\"geo\":\"geo\",\"hovertemplate\":\"Deaths=641<br>Abbreviation=%{location}<extra></extra>\",\"locationmode\":\"USA-states\",\"locations\":[\"MI\"],\"name\":\"641\",\"showlegend\":true,\"showscale\":false,\"z\":[1],\"type\":\"choropleth\"},{\"colorscale\":[[0.0,\"#ab63fa\"],[1.0,\"#ab63fa\"]],\"geo\":\"geo\",\"hovertemplate\":\"Deaths=523<br>Abbreviation=%{location}<extra></extra>\",\"locationmode\":\"USA-states\",\"locations\":[\"MI\",\"OK\"],\"name\":\"523\",\"showlegend\":true,\"showscale\":false,\"z\":[1,1],\"type\":\"choropleth\"},{\"colorscale\":[[0.0,\"#FFA15A\"],[1.0,\"#FFA15A\"]],\"geo\":\"geo\",\"hovertemplate\":\"Deaths=656<br>Abbreviation=%{location}<extra></extra>\",\"locationmode\":\"USA-states\",\"locations\":[\"MI\"],\"name\":\"656\",\"showlegend\":true,\"showscale\":false,\"z\":[1],\"type\":\"choropleth\"},{\"colorscale\":[[0.0,\"#19d3f3\"],[1.0,\"#19d3f3\"]],\"geo\":\"geo\",\"hovertemplate\":\"Deaths=747<br>Abbreviation=%{location}<extra></extra>\",\"locationmode\":\"USA-states\",\"locations\":[\"MI\"],\"name\":\"747\",\"showlegend\":true,\"showscale\":false,\"z\":[1],\"type\":\"choropleth\"},{\"colorscale\":[[0.0,\"#FF6692\"],[1.0,\"#FF6692\"]],\"geo\":\"geo\",\"hovertemplate\":\"Deaths=725<br>Abbreviation=%{location}<extra></extra>\",\"locationmode\":\"USA-states\",\"locations\":[\"MI\"],\"name\":\"725\",\"showlegend\":true,\"showscale\":false,\"z\":[1],\"type\":\"choropleth\"},{\"colorscale\":[[0.0,\"#B6E880\"],[1.0,\"#B6E880\"]],\"geo\":\"geo\",\"hovertemplate\":\"Deaths=756<br>Abbreviation=%{location}<extra></extra>\",\"locationmode\":\"USA-states\",\"locations\":[\"MI\"],\"name\":\"756\",\"showlegend\":true,\"showscale\":false,\"z\":[1],\"type\":\"choropleth\"},{\"colorscale\":[[0.0,\"#FF97FF\"],[1.0,\"#FF97FF\"]],\"geo\":\"geo\",\"hovertemplate\":\"Deaths=700<br>Abbreviation=%{location}<extra></extra>\",\"locationmode\":\"USA-states\",\"locations\":[\"MI\"],\"name\":\"700\",\"showlegend\":true,\"showscale\":false,\"z\":[1],\"type\":\"choropleth\"},{\"colorscale\":[[0.0,\"#FECB52\"],[1.0,\"#FECB52\"]],\"geo\":\"geo\",\"hovertemplate\":\"Deaths=934<br>Abbreviation=%{location}<extra></extra>\",\"locationmode\":\"USA-states\",\"locations\":[\"MI\"],\"name\":\"934\",\"showlegend\":true,\"showscale\":false,\"z\":[1],\"type\":\"choropleth\"},{\"colorscale\":[[0.0,\"#636efa\"],[1.0,\"#636efa\"]],\"geo\":\"geo\",\"hovertemplate\":\"Deaths=1076<br>Abbreviation=%{location}<extra></extra>\",\"locationmode\":\"USA-states\",\"locations\":[\"MI\"],\"name\":\"1076\",\"showlegend\":true,\"showscale\":false,\"z\":[1],\"type\":\"choropleth\"},{\"colorscale\":[[0.0,\"#EF553B\"],[1.0,\"#EF553B\"]],\"geo\":\"geo\",\"hovertemplate\":\"Deaths=122<br>Abbreviation=%{location}<extra></extra>\",\"locationmode\":\"USA-states\",\"locations\":[\"MN\",\"RI\"],\"name\":\"122\",\"showlegend\":true,\"showscale\":false,\"z\":[1,1],\"type\":\"choropleth\"},{\"colorscale\":[[0.0,\"#00cc96\"],[1.0,\"#00cc96\"]],\"geo\":\"geo\",\"hovertemplate\":\"Deaths=162<br>Abbreviation=%{location}<extra></extra>\",\"locationmode\":\"USA-states\",\"locations\":[\"MN\"],\"name\":\"162\",\"showlegend\":true,\"showscale\":false,\"z\":[1],\"type\":\"choropleth\"},{\"colorscale\":[[0.0,\"#ab63fa\"],[1.0,\"#ab63fa\"]],\"geo\":\"geo\",\"hovertemplate\":\"Deaths=234<br>Abbreviation=%{location}<extra></extra>\",\"locationmode\":\"USA-states\",\"locations\":[\"MN\",\"SC\"],\"name\":\"234\",\"showlegend\":true,\"showscale\":false,\"z\":[1,1],\"type\":\"choropleth\"},{\"colorscale\":[[0.0,\"#FFA15A\"],[1.0,\"#FFA15A\"]],\"geo\":\"geo\",\"hovertemplate\":\"Deaths=295<br>Abbreviation=%{location}<extra></extra>\",\"locationmode\":\"USA-states\",\"locations\":[\"MN\"],\"name\":\"295\",\"showlegend\":true,\"showscale\":false,\"z\":[1],\"type\":\"choropleth\"},{\"colorscale\":[[0.0,\"#19d3f3\"],[1.0,\"#19d3f3\"]],\"geo\":\"geo\",\"hovertemplate\":\"Deaths=298<br>Abbreviation=%{location}<extra></extra>\",\"locationmode\":\"USA-states\",\"locations\":[\"MN\"],\"name\":\"298\",\"showlegend\":true,\"showscale\":false,\"z\":[1],\"type\":\"choropleth\"},{\"colorscale\":[[0.0,\"#FF6692\"],[1.0,\"#FF6692\"]],\"geo\":\"geo\",\"hovertemplate\":\"Deaths=314<br>Abbreviation=%{location}<extra></extra>\",\"locationmode\":\"USA-states\",\"locations\":[\"MN\"],\"name\":\"314\",\"showlegend\":true,\"showscale\":false,\"z\":[1],\"type\":\"choropleth\"},{\"colorscale\":[[0.0,\"#B6E880\"],[1.0,\"#B6E880\"]],\"geo\":\"geo\",\"hovertemplate\":\"Deaths=331<br>Abbreviation=%{location}<extra></extra>\",\"locationmode\":\"USA-states\",\"locations\":[\"MN\"],\"name\":\"331\",\"showlegend\":true,\"showscale\":false,\"z\":[1],\"type\":\"choropleth\"},{\"colorscale\":[[0.0,\"#FF97FF\"],[1.0,\"#FF97FF\"]],\"geo\":\"geo\",\"hovertemplate\":\"Deaths=44<br>Abbreviation=%{location}<extra></extra>\",\"locationmode\":\"USA-states\",\"locations\":[\"MS\"],\"name\":\"44\",\"showlegend\":true,\"showscale\":false,\"z\":[1],\"type\":\"choropleth\"},{\"colorscale\":[[0.0,\"#FECB52\"],[1.0,\"#FECB52\"]],\"geo\":\"geo\",\"hovertemplate\":\"Deaths=106<br>Abbreviation=%{location}<extra></extra>\",\"locationmode\":\"USA-states\",\"locations\":[\"MS\",\"MO\"],\"name\":\"106\",\"showlegend\":true,\"showscale\":false,\"z\":[1,1],\"type\":\"choropleth\"},{\"colorscale\":[[0.0,\"#636efa\"],[1.0,\"#636efa\"]],\"geo\":\"geo\",\"hovertemplate\":\"Deaths=84<br>Abbreviation=%{location}<extra></extra>\",\"locationmode\":\"USA-states\",\"locations\":[\"MS\"],\"name\":\"84\",\"showlegend\":true,\"showscale\":false,\"z\":[1],\"type\":\"choropleth\"},{\"colorscale\":[[0.0,\"#EF553B\"],[1.0,\"#EF553B\"]],\"geo\":\"geo\",\"hovertemplate\":\"Deaths=117<br>Abbreviation=%{location}<extra></extra>\",\"locationmode\":\"USA-states\",\"locations\":[\"MS\",\"RI\",\"WI\"],\"name\":\"117\",\"showlegend\":true,\"showscale\":false,\"z\":[1,1,1],\"type\":\"choropleth\"},{\"colorscale\":[[0.0,\"#00cc96\"],[1.0,\"#00cc96\"]],\"geo\":\"geo\",\"hovertemplate\":\"Deaths=137<br>Abbreviation=%{location}<extra></extra>\",\"locationmode\":\"USA-states\",\"locations\":[\"MO\"],\"name\":\"137\",\"showlegend\":true,\"showscale\":false,\"z\":[1],\"type\":\"choropleth\"},{\"colorscale\":[[0.0,\"#ab63fa\"],[1.0,\"#ab63fa\"]],\"geo\":\"geo\",\"hovertemplate\":\"Deaths=277<br>Abbreviation=%{location}<extra></extra>\",\"locationmode\":\"USA-states\",\"locations\":[\"MO\"],\"name\":\"277\",\"showlegend\":true,\"showscale\":false,\"z\":[1],\"type\":\"choropleth\"},{\"colorscale\":[[0.0,\"#FFA15A\"],[1.0,\"#FFA15A\"]],\"geo\":\"geo\",\"hovertemplate\":\"Deaths=284<br>Abbreviation=%{location}<extra></extra>\",\"locationmode\":\"USA-states\",\"locations\":[\"MO\"],\"name\":\"284\",\"showlegend\":true,\"showscale\":false,\"z\":[1],\"type\":\"choropleth\"},{\"colorscale\":[[0.0,\"#19d3f3\"],[1.0,\"#19d3f3\"]],\"geo\":\"geo\",\"hovertemplate\":\"Deaths=306<br>Abbreviation=%{location}<extra></extra>\",\"locationmode\":\"USA-states\",\"locations\":[\"MO\"],\"name\":\"306\",\"showlegend\":true,\"showscale\":false,\"z\":[1],\"type\":\"choropleth\"},{\"colorscale\":[[0.0,\"#FF6692\"],[1.0,\"#FF6692\"]],\"geo\":\"geo\",\"hovertemplate\":\"Deaths=418<br>Abbreviation=%{location}<extra></extra>\",\"locationmode\":\"USA-states\",\"locations\":[\"MO\"],\"name\":\"418\",\"showlegend\":true,\"showscale\":false,\"z\":[1],\"type\":\"choropleth\"},{\"colorscale\":[[0.0,\"#B6E880\"],[1.0,\"#B6E880\"]],\"geo\":\"geo\",\"hovertemplate\":\"Deaths=406<br>Abbreviation=%{location}<extra></extra>\",\"locationmode\":\"USA-states\",\"locations\":[\"MO\",\"WI\"],\"name\":\"406\",\"showlegend\":true,\"showscale\":false,\"z\":[1,1],\"type\":\"choropleth\"},{\"colorscale\":[[0.0,\"#FF97FF\"],[1.0,\"#FF97FF\"]],\"geo\":\"geo\",\"hovertemplate\":\"Deaths=548<br>Abbreviation=%{location}<extra></extra>\",\"locationmode\":\"USA-states\",\"locations\":[\"MO\",\"TN\"],\"name\":\"548\",\"showlegend\":true,\"showscale\":false,\"z\":[1,1],\"type\":\"choropleth\"},{\"colorscale\":[[0.0,\"#FECB52\"],[1.0,\"#FECB52\"]],\"geo\":\"geo\",\"hovertemplate\":\"Deaths=614<br>Abbreviation=%{location}<extra></extra>\",\"locationmode\":\"USA-states\",\"locations\":[\"MO\",\"NY\"],\"name\":\"614\",\"showlegend\":true,\"showscale\":false,\"z\":[1,1],\"type\":\"choropleth\"},{\"colorscale\":[[0.0,\"#636efa\"],[1.0,\"#636efa\"]],\"geo\":\"geo\",\"hovertemplate\":\"Deaths=556<br>Abbreviation=%{location}<extra></extra>\",\"locationmode\":\"USA-states\",\"locations\":[\"MO\"],\"name\":\"556\",\"showlegend\":true,\"showscale\":false,\"z\":[1],\"type\":\"choropleth\"},{\"colorscale\":[[0.0,\"#EF553B\"],[1.0,\"#EF553B\"]],\"geo\":\"geo\",\"hovertemplate\":\"Deaths=644<br>Abbreviation=%{location}<extra></extra>\",\"locationmode\":\"USA-states\",\"locations\":[\"MO\"],\"name\":\"644\",\"showlegend\":true,\"showscale\":false,\"z\":[1],\"type\":\"choropleth\"},{\"colorscale\":[[0.0,\"#00cc96\"],[1.0,\"#00cc96\"]],\"geo\":\"geo\",\"hovertemplate\":\"Deaths=726<br>Abbreviation=%{location}<extra></extra>\",\"locationmode\":\"USA-states\",\"locations\":[\"MO\"],\"name\":\"726\",\"showlegend\":true,\"showscale\":false,\"z\":[1],\"type\":\"choropleth\"},{\"colorscale\":[[0.0,\"#ab63fa\"],[1.0,\"#ab63fa\"]],\"geo\":\"geo\",\"hovertemplate\":\"Deaths=21<br>Abbreviation=%{location}<extra></extra>\",\"locationmode\":\"USA-states\",\"locations\":[\"MT\",\"MT\",\"SD\",\"SD\"],\"name\":\"21\",\"showlegend\":true,\"showscale\":false,\"z\":[1,1,1,1],\"type\":\"choropleth\"},{\"colorscale\":[[0.0,\"#FFA15A\"],[1.0,\"#FFA15A\"]],\"geo\":\"geo\",\"hovertemplate\":\"Deaths=63<br>Abbreviation=%{location}<extra></extra>\",\"locationmode\":\"USA-states\",\"locations\":[\"MT\"],\"name\":\"63\",\"showlegend\":true,\"showscale\":false,\"z\":[1],\"type\":\"choropleth\"},{\"colorscale\":[[0.0,\"#19d3f3\"],[1.0,\"#19d3f3\"]],\"geo\":\"geo\",\"hovertemplate\":\"Deaths=25<br>Abbreviation=%{location}<extra></extra>\",\"locationmode\":\"USA-states\",\"locations\":[\"NE\",\"WY\"],\"name\":\"25\",\"showlegend\":true,\"showscale\":false,\"z\":[1,1],\"type\":\"choropleth\"},{\"colorscale\":[[0.0,\"#FF6692\"],[1.0,\"#FF6692\"]],\"geo\":\"geo\",\"hovertemplate\":\"Deaths=166<br>Abbreviation=%{location}<extra></extra>\",\"locationmode\":\"USA-states\",\"locations\":[\"NV\"],\"name\":\"166\",\"showlegend\":true,\"showscale\":false,\"z\":[1],\"type\":\"choropleth\"},{\"colorscale\":[[0.0,\"#B6E880\"],[1.0,\"#B6E880\"]],\"geo\":\"geo\",\"hovertemplate\":\"Deaths=205<br>Abbreviation=%{location}<extra></extra>\",\"locationmode\":\"USA-states\",\"locations\":[\"NV\",\"NM\"],\"name\":\"205\",\"showlegend\":true,\"showscale\":false,\"z\":[1,1],\"type\":\"choropleth\"},{\"colorscale\":[[0.0,\"#FF97FF\"],[1.0,\"#FF97FF\"]],\"geo\":\"geo\",\"hovertemplate\":\"Deaths=287<br>Abbreviation=%{location}<extra></extra>\",\"locationmode\":\"USA-states\",\"locations\":[\"NV\"],\"name\":\"287\",\"showlegend\":true,\"showscale\":false,\"z\":[1],\"type\":\"choropleth\"},{\"colorscale\":[[0.0,\"#FECB52\"],[1.0,\"#FECB52\"]],\"geo\":\"geo\",\"hovertemplate\":\"Deaths=330<br>Abbreviation=%{location}<extra></extra>\",\"locationmode\":\"USA-states\",\"locations\":[\"NV\",\"NM\",\"PA\"],\"name\":\"330\",\"showlegend\":true,\"showscale\":false,\"z\":[1,1,1],\"type\":\"choropleth\"},{\"colorscale\":[[0.0,\"#636efa\"],[1.0,\"#636efa\"]],\"geo\":\"geo\",\"hovertemplate\":\"Deaths=378<br>Abbreviation=%{location}<extra></extra>\",\"locationmode\":\"USA-states\",\"locations\":[\"NV\"],\"name\":\"378\",\"showlegend\":true,\"showscale\":false,\"z\":[1],\"type\":\"choropleth\"},{\"colorscale\":[[0.0,\"#EF553B\"],[1.0,\"#EF553B\"]],\"geo\":\"geo\",\"hovertemplate\":\"Deaths=414<br>Abbreviation=%{location}<extra></extra>\",\"locationmode\":\"USA-states\",\"locations\":[\"NV\"],\"name\":\"414\",\"showlegend\":true,\"showscale\":false,\"z\":[1],\"type\":\"choropleth\"},{\"colorscale\":[[0.0,\"#00cc96\"],[1.0,\"#00cc96\"]],\"geo\":\"geo\",\"hovertemplate\":\"Deaths=437<br>Abbreviation=%{location}<extra></extra>\",\"locationmode\":\"USA-states\",\"locations\":[\"NV\"],\"name\":\"437\",\"showlegend\":true,\"showscale\":false,\"z\":[1],\"type\":\"choropleth\"},{\"colorscale\":[[0.0,\"#ab63fa\"],[1.0,\"#ab63fa\"]],\"geo\":\"geo\",\"hovertemplate\":\"Deaths=498<br>Abbreviation=%{location}<extra></extra>\",\"locationmode\":\"USA-states\",\"locations\":[\"NV\"],\"name\":\"498\",\"showlegend\":true,\"showscale\":false,\"z\":[1],\"type\":\"choropleth\"},{\"colorscale\":[[0.0,\"#FFA15A\"],[1.0,\"#FFA15A\"]],\"geo\":\"geo\",\"hovertemplate\":\"Deaths=520<br>Abbreviation=%{location}<extra></extra>\",\"locationmode\":\"USA-states\",\"locations\":[\"NV\",\"VA\"],\"name\":\"520\",\"showlegend\":true,\"showscale\":false,\"z\":[1,1],\"type\":\"choropleth\"},{\"colorscale\":[[0.0,\"#19d3f3\"],[1.0,\"#19d3f3\"]],\"geo\":\"geo\",\"hovertemplate\":\"Deaths=413<br>Abbreviation=%{location}<extra></extra>\",\"locationmode\":\"USA-states\",\"locations\":[\"NV\"],\"name\":\"413\",\"showlegend\":true,\"showscale\":false,\"z\":[1],\"type\":\"choropleth\"},{\"colorscale\":[[0.0,\"#FF6692\"],[1.0,\"#FF6692\"]],\"geo\":\"geo\",\"hovertemplate\":\"Deaths=99<br>Abbreviation=%{location}<extra></extra>\",\"locationmode\":\"USA-states\",\"locations\":[\"NH\"],\"name\":\"99\",\"showlegend\":true,\"showscale\":false,\"z\":[1],\"type\":\"choropleth\"},{\"colorscale\":[[0.0,\"#B6E880\"],[1.0,\"#B6E880\"]],\"geo\":\"geo\",\"hovertemplate\":\"Deaths=161<br>Abbreviation=%{location}<extra></extra>\",\"locationmode\":\"USA-states\",\"locations\":[\"NH\",\"NC\"],\"name\":\"161\",\"showlegend\":true,\"showscale\":false,\"z\":[1,1],\"type\":\"choropleth\"},{\"colorscale\":[[0.0,\"#FF97FF\"],[1.0,\"#FF97FF\"]],\"geo\":\"geo\",\"hovertemplate\":\"Deaths=302<br>Abbreviation=%{location}<extra></extra>\",\"locationmode\":\"USA-states\",\"locations\":[\"NH\"],\"name\":\"302\",\"showlegend\":true,\"showscale\":false,\"z\":[1],\"type\":\"choropleth\"},{\"colorscale\":[[0.0,\"#FECB52\"],[1.0,\"#FECB52\"]],\"geo\":\"geo\",\"hovertemplate\":\"Deaths=363<br>Abbreviation=%{location}<extra></extra>\",\"locationmode\":\"USA-states\",\"locations\":[\"NJ\"],\"name\":\"363\",\"showlegend\":true,\"showscale\":false,\"z\":[1],\"type\":\"choropleth\"},{\"colorscale\":[[0.0,\"#636efa\"],[1.0,\"#636efa\"]],\"geo\":\"geo\",\"hovertemplate\":\"Deaths=419<br>Abbreviation=%{location}<extra></extra>\",\"locationmode\":\"USA-states\",\"locations\":[\"NJ\"],\"name\":\"419\",\"showlegend\":true,\"showscale\":false,\"z\":[1],\"type\":\"choropleth\"},{\"colorscale\":[[0.0,\"#EF553B\"],[1.0,\"#EF553B\"]],\"geo\":\"geo\",\"hovertemplate\":\"Deaths=505<br>Abbreviation=%{location}<extra></extra>\",\"locationmode\":\"USA-states\",\"locations\":[\"NJ\"],\"name\":\"505\",\"showlegend\":true,\"showscale\":false,\"z\":[1],\"type\":\"choropleth\"},{\"colorscale\":[[0.0,\"#00cc96\"],[1.0,\"#00cc96\"]],\"geo\":\"geo\",\"hovertemplate\":\"Deaths=466<br>Abbreviation=%{location}<extra></extra>\",\"locationmode\":\"USA-states\",\"locations\":[\"NJ\",\"TN\"],\"name\":\"466\",\"showlegend\":true,\"showscale\":false,\"z\":[1,1],\"type\":\"choropleth\"},{\"colorscale\":[[0.0,\"#ab63fa\"],[1.0,\"#ab63fa\"]],\"geo\":\"geo\",\"hovertemplate\":\"Deaths=326<br>Abbreviation=%{location}<extra></extra>\",\"locationmode\":\"USA-states\",\"locations\":[\"NJ\",\"VA\"],\"name\":\"326\",\"showlegend\":true,\"showscale\":false,\"z\":[1,1],\"type\":\"choropleth\"},{\"colorscale\":[[0.0,\"#FFA15A\"],[1.0,\"#FFA15A\"]],\"geo\":\"geo\",\"hovertemplate\":\"Deaths=454<br>Abbreviation=%{location}<extra></extra>\",\"locationmode\":\"USA-states\",\"locations\":[\"NJ\"],\"name\":\"454\",\"showlegend\":true,\"showscale\":false,\"z\":[1],\"type\":\"choropleth\"},{\"colorscale\":[[0.0,\"#19d3f3\"],[1.0,\"#19d3f3\"]],\"geo\":\"geo\",\"hovertemplate\":\"Deaths=348<br>Abbreviation=%{location}<extra></extra>\",\"locationmode\":\"USA-states\",\"locations\":[\"NJ\",\"OR\"],\"name\":\"348\",\"showlegend\":true,\"showscale\":false,\"z\":[1,1],\"type\":\"choropleth\"},{\"colorscale\":[[0.0,\"#FF6692\"],[1.0,\"#FF6692\"]],\"geo\":\"geo\",\"hovertemplate\":\"Deaths=347<br>Abbreviation=%{location}<extra></extra>\",\"locationmode\":\"USA-states\",\"locations\":[\"NJ\",\"OR\",\"WV\"],\"name\":\"347\",\"showlegend\":true,\"showscale\":false,\"z\":[1,1,1],\"type\":\"choropleth\"},{\"colorscale\":[[0.0,\"#B6E880\"],[1.0,\"#B6E880\"]],\"geo\":\"geo\",\"hovertemplate\":\"Deaths=384<br>Abbreviation=%{location}<extra></extra>\",\"locationmode\":\"USA-states\",\"locations\":[\"NJ\"],\"name\":\"384\",\"showlegend\":true,\"showscale\":false,\"z\":[1],\"type\":\"choropleth\"},{\"colorscale\":[[0.0,\"#FF97FF\"],[1.0,\"#FF97FF\"]],\"geo\":\"geo\",\"hovertemplate\":\"Deaths=478<br>Abbreviation=%{location}<extra></extra>\",\"locationmode\":\"USA-states\",\"locations\":[\"NJ\"],\"name\":\"478\",\"showlegend\":true,\"showscale\":false,\"z\":[1],\"type\":\"choropleth\"},{\"colorscale\":[[0.0,\"#FECB52\"],[1.0,\"#FECB52\"]],\"geo\":\"geo\",\"hovertemplate\":\"Deaths=711<br>Abbreviation=%{location}<extra></extra>\",\"locationmode\":\"USA-states\",\"locations\":[\"NJ\"],\"name\":\"711\",\"showlegend\":true,\"showscale\":false,\"z\":[1],\"type\":\"choropleth\"},{\"colorscale\":[[0.0,\"#636efa\"],[1.0,\"#636efa\"]],\"geo\":\"geo\",\"hovertemplate\":\"Deaths=757<br>Abbreviation=%{location}<extra></extra>\",\"locationmode\":\"USA-states\",\"locations\":[\"NJ\"],\"name\":\"757\",\"showlegend\":true,\"showscale\":false,\"z\":[1],\"type\":\"choropleth\"},{\"colorscale\":[[0.0,\"#EF553B\"],[1.0,\"#EF553B\"]],\"geo\":\"geo\",\"hovertemplate\":\"Deaths=187<br>Abbreviation=%{location}<extra></extra>\",\"locationmode\":\"USA-states\",\"locations\":[\"NM\"],\"name\":\"187\",\"showlegend\":true,\"showscale\":false,\"z\":[1],\"type\":\"choropleth\"},{\"colorscale\":[[0.0,\"#00cc96\"],[1.0,\"#00cc96\"]],\"geo\":\"geo\",\"hovertemplate\":\"Deaths=155<br>Abbreviation=%{location}<extra></extra>\",\"locationmode\":\"USA-states\",\"locations\":[\"NM\"],\"name\":\"155\",\"showlegend\":true,\"showscale\":false,\"z\":[1],\"type\":\"choropleth\"},{\"colorscale\":[[0.0,\"#ab63fa\"],[1.0,\"#ab63fa\"]],\"geo\":\"geo\",\"hovertemplate\":\"Deaths=192<br>Abbreviation=%{location}<extra></extra>\",\"locationmode\":\"USA-states\",\"locations\":[\"NM\"],\"name\":\"192\",\"showlegend\":true,\"showscale\":false,\"z\":[1],\"type\":\"choropleth\"},{\"colorscale\":[[0.0,\"#FFA15A\"],[1.0,\"#FFA15A\"]],\"geo\":\"geo\",\"hovertemplate\":\"Deaths=219<br>Abbreviation=%{location}<extra></extra>\",\"locationmode\":\"USA-states\",\"locations\":[\"NM\"],\"name\":\"219\",\"showlegend\":true,\"showscale\":false,\"z\":[1],\"type\":\"choropleth\"},{\"colorscale\":[[0.0,\"#19d3f3\"],[1.0,\"#19d3f3\"]],\"geo\":\"geo\",\"hovertemplate\":\"Deaths=252<br>Abbreviation=%{location}<extra></extra>\",\"locationmode\":\"USA-states\",\"locations\":[\"NM\"],\"name\":\"252\",\"showlegend\":true,\"showscale\":false,\"z\":[1],\"type\":\"choropleth\"},{\"colorscale\":[[0.0,\"#FF6692\"],[1.0,\"#FF6692\"]],\"geo\":\"geo\",\"hovertemplate\":\"Deaths=272<br>Abbreviation=%{location}<extra></extra>\",\"locationmode\":\"USA-states\",\"locations\":[\"NM\",\"UT\"],\"name\":\"272\",\"showlegend\":true,\"showscale\":false,\"z\":[1,1],\"type\":\"choropleth\"},{\"colorscale\":[[0.0,\"#B6E880\"],[1.0,\"#B6E880\"]],\"geo\":\"geo\",\"hovertemplate\":\"Deaths=212<br>Abbreviation=%{location}<extra></extra>\",\"locationmode\":\"USA-states\",\"locations\":[\"NM\"],\"name\":\"212\",\"showlegend\":true,\"showscale\":false,\"z\":[1],\"type\":\"choropleth\"},{\"colorscale\":[[0.0,\"#FF97FF\"],[1.0,\"#FF97FF\"]],\"geo\":\"geo\",\"hovertemplate\":\"Deaths=201<br>Abbreviation=%{location}<extra></extra>\",\"locationmode\":\"USA-states\",\"locations\":[\"NM\",\"OR\"],\"name\":\"201\",\"showlegend\":true,\"showscale\":false,\"z\":[1,1],\"type\":\"choropleth\"},{\"colorscale\":[[0.0,\"#FECB52\"],[1.0,\"#FECB52\"]],\"geo\":\"geo\",\"hovertemplate\":\"Deaths=254<br>Abbreviation=%{location}<extra></extra>\",\"locationmode\":\"USA-states\",\"locations\":[\"NM\"],\"name\":\"254\",\"showlegend\":true,\"showscale\":false,\"z\":[1],\"type\":\"choropleth\"},{\"colorscale\":[[0.0,\"#636efa\"],[1.0,\"#636efa\"]],\"geo\":\"geo\",\"hovertemplate\":\"Deaths=416<br>Abbreviation=%{location}<extra></extra>\",\"locationmode\":\"USA-states\",\"locations\":[\"NM\",\"OK\"],\"name\":\"416\",\"showlegend\":true,\"showscale\":false,\"z\":[1,1],\"type\":\"choropleth\"},{\"colorscale\":[[0.0,\"#EF553B\"],[1.0,\"#EF553B\"]],\"geo\":\"geo\",\"hovertemplate\":\"Deaths=664<br>Abbreviation=%{location}<extra></extra>\",\"locationmode\":\"USA-states\",\"locations\":[\"NY\"],\"name\":\"664\",\"showlegend\":true,\"showscale\":false,\"z\":[1],\"type\":\"choropleth\"},{\"colorscale\":[[0.0,\"#00cc96\"],[1.0,\"#00cc96\"]],\"geo\":\"geo\",\"hovertemplate\":\"Deaths=521<br>Abbreviation=%{location}<extra></extra>\",\"locationmode\":\"USA-states\",\"locations\":[\"NY\",\"OK\"],\"name\":\"521\",\"showlegend\":true,\"showscale\":false,\"z\":[1,1],\"type\":\"choropleth\"},{\"colorscale\":[[0.0,\"#ab63fa\"],[1.0,\"#ab63fa\"]],\"geo\":\"geo\",\"hovertemplate\":\"Deaths=654<br>Abbreviation=%{location}<extra></extra>\",\"locationmode\":\"USA-states\",\"locations\":[\"NY\",\"PA\"],\"name\":\"654\",\"showlegend\":true,\"showscale\":false,\"z\":[1,1],\"type\":\"choropleth\"},{\"colorscale\":[[0.0,\"#FFA15A\"],[1.0,\"#FFA15A\"]],\"geo\":\"geo\",\"hovertemplate\":\"Deaths=586<br>Abbreviation=%{location}<extra></extra>\",\"locationmode\":\"USA-states\",\"locations\":[\"NY\"],\"name\":\"586\",\"showlegend\":true,\"showscale\":false,\"z\":[1],\"type\":\"choropleth\"},{\"colorscale\":[[0.0,\"#19d3f3\"],[1.0,\"#19d3f3\"]],\"geo\":\"geo\",\"hovertemplate\":\"Deaths=514<br>Abbreviation=%{location}<extra></extra>\",\"locationmode\":\"USA-states\",\"locations\":[\"NY\"],\"name\":\"514\",\"showlegend\":true,\"showscale\":false,\"z\":[1],\"type\":\"choropleth\"},{\"colorscale\":[[0.0,\"#FF6692\"],[1.0,\"#FF6692\"]],\"geo\":\"geo\",\"hovertemplate\":\"Deaths=580<br>Abbreviation=%{location}<extra></extra>\",\"locationmode\":\"USA-states\",\"locations\":[\"NY\"],\"name\":\"580\",\"showlegend\":true,\"showscale\":false,\"z\":[1],\"type\":\"choropleth\"},{\"colorscale\":[[0.0,\"#B6E880\"],[1.0,\"#B6E880\"]],\"geo\":\"geo\",\"hovertemplate\":\"Deaths=1056<br>Abbreviation=%{location}<extra></extra>\",\"locationmode\":\"USA-states\",\"locations\":[\"NY\"],\"name\":\"1056\",\"showlegend\":true,\"showscale\":false,\"z\":[1],\"type\":\"choropleth\"},{\"colorscale\":[[0.0,\"#FF97FF\"],[1.0,\"#FF97FF\"]],\"geo\":\"geo\",\"hovertemplate\":\"Deaths=1064<br>Abbreviation=%{location}<extra></extra>\",\"locationmode\":\"USA-states\",\"locations\":[\"NY\",\"TX\"],\"name\":\"1064\",\"showlegend\":true,\"showscale\":false,\"z\":[1,1],\"type\":\"choropleth\"},{\"colorscale\":[[0.0,\"#FECB52\"],[1.0,\"#FECB52\"]],\"geo\":\"geo\",\"hovertemplate\":\"Deaths=1169<br>Abbreviation=%{location}<extra></extra>\",\"locationmode\":\"USA-states\",\"locations\":[\"NY\"],\"name\":\"1169\",\"showlegend\":true,\"showscale\":false,\"z\":[1],\"type\":\"choropleth\"},{\"colorscale\":[[0.0,\"#636efa\"],[1.0,\"#636efa\"]],\"geo\":\"geo\",\"hovertemplate\":\"Deaths=1107<br>Abbreviation=%{location}<extra></extra>\",\"locationmode\":\"USA-states\",\"locations\":[\"NY\",\"TX\"],\"name\":\"1107\",\"showlegend\":true,\"showscale\":false,\"z\":[1,1],\"type\":\"choropleth\"},{\"colorscale\":[[0.0,\"#EF553B\"],[1.0,\"#EF553B\"]],\"geo\":\"geo\",\"hovertemplate\":\"Deaths=1115<br>Abbreviation=%{location}<extra></extra>\",\"locationmode\":\"USA-states\",\"locations\":[\"NY\"],\"name\":\"1115\",\"showlegend\":true,\"showscale\":false,\"z\":[1],\"type\":\"choropleth\"},{\"colorscale\":[[0.0,\"#00cc96\"],[1.0,\"#00cc96\"]],\"geo\":\"geo\",\"hovertemplate\":\"Deaths=1417<br>Abbreviation=%{location}<extra></extra>\",\"locationmode\":\"USA-states\",\"locations\":[\"NY\"],\"name\":\"1417\",\"showlegend\":true,\"showscale\":false,\"z\":[1],\"type\":\"choropleth\"},{\"colorscale\":[[0.0,\"#ab63fa\"],[1.0,\"#ab63fa\"]],\"geo\":\"geo\",\"hovertemplate\":\"Deaths=1576<br>Abbreviation=%{location}<extra></extra>\",\"locationmode\":\"USA-states\",\"locations\":[\"NY\"],\"name\":\"1576\",\"showlegend\":true,\"showscale\":false,\"z\":[1],\"type\":\"choropleth\"},{\"colorscale\":[[0.0,\"#FFA15A\"],[1.0,\"#FFA15A\"]],\"geo\":\"geo\",\"hovertemplate\":\"Deaths=1732<br>Abbreviation=%{location}<extra></extra>\",\"locationmode\":\"USA-states\",\"locations\":[\"NY\"],\"name\":\"1732\",\"showlegend\":true,\"showscale\":false,\"z\":[1],\"type\":\"choropleth\"},{\"colorscale\":[[0.0,\"#19d3f3\"],[1.0,\"#19d3f3\"]],\"geo\":\"geo\",\"hovertemplate\":\"Deaths=1787<br>Abbreviation=%{location}<extra></extra>\",\"locationmode\":\"USA-states\",\"locations\":[\"NY\"],\"name\":\"1787\",\"showlegend\":true,\"showscale\":false,\"z\":[1],\"type\":\"choropleth\"},{\"colorscale\":[[0.0,\"#FF6692\"],[1.0,\"#FF6692\"]],\"geo\":\"geo\",\"hovertemplate\":\"Deaths=292<br>Abbreviation=%{location}<extra></extra>\",\"locationmode\":\"USA-states\",\"locations\":[\"NC\"],\"name\":\"292\",\"showlegend\":true,\"showscale\":false,\"z\":[1],\"type\":\"choropleth\"},{\"colorscale\":[[0.0,\"#B6E880\"],[1.0,\"#B6E880\"]],\"geo\":\"geo\",\"hovertemplate\":\"Deaths=342<br>Abbreviation=%{location}<extra></extra>\",\"locationmode\":\"USA-states\",\"locations\":[\"NC\"],\"name\":\"342\",\"showlegend\":true,\"showscale\":false,\"z\":[1],\"type\":\"choropleth\"},{\"colorscale\":[[0.0,\"#FF97FF\"],[1.0,\"#FF97FF\"]],\"geo\":\"geo\",\"hovertemplate\":\"Deaths=506<br>Abbreviation=%{location}<extra></extra>\",\"locationmode\":\"USA-states\",\"locations\":[\"NC\"],\"name\":\"506\",\"showlegend\":true,\"showscale\":false,\"z\":[1],\"type\":\"choropleth\"},{\"colorscale\":[[0.0,\"#FECB52\"],[1.0,\"#FECB52\"]],\"geo\":\"geo\",\"hovertemplate\":\"Deaths=576<br>Abbreviation=%{location}<extra></extra>\",\"locationmode\":\"USA-states\",\"locations\":[\"NC\"],\"name\":\"576\",\"showlegend\":true,\"showscale\":false,\"z\":[1],\"type\":\"choropleth\"},{\"colorscale\":[[0.0,\"#636efa\"],[1.0,\"#636efa\"]],\"geo\":\"geo\",\"hovertemplate\":\"Deaths=659<br>Abbreviation=%{location}<extra></extra>\",\"locationmode\":\"USA-states\",\"locations\":[\"NC\"],\"name\":\"659\",\"showlegend\":true,\"showscale\":false,\"z\":[1],\"type\":\"choropleth\"},{\"colorscale\":[[0.0,\"#EF553B\"],[1.0,\"#EF553B\"]],\"geo\":\"geo\",\"hovertemplate\":\"Deaths=708<br>Abbreviation=%{location}<extra></extra>\",\"locationmode\":\"USA-states\",\"locations\":[\"NC\"],\"name\":\"708\",\"showlegend\":true,\"showscale\":false,\"z\":[1],\"type\":\"choropleth\"},{\"colorscale\":[[0.0,\"#00cc96\"],[1.0,\"#00cc96\"]],\"geo\":\"geo\",\"hovertemplate\":\"Deaths=758<br>Abbreviation=%{location}<extra></extra>\",\"locationmode\":\"USA-states\",\"locations\":[\"NC\"],\"name\":\"758\",\"showlegend\":true,\"showscale\":false,\"z\":[1],\"type\":\"choropleth\"},{\"colorscale\":[[0.0,\"#ab63fa\"],[1.0,\"#ab63fa\"]],\"geo\":\"geo\",\"hovertemplate\":\"Deaths=859<br>Abbreviation=%{location}<extra></extra>\",\"locationmode\":\"USA-states\",\"locations\":[\"NC\"],\"name\":\"859\",\"showlegend\":true,\"showscale\":false,\"z\":[1],\"type\":\"choropleth\"},{\"colorscale\":[[0.0,\"#FFA15A\"],[1.0,\"#FFA15A\"]],\"geo\":\"geo\",\"hovertemplate\":\"Deaths=864<br>Abbreviation=%{location}<extra></extra>\",\"locationmode\":\"USA-states\",\"locations\":[\"NC\"],\"name\":\"864\",\"showlegend\":true,\"showscale\":false,\"z\":[1],\"type\":\"choropleth\"},{\"colorscale\":[[0.0,\"#19d3f3\"],[1.0,\"#19d3f3\"]],\"geo\":\"geo\",\"hovertemplate\":\"Deaths=787<br>Abbreviation=%{location}<extra></extra>\",\"locationmode\":\"USA-states\",\"locations\":[\"NC\"],\"name\":\"787\",\"showlegend\":true,\"showscale\":false,\"z\":[1],\"type\":\"choropleth\"},{\"colorscale\":[[0.0,\"#FF6692\"],[1.0,\"#FF6692\"]],\"geo\":\"geo\",\"hovertemplate\":\"Deaths=829<br>Abbreviation=%{location}<extra></extra>\",\"locationmode\":\"USA-states\",\"locations\":[\"NC\"],\"name\":\"829\",\"showlegend\":true,\"showscale\":false,\"z\":[1],\"type\":\"choropleth\"},{\"colorscale\":[[0.0,\"#B6E880\"],[1.0,\"#B6E880\"]],\"geo\":\"geo\",\"hovertemplate\":\"Deaths=841<br>Abbreviation=%{location}<extra></extra>\",\"locationmode\":\"USA-states\",\"locations\":[\"NC\"],\"name\":\"841\",\"showlegend\":true,\"showscale\":false,\"z\":[1],\"type\":\"choropleth\"},{\"colorscale\":[[0.0,\"#FF97FF\"],[1.0,\"#FF97FF\"]],\"geo\":\"geo\",\"hovertemplate\":\"Deaths=840<br>Abbreviation=%{location}<extra></extra>\",\"locationmode\":\"USA-states\",\"locations\":[\"NC\",\"PA\"],\"name\":\"840\",\"showlegend\":true,\"showscale\":false,\"z\":[1,1],\"type\":\"choropleth\"},{\"colorscale\":[[0.0,\"#FECB52\"],[1.0,\"#FECB52\"]],\"geo\":\"geo\",\"hovertemplate\":\"Deaths=979<br>Abbreviation=%{location}<extra></extra>\",\"locationmode\":\"USA-states\",\"locations\":[\"NC\"],\"name\":\"979\",\"showlegend\":true,\"showscale\":false,\"z\":[1],\"type\":\"choropleth\"},{\"colorscale\":[[0.0,\"#636efa\"],[1.0,\"#636efa\"]],\"geo\":\"geo\",\"hovertemplate\":\"Deaths=10<br>Abbreviation=%{location}<extra></extra>\",\"locationmode\":\"USA-states\",\"locations\":[\"ND\",\"ND\",\"SD\",\"SD\",\"WY\",\"WY\"],\"name\":\"10\",\"showlegend\":true,\"showscale\":false,\"z\":[1,1,1,1,1,1],\"type\":\"choropleth\"},{\"colorscale\":[[0.0,\"#EF553B\"],[1.0,\"#EF553B\"]],\"geo\":\"geo\",\"hovertemplate\":\"Deaths=18<br>Abbreviation=%{location}<extra></extra>\",\"locationmode\":\"USA-states\",\"locations\":[\"ND\",\"ND\"],\"name\":\"18\",\"showlegend\":true,\"showscale\":false,\"z\":[1,1],\"type\":\"choropleth\"},{\"colorscale\":[[0.0,\"#00cc96\"],[1.0,\"#00cc96\"]],\"geo\":\"geo\",\"hovertemplate\":\"Deaths=459<br>Abbreviation=%{location}<extra></extra>\",\"locationmode\":\"USA-states\",\"locations\":[\"OH\"],\"name\":\"459\",\"showlegend\":true,\"showscale\":false,\"z\":[1],\"type\":\"choropleth\"},{\"colorscale\":[[0.0,\"#ab63fa\"],[1.0,\"#ab63fa\"]],\"geo\":\"geo\",\"hovertemplate\":\"Deaths=398<br>Abbreviation=%{location}<extra></extra>\",\"locationmode\":\"USA-states\",\"locations\":[\"OH\"],\"name\":\"398\",\"showlegend\":true,\"showscale\":false,\"z\":[1],\"type\":\"choropleth\"},{\"colorscale\":[[0.0,\"#FFA15A\"],[1.0,\"#FFA15A\"]],\"geo\":\"geo\",\"hovertemplate\":\"Deaths=557<br>Abbreviation=%{location}<extra></extra>\",\"locationmode\":\"USA-states\",\"locations\":[\"OH\"],\"name\":\"557\",\"showlegend\":true,\"showscale\":false,\"z\":[1],\"type\":\"choropleth\"},{\"colorscale\":[[0.0,\"#19d3f3\"],[1.0,\"#19d3f3\"]],\"geo\":\"geo\",\"hovertemplate\":\"Deaths=591<br>Abbreviation=%{location}<extra></extra>\",\"locationmode\":\"USA-states\",\"locations\":[\"OH\"],\"name\":\"591\",\"showlegend\":true,\"showscale\":false,\"z\":[1],\"type\":\"choropleth\"},{\"colorscale\":[[0.0,\"#FF6692\"],[1.0,\"#FF6692\"]],\"geo\":\"geo\",\"hovertemplate\":\"Deaths=675<br>Abbreviation=%{location}<extra></extra>\",\"locationmode\":\"USA-states\",\"locations\":[\"OH\",\"WA\"],\"name\":\"675\",\"showlegend\":true,\"showscale\":false,\"z\":[1,1],\"type\":\"choropleth\"},{\"colorscale\":[[0.0,\"#B6E880\"],[1.0,\"#B6E880\"]],\"geo\":\"geo\",\"hovertemplate\":\"Deaths=755<br>Abbreviation=%{location}<extra></extra>\",\"locationmode\":\"USA-states\",\"locations\":[\"OH\"],\"name\":\"755\",\"showlegend\":true,\"showscale\":false,\"z\":[1],\"type\":\"choropleth\"},{\"colorscale\":[[0.0,\"#FF97FF\"],[1.0,\"#FF97FF\"]],\"geo\":\"geo\",\"hovertemplate\":\"Deaths=863<br>Abbreviation=%{location}<extra></extra>\",\"locationmode\":\"USA-states\",\"locations\":[\"OH\"],\"name\":\"863\",\"showlegend\":true,\"showscale\":false,\"z\":[1],\"type\":\"choropleth\"},{\"colorscale\":[[0.0,\"#FECB52\"],[1.0,\"#FECB52\"]],\"geo\":\"geo\",\"hovertemplate\":\"Deaths=716<br>Abbreviation=%{location}<extra></extra>\",\"locationmode\":\"USA-states\",\"locations\":[\"OH\"],\"name\":\"716\",\"showlegend\":true,\"showscale\":false,\"z\":[1],\"type\":\"choropleth\"},{\"colorscale\":[[0.0,\"#636efa\"],[1.0,\"#636efa\"]],\"geo\":\"geo\",\"hovertemplate\":\"Deaths=1197<br>Abbreviation=%{location}<extra></extra>\",\"locationmode\":\"USA-states\",\"locations\":[\"OH\",\"TX\"],\"name\":\"1197\",\"showlegend\":true,\"showscale\":false,\"z\":[1,1],\"type\":\"choropleth\"},{\"colorscale\":[[0.0,\"#EF553B\"],[1.0,\"#EF553B\"]],\"geo\":\"geo\",\"hovertemplate\":\"Deaths=1333<br>Abbreviation=%{location}<extra></extra>\",\"locationmode\":\"USA-states\",\"locations\":[\"OH\"],\"name\":\"1333\",\"showlegend\":true,\"showscale\":false,\"z\":[1],\"type\":\"choropleth\"},{\"colorscale\":[[0.0,\"#00cc96\"],[1.0,\"#00cc96\"]],\"geo\":\"geo\",\"hovertemplate\":\"Deaths=1403<br>Abbreviation=%{location}<extra></extra>\",\"locationmode\":\"USA-states\",\"locations\":[\"OH\"],\"name\":\"1403\",\"showlegend\":true,\"showscale\":false,\"z\":[1],\"type\":\"choropleth\"},{\"colorscale\":[[0.0,\"#ab63fa\"],[1.0,\"#ab63fa\"]],\"geo\":\"geo\",\"hovertemplate\":\"Deaths=1695<br>Abbreviation=%{location}<extra></extra>\",\"locationmode\":\"USA-states\",\"locations\":[\"OH\"],\"name\":\"1695\",\"showlegend\":true,\"showscale\":false,\"z\":[1],\"type\":\"choropleth\"},{\"colorscale\":[[0.0,\"#FFA15A\"],[1.0,\"#FFA15A\"]],\"geo\":\"geo\",\"hovertemplate\":\"Deaths=2175<br>Abbreviation=%{location}<extra></extra>\",\"locationmode\":\"USA-states\",\"locations\":[\"OH\"],\"name\":\"2175\",\"showlegend\":true,\"showscale\":false,\"z\":[1],\"type\":\"choropleth\"},{\"colorscale\":[[0.0,\"#19d3f3\"],[1.0,\"#19d3f3\"]],\"geo\":\"geo\",\"hovertemplate\":\"Deaths=136<br>Abbreviation=%{location}<extra></extra>\",\"locationmode\":\"USA-states\",\"locations\":[\"OK\"],\"name\":\"136\",\"showlegend\":true,\"showscale\":false,\"z\":[1],\"type\":\"choropleth\"},{\"colorscale\":[[0.0,\"#FF6692\"],[1.0,\"#FF6692\"]],\"geo\":\"geo\",\"hovertemplate\":\"Deaths=152<br>Abbreviation=%{location}<extra></extra>\",\"locationmode\":\"USA-states\",\"locations\":[\"OK\"],\"name\":\"152\",\"showlegend\":true,\"showscale\":false,\"z\":[1],\"type\":\"choropleth\"},{\"colorscale\":[[0.0,\"#B6E880\"],[1.0,\"#B6E880\"]],\"geo\":\"geo\",\"hovertemplate\":\"Deaths=262<br>Abbreviation=%{location}<extra></extra>\",\"locationmode\":\"USA-states\",\"locations\":[\"OK\"],\"name\":\"262\",\"showlegend\":true,\"showscale\":false,\"z\":[1],\"type\":\"choropleth\"},{\"colorscale\":[[0.0,\"#FF97FF\"],[1.0,\"#FF97FF\"]],\"geo\":\"geo\",\"hovertemplate\":\"Deaths=394<br>Abbreviation=%{location}<extra></extra>\",\"locationmode\":\"USA-states\",\"locations\":[\"OK\",\"UT\"],\"name\":\"394\",\"showlegend\":true,\"showscale\":false,\"z\":[1,1],\"type\":\"choropleth\"},{\"colorscale\":[[0.0,\"#FECB52\"],[1.0,\"#FECB52\"]],\"geo\":\"geo\",\"hovertemplate\":\"Deaths=492<br>Abbreviation=%{location}<extra></extra>\",\"locationmode\":\"USA-states\",\"locations\":[\"OK\",\"VA\",\"WA\"],\"name\":\"492\",\"showlegend\":true,\"showscale\":false,\"z\":[1,1,1],\"type\":\"choropleth\"},{\"colorscale\":[[0.0,\"#636efa\"],[1.0,\"#636efa\"]],\"geo\":\"geo\",\"hovertemplate\":\"Deaths=538<br>Abbreviation=%{location}<extra></extra>\",\"locationmode\":\"USA-states\",\"locations\":[\"OK\"],\"name\":\"538\",\"showlegend\":true,\"showscale\":false,\"z\":[1],\"type\":\"choropleth\"},{\"colorscale\":[[0.0,\"#EF553B\"],[1.0,\"#EF553B\"]],\"geo\":\"geo\",\"hovertemplate\":\"Deaths=178<br>Abbreviation=%{location}<extra></extra>\",\"locationmode\":\"USA-states\",\"locations\":[\"OR\"],\"name\":\"178\",\"showlegend\":true,\"showscale\":false,\"z\":[1],\"type\":\"choropleth\"},{\"colorscale\":[[0.0,\"#00cc96\"],[1.0,\"#00cc96\"]],\"geo\":\"geo\",\"hovertemplate\":\"Deaths=247<br>Abbreviation=%{location}<extra></extra>\",\"locationmode\":\"USA-states\",\"locations\":[\"OR\"],\"name\":\"247\",\"showlegend\":true,\"showscale\":false,\"z\":[1],\"type\":\"choropleth\"},{\"colorscale\":[[0.0,\"#ab63fa\"],[1.0,\"#ab63fa\"]],\"geo\":\"geo\",\"hovertemplate\":\"Deaths=264<br>Abbreviation=%{location}<extra></extra>\",\"locationmode\":\"USA-states\",\"locations\":[\"OR\"],\"name\":\"264\",\"showlegend\":true,\"showscale\":false,\"z\":[1],\"type\":\"choropleth\"},{\"colorscale\":[[0.0,\"#FFA15A\"],[1.0,\"#FFA15A\"]],\"geo\":\"geo\",\"hovertemplate\":\"Deaths=274<br>Abbreviation=%{location}<extra></extra>\",\"locationmode\":\"USA-states\",\"locations\":[\"OR\"],\"name\":\"274\",\"showlegend\":true,\"showscale\":false,\"z\":[1],\"type\":\"choropleth\"},{\"colorscale\":[[0.0,\"#19d3f3\"],[1.0,\"#19d3f3\"]],\"geo\":\"geo\",\"hovertemplate\":\"Deaths=318<br>Abbreviation=%{location}<extra></extra>\",\"locationmode\":\"USA-states\",\"locations\":[\"OR\"],\"name\":\"318\",\"showlegend\":true,\"showscale\":false,\"z\":[1],\"type\":\"choropleth\"},{\"colorscale\":[[0.0,\"#FF6692\"],[1.0,\"#FF6692\"]],\"geo\":\"geo\",\"hovertemplate\":\"Deaths=396<br>Abbreviation=%{location}<extra></extra>\",\"locationmode\":\"USA-states\",\"locations\":[\"OR\"],\"name\":\"396\",\"showlegend\":true,\"showscale\":false,\"z\":[1],\"type\":\"choropleth\"},{\"colorscale\":[[0.0,\"#B6E880\"],[1.0,\"#B6E880\"]],\"geo\":\"geo\",\"hovertemplate\":\"Deaths=362<br>Abbreviation=%{location}<extra></extra>\",\"locationmode\":\"USA-states\",\"locations\":[\"OR\"],\"name\":\"362\",\"showlegend\":true,\"showscale\":false,\"z\":[1],\"type\":\"choropleth\"},{\"colorscale\":[[0.0,\"#FF97FF\"],[1.0,\"#FF97FF\"]],\"geo\":\"geo\",\"hovertemplate\":\"Deaths=382<br>Abbreviation=%{location}<extra></extra>\",\"locationmode\":\"USA-states\",\"locations\":[\"OR\",\"UT\"],\"name\":\"382\",\"showlegend\":true,\"showscale\":false,\"z\":[1,1],\"type\":\"choropleth\"},{\"colorscale\":[[0.0,\"#FECB52\"],[1.0,\"#FECB52\"]],\"geo\":\"geo\",\"hovertemplate\":\"Deaths=402<br>Abbreviation=%{location}<extra></extra>\",\"locationmode\":\"USA-states\",\"locations\":[\"OR\"],\"name\":\"402\",\"showlegend\":true,\"showscale\":false,\"z\":[1],\"type\":\"choropleth\"},{\"colorscale\":[[0.0,\"#636efa\"],[1.0,\"#636efa\"]],\"geo\":\"geo\",\"hovertemplate\":\"Deaths=369<br>Abbreviation=%{location}<extra></extra>\",\"locationmode\":\"USA-states\",\"locations\":[\"OR\"],\"name\":\"369\",\"showlegend\":true,\"showscale\":false,\"z\":[1],\"type\":\"choropleth\"},{\"colorscale\":[[0.0,\"#EF553B\"],[1.0,\"#EF553B\"]],\"geo\":\"geo\",\"hovertemplate\":\"Deaths=328<br>Abbreviation=%{location}<extra></extra>\",\"locationmode\":\"USA-states\",\"locations\":[\"PA\"],\"name\":\"328\",\"showlegend\":true,\"showscale\":false,\"z\":[1],\"type\":\"choropleth\"},{\"colorscale\":[[0.0,\"#00cc96\"],[1.0,\"#00cc96\"]],\"geo\":\"geo\",\"hovertemplate\":\"Deaths=357<br>Abbreviation=%{location}<extra></extra>\",\"locationmode\":\"USA-states\",\"locations\":[\"PA\"],\"name\":\"357\",\"showlegend\":true,\"showscale\":false,\"z\":[1],\"type\":\"choropleth\"},{\"colorscale\":[[0.0,\"#ab63fa\"],[1.0,\"#ab63fa\"]],\"geo\":\"geo\",\"hovertemplate\":\"Deaths=481<br>Abbreviation=%{location}<extra></extra>\",\"locationmode\":\"USA-states\",\"locations\":[\"PA\"],\"name\":\"481\",\"showlegend\":true,\"showscale\":false,\"z\":[1],\"type\":\"choropleth\"},{\"colorscale\":[[0.0,\"#FFA15A\"],[1.0,\"#FFA15A\"]],\"geo\":\"geo\",\"hovertemplate\":\"Deaths=484<br>Abbreviation=%{location}<extra></extra>\",\"locationmode\":\"USA-states\",\"locations\":[\"PA\",\"WI\"],\"name\":\"484\",\"showlegend\":true,\"showscale\":false,\"z\":[1,1],\"type\":\"choropleth\"},{\"colorscale\":[[0.0,\"#19d3f3\"],[1.0,\"#19d3f3\"]],\"geo\":\"geo\",\"hovertemplate\":\"Deaths=524<br>Abbreviation=%{location}<extra></extra>\",\"locationmode\":\"USA-states\",\"locations\":[\"PA\"],\"name\":\"524\",\"showlegend\":true,\"showscale\":false,\"z\":[1],\"type\":\"choropleth\"},{\"colorscale\":[[0.0,\"#FF6692\"],[1.0,\"#FF6692\"]],\"geo\":\"geo\",\"hovertemplate\":\"Deaths=429<br>Abbreviation=%{location}<extra></extra>\",\"locationmode\":\"USA-states\",\"locations\":[\"PA\"],\"name\":\"429\",\"showlegend\":true,\"showscale\":false,\"z\":[1],\"type\":\"choropleth\"},{\"colorscale\":[[0.0,\"#B6E880\"],[1.0,\"#B6E880\"]],\"geo\":\"geo\",\"hovertemplate\":\"Deaths=501<br>Abbreviation=%{location}<extra></extra>\",\"locationmode\":\"USA-states\",\"locations\":[\"PA\",\"VA\"],\"name\":\"501\",\"showlegend\":true,\"showscale\":false,\"z\":[1,1],\"type\":\"choropleth\"},{\"colorscale\":[[0.0,\"#FF97FF\"],[1.0,\"#FF97FF\"]],\"geo\":\"geo\",\"hovertemplate\":\"Deaths=640<br>Abbreviation=%{location}<extra></extra>\",\"locationmode\":\"USA-states\",\"locations\":[\"PA\",\"WI\"],\"name\":\"640\",\"showlegend\":true,\"showscale\":false,\"z\":[1,1],\"type\":\"choropleth\"},{\"colorscale\":[[0.0,\"#FECB52\"],[1.0,\"#FECB52\"]],\"geo\":\"geo\",\"hovertemplate\":\"Deaths=770<br>Abbreviation=%{location}<extra></extra>\",\"locationmode\":\"USA-states\",\"locations\":[\"PA\"],\"name\":\"770\",\"showlegend\":true,\"showscale\":false,\"z\":[1],\"type\":\"choropleth\"},{\"colorscale\":[[0.0,\"#636efa\"],[1.0,\"#636efa\"]],\"geo\":\"geo\",\"hovertemplate\":\"Deaths=970<br>Abbreviation=%{location}<extra></extra>\",\"locationmode\":\"USA-states\",\"locations\":[\"PA\"],\"name\":\"970\",\"showlegend\":true,\"showscale\":false,\"z\":[1],\"type\":\"choropleth\"},{\"colorscale\":[[0.0,\"#EF553B\"],[1.0,\"#EF553B\"]],\"geo\":\"geo\",\"hovertemplate\":\"Deaths=1110<br>Abbreviation=%{location}<extra></extra>\",\"locationmode\":\"USA-states\",\"locations\":[\"PA\"],\"name\":\"1110\",\"showlegend\":true,\"showscale\":false,\"z\":[1],\"type\":\"choropleth\"},{\"colorscale\":[[0.0,\"#00cc96\"],[1.0,\"#00cc96\"]],\"geo\":\"geo\",\"hovertemplate\":\"Deaths=132<br>Abbreviation=%{location}<extra></extra>\",\"locationmode\":\"USA-states\",\"locations\":[\"RI\"],\"name\":\"132\",\"showlegend\":true,\"showscale\":false,\"z\":[1],\"type\":\"choropleth\"},{\"colorscale\":[[0.0,\"#ab63fa\"],[1.0,\"#ab63fa\"]],\"geo\":\"geo\",\"hovertemplate\":\"Deaths=89<br>Abbreviation=%{location}<extra></extra>\",\"locationmode\":\"USA-states\",\"locations\":[\"RI\",\"SC\"],\"name\":\"89\",\"showlegend\":true,\"showscale\":false,\"z\":[1,1],\"type\":\"choropleth\"},{\"colorscale\":[[0.0,\"#FFA15A\"],[1.0,\"#FFA15A\"]],\"geo\":\"geo\",\"hovertemplate\":\"Deaths=145<br>Abbreviation=%{location}<extra></extra>\",\"locationmode\":\"USA-states\",\"locations\":[\"RI\",\"TN\",\"UT\"],\"name\":\"145\",\"showlegend\":true,\"showscale\":false,\"z\":[1,1,1],\"type\":\"choropleth\"},{\"colorscale\":[[0.0,\"#19d3f3\"],[1.0,\"#19d3f3\"]],\"geo\":\"geo\",\"hovertemplate\":\"Deaths=143<br>Abbreviation=%{location}<extra></extra>\",\"locationmode\":\"USA-states\",\"locations\":[\"RI\",\"WI\"],\"name\":\"143\",\"showlegend\":true,\"showscale\":false,\"z\":[1,1],\"type\":\"choropleth\"},{\"colorscale\":[[0.0,\"#FF6692\"],[1.0,\"#FF6692\"]],\"geo\":\"geo\",\"hovertemplate\":\"Deaths=50<br>Abbreviation=%{location}<extra></extra>\",\"locationmode\":\"USA-states\",\"locations\":[\"SC\",\"VT\"],\"name\":\"50\",\"showlegend\":true,\"showscale\":false,\"z\":[1,1],\"type\":\"choropleth\"},{\"colorscale\":[[0.0,\"#B6E880\"],[1.0,\"#B6E880\"]],\"geo\":\"geo\",\"hovertemplate\":\"Deaths=90<br>Abbreviation=%{location}<extra></extra>\",\"locationmode\":\"USA-states\",\"locations\":[\"SC\"],\"name\":\"90\",\"showlegend\":true,\"showscale\":false,\"z\":[1],\"type\":\"choropleth\"},{\"colorscale\":[[0.0,\"#FF97FF\"],[1.0,\"#FF97FF\"]],\"geo\":\"geo\",\"hovertemplate\":\"Deaths=154<br>Abbreviation=%{location}<extra></extra>\",\"locationmode\":\"USA-states\",\"locations\":[\"SC\",\"WV\"],\"name\":\"154\",\"showlegend\":true,\"showscale\":false,\"z\":[1,1],\"type\":\"choropleth\"},{\"colorscale\":[[0.0,\"#FECB52\"],[1.0,\"#FECB52\"]],\"geo\":\"geo\",\"hovertemplate\":\"Deaths=245<br>Abbreviation=%{location}<extra></extra>\",\"locationmode\":\"USA-states\",\"locations\":[\"SC\"],\"name\":\"245\",\"showlegend\":true,\"showscale\":false,\"z\":[1],\"type\":\"choropleth\"},{\"colorscale\":[[0.0,\"#636efa\"],[1.0,\"#636efa\"]],\"geo\":\"geo\",\"hovertemplate\":\"Deaths=530<br>Abbreviation=%{location}<extra></extra>\",\"locationmode\":\"USA-states\",\"locations\":[\"SC\"],\"name\":\"530\",\"showlegend\":true,\"showscale\":false,\"z\":[1],\"type\":\"choropleth\"},{\"colorscale\":[[0.0,\"#EF553B\"],[1.0,\"#EF553B\"]],\"geo\":\"geo\",\"hovertemplate\":\"Deaths=22<br>Abbreviation=%{location}<extra></extra>\",\"locationmode\":\"USA-states\",\"locations\":[\"SD\"],\"name\":\"22\",\"showlegend\":true,\"showscale\":false,\"z\":[1],\"type\":\"choropleth\"},{\"colorscale\":[[0.0,\"#00cc96\"],[1.0,\"#00cc96\"]],\"geo\":\"geo\",\"hovertemplate\":\"Deaths=24<br>Abbreviation=%{location}<extra></extra>\",\"locationmode\":\"USA-states\",\"locations\":[\"SD\",\"VT\"],\"name\":\"24\",\"showlegend\":true,\"showscale\":false,\"z\":[1,1],\"type\":\"choropleth\"},{\"colorscale\":[[0.0,\"#ab63fa\"],[1.0,\"#ab63fa\"]],\"geo\":\"geo\",\"hovertemplate\":\"Deaths=35<br>Abbreviation=%{location}<extra></extra>\",\"locationmode\":\"USA-states\",\"locations\":[\"SD\",\"SD\"],\"name\":\"35\",\"showlegend\":true,\"showscale\":false,\"z\":[1,1],\"type\":\"choropleth\"},{\"colorscale\":[[0.0,\"#FFA15A\"],[1.0,\"#FFA15A\"]],\"geo\":\"geo\",\"hovertemplate\":\"Deaths=403<br>Abbreviation=%{location}<extra></extra>\",\"locationmode\":\"USA-states\",\"locations\":[\"TN\"],\"name\":\"403\",\"showlegend\":true,\"showscale\":false,\"z\":[1],\"type\":\"choropleth\"},{\"colorscale\":[[0.0,\"#19d3f3\"],[1.0,\"#19d3f3\"]],\"geo\":\"geo\",\"hovertemplate\":\"Deaths=483<br>Abbreviation=%{location}<extra></extra>\",\"locationmode\":\"USA-states\",\"locations\":[\"TN\"],\"name\":\"483\",\"showlegend\":true,\"showscale\":false,\"z\":[1],\"type\":\"choropleth\"},{\"colorscale\":[[0.0,\"#FF6692\"],[1.0,\"#FF6692\"]],\"geo\":\"geo\",\"hovertemplate\":\"Deaths=494<br>Abbreviation=%{location}<extra></extra>\",\"locationmode\":\"USA-states\",\"locations\":[\"TN\"],\"name\":\"494\",\"showlegend\":true,\"showscale\":false,\"z\":[1],\"type\":\"choropleth\"},{\"colorscale\":[[0.0,\"#B6E880\"],[1.0,\"#B6E880\"]],\"geo\":\"geo\",\"hovertemplate\":\"Deaths=499<br>Abbreviation=%{location}<extra></extra>\",\"locationmode\":\"USA-states\",\"locations\":[\"TN\"],\"name\":\"499\",\"showlegend\":true,\"showscale\":false,\"z\":[1],\"type\":\"choropleth\"},{\"colorscale\":[[0.0,\"#FF97FF\"],[1.0,\"#FF97FF\"]],\"geo\":\"geo\",\"hovertemplate\":\"Deaths=652<br>Abbreviation=%{location}<extra></extra>\",\"locationmode\":\"USA-states\",\"locations\":[\"TN\"],\"name\":\"652\",\"showlegend\":true,\"showscale\":false,\"z\":[1],\"type\":\"choropleth\"},{\"colorscale\":[[0.0,\"#FECB52\"],[1.0,\"#FECB52\"]],\"geo\":\"geo\",\"hovertemplate\":\"Deaths=663<br>Abbreviation=%{location}<extra></extra>\",\"locationmode\":\"USA-states\",\"locations\":[\"TN\"],\"name\":\"663\",\"showlegend\":true,\"showscale\":false,\"z\":[1],\"type\":\"choropleth\"},{\"colorscale\":[[0.0,\"#636efa\"],[1.0,\"#636efa\"]],\"geo\":\"geo\",\"hovertemplate\":\"Deaths=748<br>Abbreviation=%{location}<extra></extra>\",\"locationmode\":\"USA-states\",\"locations\":[\"TN\"],\"name\":\"748\",\"showlegend\":true,\"showscale\":false,\"z\":[1],\"type\":\"choropleth\"},{\"colorscale\":[[0.0,\"#EF553B\"],[1.0,\"#EF553B\"]],\"geo\":\"geo\",\"hovertemplate\":\"Deaths=789<br>Abbreviation=%{location}<extra></extra>\",\"locationmode\":\"USA-states\",\"locations\":[\"TN\"],\"name\":\"789\",\"showlegend\":true,\"showscale\":false,\"z\":[1],\"type\":\"choropleth\"},{\"colorscale\":[[0.0,\"#00cc96\"],[1.0,\"#00cc96\"]],\"geo\":\"geo\",\"hovertemplate\":\"Deaths=892<br>Abbreviation=%{location}<extra></extra>\",\"locationmode\":\"USA-states\",\"locations\":[\"TN\"],\"name\":\"892\",\"showlegend\":true,\"showscale\":false,\"z\":[1],\"type\":\"choropleth\"},{\"colorscale\":[[0.0,\"#ab63fa\"],[1.0,\"#ab63fa\"]],\"geo\":\"geo\",\"hovertemplate\":\"Deaths=379<br>Abbreviation=%{location}<extra></extra>\",\"locationmode\":\"USA-states\",\"locations\":[\"TX\"],\"name\":\"379\",\"showlegend\":true,\"showscale\":false,\"z\":[1],\"type\":\"choropleth\"},{\"colorscale\":[[0.0,\"#FFA15A\"],[1.0,\"#FFA15A\"]],\"geo\":\"geo\",\"hovertemplate\":\"Deaths=457<br>Abbreviation=%{location}<extra></extra>\",\"locationmode\":\"USA-states\",\"locations\":[\"TX\"],\"name\":\"457\",\"showlegend\":true,\"showscale\":false,\"z\":[1],\"type\":\"choropleth\"},{\"colorscale\":[[0.0,\"#19d3f3\"],[1.0,\"#19d3f3\"]],\"geo\":\"geo\",\"hovertemplate\":\"Deaths=602<br>Abbreviation=%{location}<extra></extra>\",\"locationmode\":\"USA-states\",\"locations\":[\"TX\"],\"name\":\"602\",\"showlegend\":true,\"showscale\":false,\"z\":[1],\"type\":\"choropleth\"},{\"colorscale\":[[0.0,\"#FF6692\"],[1.0,\"#FF6692\"]],\"geo\":\"geo\",\"hovertemplate\":\"Deaths=788<br>Abbreviation=%{location}<extra></extra>\",\"locationmode\":\"USA-states\",\"locations\":[\"TX\"],\"name\":\"788\",\"showlegend\":true,\"showscale\":false,\"z\":[1],\"type\":\"choropleth\"},{\"colorscale\":[[0.0,\"#B6E880\"],[1.0,\"#B6E880\"]],\"geo\":\"geo\",\"hovertemplate\":\"Deaths=825<br>Abbreviation=%{location}<extra></extra>\",\"locationmode\":\"USA-states\",\"locations\":[\"TX\"],\"name\":\"825\",\"showlegend\":true,\"showscale\":false,\"z\":[1],\"type\":\"choropleth\"},{\"colorscale\":[[0.0,\"#FF97FF\"],[1.0,\"#FF97FF\"]],\"geo\":\"geo\",\"hovertemplate\":\"Deaths=836<br>Abbreviation=%{location}<extra></extra>\",\"locationmode\":\"USA-states\",\"locations\":[\"TX\"],\"name\":\"836\",\"showlegend\":true,\"showscale\":false,\"z\":[1],\"type\":\"choropleth\"},{\"colorscale\":[[0.0,\"#FECB52\"],[1.0,\"#FECB52\"]],\"geo\":\"geo\",\"hovertemplate\":\"Deaths=908<br>Abbreviation=%{location}<extra></extra>\",\"locationmode\":\"USA-states\",\"locations\":[\"TX\"],\"name\":\"908\",\"showlegend\":true,\"showscale\":false,\"z\":[1],\"type\":\"choropleth\"},{\"colorscale\":[[0.0,\"#636efa\"],[1.0,\"#636efa\"]],\"geo\":\"geo\",\"hovertemplate\":\"Deaths=986<br>Abbreviation=%{location}<extra></extra>\",\"locationmode\":\"USA-states\",\"locations\":[\"TX\"],\"name\":\"986\",\"showlegend\":true,\"showscale\":false,\"z\":[1],\"type\":\"choropleth\"},{\"colorscale\":[[0.0,\"#EF553B\"],[1.0,\"#EF553B\"]],\"geo\":\"geo\",\"hovertemplate\":\"Deaths=1171<br>Abbreviation=%{location}<extra></extra>\",\"locationmode\":\"USA-states\",\"locations\":[\"TX\"],\"name\":\"1171\",\"showlegend\":true,\"showscale\":false,\"z\":[1],\"type\":\"choropleth\"},{\"colorscale\":[[0.0,\"#00cc96\"],[1.0,\"#00cc96\"]],\"geo\":\"geo\",\"hovertemplate\":\"Deaths=1218<br>Abbreviation=%{location}<extra></extra>\",\"locationmode\":\"USA-states\",\"locations\":[\"TX\"],\"name\":\"1218\",\"showlegend\":true,\"showscale\":false,\"z\":[1],\"type\":\"choropleth\"},{\"colorscale\":[[0.0,\"#ab63fa\"],[1.0,\"#ab63fa\"]],\"geo\":\"geo\",\"hovertemplate\":\"Deaths=1179<br>Abbreviation=%{location}<extra></extra>\",\"locationmode\":\"USA-states\",\"locations\":[\"TX\"],\"name\":\"1179\",\"showlegend\":true,\"showscale\":false,\"z\":[1],\"type\":\"choropleth\"},{\"colorscale\":[[0.0,\"#FFA15A\"],[1.0,\"#FFA15A\"]],\"geo\":\"geo\",\"hovertemplate\":\"Deaths=1114<br>Abbreviation=%{location}<extra></extra>\",\"locationmode\":\"USA-states\",\"locations\":[\"TX\"],\"name\":\"1114\",\"showlegend\":true,\"showscale\":false,\"z\":[1],\"type\":\"choropleth\"},{\"colorscale\":[[0.0,\"#19d3f3\"],[1.0,\"#19d3f3\"]],\"geo\":\"geo\",\"hovertemplate\":\"Deaths=1219<br>Abbreviation=%{location}<extra></extra>\",\"locationmode\":\"USA-states\",\"locations\":[\"TX\"],\"name\":\"1219\",\"showlegend\":true,\"showscale\":false,\"z\":[1],\"type\":\"choropleth\"},{\"colorscale\":[[0.0,\"#FF6692\"],[1.0,\"#FF6692\"]],\"geo\":\"geo\",\"hovertemplate\":\"Deaths=159<br>Abbreviation=%{location}<extra></extra>\",\"locationmode\":\"USA-states\",\"locations\":[\"UT\"],\"name\":\"159\",\"showlegend\":true,\"showscale\":false,\"z\":[1],\"type\":\"choropleth\"},{\"colorscale\":[[0.0,\"#B6E880\"],[1.0,\"#B6E880\"]],\"geo\":\"geo\",\"hovertemplate\":\"Deaths=167<br>Abbreviation=%{location}<extra></extra>\",\"locationmode\":\"USA-states\",\"locations\":[\"UT\"],\"name\":\"167\",\"showlegend\":true,\"showscale\":false,\"z\":[1],\"type\":\"choropleth\"},{\"colorscale\":[[0.0,\"#FF97FF\"],[1.0,\"#FF97FF\"]],\"geo\":\"geo\",\"hovertemplate\":\"Deaths=345<br>Abbreviation=%{location}<extra></extra>\",\"locationmode\":\"USA-states\",\"locations\":[\"UT\"],\"name\":\"345\",\"showlegend\":true,\"showscale\":false,\"z\":[1],\"type\":\"choropleth\"},{\"colorscale\":[[0.0,\"#FECB52\"],[1.0,\"#FECB52\"]],\"geo\":\"geo\",\"hovertemplate\":\"Deaths=371<br>Abbreviation=%{location}<extra></extra>\",\"locationmode\":\"USA-states\",\"locations\":[\"UT\"],\"name\":\"371\",\"showlegend\":true,\"showscale\":false,\"z\":[1],\"type\":\"choropleth\"},{\"colorscale\":[[0.0,\"#636efa\"],[1.0,\"#636efa\"]],\"geo\":\"geo\",\"hovertemplate\":\"Deaths=353<br>Abbreviation=%{location}<extra></extra>\",\"locationmode\":\"USA-states\",\"locations\":[\"UT\"],\"name\":\"353\",\"showlegend\":true,\"showscale\":false,\"z\":[1],\"type\":\"choropleth\"},{\"colorscale\":[[0.0,\"#EF553B\"],[1.0,\"#EF553B\"]],\"geo\":\"geo\",\"hovertemplate\":\"Deaths=438<br>Abbreviation=%{location}<extra></extra>\",\"locationmode\":\"USA-states\",\"locations\":[\"UT\"],\"name\":\"438\",\"showlegend\":true,\"showscale\":false,\"z\":[1],\"type\":\"choropleth\"},{\"colorscale\":[[0.0,\"#00cc96\"],[1.0,\"#00cc96\"]],\"geo\":\"geo\",\"hovertemplate\":\"Deaths=444<br>Abbreviation=%{location}<extra></extra>\",\"locationmode\":\"USA-states\",\"locations\":[\"UT\"],\"name\":\"444\",\"showlegend\":true,\"showscale\":false,\"z\":[1],\"type\":\"choropleth\"},{\"colorscale\":[[0.0,\"#ab63fa\"],[1.0,\"#ab63fa\"]],\"geo\":\"geo\",\"hovertemplate\":\"Deaths=471<br>Abbreviation=%{location}<extra></extra>\",\"locationmode\":\"USA-states\",\"locations\":[\"UT\"],\"name\":\"471\",\"showlegend\":true,\"showscale\":false,\"z\":[1],\"type\":\"choropleth\"},{\"colorscale\":[[0.0,\"#FFA15A\"],[1.0,\"#FFA15A\"]],\"geo\":\"geo\",\"hovertemplate\":\"Deaths=260<br>Abbreviation=%{location}<extra></extra>\",\"locationmode\":\"USA-states\",\"locations\":[\"VA\"],\"name\":\"260\",\"showlegend\":true,\"showscale\":false,\"z\":[1],\"type\":\"choropleth\"},{\"colorscale\":[[0.0,\"#19d3f3\"],[1.0,\"#19d3f3\"]],\"geo\":\"geo\",\"hovertemplate\":\"Deaths=361<br>Abbreviation=%{location}<extra></extra>\",\"locationmode\":\"USA-states\",\"locations\":[\"VA\"],\"name\":\"361\",\"showlegend\":true,\"showscale\":false,\"z\":[1],\"type\":\"choropleth\"},{\"colorscale\":[[0.0,\"#FF6692\"],[1.0,\"#FF6692\"]],\"geo\":\"geo\",\"hovertemplate\":\"Deaths=374<br>Abbreviation=%{location}<extra></extra>\",\"locationmode\":\"USA-states\",\"locations\":[\"VA\",\"WA\"],\"name\":\"374\",\"showlegend\":true,\"showscale\":false,\"z\":[1,1],\"type\":\"choropleth\"},{\"colorscale\":[[0.0,\"#B6E880\"],[1.0,\"#B6E880\"]],\"geo\":\"geo\",\"hovertemplate\":\"Deaths=399<br>Abbreviation=%{location}<extra></extra>\",\"locationmode\":\"USA-states\",\"locations\":[\"VA\"],\"name\":\"399\",\"showlegend\":true,\"showscale\":false,\"z\":[1],\"type\":\"choropleth\"},{\"colorscale\":[[0.0,\"#FF97FF\"],[1.0,\"#FF97FF\"]],\"geo\":\"geo\",\"hovertemplate\":\"Deaths=385<br>Abbreviation=%{location}<extra></extra>\",\"locationmode\":\"USA-states\",\"locations\":[\"VA\"],\"name\":\"385\",\"showlegend\":true,\"showscale\":false,\"z\":[1],\"type\":\"choropleth\"},{\"colorscale\":[[0.0,\"#FECB52\"],[1.0,\"#FECB52\"]],\"geo\":\"geo\",\"hovertemplate\":\"Deaths=427<br>Abbreviation=%{location}<extra></extra>\",\"locationmode\":\"USA-states\",\"locations\":[\"VA\"],\"name\":\"427\",\"showlegend\":true,\"showscale\":false,\"z\":[1],\"type\":\"choropleth\"},{\"colorscale\":[[0.0,\"#636efa\"],[1.0,\"#636efa\"]],\"geo\":\"geo\",\"hovertemplate\":\"Deaths=400<br>Abbreviation=%{location}<extra></extra>\",\"locationmode\":\"USA-states\",\"locations\":[\"VA\"],\"name\":\"400\",\"showlegend\":true,\"showscale\":false,\"z\":[1],\"type\":\"choropleth\"},{\"colorscale\":[[0.0,\"#EF553B\"],[1.0,\"#EF553B\"]],\"geo\":\"geo\",\"hovertemplate\":\"Deaths=582<br>Abbreviation=%{location}<extra></extra>\",\"locationmode\":\"USA-states\",\"locations\":[\"VA\"],\"name\":\"582\",\"showlegend\":true,\"showscale\":false,\"z\":[1],\"type\":\"choropleth\"},{\"colorscale\":[[0.0,\"#00cc96\"],[1.0,\"#00cc96\"]],\"geo\":\"geo\",\"hovertemplate\":\"Deaths=547<br>Abbreviation=%{location}<extra></extra>\",\"locationmode\":\"USA-states\",\"locations\":[\"VA\"],\"name\":\"547\",\"showlegend\":true,\"showscale\":false,\"z\":[1],\"type\":\"choropleth\"},{\"colorscale\":[[0.0,\"#ab63fa\"],[1.0,\"#ab63fa\"]],\"geo\":\"geo\",\"hovertemplate\":\"Deaths=651<br>Abbreviation=%{location}<extra></extra>\",\"locationmode\":\"USA-states\",\"locations\":[\"VA\"],\"name\":\"651\",\"showlegend\":true,\"showscale\":false,\"z\":[1],\"type\":\"choropleth\"},{\"colorscale\":[[0.0,\"#FFA15A\"],[1.0,\"#FFA15A\"]],\"geo\":\"geo\",\"hovertemplate\":\"Deaths=775<br>Abbreviation=%{location}<extra></extra>\",\"locationmode\":\"USA-states\",\"locations\":[\"VA\"],\"name\":\"775\",\"showlegend\":true,\"showscale\":false,\"z\":[1],\"type\":\"choropleth\"},{\"colorscale\":[[0.0,\"#19d3f3\"],[1.0,\"#19d3f3\"]],\"geo\":\"geo\",\"hovertemplate\":\"Deaths=372<br>Abbreviation=%{location}<extra></extra>\",\"locationmode\":\"USA-states\",\"locations\":[\"WA\"],\"name\":\"372\",\"showlegend\":true,\"showscale\":false,\"z\":[1],\"type\":\"choropleth\"},{\"colorscale\":[[0.0,\"#FF6692\"],[1.0,\"#FF6692\"]],\"geo\":\"geo\",\"hovertemplate\":\"Deaths=332<br>Abbreviation=%{location}<extra></extra>\",\"locationmode\":\"USA-states\",\"locations\":[\"WA\"],\"name\":\"332\",\"showlegend\":true,\"showscale\":false,\"z\":[1],\"type\":\"choropleth\"},{\"colorscale\":[[0.0,\"#B6E880\"],[1.0,\"#B6E880\"]],\"geo\":\"geo\",\"hovertemplate\":\"Deaths=474<br>Abbreviation=%{location}<extra></extra>\",\"locationmode\":\"USA-states\",\"locations\":[\"WA\"],\"name\":\"474\",\"showlegend\":true,\"showscale\":false,\"z\":[1],\"type\":\"choropleth\"},{\"colorscale\":[[0.0,\"#FF97FF\"],[1.0,\"#FF97FF\"]],\"geo\":\"geo\",\"hovertemplate\":\"Deaths=606<br>Abbreviation=%{location}<extra></extra>\",\"locationmode\":\"USA-states\",\"locations\":[\"WA\"],\"name\":\"606\",\"showlegend\":true,\"showscale\":false,\"z\":[1],\"type\":\"choropleth\"},{\"colorscale\":[[0.0,\"#FECB52\"],[1.0,\"#FECB52\"]],\"geo\":\"geo\",\"hovertemplate\":\"Deaths=737<br>Abbreviation=%{location}<extra></extra>\",\"locationmode\":\"USA-states\",\"locations\":[\"WA\"],\"name\":\"737\",\"showlegend\":true,\"showscale\":false,\"z\":[1],\"type\":\"choropleth\"},{\"colorscale\":[[0.0,\"#636efa\"],[1.0,\"#636efa\"]],\"geo\":\"geo\",\"hovertemplate\":\"Deaths=648<br>Abbreviation=%{location}<extra></extra>\",\"locationmode\":\"USA-states\",\"locations\":[\"WA\"],\"name\":\"648\",\"showlegend\":true,\"showscale\":false,\"z\":[1],\"type\":\"choropleth\"},{\"colorscale\":[[0.0,\"#EF553B\"],[1.0,\"#EF553B\"]],\"geo\":\"geo\",\"hovertemplate\":\"Deaths=717<br>Abbreviation=%{location}<extra></extra>\",\"locationmode\":\"USA-states\",\"locations\":[\"WA\"],\"name\":\"717\",\"showlegend\":true,\"showscale\":false,\"z\":[1],\"type\":\"choropleth\"},{\"colorscale\":[[0.0,\"#00cc96\"],[1.0,\"#00cc96\"]],\"geo\":\"geo\",\"hovertemplate\":\"Deaths=692<br>Abbreviation=%{location}<extra></extra>\",\"locationmode\":\"USA-states\",\"locations\":[\"WA\"],\"name\":\"692\",\"showlegend\":true,\"showscale\":false,\"z\":[1],\"type\":\"choropleth\"},{\"colorscale\":[[0.0,\"#ab63fa\"],[1.0,\"#ab63fa\"]],\"geo\":\"geo\",\"hovertemplate\":\"Deaths=273<br>Abbreviation=%{location}<extra></extra>\",\"locationmode\":\"USA-states\",\"locations\":[\"WV\"],\"name\":\"273\",\"showlegend\":true,\"showscale\":false,\"z\":[1],\"type\":\"choropleth\"},{\"colorscale\":[[0.0,\"#FFA15A\"],[1.0,\"#FFA15A\"]],\"geo\":\"geo\",\"hovertemplate\":\"Deaths=299<br>Abbreviation=%{location}<extra></extra>\",\"locationmode\":\"USA-states\",\"locations\":[\"WV\"],\"name\":\"299\",\"showlegend\":true,\"showscale\":false,\"z\":[1],\"type\":\"choropleth\"},{\"colorscale\":[[0.0,\"#19d3f3\"],[1.0,\"#19d3f3\"]],\"geo\":\"geo\",\"hovertemplate\":\"Deaths=193<br>Abbreviation=%{location}<extra></extra>\",\"locationmode\":\"USA-states\",\"locations\":[\"WV\"],\"name\":\"193\",\"showlegend\":true,\"showscale\":false,\"z\":[1],\"type\":\"choropleth\"},{\"colorscale\":[[0.0,\"#FF6692\"],[1.0,\"#FF6692\"]],\"geo\":\"geo\",\"hovertemplate\":\"Deaths=495<br>Abbreviation=%{location}<extra></extra>\",\"locationmode\":\"USA-states\",\"locations\":[\"WV\"],\"name\":\"495\",\"showlegend\":true,\"showscale\":false,\"z\":[1],\"type\":\"choropleth\"},{\"colorscale\":[[0.0,\"#B6E880\"],[1.0,\"#B6E880\"]],\"geo\":\"geo\",\"hovertemplate\":\"Deaths=513<br>Abbreviation=%{location}<extra></extra>\",\"locationmode\":\"USA-states\",\"locations\":[\"WV\"],\"name\":\"513\",\"showlegend\":true,\"showscale\":false,\"z\":[1],\"type\":\"choropleth\"},{\"colorscale\":[[0.0,\"#FF97FF\"],[1.0,\"#FF97FF\"]],\"geo\":\"geo\",\"hovertemplate\":\"Deaths=518<br>Abbreviation=%{location}<extra></extra>\",\"locationmode\":\"USA-states\",\"locations\":[\"WV\"],\"name\":\"518\",\"showlegend\":true,\"showscale\":false,\"z\":[1],\"type\":\"choropleth\"},{\"colorscale\":[[0.0,\"#FECB52\"],[1.0,\"#FECB52\"]],\"geo\":\"geo\",\"hovertemplate\":\"Deaths=585<br>Abbreviation=%{location}<extra></extra>\",\"locationmode\":\"USA-states\",\"locations\":[\"WV\"],\"name\":\"585\",\"showlegend\":true,\"showscale\":false,\"z\":[1],\"type\":\"choropleth\"},{\"colorscale\":[[0.0,\"#636efa\"],[1.0,\"#636efa\"]],\"geo\":\"geo\",\"hovertemplate\":\"Deaths=226<br>Abbreviation=%{location}<extra></extra>\",\"locationmode\":\"USA-states\",\"locations\":[\"WI\"],\"name\":\"226\",\"showlegend\":true,\"showscale\":false,\"z\":[1],\"type\":\"choropleth\"},{\"colorscale\":[[0.0,\"#EF553B\"],[1.0,\"#EF553B\"]],\"geo\":\"geo\",\"hovertemplate\":\"Deaths=281<br>Abbreviation=%{location}<extra></extra>\",\"locationmode\":\"USA-states\",\"locations\":[\"WI\"],\"name\":\"281\",\"showlegend\":true,\"showscale\":false,\"z\":[1],\"type\":\"choropleth\"},{\"colorscale\":[[0.0,\"#00cc96\"],[1.0,\"#00cc96\"]],\"geo\":\"geo\",\"hovertemplate\":\"Deaths=352<br>Abbreviation=%{location}<extra></extra>\",\"locationmode\":\"USA-states\",\"locations\":[\"WI\"],\"name\":\"352\",\"showlegend\":true,\"showscale\":false,\"z\":[1],\"type\":\"choropleth\"},{\"colorscale\":[[0.0,\"#ab63fa\"],[1.0,\"#ab63fa\"]],\"geo\":\"geo\",\"hovertemplate\":\"Deaths=380<br>Abbreviation=%{location}<extra></extra>\",\"locationmode\":\"USA-states\",\"locations\":[\"WI\"],\"name\":\"380\",\"showlegend\":true,\"showscale\":false,\"z\":[1],\"type\":\"choropleth\"},{\"colorscale\":[[0.0,\"#FFA15A\"],[1.0,\"#FFA15A\"]],\"geo\":\"geo\",\"hovertemplate\":\"Deaths=420<br>Abbreviation=%{location}<extra></extra>\",\"locationmode\":\"USA-states\",\"locations\":[\"WI\"],\"name\":\"420\",\"showlegend\":true,\"showscale\":false,\"z\":[1],\"type\":\"choropleth\"},{\"colorscale\":[[0.0,\"#19d3f3\"],[1.0,\"#19d3f3\"]],\"geo\":\"geo\",\"hovertemplate\":\"Deaths=496<br>Abbreviation=%{location}<extra></extra>\",\"locationmode\":\"USA-states\",\"locations\":[\"WI\"],\"name\":\"496\",\"showlegend\":true,\"showscale\":false,\"z\":[1],\"type\":\"choropleth\"},{\"colorscale\":[[0.0,\"#FF6692\"],[1.0,\"#FF6692\"]],\"geo\":\"geo\",\"hovertemplate\":\"Deaths=604<br>Abbreviation=%{location}<extra></extra>\",\"locationmode\":\"USA-states\",\"locations\":[\"WI\"],\"name\":\"604\",\"showlegend\":true,\"showscale\":false,\"z\":[1],\"type\":\"choropleth\"}],                        {\"template\":{\"data\":{\"histogram2dcontour\":[{\"type\":\"histogram2dcontour\",\"colorbar\":{\"outlinewidth\":0,\"ticks\":\"\"},\"colorscale\":[[0.0,\"#0d0887\"],[0.1111111111111111,\"#46039f\"],[0.2222222222222222,\"#7201a8\"],[0.3333333333333333,\"#9c179e\"],[0.4444444444444444,\"#bd3786\"],[0.5555555555555556,\"#d8576b\"],[0.6666666666666666,\"#ed7953\"],[0.7777777777777778,\"#fb9f3a\"],[0.8888888888888888,\"#fdca26\"],[1.0,\"#f0f921\"]]}],\"choropleth\":[{\"type\":\"choropleth\",\"colorbar\":{\"outlinewidth\":0,\"ticks\":\"\"}}],\"histogram2d\":[{\"type\":\"histogram2d\",\"colorbar\":{\"outlinewidth\":0,\"ticks\":\"\"},\"colorscale\":[[0.0,\"#0d0887\"],[0.1111111111111111,\"#46039f\"],[0.2222222222222222,\"#7201a8\"],[0.3333333333333333,\"#9c179e\"],[0.4444444444444444,\"#bd3786\"],[0.5555555555555556,\"#d8576b\"],[0.6666666666666666,\"#ed7953\"],[0.7777777777777778,\"#fb9f3a\"],[0.8888888888888888,\"#fdca26\"],[1.0,\"#f0f921\"]]}],\"heatmap\":[{\"type\":\"heatmap\",\"colorbar\":{\"outlinewidth\":0,\"ticks\":\"\"},\"colorscale\":[[0.0,\"#0d0887\"],[0.1111111111111111,\"#46039f\"],[0.2222222222222222,\"#7201a8\"],[0.3333333333333333,\"#9c179e\"],[0.4444444444444444,\"#bd3786\"],[0.5555555555555556,\"#d8576b\"],[0.6666666666666666,\"#ed7953\"],[0.7777777777777778,\"#fb9f3a\"],[0.8888888888888888,\"#fdca26\"],[1.0,\"#f0f921\"]]}],\"heatmapgl\":[{\"type\":\"heatmapgl\",\"colorbar\":{\"outlinewidth\":0,\"ticks\":\"\"},\"colorscale\":[[0.0,\"#0d0887\"],[0.1111111111111111,\"#46039f\"],[0.2222222222222222,\"#7201a8\"],[0.3333333333333333,\"#9c179e\"],[0.4444444444444444,\"#bd3786\"],[0.5555555555555556,\"#d8576b\"],[0.6666666666666666,\"#ed7953\"],[0.7777777777777778,\"#fb9f3a\"],[0.8888888888888888,\"#fdca26\"],[1.0,\"#f0f921\"]]}],\"contourcarpet\":[{\"type\":\"contourcarpet\",\"colorbar\":{\"outlinewidth\":0,\"ticks\":\"\"}}],\"contour\":[{\"type\":\"contour\",\"colorbar\":{\"outlinewidth\":0,\"ticks\":\"\"},\"colorscale\":[[0.0,\"#0d0887\"],[0.1111111111111111,\"#46039f\"],[0.2222222222222222,\"#7201a8\"],[0.3333333333333333,\"#9c179e\"],[0.4444444444444444,\"#bd3786\"],[0.5555555555555556,\"#d8576b\"],[0.6666666666666666,\"#ed7953\"],[0.7777777777777778,\"#fb9f3a\"],[0.8888888888888888,\"#fdca26\"],[1.0,\"#f0f921\"]]}],\"surface\":[{\"type\":\"surface\",\"colorbar\":{\"outlinewidth\":0,\"ticks\":\"\"},\"colorscale\":[[0.0,\"#0d0887\"],[0.1111111111111111,\"#46039f\"],[0.2222222222222222,\"#7201a8\"],[0.3333333333333333,\"#9c179e\"],[0.4444444444444444,\"#bd3786\"],[0.5555555555555556,\"#d8576b\"],[0.6666666666666666,\"#ed7953\"],[0.7777777777777778,\"#fb9f3a\"],[0.8888888888888888,\"#fdca26\"],[1.0,\"#f0f921\"]]}],\"mesh3d\":[{\"type\":\"mesh3d\",\"colorbar\":{\"outlinewidth\":0,\"ticks\":\"\"}}],\"scatter\":[{\"fillpattern\":{\"fillmode\":\"overlay\",\"size\":10,\"solidity\":0.2},\"type\":\"scatter\"}],\"parcoords\":[{\"type\":\"parcoords\",\"line\":{\"colorbar\":{\"outlinewidth\":0,\"ticks\":\"\"}}}],\"scatterpolargl\":[{\"type\":\"scatterpolargl\",\"marker\":{\"colorbar\":{\"outlinewidth\":0,\"ticks\":\"\"}}}],\"bar\":[{\"error_x\":{\"color\":\"#2a3f5f\"},\"error_y\":{\"color\":\"#2a3f5f\"},\"marker\":{\"line\":{\"color\":\"#E5ECF6\",\"width\":0.5},\"pattern\":{\"fillmode\":\"overlay\",\"size\":10,\"solidity\":0.2}},\"type\":\"bar\"}],\"scattergeo\":[{\"type\":\"scattergeo\",\"marker\":{\"colorbar\":{\"outlinewidth\":0,\"ticks\":\"\"}}}],\"scatterpolar\":[{\"type\":\"scatterpolar\",\"marker\":{\"colorbar\":{\"outlinewidth\":0,\"ticks\":\"\"}}}],\"histogram\":[{\"marker\":{\"pattern\":{\"fillmode\":\"overlay\",\"size\":10,\"solidity\":0.2}},\"type\":\"histogram\"}],\"scattergl\":[{\"type\":\"scattergl\",\"marker\":{\"colorbar\":{\"outlinewidth\":0,\"ticks\":\"\"}}}],\"scatter3d\":[{\"type\":\"scatter3d\",\"line\":{\"colorbar\":{\"outlinewidth\":0,\"ticks\":\"\"}},\"marker\":{\"colorbar\":{\"outlinewidth\":0,\"ticks\":\"\"}}}],\"scattermapbox\":[{\"type\":\"scattermapbox\",\"marker\":{\"colorbar\":{\"outlinewidth\":0,\"ticks\":\"\"}}}],\"scatterternary\":[{\"type\":\"scatterternary\",\"marker\":{\"colorbar\":{\"outlinewidth\":0,\"ticks\":\"\"}}}],\"scattercarpet\":[{\"type\":\"scattercarpet\",\"marker\":{\"colorbar\":{\"outlinewidth\":0,\"ticks\":\"\"}}}],\"carpet\":[{\"aaxis\":{\"endlinecolor\":\"#2a3f5f\",\"gridcolor\":\"white\",\"linecolor\":\"white\",\"minorgridcolor\":\"white\",\"startlinecolor\":\"#2a3f5f\"},\"baxis\":{\"endlinecolor\":\"#2a3f5f\",\"gridcolor\":\"white\",\"linecolor\":\"white\",\"minorgridcolor\":\"white\",\"startlinecolor\":\"#2a3f5f\"},\"type\":\"carpet\"}],\"table\":[{\"cells\":{\"fill\":{\"color\":\"#EBF0F8\"},\"line\":{\"color\":\"white\"}},\"header\":{\"fill\":{\"color\":\"#C8D4E3\"},\"line\":{\"color\":\"white\"}},\"type\":\"table\"}],\"barpolar\":[{\"marker\":{\"line\":{\"color\":\"#E5ECF6\",\"width\":0.5},\"pattern\":{\"fillmode\":\"overlay\",\"size\":10,\"solidity\":0.2}},\"type\":\"barpolar\"}],\"pie\":[{\"automargin\":true,\"type\":\"pie\"}]},\"layout\":{\"autotypenumbers\":\"strict\",\"colorway\":[\"#636efa\",\"#EF553B\",\"#00cc96\",\"#ab63fa\",\"#FFA15A\",\"#19d3f3\",\"#FF6692\",\"#B6E880\",\"#FF97FF\",\"#FECB52\"],\"font\":{\"color\":\"#2a3f5f\"},\"hovermode\":\"closest\",\"hoverlabel\":{\"align\":\"left\"},\"paper_bgcolor\":\"white\",\"plot_bgcolor\":\"#E5ECF6\",\"polar\":{\"bgcolor\":\"#E5ECF6\",\"angularaxis\":{\"gridcolor\":\"white\",\"linecolor\":\"white\",\"ticks\":\"\"},\"radialaxis\":{\"gridcolor\":\"white\",\"linecolor\":\"white\",\"ticks\":\"\"}},\"ternary\":{\"bgcolor\":\"#E5ECF6\",\"aaxis\":{\"gridcolor\":\"white\",\"linecolor\":\"white\",\"ticks\":\"\"},\"baxis\":{\"gridcolor\":\"white\",\"linecolor\":\"white\",\"ticks\":\"\"},\"caxis\":{\"gridcolor\":\"white\",\"linecolor\":\"white\",\"ticks\":\"\"}},\"coloraxis\":{\"colorbar\":{\"outlinewidth\":0,\"ticks\":\"\"}},\"colorscale\":{\"sequential\":[[0.0,\"#0d0887\"],[0.1111111111111111,\"#46039f\"],[0.2222222222222222,\"#7201a8\"],[0.3333333333333333,\"#9c179e\"],[0.4444444444444444,\"#bd3786\"],[0.5555555555555556,\"#d8576b\"],[0.6666666666666666,\"#ed7953\"],[0.7777777777777778,\"#fb9f3a\"],[0.8888888888888888,\"#fdca26\"],[1.0,\"#f0f921\"]],\"sequentialminus\":[[0.0,\"#0d0887\"],[0.1111111111111111,\"#46039f\"],[0.2222222222222222,\"#7201a8\"],[0.3333333333333333,\"#9c179e\"],[0.4444444444444444,\"#bd3786\"],[0.5555555555555556,\"#d8576b\"],[0.6666666666666666,\"#ed7953\"],[0.7777777777777778,\"#fb9f3a\"],[0.8888888888888888,\"#fdca26\"],[1.0,\"#f0f921\"]],\"diverging\":[[0,\"#8e0152\"],[0.1,\"#c51b7d\"],[0.2,\"#de77ae\"],[0.3,\"#f1b6da\"],[0.4,\"#fde0ef\"],[0.5,\"#f7f7f7\"],[0.6,\"#e6f5d0\"],[0.7,\"#b8e186\"],[0.8,\"#7fbc41\"],[0.9,\"#4d9221\"],[1,\"#276419\"]]},\"xaxis\":{\"gridcolor\":\"white\",\"linecolor\":\"white\",\"ticks\":\"\",\"title\":{\"standoff\":15},\"zerolinecolor\":\"white\",\"automargin\":true,\"zerolinewidth\":2},\"yaxis\":{\"gridcolor\":\"white\",\"linecolor\":\"white\",\"ticks\":\"\",\"title\":{\"standoff\":15},\"zerolinecolor\":\"white\",\"automargin\":true,\"zerolinewidth\":2},\"scene\":{\"xaxis\":{\"backgroundcolor\":\"#E5ECF6\",\"gridcolor\":\"white\",\"linecolor\":\"white\",\"showbackground\":true,\"ticks\":\"\",\"zerolinecolor\":\"white\",\"gridwidth\":2},\"yaxis\":{\"backgroundcolor\":\"#E5ECF6\",\"gridcolor\":\"white\",\"linecolor\":\"white\",\"showbackground\":true,\"ticks\":\"\",\"zerolinecolor\":\"white\",\"gridwidth\":2},\"zaxis\":{\"backgroundcolor\":\"#E5ECF6\",\"gridcolor\":\"white\",\"linecolor\":\"white\",\"showbackground\":true,\"ticks\":\"\",\"zerolinecolor\":\"white\",\"gridwidth\":2}},\"shapedefaults\":{\"line\":{\"color\":\"#2a3f5f\"}},\"annotationdefaults\":{\"arrowcolor\":\"#2a3f5f\",\"arrowhead\":0,\"arrowwidth\":1},\"geo\":{\"bgcolor\":\"white\",\"landcolor\":\"#E5ECF6\",\"subunitcolor\":\"white\",\"showland\":true,\"showlakes\":true,\"lakecolor\":\"white\"},\"title\":{\"x\":0.05},\"mapbox\":{\"style\":\"light\"}}},\"geo\":{\"domain\":{\"x\":[0.0,1.0],\"y\":[0.0,1.0]},\"center\":{},\"scope\":\"usa\"},\"legend\":{\"title\":{\"text\":\"Deaths\"},\"tracegroupgap\":0},\"title\":{\"text\":\"# of opioid related deaths by state\"}},                        {\"responsive\": true}                    ).then(function(){\n",
       "                            \n",
       "var gd = document.getElementById('ac0c178c-454c-404e-9b35-f39dd8f5a4d2');\n",
       "var x = new MutationObserver(function (mutations, observer) {{\n",
       "        var display = window.getComputedStyle(gd).display;\n",
       "        if (!display || display === 'none') {{\n",
       "            console.log([gd, 'removed!']);\n",
       "            Plotly.purge(gd);\n",
       "            observer.disconnect();\n",
       "        }}\n",
       "}});\n",
       "\n",
       "// Listen for the removal of the full notebook cells\n",
       "var notebookContainer = gd.closest('#notebook-container');\n",
       "if (notebookContainer) {{\n",
       "    x.observe(notebookContainer, {childList: true});\n",
       "}}\n",
       "\n",
       "// Listen for the clearing of the current output cell\n",
       "var outputEl = gd.closest('.output');\n",
       "if (outputEl) {{\n",
       "    x.observe(outputEl, {childList: true});\n",
       "}}\n",
       "\n",
       "                        })                };                });            </script>        </div>"
      ]
     },
     "metadata": {},
     "output_type": "display_data"
    }
   ],
   "source": [
    "# Create heat map of states and # of deaths related to opioids with a blue to greenish color scale\n",
    "fig2 = px.choropleth(df2,\n",
    "                     locations='Abbreviation',\n",
    "                     locationmode=\"USA-states\",\n",
    "                     color='Deaths',\n",
    "                     scope=\"usa\",\n",
    "                     color_continuous_scale=\"Viridis\",  # Blue to greenish color scale\n",
    "                     title=\"# of opioid related deaths by state\")\n",
    "\n",
    "# Show the figure\n",
    "fig2.show()"
   ]
  },
  {
   "cell_type": "code",
   "execution_count": 122,
   "id": "09b976ea-41ae-4483-935c-b417e117035f",
   "metadata": {},
   "outputs": [
    {
     "data": {
      "image/png": "[encoded data removed]",
      "text/plain": [
       "<Figure size 1000x600 with 1 Axes>"
      ]
     },
     "metadata": {},
     "output_type": "display_data"
    }
   ],
   "source": [
    "# create bar chart with top 5 states with # of deaths \n",
    "#prepare the bar chart information\n",
    "\n",
    "data = {\n",
    "    'State': ['Alabama', 'Alaska', 'Arizona', 'Arkansas', 'California', 'Colorado', 'Connecticut', 'Delaware', \n",
    "              'District of Columbia', 'Florida', 'Georgia', 'Hawaii', 'Idaho', 'Illinois', 'Indiana', 'Iowa', \n",
    "              'Kansas', 'Kentucky', 'Louisiana', 'Maine', 'Maryland', 'Massachusetts', 'Michigan', 'Minnesota', \n",
    "              'Mississippi', 'Missouri', 'Montana', 'Nebraska', 'Nevada', 'New Hampshire', 'New Jersey', \n",
    "              'New Mexico', 'New York', 'North Carolina', 'North Dakota', 'Ohio', 'Oklahoma', 'Oregon', \n",
    "              'Pennsylvania', 'Rhode Island', 'South Carolina', 'South Dakota', 'Tennessee', 'Texas', 'Utah', \n",
    "              'Vermont', 'Virginia', 'Washington', 'West Virginia', 'Wisconsin', 'Wyoming'],\n",
    "    'Year': [2014] * 51,\n",
    "    'Deaths': [282, 79, 616, 179, 2159, 532, 531, 125, 65, 1446, 724, 62, 80, 1263, 489, 170, 188, 762, 266, \n",
    "               174, 932, 1161, 1076, 331, 117, 726, 54, 60, 413, 302, 757, 416, 1787, 979, 34, 2175, 504, 347, \n",
    "               1110, 211, 530, 33, 892, 1219, 471, 72, 775, 692, 585, 640, 57],\n",
    "    'Abbreviation': ['AL', 'AK', 'AZ', 'AR', 'CA', 'CO', 'CT', 'DE', 'NaN', 'FL', 'GA', 'HI', 'ID', 'IL', 'IN', 'IA', \n",
    "                     'KS', 'KY', 'LA', 'ME', 'MD', 'MA', 'MI', 'MN', 'MS', 'MO', 'MT', 'NE', 'NV', 'NH', 'NJ', 'NM', \n",
    "                     'NY', 'NC', 'ND', 'OH', 'OK', 'OR', 'PA', 'RI', 'SC', 'SD', 'TN', 'TX', 'UT', 'VT', 'VA', 'WA', \n",
    "                     'WV', 'WI', 'WY']\n",
    "}\n",
    "\n",
    "df = pd.DataFrame(data)\n",
    "\n",
    "# Sort the DataFrame based on the Deaths column in descending order and select the top 5 states\n",
    "top_5_states = df.sort_values(by='Deaths', ascending=False).head(10)\n",
    "\n",
    "# Plot the bar chart\n",
    "plt.figure(figsize=(10, 6))\n",
    "plt.bar(top_5_states['Abbreviation'], top_5_states['Deaths'], color='blue')\n",
    "plt.xlabel('State')\n",
    "plt.ylabel('Number of Deaths')\n",
    "plt.title('Top 10 States with the Highest Number of Opioid Related Deaths')\n",
    "plt.show()"
   ]
  },
  {
   "cell_type": "code",
   "execution_count": 124,
   "id": "055ef1f9-57eb-461c-951d-118e50c9cc01",
   "metadata": {},
   "outputs": [
    {
     "data": {
      "image/png": "[encoded data removed]",
      "text/plain": [
       "<Figure size 2000x1000 with 2 Axes>"
      ]
     },
     "metadata": {},
     "output_type": "display_data"
    }
   ],
   "source": [
    "import pandas as pd\n",
    "import matplotlib.pyplot as plt\n",
    "\n",
    "# Data for the first bar graph\n",
    "data_poverty = {\n",
    "    'state_National': ['Alabama', 'Alaska', 'Arizona', 'Arkansas', 'California', 'Colorado', 'Connecticut', 'Delaware', \n",
    "                       'District of Columbia', 'Florida', 'Georgia', 'Hawaii', 'Idaho', 'Illinois', 'Indiana', 'Iowa', \n",
    "                       'Kansas', 'Kentucky', 'Louisiana', 'Maine', 'Maryland', 'Massachusetts', 'Michigan', 'Minnesota', \n",
    "                       'Mississippi', 'Missouri', 'Montana', 'National', 'Nebraska', 'Nevada', 'New Hampshire', \n",
    "                       'New Jersey', 'New Mexico', 'New York', 'North Carolina', 'North Dakota', 'Ohio', 'Oklahoma', \n",
    "                       'Oregon', 'Pennsylvania', 'Rhode Island', 'South Carolina', 'South Dakota', 'Tennessee', 'Texas', \n",
    "                       'Utah', 'Vermont', 'Virginia', 'Washington', 'West Virginia', 'Wisconsin'],\n",
    "    'total_est_pct2': [16.3, 10.8, 12.9, 16.0, 12.3, 9.7, 10.1, 11.5, 16.8, 13.2, 14.2, 10.9, 10.8, 12.1, 12.1, 11.0, \n",
    "                       11.6, 16.3, 19.5, 11.2, 10.3, 10.4, 13.0, 9.3, 19.2, 12.8, 12.0, 12.8, 10.5, 14.0, 7.4, 10.2, 17.7, \n",
    "                       14.0, 13.5, 10.9, 13.3, 15.4, 12.2, 12.0, 12.1, 14.5, 11.9, 13.7, 14.2, 8.7, 10.2, 10.3, 9.9, 16.8, \n",
    "                       10.8],\n",
    "    'Abbreviation': ['AL', 'AK', 'AZ', 'AR', 'CA', 'CO', 'CT', 'DE', 'NaN', 'FL', 'GA', 'HI', 'ID', 'IL', 'IN', 'IA', \n",
    "                     'KS', 'KY', 'LA', 'ME', 'MD', 'MA', 'MI', 'MN', 'MS', 'MO', 'MT', 'NE', 'NV', 'NH', 'NJ', 'NM', \n",
    "                     'NY', 'NC', 'ND', 'OH', 'OK', 'OR', 'PA', 'RI', 'SC', 'SD', 'TN', 'TX', 'UT', 'VT', 'VA', 'WA', \n",
    "                     'WV', 'WI', 'WY']\n",
    "}\n",
    "\n",
    "# Data for the second bar graph\n",
    "data_deaths = {\n",
    "    'State': ['Alabama', 'Alaska', 'Arizona', 'Arkansas', 'California', 'Colorado', 'Connecticut', 'Delaware', \n",
    "              'District of Columbia', 'Florida', 'Georgia', 'Hawaii', 'Idaho', 'Illinois', 'Indiana', 'Iowa', \n",
    "              'Kansas', 'Kentucky', 'Louisiana', 'Maine', 'Maryland', 'Massachusetts', 'Michigan', 'Minnesota', \n",
    "              'Mississippi', 'Missouri', 'Montana', 'Nebraska', 'Nevada', 'New Hampshire', 'New Jersey', \n",
    "              'New Mexico', 'New York', 'North Carolina', 'North Dakota', 'Ohio', 'Oklahoma', 'Oregon', \n",
    "              'Pennsylvania', 'Rhode Island', 'South Carolina', 'South Dakota', 'Tennessee', 'Texas', 'Utah', \n",
    "              'Vermont', 'Virginia', 'Washington', 'West Virginia', 'Wisconsin', 'Wyoming'],\n",
    "    'Year': [2014] * 51,\n",
    "    'Deaths': [282, 79, 616, 179, 2159, 532, 531, 125, 65, 1446, 724, 62, 80, 1263, 489, 170, 188, 762, 266, \n",
    "               174, 932, 1161, 1076, 331, 117, 726, 54, 60, 413, 302, 757, 416, 1787, 979, 34, 2175, 504, 347, \n",
    "               1110, 211, 530, 33, 892, 1219, 471, 72, 775, 692, 585, 640, 57],\n",
    "    'Abbreviation': ['AL', 'AK', 'AZ', 'AR', 'CA', 'CO', 'CT', 'DE', 'NaN', 'FL', 'GA', 'HI', 'ID', 'IL', 'IN', 'IA', \n",
    "                     'KS', 'KY', 'LA', 'ME', 'MD', 'MA', 'MI', 'MN', 'MS', 'MO', 'MT', 'NE', 'NV', 'NH', 'NJ', 'NM', \n",
    "                     'NY', 'NC', 'ND', 'OH', 'OK', 'OR', 'PA', 'RI', 'SC', 'SD', 'TN', 'TX', 'UT', 'VT', 'VA', 'WA', \n",
    "                     'WV', 'WI', 'WY']\n",
    "}\n",
    "\n",
    "df_poverty = pd.DataFrame(data_poverty)\n",
    "df_deaths = pd.DataFrame(data_deaths)\n",
    "\n",
    "# Merge the two DataFrames on the Abbreviation column\n",
    "merged_df = pd.merge(df_poverty, df_deaths[['Abbreviation', 'Deaths']], on='Abbreviation')\n",
    "\n",
    "# Plot the combined bar chart\n",
    "fig, ax1 = plt.subplots(figsize=(20, 10))\n",
    "\n",
    "# Plot the percent of people in poverty\n",
    "ax1.bar(merged_df['Abbreviation'], merged_df['total_est_pct2'], color='orange', width=0.4, align='center', label='Percent of People in Poverty')\n",
    "ax1.set_xlabel('State')\n",
    "ax1.set_ylabel('Percent of People in Poverty', color='Black')\n",
    "ax1.tick_params(axis='y', labelcolor='Black')\n",
    "ax1.set_title('States Population Poverty % Vs. Opioid-Related Deaths by State')\n",
    "\n",
    "# Create another y-axis to plot the number of deaths\n",
    "ax2 = ax1.twinx()\n",
    "ax2.bar(merged_df['Abbreviation'], merged_df['Deaths'], color='blue', width=0.2, align='edge', label='Number of Deaths')\n",
    "ax2.set_ylabel('Number of Deaths', color='black')\n",
    "ax2.tick_params(axis='y', labelcolor='Black')\n",
    "\n",
    "# Rotate x-axis labels for better readability\n",
    "plt.xticks(rotation=45, ha='right')\n",
    "\n",
    "# Adjust the layout to make room for the rotated x-axis labels\n",
    "plt.tight_layout()\n",
    "\n",
    "# Add legends\n",
    "ax1.legend(loc='upper left')\n",
    "ax2.legend(loc='upper right')\n",
    "\n",
    "plt.show()\n"
   ]
  },
  {
   "cell_type": "code",
   "execution_count": null,
   "id": "1e628d6c-bdb4-4586-b5f3-f8dd9886a49f",
   "metadata": {},
   "outputs": [],
   "source": []
  },
  {
   "cell_type": "code",
   "execution_count": null,
   "id": "1990d621-70f7-4b4c-aef6-c0ff909b3ec5",
   "metadata": {},
   "outputs": [],
   "source": []
  }
 ],
 "metadata": {
  "kernelspec": {
   "display_name": "Python 3 (ipykernel)",
   "language": "python",
   "name": "python3"
  },
  "language_info": {
   "codemirror_mode": {
    "name": "ipython",
    "version": 3
   },
   "file_extension": ".py",
   "mimetype": "text/x-python",
   "name": "python",
   "nbconvert_exporter": "python",
   "pygments_lexer": "ipython3",
   "version": "3.11.7"
  }
 },
 "nbformat": 4,
 "nbformat_minor": 5
}
